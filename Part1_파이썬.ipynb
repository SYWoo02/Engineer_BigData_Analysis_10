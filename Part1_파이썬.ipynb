{
  "nbformat": 4,
  "nbformat_minor": 0,
  "metadata": {
    "colab": {
      "provenance": [],
      "authorship_tag": "ABX9TyOOJBnluwtNsUtUMfKSZLWN",
      "include_colab_link": true
    },
    "kernelspec": {
      "name": "python3",
      "display_name": "Python 3"
    },
    "language_info": {
      "name": "python"
    }
  },
  "cells": [
    {
      "cell_type": "markdown",
      "metadata": {
        "id": "view-in-github",
        "colab_type": "text"
      },
      "source": [
        "<a href=\"https://colab.research.google.com/github/SYWoo02/Engineer_BigData_Analysis_10/blob/main/Part1_%ED%8C%8C%EC%9D%B4%EC%8D%AC.ipynb\" target=\"_parent\"><img src=\"https://colab.research.google.com/assets/colab-badge.svg\" alt=\"Open In Colab\"/></a>"
      ]
    },
    {
      "cell_type": "markdown",
      "source": [
        "## [데이터] Q1~7"
      ],
      "metadata": {
        "id": "WnnE03mBudBL"
      }
    },
    {
      "cell_type": "code",
      "execution_count": null,
      "metadata": {
        "id": "KKfG3Tfbsfm7"
      },
      "outputs": [],
      "source": [
        "listbox = [\"감사\", \"행복\", \"사랑\", \"성공\", \"긍정\", \"변화\", \"성장\", \"희망\"]"
      ]
    },
    {
      "cell_type": "code",
      "source": [
        "# Q1\n",
        "print(len(listbox))"
      ],
      "metadata": {
        "colab": {
          "base_uri": "https://localhost:8080/"
        },
        "id": "Etk_94ySztCN",
        "outputId": "b01e9dcf-60d3-43d2-daf3-f63a91543fbc"
      },
      "execution_count": null,
      "outputs": [
        {
          "output_type": "stream",
          "name": "stdout",
          "text": [
            "8\n"
          ]
        }
      ]
    },
    {
      "cell_type": "code",
      "source": [
        "# Q2\n",
        "print(listbox[0])"
      ],
      "metadata": {
        "colab": {
          "base_uri": "https://localhost:8080/"
        },
        "id": "Vqh7paNmz68P",
        "outputId": "4b02b5b4-d9c8-4318-9cf7-543766e372c9"
      },
      "execution_count": null,
      "outputs": [
        {
          "output_type": "stream",
          "name": "stdout",
          "text": [
            "감사\n"
          ]
        }
      ]
    },
    {
      "cell_type": "code",
      "source": [
        "# Q3\n",
        "print(listbox[-1])"
      ],
      "metadata": {
        "colab": {
          "base_uri": "https://localhost:8080/"
        },
        "id": "H5pu8f580C-X",
        "outputId": "0c947fed-5eef-4f0f-9ced-cb971871044a"
      },
      "execution_count": null,
      "outputs": [
        {
          "output_type": "stream",
          "name": "stdout",
          "text": [
            "희망\n"
          ]
        }
      ]
    },
    {
      "cell_type": "code",
      "source": [
        "# Q4\n",
        "print(listbox[:3])"
      ],
      "metadata": {
        "colab": {
          "base_uri": "https://localhost:8080/"
        },
        "id": "Rbwdqs2EqvtR",
        "outputId": "77dc9b30-5ca5-48e6-8d4c-9bc626debb67"
      },
      "execution_count": null,
      "outputs": [
        {
          "output_type": "stream",
          "name": "stdout",
          "text": [
            "['감사', '행복', '사랑']\n"
          ]
        }
      ]
    },
    {
      "cell_type": "code",
      "source": [
        "# Q5\n",
        "print(listbox[-2])"
      ],
      "metadata": {
        "colab": {
          "base_uri": "https://localhost:8080/"
        },
        "id": "bPdYbTdFrVic",
        "outputId": "7e8f00c6-a313-402a-8980-fa88e34199d3"
      },
      "execution_count": null,
      "outputs": [
        {
          "output_type": "stream",
          "name": "stdout",
          "text": [
            "성장\n"
          ]
        }
      ]
    },
    {
      "cell_type": "code",
      "source": [
        "# Q6\n",
        "print([i for i in listbox if i == '행복' or i == '사랑'])"
      ],
      "metadata": {
        "colab": {
          "base_uri": "https://localhost:8080/"
        },
        "id": "_64NxLCrrfqU",
        "outputId": "090c9f50-f885-4447-81ef-4eb18ce3fb09"
      },
      "execution_count": null,
      "outputs": [
        {
          "output_type": "stream",
          "name": "stdout",
          "text": [
            "['행복', '사랑']\n"
          ]
        }
      ]
    },
    {
      "cell_type": "code",
      "source": [
        "# Q7\n",
        "listbox2 = ['웃음' if i == '변화' else i for i in listbox]\n",
        "print(listbox2)"
      ],
      "metadata": {
        "colab": {
          "base_uri": "https://localhost:8080/"
        },
        "id": "AeCoJLtvs1FE",
        "outputId": "9dd62a6a-b68a-4ee0-e746-99351263bd05"
      },
      "execution_count": null,
      "outputs": [
        {
          "output_type": "stream",
          "name": "stdout",
          "text": [
            "['감사', '행복', '사랑', '성공', '긍정', '웃음', '성장', '희망']\n"
          ]
        }
      ]
    },
    {
      "cell_type": "markdown",
      "source": [
        "## [데이터] Q8"
      ],
      "metadata": {
        "id": "4gcUzR-fuYam"
      }
    },
    {
      "cell_type": "code",
      "source": [
        "cols = ['name', 'age', 'phone']"
      ],
      "metadata": {
        "id": "21JX_yvuui6Q"
      },
      "execution_count": null,
      "outputs": []
    },
    {
      "cell_type": "code",
      "source": [
        "for i in cols:\n",
        "  print(i, end=' ')"
      ],
      "metadata": {
        "colab": {
          "base_uri": "https://localhost:8080/"
        },
        "id": "EWP-xrVhuphw",
        "outputId": "e7ad1d0b-d5ae-4242-9363-d9c7b70687e6"
      },
      "execution_count": null,
      "outputs": [
        {
          "output_type": "stream",
          "name": "stdout",
          "text": [
            "name age phone "
          ]
        }
      ]
    },
    {
      "cell_type": "markdown",
      "source": [
        "## [데이터] Q9"
      ],
      "metadata": {
        "id": "M8-Iz6fCu8HA"
      }
    },
    {
      "cell_type": "code",
      "source": [
        "listbox = [15,46,78,24,56]"
      ],
      "metadata": {
        "id": "C-gpOZUYu_9k"
      },
      "execution_count": null,
      "outputs": []
    },
    {
      "cell_type": "code",
      "source": [
        "def min_max(i):\n",
        "  return max(i) - min(i)\n",
        "\n",
        "print(min_max(listbox))"
      ],
      "metadata": {
        "colab": {
          "base_uri": "https://localhost:8080/"
        },
        "id": "pxsKFDeYvFWi",
        "outputId": "4b2186db-ac32-48e0-d493-459605582b12"
      },
      "execution_count": null,
      "outputs": [
        {
          "output_type": "stream",
          "name": "stdout",
          "text": [
            "63\n"
          ]
        }
      ]
    },
    {
      "cell_type": "markdown",
      "source": [
        "## [데이터] Q10"
      ],
      "metadata": {
        "id": "uYzTNraYvsrx"
      }
    },
    {
      "cell_type": "code",
      "source": [
        "str_data = \"여러분의 합격을 응원합니다!\""
      ],
      "metadata": {
        "id": "f9nD88aqvv4V"
      },
      "execution_count": null,
      "outputs": []
    },
    {
      "cell_type": "code",
      "source": [
        "def str_change(str):\n",
        "  return str.replace(\"여러분\", \"당신\")\n",
        "print(str_change(str_data))"
      ],
      "metadata": {
        "colab": {
          "base_uri": "https://localhost:8080/"
        },
        "id": "FXvbkoeav0Io",
        "outputId": "df0ac03b-5e91-4e0c-b29e-cea7c3b7669a"
      },
      "execution_count": null,
      "outputs": [
        {
          "output_type": "stream",
          "name": "stdout",
          "text": [
            "당신의 합격을 응원합니다!\n"
          ]
        }
      ]
    }
  ]
}