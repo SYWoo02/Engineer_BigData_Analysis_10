{
 "cells": [
  {
   "cell_type": "markdown",
   "id": "cabb96ec",
   "metadata": {
    "papermill": {
     "duration": 0.003612,
     "end_time": "2025-06-02T19:46:46.646391",
     "exception": false,
     "start_time": "2025-06-02T19:46:46.642779",
     "status": "completed"
    },
    "tags": []
   },
   "source": [
    "## T1-30. 12월 25일 결제 금액(price)은 12월 총 결제금액의 몇 %인가? (정수로 출력)"
   ]
  },
  {
   "cell_type": "code",
   "execution_count": 1,
   "id": "07696130",
   "metadata": {
    "execution": {
     "iopub.execute_input": "2025-06-02T19:46:46.653624Z",
     "iopub.status.busy": "2025-06-02T19:46:46.653063Z",
     "iopub.status.idle": "2025-06-02T19:46:46.702828Z",
     "shell.execute_reply": "2025-06-02T19:46:46.701520Z"
    },
    "papermill": {
     "duration": 0.056395,
     "end_time": "2025-06-02T19:46:46.705488",
     "exception": false,
     "start_time": "2025-06-02T19:46:46.649093",
     "status": "completed"
    },
    "tags": []
   },
   "outputs": [
    {
     "data": {
      "text/html": [
       "<div>\n",
       "<style scoped>\n",
       "    .dataframe tbody tr th:only-of-type {\n",
       "        vertical-align: middle;\n",
       "    }\n",
       "\n",
       "    .dataframe tbody tr th {\n",
       "        vertical-align: top;\n",
       "    }\n",
       "\n",
       "    .dataframe thead th {\n",
       "        text-align: right;\n",
       "    }\n",
       "</style>\n",
       "<table border=\"1\" class=\"dataframe\">\n",
       "  <thead>\n",
       "    <tr style=\"text-align: right;\">\n",
       "      <th></th>\n",
       "      <th>date</th>\n",
       "      <th>hour</th>\n",
       "      <th>menu</th>\n",
       "      <th>price</th>\n",
       "    </tr>\n",
       "  </thead>\n",
       "  <tbody>\n",
       "    <tr>\n",
       "      <th>0</th>\n",
       "      <td>20221129</td>\n",
       "      <td>13</td>\n",
       "      <td>딸기라떼</td>\n",
       "      <td>4000</td>\n",
       "    </tr>\n",
       "    <tr>\n",
       "      <th>1</th>\n",
       "      <td>20221130</td>\n",
       "      <td>12</td>\n",
       "      <td>카페라떼</td>\n",
       "      <td>3000</td>\n",
       "    </tr>\n",
       "    <tr>\n",
       "      <th>2</th>\n",
       "      <td>20221201</td>\n",
       "      <td>14</td>\n",
       "      <td>바닐라라떼</td>\n",
       "      <td>3500</td>\n",
       "    </tr>\n",
       "    <tr>\n",
       "      <th>3</th>\n",
       "      <td>20221201</td>\n",
       "      <td>16</td>\n",
       "      <td>초코라떼</td>\n",
       "      <td>3500</td>\n",
       "    </tr>\n",
       "    <tr>\n",
       "      <th>4</th>\n",
       "      <td>20221202</td>\n",
       "      <td>17</td>\n",
       "      <td>모카라떼</td>\n",
       "      <td>3500</td>\n",
       "    </tr>\n",
       "    <tr>\n",
       "      <th>5</th>\n",
       "      <td>20221202</td>\n",
       "      <td>12</td>\n",
       "      <td>카라멜라떼</td>\n",
       "      <td>3500</td>\n",
       "    </tr>\n",
       "    <tr>\n",
       "      <th>6</th>\n",
       "      <td>20221203</td>\n",
       "      <td>8</td>\n",
       "      <td>챠이 라떼</td>\n",
       "      <td>3500</td>\n",
       "    </tr>\n",
       "    <tr>\n",
       "      <th>7</th>\n",
       "      <td>20221203</td>\n",
       "      <td>9</td>\n",
       "      <td>아메리카노</td>\n",
       "      <td>2000</td>\n",
       "    </tr>\n",
       "    <tr>\n",
       "      <th>8</th>\n",
       "      <td>20221203</td>\n",
       "      <td>15</td>\n",
       "      <td>오곡 라떼</td>\n",
       "      <td>4000</td>\n",
       "    </tr>\n",
       "    <tr>\n",
       "      <th>9</th>\n",
       "      <td>20221203</td>\n",
       "      <td>16</td>\n",
       "      <td>아메리카노</td>\n",
       "      <td>2000</td>\n",
       "    </tr>\n",
       "    <tr>\n",
       "      <th>10</th>\n",
       "      <td>20221225</td>\n",
       "      <td>10</td>\n",
       "      <td>아메리카노</td>\n",
       "      <td>2000</td>\n",
       "    </tr>\n",
       "    <tr>\n",
       "      <th>11</th>\n",
       "      <td>20221225</td>\n",
       "      <td>14</td>\n",
       "      <td>토피넛 라떼</td>\n",
       "      <td>4000</td>\n",
       "    </tr>\n",
       "    <tr>\n",
       "      <th>12</th>\n",
       "      <td>20221225</td>\n",
       "      <td>16</td>\n",
       "      <td>카페 라떼</td>\n",
       "      <td>3000</td>\n",
       "    </tr>\n",
       "  </tbody>\n",
       "</table>\n",
       "</div>"
      ],
      "text/plain": [
       "        date  hour    menu  price\n",
       "0   20221129    13    딸기라떼   4000\n",
       "1   20221130    12    카페라떼   3000\n",
       "2   20221201    14   바닐라라떼   3500\n",
       "3   20221201    16    초코라떼   3500\n",
       "4   20221202    17    모카라떼   3500\n",
       "5   20221202    12   카라멜라떼   3500\n",
       "6   20221203     8   챠이 라떼   3500\n",
       "7   20221203     9   아메리카노   2000\n",
       "8   20221203    15   오곡 라떼   4000\n",
       "9   20221203    16   아메리카노   2000\n",
       "10  20221225    10   아메리카노   2000\n",
       "11  20221225    14  토피넛 라떼   4000\n",
       "12  20221225    16   카페 라떼   3000"
      ]
     },
     "execution_count": 1,
     "metadata": {},
     "output_type": "execute_result"
    }
   ],
   "source": [
    "import pandas as pd\n",
    "df = pd.read_csv(\"/kaggle/input/bigdatacertificationkr/payment.csv\")\n",
    "df"
   ]
  },
  {
   "cell_type": "markdown",
   "id": "cdfcfbf7",
   "metadata": {
    "papermill": {
     "duration": 0.002632,
     "end_time": "2025-06-02T19:46:46.711050",
     "exception": false,
     "start_time": "2025-06-02T19:46:46.708418",
     "status": "completed"
    },
    "tags": []
   },
   "source": [
    "## 나의 코드 "
   ]
  },
  {
   "cell_type": "code",
   "execution_count": 2,
   "id": "f856f014",
   "metadata": {
    "execution": {
     "iopub.execute_input": "2025-06-02T19:46:46.718198Z",
     "iopub.status.busy": "2025-06-02T19:46:46.717723Z",
     "iopub.status.idle": "2025-06-02T19:46:46.745196Z",
     "shell.execute_reply": "2025-06-02T19:46:46.744111Z"
    },
    "papermill": {
     "duration": 0.033554,
     "end_time": "2025-06-02T19:46:46.747338",
     "exception": false,
     "start_time": "2025-06-02T19:46:46.713784",
     "status": "completed"
    },
    "tags": []
   },
   "outputs": [
    {
     "data": {
      "text/html": [
       "<div>\n",
       "<style scoped>\n",
       "    .dataframe tbody tr th:only-of-type {\n",
       "        vertical-align: middle;\n",
       "    }\n",
       "\n",
       "    .dataframe tbody tr th {\n",
       "        vertical-align: top;\n",
       "    }\n",
       "\n",
       "    .dataframe thead th {\n",
       "        text-align: right;\n",
       "    }\n",
       "</style>\n",
       "<table border=\"1\" class=\"dataframe\">\n",
       "  <thead>\n",
       "    <tr style=\"text-align: right;\">\n",
       "      <th></th>\n",
       "      <th>date</th>\n",
       "      <th>hour</th>\n",
       "      <th>menu</th>\n",
       "      <th>price</th>\n",
       "      <th>month</th>\n",
       "      <th>day</th>\n",
       "    </tr>\n",
       "  </thead>\n",
       "  <tbody>\n",
       "    <tr>\n",
       "      <th>0</th>\n",
       "      <td>2022-11-29</td>\n",
       "      <td>13</td>\n",
       "      <td>딸기라떼</td>\n",
       "      <td>4000</td>\n",
       "      <td>11</td>\n",
       "      <td>29</td>\n",
       "    </tr>\n",
       "    <tr>\n",
       "      <th>1</th>\n",
       "      <td>2022-11-30</td>\n",
       "      <td>12</td>\n",
       "      <td>카페라떼</td>\n",
       "      <td>3000</td>\n",
       "      <td>11</td>\n",
       "      <td>30</td>\n",
       "    </tr>\n",
       "    <tr>\n",
       "      <th>2</th>\n",
       "      <td>2022-12-01</td>\n",
       "      <td>14</td>\n",
       "      <td>바닐라라떼</td>\n",
       "      <td>3500</td>\n",
       "      <td>12</td>\n",
       "      <td>1</td>\n",
       "    </tr>\n",
       "    <tr>\n",
       "      <th>3</th>\n",
       "      <td>2022-12-01</td>\n",
       "      <td>16</td>\n",
       "      <td>초코라떼</td>\n",
       "      <td>3500</td>\n",
       "      <td>12</td>\n",
       "      <td>1</td>\n",
       "    </tr>\n",
       "    <tr>\n",
       "      <th>4</th>\n",
       "      <td>2022-12-02</td>\n",
       "      <td>17</td>\n",
       "      <td>모카라떼</td>\n",
       "      <td>3500</td>\n",
       "      <td>12</td>\n",
       "      <td>2</td>\n",
       "    </tr>\n",
       "    <tr>\n",
       "      <th>5</th>\n",
       "      <td>2022-12-02</td>\n",
       "      <td>12</td>\n",
       "      <td>카라멜라떼</td>\n",
       "      <td>3500</td>\n",
       "      <td>12</td>\n",
       "      <td>2</td>\n",
       "    </tr>\n",
       "    <tr>\n",
       "      <th>6</th>\n",
       "      <td>2022-12-03</td>\n",
       "      <td>8</td>\n",
       "      <td>챠이 라떼</td>\n",
       "      <td>3500</td>\n",
       "      <td>12</td>\n",
       "      <td>3</td>\n",
       "    </tr>\n",
       "    <tr>\n",
       "      <th>7</th>\n",
       "      <td>2022-12-03</td>\n",
       "      <td>9</td>\n",
       "      <td>아메리카노</td>\n",
       "      <td>2000</td>\n",
       "      <td>12</td>\n",
       "      <td>3</td>\n",
       "    </tr>\n",
       "    <tr>\n",
       "      <th>8</th>\n",
       "      <td>2022-12-03</td>\n",
       "      <td>15</td>\n",
       "      <td>오곡 라떼</td>\n",
       "      <td>4000</td>\n",
       "      <td>12</td>\n",
       "      <td>3</td>\n",
       "    </tr>\n",
       "    <tr>\n",
       "      <th>9</th>\n",
       "      <td>2022-12-03</td>\n",
       "      <td>16</td>\n",
       "      <td>아메리카노</td>\n",
       "      <td>2000</td>\n",
       "      <td>12</td>\n",
       "      <td>3</td>\n",
       "    </tr>\n",
       "    <tr>\n",
       "      <th>10</th>\n",
       "      <td>2022-12-25</td>\n",
       "      <td>10</td>\n",
       "      <td>아메리카노</td>\n",
       "      <td>2000</td>\n",
       "      <td>12</td>\n",
       "      <td>25</td>\n",
       "    </tr>\n",
       "    <tr>\n",
       "      <th>11</th>\n",
       "      <td>2022-12-25</td>\n",
       "      <td>14</td>\n",
       "      <td>토피넛 라떼</td>\n",
       "      <td>4000</td>\n",
       "      <td>12</td>\n",
       "      <td>25</td>\n",
       "    </tr>\n",
       "    <tr>\n",
       "      <th>12</th>\n",
       "      <td>2022-12-25</td>\n",
       "      <td>16</td>\n",
       "      <td>카페 라떼</td>\n",
       "      <td>3000</td>\n",
       "      <td>12</td>\n",
       "      <td>25</td>\n",
       "    </tr>\n",
       "  </tbody>\n",
       "</table>\n",
       "</div>"
      ],
      "text/plain": [
       "         date  hour    menu  price  month  day\n",
       "0  2022-11-29    13    딸기라떼   4000     11   29\n",
       "1  2022-11-30    12    카페라떼   3000     11   30\n",
       "2  2022-12-01    14   바닐라라떼   3500     12    1\n",
       "3  2022-12-01    16    초코라떼   3500     12    1\n",
       "4  2022-12-02    17    모카라떼   3500     12    2\n",
       "5  2022-12-02    12   카라멜라떼   3500     12    2\n",
       "6  2022-12-03     8   챠이 라떼   3500     12    3\n",
       "7  2022-12-03     9   아메리카노   2000     12    3\n",
       "8  2022-12-03    15   오곡 라떼   4000     12    3\n",
       "9  2022-12-03    16   아메리카노   2000     12    3\n",
       "10 2022-12-25    10   아메리카노   2000     12   25\n",
       "11 2022-12-25    14  토피넛 라떼   4000     12   25\n",
       "12 2022-12-25    16   카페 라떼   3000     12   25"
      ]
     },
     "execution_count": 2,
     "metadata": {},
     "output_type": "execute_result"
    }
   ],
   "source": [
    "# 'date'칼럼을 datetime으로 변경 (date가 %Y%m%d 형태임을 잊지 말자 !)\n",
    "df['date'] = pd.to_datetime(df['date'], format='%Y%m%d')\n",
    "\n",
    "# month 추출\n",
    "df['month'] = df['date'].dt.month\n",
    "# day 추출\n",
    "df['day'] = df['date'].dt.day\n",
    "\n",
    "df"
   ]
  },
  {
   "cell_type": "code",
   "execution_count": 3,
   "id": "e723c7aa",
   "metadata": {
    "execution": {
     "iopub.execute_input": "2025-06-02T19:46:46.755657Z",
     "iopub.status.busy": "2025-06-02T19:46:46.754664Z",
     "iopub.status.idle": "2025-06-02T19:46:46.768513Z",
     "shell.execute_reply": "2025-06-02T19:46:46.767469Z"
    },
    "papermill": {
     "duration": 0.020562,
     "end_time": "2025-06-02T19:46:46.771113",
     "exception": false,
     "start_time": "2025-06-02T19:46:46.750551",
     "status": "completed"
    },
    "tags": []
   },
   "outputs": [
    {
     "name": "stdout",
     "output_type": "stream",
     "text": [
      "26 %\n"
     ]
    }
   ],
   "source": [
    "# 12월 25일의 결제 금액은 12월 총 결제금액의 몇 %인가? (정수로 출력)\n",
    "data_12 = df[df['month'] == 12]\n",
    "\n",
    "# 12월 25일\n",
    "data_12_25 = data_12[data_12['day'] == 25]\n",
    "\n",
    "# 12월 25일 하루 결제 금액\n",
    "data_12_25_sum = data_12_25['price'].sum()\n",
    "\n",
    "# 12월 달 전체 결제 금액\n",
    "data_12_sum = data_12['price'].sum()\n",
    "\n",
    "print(int(data_12_25_sum / data_12_sum * 100),\"%\")"
   ]
  },
  {
   "cell_type": "code",
   "execution_count": null,
   "id": "7b82be41",
   "metadata": {
    "papermill": {
     "duration": 0.005068,
     "end_time": "2025-06-02T19:46:46.781669",
     "exception": false,
     "start_time": "2025-06-02T19:46:46.776601",
     "status": "completed"
    },
    "tags": []
   },
   "outputs": [],
   "source": []
  },
  {
   "cell_type": "code",
   "execution_count": null,
   "id": "ea4eead4",
   "metadata": {
    "papermill": {
     "duration": 0.002849,
     "end_time": "2025-06-02T19:46:46.787949",
     "exception": false,
     "start_time": "2025-06-02T19:46:46.785100",
     "status": "completed"
    },
    "tags": []
   },
   "outputs": [],
   "source": []
  },
  {
   "cell_type": "code",
   "execution_count": null,
   "id": "5976c48a",
   "metadata": {
    "papermill": {
     "duration": 0.002769,
     "end_time": "2025-06-02T19:46:46.793747",
     "exception": false,
     "start_time": "2025-06-02T19:46:46.790978",
     "status": "completed"
    },
    "tags": []
   },
   "outputs": [],
   "source": []
  },
  {
   "cell_type": "markdown",
   "id": "a2cc7548",
   "metadata": {
    "papermill": {
     "duration": 0.00264,
     "end_time": "2025-06-02T19:46:46.799332",
     "exception": false,
     "start_time": "2025-06-02T19:46:46.796692",
     "status": "completed"
    },
    "tags": []
   },
   "source": [
    "## 풀이 (예시답안)"
   ]
  },
  {
   "cell_type": "code",
   "execution_count": 4,
   "id": "8dd317c6",
   "metadata": {
    "execution": {
     "iopub.execute_input": "2025-06-02T19:46:46.806914Z",
     "iopub.status.busy": "2025-06-02T19:46:46.806526Z",
     "iopub.status.idle": "2025-06-02T19:46:46.817297Z",
     "shell.execute_reply": "2025-06-02T19:46:46.816082Z"
    },
    "papermill": {
     "duration": 0.017197,
     "end_time": "2025-06-02T19:46:46.819579",
     "exception": false,
     "start_time": "2025-06-02T19:46:46.802382",
     "status": "completed"
    },
    "tags": []
   },
   "outputs": [
    {
     "name": "stdout",
     "output_type": "stream",
     "text": [
      "26\n"
     ]
    }
   ],
   "source": [
    "df['date'] = pd.to_datetime(df['date'], format='%Y%m%d')\n",
    "cond1 = df['date'].dt.month == 12\n",
    "cond2 = df['date'].dt.day == 25\n",
    "result = sum(df[cond1 & cond2]['price']) / sum(df[cond1]['price'])\n",
    "print(int(result*100))"
   ]
  }
 ],
 "metadata": {
  "kaggle": {
   "accelerator": "none",
   "dataSources": [
    {
     "datasetId": 1633303,
     "sourceId": 9936200,
     "sourceType": "datasetVersion"
    }
   ],
   "dockerImageVersionId": 30301,
   "isGpuEnabled": false,
   "isInternetEnabled": false,
   "language": "python",
   "sourceType": "notebook"
  },
  "kernelspec": {
   "display_name": "Python 3",
   "language": "python",
   "name": "python3"
  },
  "language_info": {
   "codemirror_mode": {
    "name": "ipython",
    "version": 3
   },
   "file_extension": ".py",
   "mimetype": "text/x-python",
   "name": "python",
   "nbconvert_exporter": "python",
   "pygments_lexer": "ipython3",
   "version": "3.7.12"
  },
  "papermill": {
   "default_parameters": {},
   "duration": 9.767371,
   "end_time": "2025-06-02T19:46:47.444509",
   "environment_variables": {},
   "exception": null,
   "input_path": "__notebook__.ipynb",
   "output_path": "__notebook__.ipynb",
   "parameters": {},
   "start_time": "2025-06-02T19:46:37.677138",
   "version": "2.3.4"
  }
 },
 "nbformat": 4,
 "nbformat_minor": 5
}
