{
  "metadata": {
    "kernelspec": {
      "language": "python",
      "display_name": "Python 3",
      "name": "python3"
    },
    "language_info": {
      "name": "python",
      "version": "3.7.10",
      "mimetype": "text/x-python",
      "codemirror_mode": {
        "name": "ipython",
        "version": 3
      },
      "pygments_lexer": "ipython3",
      "nbconvert_exporter": "python",
      "file_extension": ".py"
    },
    "kaggle": {
      "accelerator": "none",
      "dataSources": [
        {
          "sourceId": 5407,
          "databundleVersionId": 868283,
          "sourceType": "competition"
        },
        {
          "sourceId": 9936200,
          "sourceType": "datasetVersion",
          "datasetId": 1633303
        }
      ],
      "dockerImageVersionId": 30129,
      "isInternetEnabled": false,
      "language": "python",
      "sourceType": "notebook",
      "isGpuEnabled": false
    },
    "colab": {
      "provenance": [],
      "include_colab_link": true
    }
  },
  "nbformat_minor": 0,
  "nbformat": 4,
  "cells": [
    {
      "cell_type": "markdown",
      "metadata": {
        "id": "view-in-github",
        "colab_type": "text"
      },
      "source": [
        "<a href=\"https://colab.research.google.com/github/SYWoo02/Engineer_BigData_Analysis_10/blob/main/%5Bpy%5D_T1_4_%EC%99%9C%EB%8F%84%EC%99%80_%EC%B2%A8%EB%8F%84_%EA%B5%AC%ED%95%98%EA%B8%B0_(%EB%A1%9C%EA%B7%B8%EC%8A%A4%EC%BC%80%EC%9D%BC)_Expected_Questions.ipynb\" target=\"_parent\"><img src=\"https://colab.research.google.com/assets/colab-badge.svg\" alt=\"Open In Colab\"/></a>"
      ]
    },
    {
      "cell_type": "markdown",
      "source": [
        "# 왜도와 첨도 구하기\n",
        "-  주어진 데이터 중 train.csv에서 'SalePrice'컬럼의 왜도와 첨도를 구한 값과, 'SalePrice'컬럼을 스케일링(log1p)로 변환한 이후 왜도와 첨도를 구해 모두 더한 다음 소수점 2째자리까지 출력하시오\n",
        "- 데이터셋 : House Prices - Advanced Regression Technique (https://www.kaggle.com/c/house-prices-advanced-regression-techniques)\n",
        "- 오른쪽 상단 copy&edit 클릭 -> 예상문제 풀이 시작\n",
        "- 강의 영상 : https://youtu.be/_ft7ZlDlk7c"
      ],
      "metadata": {
        "id": "8lUoTxChrfOH"
      }
    },
    {
      "cell_type": "markdown",
      "source": [
        "### 왜도\n",
        "비대칭도(非對稱度, skewness) 또는 왜도(歪度)는 **실수 값 확률 변수의 확률 분포 비대칭성을 나타내는 지표**이다. 왜도의 값은 양수나 음수가 될 수 있으며 정의되지 않을 수도 있다. 왜도가 음수일 경우에는 확률밀도함수의 왼쪽 부분에 긴 꼬리를 가지며 중앙값을 포함한 자료가 오른쪽에 더 많이 분포해 있다. 왜도가 양수일 때는 확률밀도함수의 오른쪽 부분에 긴 꼬리를 가지며 자료가 왼쪽에 더 많이 분포해 있다는 것을 나타낸다. 평균과 중앙값이 같으면 왜도는 0이 된다.\n",
        "\n",
        "**위키백과 https://ko.wikipedia.org/wiki/%EB%B9%84%EB%8C%80%EC%B9%AD%EB%8F%84"
      ],
      "metadata": {
        "id": "zEiruQUErfOH"
      }
    },
    {
      "cell_type": "markdown",
      "source": [
        "![image.png](data:image/png;base64,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)"
      ],
      "metadata": {
        "id": "6isFtPYUsFfQ"
      }
    },
    {
      "cell_type": "markdown",
      "source": [
        "### 첨도\n",
        "**확률분포의 꼬리가 두꺼운 정도**를 나타내는 척도이다. 극단적인 편차 또는 이상치가 많을 수록 큰 값을 나타낸다. 첨도값(K)이 3에 가까우면 산포도가 정규분포에 가깝다. 3보다 작을 경우에는(K<3) 산포는 정규분포보다 꼬리가 얇은 분포로 생각할 수 있다, 첨도값이 3보다 큰 양수이면(K>3) 정규분포보다 꼬리가 두꺼운 분포로 판단할 수 있다."
      ],
      "metadata": {
        "id": "t_aid6OfrfOI"
      }
    },
    {
      "cell_type": "markdown",
      "source": [
        "## Hint\n",
        "- DataFrame.skew() 왜도\n",
        "- DataFrame.kurt() 첨도"
      ],
      "metadata": {
        "id": "Q35d-OoVrfOK"
      }
    },
    {
      "cell_type": "markdown",
      "source": [
        "## 라이브러리 및 데이터 불러오기"
      ],
      "metadata": {
        "id": "NtTzpYNisOtF"
      }
    },
    {
      "cell_type": "code",
      "source": [
        "import pandas as pd\n",
        "import numpy as np\n",
        "data = pd.read_csv(\"train.csv\")\n",
        "data['SalePrice'].hist()"
      ],
      "metadata": {
        "execution": {
          "iopub.status.busy": "2025-05-30T05:30:36.507959Z",
          "iopub.execute_input": "2025-05-30T05:30:36.508257Z",
          "iopub.status.idle": "2025-05-30T05:30:36.794559Z",
          "shell.execute_reply.started": "2025-05-30T05:30:36.508227Z",
          "shell.execute_reply": "2025-05-30T05:30:36.793621Z"
        },
        "trusted": true,
        "colab": {
          "base_uri": "https://localhost:8080/",
          "height": 449
        },
        "id": "YYz1yLu1rfOI",
        "outputId": "55f0c7ea-79b2-4c21-abf0-30af092e4bd8"
      },
      "outputs": [
        {
          "output_type": "execute_result",
          "data": {
            "text/plain": [
              "<Axes: >"
            ]
          },
          "metadata": {},
          "execution_count": 1
        },
        {
          "output_type": "display_data",
          "data": {
            "text/plain": [
              "<Figure size 640x480 with 1 Axes>"
            ],
            "image/png": "[encoded data removed]"
          },
          "metadata": {}
        }
      ],
      "execution_count": null
    },
    {
      "cell_type": "markdown",
      "source": [
        "## 'SalePrice'컬럼 왜도와 첨도계산"
      ],
      "metadata": {
        "id": "7OjPTjOTsThA"
      }
    },
    {
      "cell_type": "code",
      "source": [
        "# 왜도\n",
        "skew = data['SalePrice'].skew()\n",
        "\n",
        "# 첨도\n",
        "kurt = data['SalePrice'].kurt()\n",
        "\n",
        "print(\"왜도:\",skew)\n",
        "print(\"\\n첨도:\",kurt)"
      ],
      "metadata": {
        "trusted": true,
        "colab": {
          "base_uri": "https://localhost:8080/"
        },
        "id": "GfYFPS0urfOJ",
        "outputId": "e97dc6dd-98c6-4b79-9025-a7f30221bd73"
      },
      "outputs": [
        {
          "output_type": "stream",
          "name": "stdout",
          "text": [
            "왜도: 1.8828757597682129\n",
            "\n",
            "첨도: 6.536281860064529\n"
          ]
        }
      ],
      "execution_count": null
    },
    {
      "cell_type": "markdown",
      "source": [
        "## 'SalePrice'컬럼 로그변환"
      ],
      "metadata": {
        "id": "ONNkCg00scRF"
      }
    },
    {
      "cell_type": "code",
      "source": [
        "data['log_SalePrice'] = np.log1p(data['SalePrice'])\n",
        "data['log_SalePrice'].hist()"
      ],
      "metadata": {
        "execution": {
          "iopub.status.busy": "2025-05-30T05:30:55.130315Z",
          "iopub.execute_input": "2025-05-30T05:30:55.13062Z",
          "iopub.status.idle": "2025-05-30T05:30:55.38662Z",
          "shell.execute_reply.started": "2025-05-30T05:30:55.130589Z",
          "shell.execute_reply": "2025-05-30T05:30:55.385668Z"
        },
        "trusted": true,
        "colab": {
          "base_uri": "https://localhost:8080/",
          "height": 449
        },
        "id": "XSW_JTkJrfOJ",
        "outputId": "230d7be0-e91a-472b-db8f-999a1f1ab616"
      },
      "outputs": [
        {
          "output_type": "execute_result",
          "data": {
            "text/plain": [
              "<Axes: >"
            ]
          },
          "metadata": {},
          "execution_count": 5
        },
        {
          "output_type": "display_data",
          "data": {
            "text/plain": [
              "<Figure size 640x480 with 1 Axes>"
            ],
            "image/png": "[encoded data removed]"
          },
          "metadata": {}
        }
      ],
      "execution_count": null
    },
    {
      "cell_type": "markdown",
      "source": [
        "## 로그변환한 'SalePrice'컬럼 왜도와 첨도계산"
      ],
      "metadata": {
        "id": "q99brNVxse9v"
      }
    },
    {
      "cell_type": "code",
      "source": [
        "# 왜도\n",
        "skew2 = data['log_SalePrice'].skew()\n",
        "\n",
        "# 첨도\n",
        "kurt2 = data['log_SalePrice'].kurt()\n",
        "\n",
        "print(\"왜도:\",skew2)\n",
        "print(\"\\n첨도:\",kurt2)"
      ],
      "metadata": {
        "execution": {
          "iopub.status.busy": "2025-05-30T05:30:58.859669Z",
          "iopub.execute_input": "2025-05-30T05:30:58.860379Z",
          "iopub.status.idle": "2025-05-30T05:30:58.867809Z",
          "shell.execute_reply.started": "2025-05-30T05:30:58.860343Z",
          "shell.execute_reply": "2025-05-30T05:30:58.86682Z"
        },
        "trusted": true,
        "colab": {
          "base_uri": "https://localhost:8080/"
        },
        "id": "GHJuMoxOrfOJ",
        "outputId": "50f0afdc-9836-41a8-84d4-5764b1a5159f"
      },
      "outputs": [
        {
          "output_type": "stream",
          "name": "stdout",
          "text": [
            "왜도: 0.12134661989685333\n",
            "\n",
            "첨도: 0.809519155707878\n"
          ]
        }
      ],
      "execution_count": null
    },
    {
      "cell_type": "markdown",
      "source": [
        "## 로그변환 전후의 왜도와 첨도를 모두 더한 다음 소수점 2번째 자리까지 출력"
      ],
      "metadata": {
        "id": "sj68LKU6skw9"
      }
    },
    {
      "cell_type": "code",
      "source": [
        "res = skew + kurt + skew2 + kurt2\n",
        "print(round(res,2))"
      ],
      "metadata": {
        "execution": {
          "iopub.status.busy": "2025-05-30T05:31:27.311392Z",
          "iopub.execute_input": "2025-05-30T05:31:27.3117Z",
          "iopub.status.idle": "2025-05-30T05:31:27.31775Z",
          "shell.execute_reply.started": "2025-05-30T05:31:27.311668Z",
          "shell.execute_reply": "2025-05-30T05:31:27.316678Z"
        },
        "trusted": true,
        "colab": {
          "base_uri": "https://localhost:8080/"
        },
        "id": "7eXi-V21rfOJ",
        "outputId": "dc045e96-acb2-4d72-cd96-0e8c81469b13"
      },
      "outputs": [
        {
          "output_type": "stream",
          "name": "stdout",
          "text": [
            "9.35\n"
          ]
        }
      ],
      "execution_count": null
    },
    {
      "cell_type": "markdown",
      "source": [
        "## 풀이"
      ],
      "metadata": {
        "id": "pkw6Dp2nrfOK"
      }
    },
    {
      "cell_type": "code",
      "source": [
        "# 라이브러리 불러오기\n",
        "import pandas as pd\n",
        "import numpy as np"
      ],
      "metadata": {
        "_uuid": "8f2839f25d086af736a60e9eeb907d3b93b6e0e5",
        "_cell_guid": "b1076dfc-b9ad-4769-8c92-a6c4dae69d19",
        "execution": {
          "iopub.status.busy": "2021-10-20T23:17:31.346773Z",
          "iopub.execute_input": "2021-10-20T23:17:31.347117Z",
          "iopub.status.idle": "2021-10-20T23:17:31.359237Z",
          "shell.execute_reply.started": "2021-10-20T23:17:31.347078Z",
          "shell.execute_reply": "2021-10-20T23:17:31.358239Z"
        },
        "trusted": true,
        "id": "P2lWkub7rfOK"
      },
      "outputs": [],
      "execution_count": null
    },
    {
      "cell_type": "code",
      "source": [
        "# 데이터 불러오기\n",
        "df = pd.read_csv(\"train.csv\")\n",
        "df['SalePrice'].head()"
      ],
      "metadata": {
        "execution": {
          "iopub.status.busy": "2025-05-30T05:29:29.563462Z",
          "iopub.execute_input": "2025-05-30T05:29:29.56379Z",
          "iopub.status.idle": "2025-05-30T05:29:29.594663Z",
          "shell.execute_reply.started": "2025-05-30T05:29:29.563758Z",
          "shell.execute_reply": "2025-05-30T05:29:29.593698Z"
        },
        "trusted": true,
        "colab": {
          "base_uri": "https://localhost:8080/",
          "height": 241
        },
        "id": "xY_KYPIprfOK",
        "outputId": "eb4df57c-68cd-43b3-dad8-6cc85d23ffc3"
      },
      "outputs": [
        {
          "output_type": "execute_result",
          "data": {
            "text/plain": [
              "0    208500\n",
              "1    181500\n",
              "2    223500\n",
              "3    140000\n",
              "4    250000\n",
              "Name: SalePrice, dtype: int64"
            ],
            "text/html": [
              "<div>\n",
              "<style scoped>\n",
              "    .dataframe tbody tr th:only-of-type {\n",
              "        vertical-align: middle;\n",
              "    }\n",
              "\n",
              "    .dataframe tbody tr th {\n",
              "        vertical-align: top;\n",
              "    }\n",
              "\n",
              "    .dataframe thead th {\n",
              "        text-align: right;\n",
              "    }\n",
              "</style>\n",
              "<table border=\"1\" class=\"dataframe\">\n",
              "  <thead>\n",
              "    <tr style=\"text-align: right;\">\n",
              "      <th></th>\n",
              "      <th>SalePrice</th>\n",
              "    </tr>\n",
              "  </thead>\n",
              "  <tbody>\n",
              "    <tr>\n",
              "      <th>0</th>\n",
              "      <td>208500</td>\n",
              "    </tr>\n",
              "    <tr>\n",
              "      <th>1</th>\n",
              "      <td>181500</td>\n",
              "    </tr>\n",
              "    <tr>\n",
              "      <th>2</th>\n",
              "      <td>223500</td>\n",
              "    </tr>\n",
              "    <tr>\n",
              "      <th>3</th>\n",
              "      <td>140000</td>\n",
              "    </tr>\n",
              "    <tr>\n",
              "      <th>4</th>\n",
              "      <td>250000</td>\n",
              "    </tr>\n",
              "  </tbody>\n",
              "</table>\n",
              "</div><br><label><b>dtype:</b> int64</label>"
            ]
          },
          "metadata": {},
          "execution_count": 9
        }
      ],
      "execution_count": null
    },
    {
      "cell_type": "code",
      "source": [
        "# EDA (시험에서는 시각화 불가)\n",
        "df['SalePrice'].hist()"
      ],
      "metadata": {
        "execution": {
          "iopub.status.busy": "2025-05-30T05:29:32.4701Z",
          "iopub.execute_input": "2025-05-30T05:29:32.470455Z",
          "iopub.status.idle": "2025-05-30T05:29:32.79975Z",
          "shell.execute_reply.started": "2025-05-30T05:29:32.470419Z",
          "shell.execute_reply": "2025-05-30T05:29:32.798683Z"
        },
        "trusted": true,
        "colab": {
          "base_uri": "https://localhost:8080/",
          "height": 449
        },
        "id": "5_x-ycoErfOK",
        "outputId": "e485f55d-6b70-46b2-9ce6-aeabe734180a"
      },
      "outputs": [
        {
          "output_type": "execute_result",
          "data": {
            "text/plain": [
              "<Axes: >"
            ]
          },
          "metadata": {},
          "execution_count": 10
        },
        {
          "output_type": "display_data",
          "data": {
            "text/plain": [
              "<Figure size 640x480 with 1 Axes>"
            ],
            "image/png": "[encoded data removed]"
          },
          "metadata": {}
        }
      ],
      "execution_count": null
    },
    {
      "cell_type": "code",
      "source": [
        "# 'SalePrice'컬럼 왜도와 첨도계산\n",
        "s1 = df['SalePrice'].skew()\n",
        "k1 = df['SalePrice'].kurt()\n",
        "print(\"왜도:\" ,s1)\n",
        "print(\"첨도:\" ,k1)"
      ],
      "metadata": {
        "execution": {
          "iopub.status.busy": "2025-05-30T05:29:38.651606Z",
          "iopub.execute_input": "2025-05-30T05:29:38.651958Z",
          "iopub.status.idle": "2025-05-30T05:29:38.660401Z",
          "shell.execute_reply.started": "2025-05-30T05:29:38.651922Z",
          "shell.execute_reply": "2025-05-30T05:29:38.659031Z"
        },
        "trusted": true,
        "colab": {
          "base_uri": "https://localhost:8080/"
        },
        "id": "_jnLKtMKrfOK",
        "outputId": "e0250a7c-33e8-42b3-bbc4-c198a5eb870b"
      },
      "outputs": [
        {
          "output_type": "stream",
          "name": "stdout",
          "text": [
            "왜도: 1.8828757597682129\n",
            "첨도: 6.536281860064529\n"
          ]
        }
      ],
      "execution_count": null
    },
    {
      "cell_type": "code",
      "source": [
        "# 'SalePrice'컬럼 로그변환\n",
        "df['SalePrice'] = np.log1p(df['SalePrice'])"
      ],
      "metadata": {
        "execution": {
          "iopub.status.busy": "2025-05-30T05:29:40.832631Z",
          "iopub.execute_input": "2025-05-30T05:29:40.832939Z",
          "iopub.status.idle": "2025-05-30T05:29:40.840435Z",
          "shell.execute_reply.started": "2025-05-30T05:29:40.83291Z",
          "shell.execute_reply": "2025-05-30T05:29:40.838955Z"
        },
        "trusted": true,
        "id": "mD84tOW6rfOL"
      },
      "outputs": [],
      "execution_count": null
    },
    {
      "cell_type": "code",
      "source": [
        "# EDA (시험에서는 시각화 불가)\n",
        "df['SalePrice'].hist()"
      ],
      "metadata": {
        "execution": {
          "iopub.status.busy": "2025-05-30T05:29:42.766074Z",
          "iopub.execute_input": "2025-05-30T05:29:42.766386Z",
          "iopub.status.idle": "2025-05-30T05:29:43.075311Z",
          "shell.execute_reply.started": "2025-05-30T05:29:42.766355Z",
          "shell.execute_reply": "2025-05-30T05:29:43.074182Z"
        },
        "trusted": true,
        "colab": {
          "base_uri": "https://localhost:8080/",
          "height": 449
        },
        "id": "1PsLpnR2rfOL",
        "outputId": "f1e6d46b-70d2-4805-a078-5210942bc26e"
      },
      "outputs": [
        {
          "output_type": "execute_result",
          "data": {
            "text/plain": [
              "<Axes: >"
            ]
          },
          "metadata": {},
          "execution_count": 13
        },
        {
          "output_type": "display_data",
          "data": {
            "text/plain": [
              "<Figure size 640x480 with 1 Axes>"
            ],
            "image/png": "[encoded data removed]"
          },
          "metadata": {}
        }
      ],
      "execution_count": null
    },
    {
      "cell_type": "code",
      "source": [
        "# 'SalePrice'컬럼 왜도와 첨도계산\n",
        "s2 = df['SalePrice'].skew()\n",
        "k2 = df['SalePrice'].kurt()\n",
        "print(\"왜도:\" ,s2)\n",
        "print(\"첨도:\" ,k2)"
      ],
      "metadata": {
        "execution": {
          "iopub.status.busy": "2025-05-30T05:29:46.383023Z",
          "iopub.execute_input": "2025-05-30T05:29:46.383336Z",
          "iopub.status.idle": "2025-05-30T05:29:46.391464Z",
          "shell.execute_reply.started": "2025-05-30T05:29:46.383303Z",
          "shell.execute_reply": "2025-05-30T05:29:46.390396Z"
        },
        "trusted": true,
        "colab": {
          "base_uri": "https://localhost:8080/"
        },
        "id": "Bz1o0rRQrfOL",
        "outputId": "30672a84-8a14-4a52-89c7-0d7a4e7d0fa1"
      },
      "outputs": [
        {
          "output_type": "stream",
          "name": "stdout",
          "text": [
            "왜도: 0.12134661989685333\n",
            "첨도: 0.809519155707878\n"
          ]
        }
      ],
      "execution_count": null
    },
    {
      "cell_type": "code",
      "source": [
        "# 모두 더한 다음 출력\n",
        "print(round(s1+s2+k1+k2,2))"
      ],
      "metadata": {
        "execution": {
          "iopub.status.busy": "2025-05-30T05:29:48.078254Z",
          "iopub.execute_input": "2025-05-30T05:29:48.078536Z",
          "iopub.status.idle": "2025-05-30T05:29:48.084734Z",
          "shell.execute_reply.started": "2025-05-30T05:29:48.078508Z",
          "shell.execute_reply": "2025-05-30T05:29:48.083672Z"
        },
        "trusted": true,
        "colab": {
          "base_uri": "https://localhost:8080/"
        },
        "id": "zg_F3774rfOL",
        "outputId": "50b80a19-be46-4e70-ec0a-cccc536c0cc8"
      },
      "outputs": [
        {
          "output_type": "stream",
          "name": "stdout",
          "text": [
            "9.35\n"
          ]
        }
      ],
      "execution_count": null
    }
  ]
}