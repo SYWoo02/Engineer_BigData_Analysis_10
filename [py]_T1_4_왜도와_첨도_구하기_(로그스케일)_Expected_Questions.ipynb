{
  "metadata": {
    "kernelspec": {
      "language": "python",
      "display_name": "Python 3",
      "name": "python3"
    },
    "language_info": {
      "name": "python",
      "version": "3.7.10",
      "mimetype": "text/x-python",
      "codemirror_mode": {
        "name": "ipython",
        "version": 3
      },
      "pygments_lexer": "ipython3",
      "nbconvert_exporter": "python",
      "file_extension": ".py"
    },
    "kaggle": {
      "accelerator": "none",
      "dataSources": [
        {
          "sourceId": 5407,
          "databundleVersionId": 868283,
          "sourceType": "competition"
        },
        {
          "sourceId": 9936200,
          "sourceType": "datasetVersion",
          "datasetId": 1633303
        }
      ],
      "dockerImageVersionId": 30129,
      "isInternetEnabled": false,
      "language": "python",
      "sourceType": "notebook",
      "isGpuEnabled": false
    },
    "colab": {
      "name": "[py] T1-4. 왜도와 첨도 구하기 (로그스케일) Expected Questions",
      "provenance": [],
      "include_colab_link": true
    }
  },
  "nbformat_minor": 0,
  "nbformat": 4,
  "cells": [
    {
      "cell_type": "markdown",
      "metadata": {
        "id": "view-in-github",
        "colab_type": "text"
      },
      "source": [
        "<a href=\"https://colab.research.google.com/github/SYWoo02/Engineer_BigData_Analysis_10/blob/main/%5Bpy%5D_T1_4_%EC%99%9C%EB%8F%84%EC%99%80_%EC%B2%A8%EB%8F%84_%EA%B5%AC%ED%95%98%EA%B8%B0_(%EB%A1%9C%EA%B7%B8%EC%8A%A4%EC%BC%80%EC%9D%BC)_Expected_Questions.ipynb\" target=\"_parent\"><img src=\"https://colab.research.google.com/assets/colab-badge.svg\" alt=\"Open In Colab\"/></a>"
      ]
    },
    {
      "cell_type": "markdown",
      "source": [
        "## 왜도와 첨도 구하기\n",
        "-  주어진 데이터 중 train.csv에서 'SalePrice'컬럼의 왜도와 첨도를 구한 값과, 'SalePrice'컬럼을 스케일링(log1p)로 변환한 이후 왜도와 첨도를 구해 모두 더한 다음 소수점 2째자리까지 출력하시오\n",
        "- 데이터셋 : House Prices - Advanced Regression Technique (https://www.kaggle.com/c/house-prices-advanced-regression-techniques)\n",
        "- 오른쪽 상단 copy&edit 클릭 -> 예상문제 풀이 시작\n",
        "- 강의 영상 : https://youtu.be/_ft7ZlDlk7c"
      ],
      "metadata": {
        "id": "8lUoTxChrfOH"
      }
    },
    {
      "cell_type": "markdown",
      "source": [
        "### 왜도\n",
        "비대칭도(非對稱度, skewness) 또는 왜도(歪度)는 **실수 값 확률 변수의 확률 분포 비대칭성을 나타내는 지표**이다. 왜도의 값은 양수나 음수가 될 수 있으며 정의되지 않을 수도 있다. 왜도가 음수일 경우에는 확률밀도함수의 왼쪽 부분에 긴 꼬리를 가지며 중앙값을 포함한 자료가 오른쪽에 더 많이 분포해 있다. 왜도가 양수일 때는 확률밀도함수의 오른쪽 부분에 긴 꼬리를 가지며 자료가 왼쪽에 더 많이 분포해 있다는 것을 나타낸다. 평균과 중앙값이 같으면 왜도는 0이 된다.\n",
        "\n",
        "![SkewedDistribution.png](attachment:502821f9-762a-4f63-bd70-944b6e6a213c.png)\n",
        "\n",
        "**위키백과 https://ko.wikipedia.org/wiki/%EB%B9%84%EB%8C%80%EC%B9%AD%EB%8F%84"
      ],
      "metadata": {
        "id": "zEiruQUErfOH"
      }
    },
    {
      "cell_type": "markdown",
      "source": [
        "### 첨도\n",
        "**확률분포의 꼬리가 두꺼운 정도**를 나타내는 척도이다. 극단적인 편차 또는 이상치가 많을 수록 큰 값을 나타낸다. 첨도값(K)이 3에 가까우면 산포도가 정규분포에 가깝다. 3보다 작을 경우에는(K<3) 산포는 정규분포보다 꼬리가 얇은 분포로 생각할 수 있다, 첨도값이 3보다 큰 양수이면(K>3) 정규분포보다 꼬리가 두꺼운 분포로 판단할 수 있다."
      ],
      "metadata": {
        "id": "t_aid6OfrfOI"
      }
    },
    {
      "cell_type": "code",
      "source": [
        "# 라이브러리 및 데이터 불러오기\n",
        "import pandas as pd\n",
        "import numpy as np\n",
        "data = pd.read_csv(\"/kaggle/input/house-prices-advanced-regression-techniques/train.csv\")\n",
        "data['SalePrice'].hist()"
      ],
      "metadata": {
        "execution": {
          "iopub.status.busy": "2025-05-30T05:30:36.507959Z",
          "iopub.execute_input": "2025-05-30T05:30:36.508257Z",
          "iopub.status.idle": "2025-05-30T05:30:36.794559Z",
          "shell.execute_reply.started": "2025-05-30T05:30:36.508227Z",
          "shell.execute_reply": "2025-05-30T05:30:36.793621Z"
        },
        "trusted": true,
        "id": "YYz1yLu1rfOI",
        "outputId": "efb050f2-b950-407c-87f3-f2a64d840a50"
      },
      "outputs": [
        {
          "execution_count": 20,
          "output_type": "execute_result",
          "data": {
            "text/plain": "<AxesSubplot:>"
          },
          "metadata": {}
        },
        {
          "output_type": "display_data",
          "data": {
            "text/plain": "<Figure size 432x288 with 1 Axes>",
            "image/png": "[encoded data removed]"
          },
          "metadata": {
            "needs_background": "light"
          }
        }
      ],
      "execution_count": null
    },
    {
      "cell_type": "code",
      "source": [
        "# 'SalePrice'컬럼 왜도와 첨도계산\n",
        "\n",
        "# 왜도\n",
        "skew = data['SalePrice'].skew()\n",
        "\n",
        "# 첨도\n",
        "kurt = data['SalePrice'].kurt()\n",
        "\n",
        "print(\"왜도:\",skew)\n",
        "print(\"\\n첨도:\",kurt)"
      ],
      "metadata": {
        "trusted": true,
        "id": "GfYFPS0urfOJ",
        "outputId": "396d6c85-6e8d-48be-84a8-01cb070c479d"
      },
      "outputs": [
        {
          "name": "stdout",
          "text": "왜도: 1.8828757597682129\n\n첨도: 6.536281860064529\n",
          "output_type": "stream"
        }
      ],
      "execution_count": null
    },
    {
      "cell_type": "code",
      "source": [
        "# 'SalePrice'컬럼 로그변환\n",
        "data['log_SalePrice'] = np.log1p(data['SalePrice'])\n",
        "data['log_SalePrice'].hist()"
      ],
      "metadata": {
        "execution": {
          "iopub.status.busy": "2025-05-30T05:30:55.130315Z",
          "iopub.execute_input": "2025-05-30T05:30:55.13062Z",
          "iopub.status.idle": "2025-05-30T05:30:55.38662Z",
          "shell.execute_reply.started": "2025-05-30T05:30:55.130589Z",
          "shell.execute_reply": "2025-05-30T05:30:55.385668Z"
        },
        "trusted": true,
        "id": "XSW_JTkJrfOJ",
        "outputId": "0d9e202d-557f-4411-97b9-4fdc9f93af73"
      },
      "outputs": [
        {
          "execution_count": 23,
          "output_type": "execute_result",
          "data": {
            "text/plain": "<AxesSubplot:>"
          },
          "metadata": {}
        },
        {
          "output_type": "display_data",
          "data": {
            "text/plain": "<Figure size 432x288 with 1 Axes>",
            "image/png": "[encoded data removed]"
          },
          "metadata": {
            "needs_background": "light"
          }
        }
      ],
      "execution_count": null
    },
    {
      "cell_type": "code",
      "source": [
        "# 'SalePrice'컬럼 왜도와 첨도계산\n",
        "# 왜도\n",
        "skew2 = data['log_SalePrice'].skew()\n",
        "\n",
        "# 첨도\n",
        "kurt2 = data['log_SalePrice'].kurt()\n",
        "\n",
        "print(\"왜도:\",skew2)\n",
        "print(\"\\n첨도:\",kurt2)"
      ],
      "metadata": {
        "execution": {
          "iopub.status.busy": "2025-05-30T05:30:58.859669Z",
          "iopub.execute_input": "2025-05-30T05:30:58.860379Z",
          "iopub.status.idle": "2025-05-30T05:30:58.867809Z",
          "shell.execute_reply.started": "2025-05-30T05:30:58.860343Z",
          "shell.execute_reply": "2025-05-30T05:30:58.86682Z"
        },
        "trusted": true,
        "id": "GHJuMoxOrfOJ",
        "outputId": "7fd24890-3e9f-449a-bce6-fe9bb4c56dee"
      },
      "outputs": [
        {
          "name": "stdout",
          "text": "왜도: 0.12134661989685333\n\n첨도: 0.809519155707878\n",
          "output_type": "stream"
        }
      ],
      "execution_count": null
    },
    {
      "cell_type": "code",
      "source": [
        "# 모두 더한 다음 소수점 2번째 자리까지 출력\n",
        "res = skew + kurt + skew2 + kurt2\n",
        "print(round(res,2))"
      ],
      "metadata": {
        "execution": {
          "iopub.status.busy": "2025-05-30T05:31:27.311392Z",
          "iopub.execute_input": "2025-05-30T05:31:27.3117Z",
          "iopub.status.idle": "2025-05-30T05:31:27.31775Z",
          "shell.execute_reply.started": "2025-05-30T05:31:27.311668Z",
          "shell.execute_reply": "2025-05-30T05:31:27.316678Z"
        },
        "trusted": true,
        "id": "7eXi-V21rfOJ",
        "outputId": "d72f3f06-9eba-4cb8-c461-f5c231c58751"
      },
      "outputs": [
        {
          "name": "stdout",
          "text": "9.35\n",
          "output_type": "stream"
        }
      ],
      "execution_count": null
    },
    {
      "cell_type": "markdown",
      "source": [
        "## Hint\n",
        "- DataFrame.skew() 왜도\n",
        "- DataFrame.kurt() 첨도"
      ],
      "metadata": {
        "id": "Q35d-OoVrfOK"
      }
    },
    {
      "cell_type": "markdown",
      "source": [
        "## 풀이"
      ],
      "metadata": {
        "id": "pkw6Dp2nrfOK"
      }
    },
    {
      "cell_type": "code",
      "source": [
        "# 라이브러리 불러오기\n",
        "import pandas as pd\n",
        "import numpy as np"
      ],
      "metadata": {
        "_uuid": "8f2839f25d086af736a60e9eeb907d3b93b6e0e5",
        "_cell_guid": "b1076dfc-b9ad-4769-8c92-a6c4dae69d19",
        "execution": {
          "iopub.status.busy": "2021-10-20T23:17:31.346773Z",
          "iopub.execute_input": "2021-10-20T23:17:31.347117Z",
          "iopub.status.idle": "2021-10-20T23:17:31.359237Z",
          "shell.execute_reply.started": "2021-10-20T23:17:31.347078Z",
          "shell.execute_reply": "2021-10-20T23:17:31.358239Z"
        },
        "trusted": true,
        "id": "P2lWkub7rfOK"
      },
      "outputs": [],
      "execution_count": null
    },
    {
      "cell_type": "code",
      "source": [
        "# 데이터 불러오기\n",
        "df = pd.read_csv(\"../input/house-prices-advanced-regression-techniques/train.csv\")\n",
        "df['SalePrice'].head()"
      ],
      "metadata": {
        "execution": {
          "iopub.status.busy": "2025-05-30T05:29:29.563462Z",
          "iopub.execute_input": "2025-05-30T05:29:29.56379Z",
          "iopub.status.idle": "2025-05-30T05:29:29.594663Z",
          "shell.execute_reply.started": "2025-05-30T05:29:29.563758Z",
          "shell.execute_reply": "2025-05-30T05:29:29.593698Z"
        },
        "trusted": true,
        "id": "xY_KYPIprfOK",
        "outputId": "233373ff-40f0-4d24-efa9-e2f5b8e0a9b0"
      },
      "outputs": [
        {
          "execution_count": 11,
          "output_type": "execute_result",
          "data": {
            "text/plain": "0    208500\n1    181500\n2    223500\n3    140000\n4    250000\nName: SalePrice, dtype: int64"
          },
          "metadata": {}
        }
      ],
      "execution_count": null
    },
    {
      "cell_type": "code",
      "source": [
        "# EDA (시험에서는 시각화 불가)\n",
        "df['SalePrice'].hist()"
      ],
      "metadata": {
        "execution": {
          "iopub.status.busy": "2025-05-30T05:29:32.4701Z",
          "iopub.execute_input": "2025-05-30T05:29:32.470455Z",
          "iopub.status.idle": "2025-05-30T05:29:32.79975Z",
          "shell.execute_reply.started": "2025-05-30T05:29:32.470419Z",
          "shell.execute_reply": "2025-05-30T05:29:32.798683Z"
        },
        "trusted": true,
        "id": "5_x-ycoErfOK",
        "outputId": "8a74ae61-a25e-48be-fb07-ed7c9294b89b"
      },
      "outputs": [
        {
          "execution_count": 12,
          "output_type": "execute_result",
          "data": {
            "text/plain": "<AxesSubplot:>"
          },
          "metadata": {}
        },
        {
          "output_type": "display_data",
          "data": {
            "text/plain": "<Figure size 432x288 with 1 Axes>",
            "image/png": "[encoded data removed]"
          },
          "metadata": {
            "needs_background": "light"
          }
        }
      ],
      "execution_count": null
    },
    {
      "cell_type": "code",
      "source": [
        "# 'SalePrice'컬럼 왜도와 첨도계산\n",
        "s1 = df['SalePrice'].skew()\n",
        "k1 = df['SalePrice'].kurt()\n",
        "print(\"왜도:\" ,s1)\n",
        "print(\"첨도:\" ,k1)"
      ],
      "metadata": {
        "execution": {
          "iopub.status.busy": "2025-05-30T05:29:38.651606Z",
          "iopub.execute_input": "2025-05-30T05:29:38.651958Z",
          "iopub.status.idle": "2025-05-30T05:29:38.660401Z",
          "shell.execute_reply.started": "2025-05-30T05:29:38.651922Z",
          "shell.execute_reply": "2025-05-30T05:29:38.659031Z"
        },
        "trusted": true,
        "id": "_jnLKtMKrfOK",
        "outputId": "4f50348c-0214-4c5e-e67d-101479fb84f9"
      },
      "outputs": [
        {
          "name": "stdout",
          "text": "왜도: 1.8828757597682129\n첨도: 6.536281860064529\n",
          "output_type": "stream"
        }
      ],
      "execution_count": null
    },
    {
      "cell_type": "code",
      "source": [
        "# 'SalePrice'컬럼 로그변환\n",
        "df['SalePrice'] = np.log1p(df['SalePrice'])"
      ],
      "metadata": {
        "execution": {
          "iopub.status.busy": "2025-05-30T05:29:40.832631Z",
          "iopub.execute_input": "2025-05-30T05:29:40.832939Z",
          "iopub.status.idle": "2025-05-30T05:29:40.840435Z",
          "shell.execute_reply.started": "2025-05-30T05:29:40.83291Z",
          "shell.execute_reply": "2025-05-30T05:29:40.838955Z"
        },
        "trusted": true,
        "id": "mD84tOW6rfOL"
      },
      "outputs": [],
      "execution_count": null
    },
    {
      "cell_type": "code",
      "source": [
        "# EDA (시험에서는 시각화 불가)\n",
        "df['SalePrice'].hist()"
      ],
      "metadata": {
        "execution": {
          "iopub.status.busy": "2025-05-30T05:29:42.766074Z",
          "iopub.execute_input": "2025-05-30T05:29:42.766386Z",
          "iopub.status.idle": "2025-05-30T05:29:43.075311Z",
          "shell.execute_reply.started": "2025-05-30T05:29:42.766355Z",
          "shell.execute_reply": "2025-05-30T05:29:43.074182Z"
        },
        "trusted": true,
        "id": "1PsLpnR2rfOL",
        "outputId": "8bd667cc-fbab-4864-c495-b216069f6b3f"
      },
      "outputs": [
        {
          "execution_count": 15,
          "output_type": "execute_result",
          "data": {
            "text/plain": "<AxesSubplot:>"
          },
          "metadata": {}
        },
        {
          "output_type": "display_data",
          "data": {
            "text/plain": "<Figure size 432x288 with 1 Axes>",
            "image/png": "[encoded data removed]"
          },
          "metadata": {
            "needs_background": "light"
          }
        }
      ],
      "execution_count": null
    },
    {
      "cell_type": "code",
      "source": [
        "# 'SalePrice'컬럼 왜도와 첨도계산\n",
        "s2 = df['SalePrice'].skew()\n",
        "k2 = df['SalePrice'].kurt()\n",
        "print(\"왜도:\" ,s2)\n",
        "print(\"첨도:\" ,k2)"
      ],
      "metadata": {
        "execution": {
          "iopub.status.busy": "2025-05-30T05:29:46.383023Z",
          "iopub.execute_input": "2025-05-30T05:29:46.383336Z",
          "iopub.status.idle": "2025-05-30T05:29:46.391464Z",
          "shell.execute_reply.started": "2025-05-30T05:29:46.383303Z",
          "shell.execute_reply": "2025-05-30T05:29:46.390396Z"
        },
        "trusted": true,
        "id": "Bz1o0rRQrfOL",
        "outputId": "fbd16b32-779f-47d2-c927-0046f9a21ae2"
      },
      "outputs": [
        {
          "name": "stdout",
          "text": "왜도: 0.12134661989685333\n첨도: 0.809519155707878\n",
          "output_type": "stream"
        }
      ],
      "execution_count": null
    },
    {
      "cell_type": "code",
      "source": [
        "# 모두 더한 다음 출력\n",
        "print(round(s1+s2+k1+k2,2))"
      ],
      "metadata": {
        "execution": {
          "iopub.status.busy": "2025-05-30T05:29:48.078254Z",
          "iopub.execute_input": "2025-05-30T05:29:48.078536Z",
          "iopub.status.idle": "2025-05-30T05:29:48.084734Z",
          "shell.execute_reply.started": "2025-05-30T05:29:48.078508Z",
          "shell.execute_reply": "2025-05-30T05:29:48.083672Z"
        },
        "trusted": true,
        "id": "zg_F3774rfOL",
        "outputId": "9d40b2e8-d5ee-4db9-83b1-9c4827b71696"
      },
      "outputs": [
        {
          "name": "stdout",
          "text": "9.35\n",
          "output_type": "stream"
        }
      ],
      "execution_count": null
    },
    {
      "cell_type": "code",
      "source": [],
      "metadata": {
        "id": "zGOF6IZhrfOL"
      },
      "outputs": [],
      "execution_count": null
    }
  ]
}