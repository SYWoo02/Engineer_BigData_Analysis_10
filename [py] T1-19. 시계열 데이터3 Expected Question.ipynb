{
 "cells": [
  {
   "cell_type": "markdown",
   "id": "069c62e2",
   "metadata": {
    "papermill": {
     "duration": 0.013629,
     "end_time": "2025-05-31T11:28:41.421254",
     "exception": false,
     "start_time": "2025-05-31T11:28:41.407625",
     "status": "completed"
    },
    "tags": []
   },
   "source": [
    "# < 시계열 데이터3 >\n",
    "## 주어진 데이터에서 2022년 월별 Sales 합계 중 가장 큰 금액과 \n",
    "## 2023년 월별 Sales 합계 중 가장 큰 금액의 차이를 절대값으로 구하시오. \n",
    "## 단 Events컬럼이 '1'인경우 80%의 Sales값만 반영함 \n",
    "## (최종값은 소수점 반올림 후 정수 출력)\n",
    "#\n",
    "### - 데이터셋 : basic2.csv\n",
    "### - 오른쪽 상단 copy&edit 클릭 -> 예상문제 풀이 시작"
   ]
  },
  {
   "cell_type": "markdown",
   "id": "93632941",
   "metadata": {
    "papermill": {
     "duration": 0.011498,
     "end_time": "2025-05-31T11:28:41.444900",
     "exception": false,
     "start_time": "2025-05-31T11:28:41.433402",
     "status": "completed"
    },
    "tags": []
   },
   "source": [
    "## 나의 코드"
   ]
  },
  {
   "cell_type": "code",
   "execution_count": 1,
   "id": "4d6cb1a4",
   "metadata": {
    "execution": {
     "iopub.execute_input": "2025-05-31T11:28:41.483268Z",
     "iopub.status.busy": "2025-05-31T11:28:41.482134Z",
     "iopub.status.idle": "2025-05-31T11:28:41.540351Z",
     "shell.execute_reply": "2025-05-31T11:28:41.539676Z",
     "shell.execute_reply.started": "2025-05-31T11:21:25.913383Z"
    },
    "papermill": {
     "duration": 0.082675,
     "end_time": "2025-05-31T11:28:41.540512",
     "exception": false,
     "start_time": "2025-05-31T11:28:41.457837",
     "status": "completed"
    },
    "tags": []
   },
   "outputs": [
    {
     "name": "stdout",
     "output_type": "stream",
     "text": [
      "<class 'pandas.core.frame.DataFrame'>\n",
      "RangeIndex: 730 entries, 0 to 729\n",
      "Data columns (total 5 columns):\n",
      " #   Column  Non-Null Count  Dtype  \n",
      "---  ------  --------------  -----  \n",
      " 0   Date    730 non-null    object \n",
      " 1   Sales   730 non-null    int64  \n",
      " 2   PV      730 non-null    int64  \n",
      " 3   UV      684 non-null    float64\n",
      " 4   Events  730 non-null    int64  \n",
      "dtypes: float64(1), int64(3), object(1)\n",
      "memory usage: 28.6+ KB\n"
     ]
    },
    {
     "data": {
      "text/html": [
       "<div>\n",
       "<style scoped>\n",
       "    .dataframe tbody tr th:only-of-type {\n",
       "        vertical-align: middle;\n",
       "    }\n",
       "\n",
       "    .dataframe tbody tr th {\n",
       "        vertical-align: top;\n",
       "    }\n",
       "\n",
       "    .dataframe thead th {\n",
       "        text-align: right;\n",
       "    }\n",
       "</style>\n",
       "<table border=\"1\" class=\"dataframe\">\n",
       "  <thead>\n",
       "    <tr style=\"text-align: right;\">\n",
       "      <th></th>\n",
       "      <th>Date</th>\n",
       "      <th>Sales</th>\n",
       "      <th>PV</th>\n",
       "      <th>UV</th>\n",
       "      <th>Events</th>\n",
       "    </tr>\n",
       "  </thead>\n",
       "  <tbody>\n",
       "    <tr>\n",
       "      <th>0</th>\n",
       "      <td>2022-01-01</td>\n",
       "      <td>22711525</td>\n",
       "      <td>397349</td>\n",
       "      <td>4421.0</td>\n",
       "      <td>1</td>\n",
       "    </tr>\n",
       "    <tr>\n",
       "      <th>1</th>\n",
       "      <td>2022-01-02</td>\n",
       "      <td>36779</td>\n",
       "      <td>3969</td>\n",
       "      <td>2289.0</td>\n",
       "      <td>0</td>\n",
       "    </tr>\n",
       "    <tr>\n",
       "      <th>2</th>\n",
       "      <td>2022-01-03</td>\n",
       "      <td>13943875</td>\n",
       "      <td>373890</td>\n",
       "      <td>NaN</td>\n",
       "      <td>1</td>\n",
       "    </tr>\n",
       "    <tr>\n",
       "      <th>3</th>\n",
       "      <td>2022-01-04</td>\n",
       "      <td>8088593</td>\n",
       "      <td>142054</td>\n",
       "      <td>2157.0</td>\n",
       "      <td>0</td>\n",
       "    </tr>\n",
       "    <tr>\n",
       "      <th>4</th>\n",
       "      <td>2022-01-05</td>\n",
       "      <td>2395374</td>\n",
       "      <td>190684</td>\n",
       "      <td>NaN</td>\n",
       "      <td>0</td>\n",
       "    </tr>\n",
       "  </tbody>\n",
       "</table>\n",
       "</div>"
      ],
      "text/plain": [
       "         Date     Sales      PV      UV  Events\n",
       "0  2022-01-01  22711525  397349  4421.0       1\n",
       "1  2022-01-02     36779    3969  2289.0       0\n",
       "2  2022-01-03  13943875  373890     NaN       1\n",
       "3  2022-01-04   8088593  142054  2157.0       0\n",
       "4  2022-01-05   2395374  190684     NaN       0"
      ]
     },
     "execution_count": 1,
     "metadata": {},
     "output_type": "execute_result"
    }
   ],
   "source": [
    "# 라이브러리 및 데이터 불러오기\n",
    "import pandas as pd\n",
    "data = pd.read_csv(\"/kaggle/input/bigdatacertificationkr/basic2.csv\")\n",
    "\n",
    "# EDA\n",
    "data.info()\n",
    "data.head(5)"
   ]
  },
  {
   "cell_type": "code",
   "execution_count": 2,
   "id": "ab2f6a58",
   "metadata": {
    "execution": {
     "iopub.execute_input": "2025-05-31T11:28:41.581320Z",
     "iopub.status.busy": "2025-05-31T11:28:41.577058Z",
     "iopub.status.idle": "2025-05-31T11:28:41.589101Z",
     "shell.execute_reply": "2025-05-31T11:28:41.588501Z",
     "shell.execute_reply.started": "2025-05-31T11:21:28.456360Z"
    },
    "papermill": {
     "duration": 0.035951,
     "end_time": "2025-05-31T11:28:41.589242",
     "exception": false,
     "start_time": "2025-05-31T11:28:41.553291",
     "status": "completed"
    },
    "tags": []
   },
   "outputs": [
    {
     "data": {
      "text/html": [
       "<div>\n",
       "<style scoped>\n",
       "    .dataframe tbody tr th:only-of-type {\n",
       "        vertical-align: middle;\n",
       "    }\n",
       "\n",
       "    .dataframe tbody tr th {\n",
       "        vertical-align: top;\n",
       "    }\n",
       "\n",
       "    .dataframe thead th {\n",
       "        text-align: right;\n",
       "    }\n",
       "</style>\n",
       "<table border=\"1\" class=\"dataframe\">\n",
       "  <thead>\n",
       "    <tr style=\"text-align: right;\">\n",
       "      <th></th>\n",
       "      <th>Date</th>\n",
       "      <th>Sales</th>\n",
       "      <th>PV</th>\n",
       "      <th>UV</th>\n",
       "      <th>Events</th>\n",
       "      <th>Year</th>\n",
       "      <th>Month</th>\n",
       "    </tr>\n",
       "  </thead>\n",
       "  <tbody>\n",
       "    <tr>\n",
       "      <th>0</th>\n",
       "      <td>2022-01-01</td>\n",
       "      <td>22711525</td>\n",
       "      <td>397349</td>\n",
       "      <td>4421.0</td>\n",
       "      <td>1</td>\n",
       "      <td>2022</td>\n",
       "      <td>1</td>\n",
       "    </tr>\n",
       "    <tr>\n",
       "      <th>1</th>\n",
       "      <td>2022-01-02</td>\n",
       "      <td>36779</td>\n",
       "      <td>3969</td>\n",
       "      <td>2289.0</td>\n",
       "      <td>0</td>\n",
       "      <td>2022</td>\n",
       "      <td>1</td>\n",
       "    </tr>\n",
       "    <tr>\n",
       "      <th>2</th>\n",
       "      <td>2022-01-03</td>\n",
       "      <td>13943875</td>\n",
       "      <td>373890</td>\n",
       "      <td>NaN</td>\n",
       "      <td>1</td>\n",
       "      <td>2022</td>\n",
       "      <td>1</td>\n",
       "    </tr>\n",
       "    <tr>\n",
       "      <th>3</th>\n",
       "      <td>2022-01-04</td>\n",
       "      <td>8088593</td>\n",
       "      <td>142054</td>\n",
       "      <td>2157.0</td>\n",
       "      <td>0</td>\n",
       "      <td>2022</td>\n",
       "      <td>1</td>\n",
       "    </tr>\n",
       "    <tr>\n",
       "      <th>4</th>\n",
       "      <td>2022-01-05</td>\n",
       "      <td>2395374</td>\n",
       "      <td>190684</td>\n",
       "      <td>NaN</td>\n",
       "      <td>0</td>\n",
       "      <td>2022</td>\n",
       "      <td>1</td>\n",
       "    </tr>\n",
       "  </tbody>\n",
       "</table>\n",
       "</div>"
      ],
      "text/plain": [
       "        Date     Sales      PV      UV  Events  Year  Month\n",
       "0 2022-01-01  22711525  397349  4421.0       1  2022      1\n",
       "1 2022-01-02     36779    3969  2289.0       0  2022      1\n",
       "2 2022-01-03  13943875  373890     NaN       1  2022      1\n",
       "3 2022-01-04   8088593  142054  2157.0       0  2022      1\n",
       "4 2022-01-05   2395374  190684     NaN       0  2022      1"
      ]
     },
     "execution_count": 2,
     "metadata": {},
     "output_type": "execute_result"
    }
   ],
   "source": [
    "# 'Date' 칼럼 datetime으로 변경\n",
    "data['Date'] = pd.to_datetime(data['Date'])\n",
    "\n",
    "# 'Date'에서 연/월 쪼개서 'Year', 'Month' 칼럼 가가\n",
    "data['Year'] = data['Date'].dt.year\n",
    "data['Month'] = data['Date'].dt.month\n",
    "\n",
    "data.head()"
   ]
  },
  {
   "cell_type": "markdown",
   "id": "39a0b962",
   "metadata": {
    "papermill": {
     "duration": 0.014553,
     "end_time": "2025-05-31T11:28:41.617606",
     "exception": false,
     "start_time": "2025-05-31T11:28:41.603053",
     "status": "completed"
    },
    "tags": []
   },
   "source": [
    "### 2022년 월별 Sales 합계 중 가장 큰 금액 구하기 (단, 'Events'컬럼이 '1'인 경우, Sales값의 80%만 반영함.)"
   ]
  },
  {
   "cell_type": "code",
   "execution_count": 3,
   "id": "69e6475b",
   "metadata": {
    "execution": {
     "iopub.execute_input": "2025-05-31T11:28:41.666216Z",
     "iopub.status.busy": "2025-05-31T11:28:41.665212Z",
     "iopub.status.idle": "2025-05-31T11:28:41.669537Z",
     "shell.execute_reply": "2025-05-31T11:28:41.670077Z",
     "shell.execute_reply.started": "2025-05-31T11:25:32.515130Z"
    },
    "papermill": {
     "duration": 0.039133,
     "end_time": "2025-05-31T11:28:41.670265",
     "exception": false,
     "start_time": "2025-05-31T11:28:41.631132",
     "status": "completed"
    },
    "tags": []
   },
   "outputs": [
    {
     "data": {
      "text/html": [
       "<div>\n",
       "<style scoped>\n",
       "    .dataframe tbody tr th:only-of-type {\n",
       "        vertical-align: middle;\n",
       "    }\n",
       "\n",
       "    .dataframe tbody tr th {\n",
       "        vertical-align: top;\n",
       "    }\n",
       "\n",
       "    .dataframe thead th {\n",
       "        text-align: right;\n",
       "    }\n",
       "</style>\n",
       "<table border=\"1\" class=\"dataframe\">\n",
       "  <thead>\n",
       "    <tr style=\"text-align: right;\">\n",
       "      <th></th>\n",
       "      <th>Date</th>\n",
       "      <th>Sales</th>\n",
       "      <th>PV</th>\n",
       "      <th>UV</th>\n",
       "      <th>Events</th>\n",
       "      <th>Year</th>\n",
       "      <th>Month</th>\n",
       "    </tr>\n",
       "  </thead>\n",
       "  <tbody>\n",
       "    <tr>\n",
       "      <th>0</th>\n",
       "      <td>2022-01-01</td>\n",
       "      <td>22711525</td>\n",
       "      <td>397349</td>\n",
       "      <td>4421.0</td>\n",
       "      <td>1</td>\n",
       "      <td>2022</td>\n",
       "      <td>1</td>\n",
       "    </tr>\n",
       "    <tr>\n",
       "      <th>1</th>\n",
       "      <td>2022-01-02</td>\n",
       "      <td>36779</td>\n",
       "      <td>3969</td>\n",
       "      <td>2289.0</td>\n",
       "      <td>0</td>\n",
       "      <td>2022</td>\n",
       "      <td>1</td>\n",
       "    </tr>\n",
       "    <tr>\n",
       "      <th>2</th>\n",
       "      <td>2022-01-03</td>\n",
       "      <td>13943875</td>\n",
       "      <td>373890</td>\n",
       "      <td>NaN</td>\n",
       "      <td>1</td>\n",
       "      <td>2022</td>\n",
       "      <td>1</td>\n",
       "    </tr>\n",
       "    <tr>\n",
       "      <th>3</th>\n",
       "      <td>2022-01-04</td>\n",
       "      <td>8088593</td>\n",
       "      <td>142054</td>\n",
       "      <td>2157.0</td>\n",
       "      <td>0</td>\n",
       "      <td>2022</td>\n",
       "      <td>1</td>\n",
       "    </tr>\n",
       "    <tr>\n",
       "      <th>4</th>\n",
       "      <td>2022-01-05</td>\n",
       "      <td>2395374</td>\n",
       "      <td>190684</td>\n",
       "      <td>NaN</td>\n",
       "      <td>0</td>\n",
       "      <td>2022</td>\n",
       "      <td>1</td>\n",
       "    </tr>\n",
       "    <tr>\n",
       "      <th>...</th>\n",
       "      <td>...</td>\n",
       "      <td>...</td>\n",
       "      <td>...</td>\n",
       "      <td>...</td>\n",
       "      <td>...</td>\n",
       "      <td>...</td>\n",
       "      <td>...</td>\n",
       "    </tr>\n",
       "    <tr>\n",
       "      <th>360</th>\n",
       "      <td>2022-12-27</td>\n",
       "      <td>9082658</td>\n",
       "      <td>401544</td>\n",
       "      <td>4246.0</td>\n",
       "      <td>1</td>\n",
       "      <td>2022</td>\n",
       "      <td>12</td>\n",
       "    </tr>\n",
       "    <tr>\n",
       "      <th>361</th>\n",
       "      <td>2022-12-28</td>\n",
       "      <td>2297686</td>\n",
       "      <td>40853</td>\n",
       "      <td>1332.0</td>\n",
       "      <td>0</td>\n",
       "      <td>2022</td>\n",
       "      <td>12</td>\n",
       "    </tr>\n",
       "    <tr>\n",
       "      <th>362</th>\n",
       "      <td>2022-12-29</td>\n",
       "      <td>3860833</td>\n",
       "      <td>205368</td>\n",
       "      <td>2069.0</td>\n",
       "      <td>1</td>\n",
       "      <td>2022</td>\n",
       "      <td>12</td>\n",
       "    </tr>\n",
       "    <tr>\n",
       "      <th>363</th>\n",
       "      <td>2022-12-30</td>\n",
       "      <td>8901188</td>\n",
       "      <td>123909</td>\n",
       "      <td>1448.0</td>\n",
       "      <td>0</td>\n",
       "      <td>2022</td>\n",
       "      <td>12</td>\n",
       "    </tr>\n",
       "    <tr>\n",
       "      <th>364</th>\n",
       "      <td>2022-12-31</td>\n",
       "      <td>2079846</td>\n",
       "      <td>33200</td>\n",
       "      <td>478.0</td>\n",
       "      <td>0</td>\n",
       "      <td>2022</td>\n",
       "      <td>12</td>\n",
       "    </tr>\n",
       "  </tbody>\n",
       "</table>\n",
       "<p>365 rows × 7 columns</p>\n",
       "</div>"
      ],
      "text/plain": [
       "          Date     Sales      PV      UV  Events  Year  Month\n",
       "0   2022-01-01  22711525  397349  4421.0       1  2022      1\n",
       "1   2022-01-02     36779    3969  2289.0       0  2022      1\n",
       "2   2022-01-03  13943875  373890     NaN       1  2022      1\n",
       "3   2022-01-04   8088593  142054  2157.0       0  2022      1\n",
       "4   2022-01-05   2395374  190684     NaN       0  2022      1\n",
       "..         ...       ...     ...     ...     ...   ...    ...\n",
       "360 2022-12-27   9082658  401544  4246.0       1  2022     12\n",
       "361 2022-12-28   2297686   40853  1332.0       0  2022     12\n",
       "362 2022-12-29   3860833  205368  2069.0       1  2022     12\n",
       "363 2022-12-30   8901188  123909  1448.0       0  2022     12\n",
       "364 2022-12-31   2079846   33200   478.0       0  2022     12\n",
       "\n",
       "[365 rows x 7 columns]"
      ]
     },
     "execution_count": 3,
     "metadata": {},
     "output_type": "execute_result"
    }
   ],
   "source": [
    "# 2022년 데이터 추출\n",
    "data_2022 = data[data['Year'] == 2022].copy()\n",
    "data_2022"
   ]
  },
  {
   "cell_type": "code",
   "execution_count": 4,
   "id": "5b52bc37",
   "metadata": {
    "execution": {
     "iopub.execute_input": "2025-05-31T11:28:41.713215Z",
     "iopub.status.busy": "2025-05-31T11:28:41.710011Z",
     "iopub.status.idle": "2025-05-31T11:28:41.716403Z",
     "shell.execute_reply": "2025-05-31T11:28:41.716885Z",
     "shell.execute_reply.started": "2025-05-31T11:25:34.739223Z"
    },
    "papermill": {
     "duration": 0.032938,
     "end_time": "2025-05-31T11:28:41.717075",
     "exception": false,
     "start_time": "2025-05-31T11:28:41.684137",
     "status": "completed"
    },
    "tags": []
   },
   "outputs": [
    {
     "name": "stdout",
     "output_type": "stream",
     "text": [
      "197145878.0\n"
     ]
    }
   ],
   "source": [
    "# 'Events'컬럼이 '1'인 경우, Sales값의 80%만 반영하는 조건 적용\n",
    "data_2022['Sales'] = data_2022.apply(\n",
    "    lambda row: row['Sales'] * 0.8 if row['Events'] == 1 else row['Sales'], axis=1)\n",
    "    \n",
    "data_2022_sales = data_2022.groupby('Month')['Sales'].sum()\n",
    "data_2022_max_sales = data_2022_sales.max()\n",
    "print(data_2022_max_sales)"
   ]
  },
  {
   "cell_type": "markdown",
   "id": "c40ceaac",
   "metadata": {
    "papermill": {
     "duration": 0.014814,
     "end_time": "2025-05-31T11:28:41.745867",
     "exception": false,
     "start_time": "2025-05-31T11:28:41.731053",
     "status": "completed"
    },
    "tags": []
   },
   "source": [
    "### 2023년 월별 Sales 합계 중 가장 큰 금액 구하기 (단, 'Events'컬럼이 '1'인 경우, Sales값의 80%만 반영함.)"
   ]
  },
  {
   "cell_type": "code",
   "execution_count": 5,
   "id": "e8d443b4",
   "metadata": {
    "execution": {
     "iopub.execute_input": "2025-05-31T11:28:41.791570Z",
     "iopub.status.busy": "2025-05-31T11:28:41.790465Z",
     "iopub.status.idle": "2025-05-31T11:28:41.794175Z",
     "shell.execute_reply": "2025-05-31T11:28:41.794666Z",
     "shell.execute_reply.started": "2025-05-31T11:25:42.960115Z"
    },
    "papermill": {
     "duration": 0.035093,
     "end_time": "2025-05-31T11:28:41.794843",
     "exception": false,
     "start_time": "2025-05-31T11:28:41.759750",
     "status": "completed"
    },
    "tags": []
   },
   "outputs": [
    {
     "data": {
      "text/html": [
       "<div>\n",
       "<style scoped>\n",
       "    .dataframe tbody tr th:only-of-type {\n",
       "        vertical-align: middle;\n",
       "    }\n",
       "\n",
       "    .dataframe tbody tr th {\n",
       "        vertical-align: top;\n",
       "    }\n",
       "\n",
       "    .dataframe thead th {\n",
       "        text-align: right;\n",
       "    }\n",
       "</style>\n",
       "<table border=\"1\" class=\"dataframe\">\n",
       "  <thead>\n",
       "    <tr style=\"text-align: right;\">\n",
       "      <th></th>\n",
       "      <th>Date</th>\n",
       "      <th>Sales</th>\n",
       "      <th>PV</th>\n",
       "      <th>UV</th>\n",
       "      <th>Events</th>\n",
       "      <th>Year</th>\n",
       "      <th>Month</th>\n",
       "    </tr>\n",
       "  </thead>\n",
       "  <tbody>\n",
       "    <tr>\n",
       "      <th>365</th>\n",
       "      <td>2023-01-01</td>\n",
       "      <td>39464371</td>\n",
       "      <td>457995</td>\n",
       "      <td>6716.0</td>\n",
       "      <td>1</td>\n",
       "      <td>2023</td>\n",
       "      <td>1</td>\n",
       "    </tr>\n",
       "    <tr>\n",
       "      <th>366</th>\n",
       "      <td>2023-01-02</td>\n",
       "      <td>169945</td>\n",
       "      <td>2134</td>\n",
       "      <td>247.0</td>\n",
       "      <td>0</td>\n",
       "      <td>2023</td>\n",
       "      <td>1</td>\n",
       "    </tr>\n",
       "    <tr>\n",
       "      <th>367</th>\n",
       "      <td>2023-01-03</td>\n",
       "      <td>144534</td>\n",
       "      <td>3399</td>\n",
       "      <td>371.0</td>\n",
       "      <td>0</td>\n",
       "      <td>2023</td>\n",
       "      <td>1</td>\n",
       "    </tr>\n",
       "    <tr>\n",
       "      <th>368</th>\n",
       "      <td>2023-01-04</td>\n",
       "      <td>1335449</td>\n",
       "      <td>18192</td>\n",
       "      <td>545.0</td>\n",
       "      <td>0</td>\n",
       "      <td>2023</td>\n",
       "      <td>1</td>\n",
       "    </tr>\n",
       "    <tr>\n",
       "      <th>369</th>\n",
       "      <td>2023-01-05</td>\n",
       "      <td>6731190</td>\n",
       "      <td>76194</td>\n",
       "      <td>1580.0</td>\n",
       "      <td>0</td>\n",
       "      <td>2023</td>\n",
       "      <td>1</td>\n",
       "    </tr>\n",
       "    <tr>\n",
       "      <th>...</th>\n",
       "      <td>...</td>\n",
       "      <td>...</td>\n",
       "      <td>...</td>\n",
       "      <td>...</td>\n",
       "      <td>...</td>\n",
       "      <td>...</td>\n",
       "      <td>...</td>\n",
       "    </tr>\n",
       "    <tr>\n",
       "      <th>725</th>\n",
       "      <td>2023-12-27</td>\n",
       "      <td>33846609</td>\n",
       "      <td>415067</td>\n",
       "      <td>7360.0</td>\n",
       "      <td>1</td>\n",
       "      <td>2023</td>\n",
       "      <td>12</td>\n",
       "    </tr>\n",
       "    <tr>\n",
       "      <th>726</th>\n",
       "      <td>2023-12-28</td>\n",
       "      <td>3659566</td>\n",
       "      <td>208601</td>\n",
       "      <td>2262.0</td>\n",
       "      <td>1</td>\n",
       "      <td>2023</td>\n",
       "      <td>12</td>\n",
       "    </tr>\n",
       "    <tr>\n",
       "      <th>727</th>\n",
       "      <td>2023-12-29</td>\n",
       "      <td>1164008</td>\n",
       "      <td>14309</td>\n",
       "      <td>193.0</td>\n",
       "      <td>0</td>\n",
       "      <td>2023</td>\n",
       "      <td>12</td>\n",
       "    </tr>\n",
       "    <tr>\n",
       "      <th>728</th>\n",
       "      <td>2023-12-30</td>\n",
       "      <td>3977696</td>\n",
       "      <td>60935</td>\n",
       "      <td>NaN</td>\n",
       "      <td>0</td>\n",
       "      <td>2023</td>\n",
       "      <td>12</td>\n",
       "    </tr>\n",
       "    <tr>\n",
       "      <th>729</th>\n",
       "      <td>2023-12-31</td>\n",
       "      <td>3719764</td>\n",
       "      <td>60963</td>\n",
       "      <td>1507.0</td>\n",
       "      <td>0</td>\n",
       "      <td>2023</td>\n",
       "      <td>12</td>\n",
       "    </tr>\n",
       "  </tbody>\n",
       "</table>\n",
       "<p>365 rows × 7 columns</p>\n",
       "</div>"
      ],
      "text/plain": [
       "          Date     Sales      PV      UV  Events  Year  Month\n",
       "365 2023-01-01  39464371  457995  6716.0       1  2023      1\n",
       "366 2023-01-02    169945    2134   247.0       0  2023      1\n",
       "367 2023-01-03    144534    3399   371.0       0  2023      1\n",
       "368 2023-01-04   1335449   18192   545.0       0  2023      1\n",
       "369 2023-01-05   6731190   76194  1580.0       0  2023      1\n",
       "..         ...       ...     ...     ...     ...   ...    ...\n",
       "725 2023-12-27  33846609  415067  7360.0       1  2023     12\n",
       "726 2023-12-28   3659566  208601  2262.0       1  2023     12\n",
       "727 2023-12-29   1164008   14309   193.0       0  2023     12\n",
       "728 2023-12-30   3977696   60935     NaN       0  2023     12\n",
       "729 2023-12-31   3719764   60963  1507.0       0  2023     12\n",
       "\n",
       "[365 rows x 7 columns]"
      ]
     },
     "execution_count": 5,
     "metadata": {},
     "output_type": "execute_result"
    }
   ],
   "source": [
    "# 2022년 데이터 추출\n",
    "data_2023 = data[data['Year'] == 2023].copy()\n",
    "data_2023"
   ]
  },
  {
   "cell_type": "code",
   "execution_count": 6,
   "id": "770bf42a",
   "metadata": {
    "execution": {
     "iopub.execute_input": "2025-05-31T11:28:41.839208Z",
     "iopub.status.busy": "2025-05-31T11:28:41.838449Z",
     "iopub.status.idle": "2025-05-31T11:28:41.842497Z",
     "shell.execute_reply": "2025-05-31T11:28:41.841941Z",
     "shell.execute_reply.started": "2025-05-31T11:26:26.098102Z"
    },
    "papermill": {
     "duration": 0.033036,
     "end_time": "2025-05-31T11:28:41.842647",
     "exception": false,
     "start_time": "2025-05-31T11:28:41.809611",
     "status": "completed"
    },
    "tags": []
   },
   "outputs": [
    {
     "name": "stdout",
     "output_type": "stream",
     "text": [
      "239619313.8\n"
     ]
    }
   ],
   "source": [
    "# 'Events'컬럼이 '1'인 경우, Sales값의 80%만 반영하는 조건 적용\n",
    "data_2023['Sales'] = data_2023.apply(\n",
    "    lambda row: row['Sales'] * 0.8 if row['Events'] == 1 else row['Sales'], axis=1)\n",
    "    \n",
    "data_2023_sales = data_2023.groupby('Month')['Sales'].sum()\n",
    "data_2023_max_sales = data_2023_sales.max()\n",
    "print(data_2023_max_sales)"
   ]
  },
  {
   "cell_type": "code",
   "execution_count": 7,
   "id": "237553ef",
   "metadata": {
    "execution": {
     "iopub.execute_input": "2025-05-31T11:28:41.876908Z",
     "iopub.status.busy": "2025-05-31T11:28:41.876252Z",
     "iopub.status.idle": "2025-05-31T11:28:41.880211Z",
     "shell.execute_reply": "2025-05-31T11:28:41.879539Z",
     "shell.execute_reply.started": "2025-05-31T11:27:27.541819Z"
    },
    "papermill": {
     "duration": 0.023192,
     "end_time": "2025-05-31T11:28:41.880358",
     "exception": false,
     "start_time": "2025-05-31T11:28:41.857166",
     "status": "completed"
    },
    "tags": []
   },
   "outputs": [
    {
     "name": "stdout",
     "output_type": "stream",
     "text": [
      "42473436\n"
     ]
    }
   ],
   "source": [
    "# 두 금액의 차이 구하기 (절대값, 소수점 반올림 하여 정수로 출력)\n",
    "res = abs(data_2022_max_sales - data_2023_max_sales)\n",
    "print(round(res))\n",
    "\n",
    "# 정답 : 42473436"
   ]
  },
  {
   "cell_type": "markdown",
   "id": "31aa4777",
   "metadata": {
    "papermill": {
     "duration": 0.014359,
     "end_time": "2025-05-31T11:28:41.909456",
     "exception": false,
     "start_time": "2025-05-31T11:28:41.895097",
     "status": "completed"
    },
    "tags": []
   },
   "source": [
    "## 풀이 (예시답안)"
   ]
  },
  {
   "cell_type": "code",
   "execution_count": 8,
   "id": "59a9ac5d",
   "metadata": {
    "_cell_guid": "b1076dfc-b9ad-4769-8c92-a6c4dae69d19",
    "_uuid": "8f2839f25d086af736a60e9eeb907d3b93b6e0e5",
    "execution": {
     "iopub.execute_input": "2025-05-31T11:28:41.944390Z",
     "iopub.status.busy": "2025-05-31T11:28:41.943688Z",
     "iopub.status.idle": "2025-05-31T11:28:41.947023Z",
     "shell.execute_reply": "2025-05-31T11:28:41.946475Z",
     "shell.execute_reply.started": "2025-05-31T11:26:59.153283Z"
    },
    "papermill": {
     "duration": 0.022764,
     "end_time": "2025-05-31T11:28:41.947200",
     "exception": false,
     "start_time": "2025-05-31T11:28:41.924436",
     "status": "completed"
    },
    "tags": []
   },
   "outputs": [],
   "source": [
    "# 라이브러리 불러오기\n",
    "import pandas as pd"
   ]
  },
  {
   "cell_type": "code",
   "execution_count": 9,
   "id": "03459b86",
   "metadata": {
    "execution": {
     "iopub.execute_input": "2025-05-31T11:28:41.983332Z",
     "iopub.status.busy": "2025-05-31T11:28:41.982616Z",
     "iopub.status.idle": "2025-05-31T11:28:41.991418Z",
     "shell.execute_reply": "2025-05-31T11:28:41.990781Z",
     "shell.execute_reply.started": "2025-05-31T11:27:00.629149Z"
    },
    "papermill": {
     "duration": 0.029103,
     "end_time": "2025-05-31T11:28:41.991563",
     "exception": false,
     "start_time": "2025-05-31T11:28:41.962460",
     "status": "completed"
    },
    "tags": []
   },
   "outputs": [],
   "source": [
    "# 데이터 불러오기 (datatime컬럼 지정)\n",
    "df = pd.read_csv(\"../input/bigdatacertificationkr/basic2.csv\", \n",
    "                 parse_dates=['Date'])"
   ]
  },
  {
   "cell_type": "code",
   "execution_count": 10,
   "id": "2a58fe08",
   "metadata": {
    "execution": {
     "iopub.execute_input": "2025-05-31T11:28:42.032796Z",
     "iopub.status.busy": "2025-05-31T11:28:42.032032Z",
     "iopub.status.idle": "2025-05-31T11:28:42.037125Z",
     "shell.execute_reply": "2025-05-31T11:28:42.036466Z",
     "shell.execute_reply.started": "2025-05-31T11:27:02.416641Z"
    },
    "papermill": {
     "duration": 0.030831,
     "end_time": "2025-05-31T11:28:42.037283",
     "exception": false,
     "start_time": "2025-05-31T11:28:42.006452",
     "status": "completed"
    },
    "tags": []
   },
   "outputs": [
    {
     "data": {
      "text/html": [
       "<div>\n",
       "<style scoped>\n",
       "    .dataframe tbody tr th:only-of-type {\n",
       "        vertical-align: middle;\n",
       "    }\n",
       "\n",
       "    .dataframe tbody tr th {\n",
       "        vertical-align: top;\n",
       "    }\n",
       "\n",
       "    .dataframe thead th {\n",
       "        text-align: right;\n",
       "    }\n",
       "</style>\n",
       "<table border=\"1\" class=\"dataframe\">\n",
       "  <thead>\n",
       "    <tr style=\"text-align: right;\">\n",
       "      <th></th>\n",
       "      <th>Date</th>\n",
       "      <th>Sales</th>\n",
       "      <th>PV</th>\n",
       "      <th>UV</th>\n",
       "      <th>Events</th>\n",
       "    </tr>\n",
       "  </thead>\n",
       "  <tbody>\n",
       "    <tr>\n",
       "      <th>0</th>\n",
       "      <td>2022-01-01</td>\n",
       "      <td>22711525</td>\n",
       "      <td>397349</td>\n",
       "      <td>4421.0</td>\n",
       "      <td>1</td>\n",
       "    </tr>\n",
       "    <tr>\n",
       "      <th>1</th>\n",
       "      <td>2022-01-02</td>\n",
       "      <td>36779</td>\n",
       "      <td>3969</td>\n",
       "      <td>2289.0</td>\n",
       "      <td>0</td>\n",
       "    </tr>\n",
       "    <tr>\n",
       "      <th>2</th>\n",
       "      <td>2022-01-03</td>\n",
       "      <td>13943875</td>\n",
       "      <td>373890</td>\n",
       "      <td>NaN</td>\n",
       "      <td>1</td>\n",
       "    </tr>\n",
       "    <tr>\n",
       "      <th>3</th>\n",
       "      <td>2022-01-04</td>\n",
       "      <td>8088593</td>\n",
       "      <td>142054</td>\n",
       "      <td>2157.0</td>\n",
       "      <td>0</td>\n",
       "    </tr>\n",
       "    <tr>\n",
       "      <th>4</th>\n",
       "      <td>2022-01-05</td>\n",
       "      <td>2395374</td>\n",
       "      <td>190684</td>\n",
       "      <td>NaN</td>\n",
       "      <td>0</td>\n",
       "    </tr>\n",
       "  </tbody>\n",
       "</table>\n",
       "</div>"
      ],
      "text/plain": [
       "        Date     Sales      PV      UV  Events\n",
       "0 2022-01-01  22711525  397349  4421.0       1\n",
       "1 2022-01-02     36779    3969  2289.0       0\n",
       "2 2022-01-03  13943875  373890     NaN       1\n",
       "3 2022-01-04   8088593  142054  2157.0       0\n",
       "4 2022-01-05   2395374  190684     NaN       0"
      ]
     },
     "execution_count": 10,
     "metadata": {},
     "output_type": "execute_result"
    }
   ],
   "source": [
    "df.head()"
   ]
  },
  {
   "cell_type": "code",
   "execution_count": 11,
   "id": "49ac277b",
   "metadata": {
    "execution": {
     "iopub.execute_input": "2025-05-31T11:28:42.076248Z",
     "iopub.status.busy": "2025-05-31T11:28:42.075459Z",
     "iopub.status.idle": "2025-05-31T11:28:42.081879Z",
     "shell.execute_reply": "2025-05-31T11:28:42.081400Z",
     "shell.execute_reply.started": "2025-05-31T11:27:05.487993Z"
    },
    "papermill": {
     "duration": 0.029447,
     "end_time": "2025-05-31T11:28:42.082048",
     "exception": false,
     "start_time": "2025-05-31T11:28:42.052601",
     "status": "completed"
    },
    "tags": []
   },
   "outputs": [],
   "source": [
    "# 날짜 컬럼 생성\n",
    "df['year'] = df['Date'].dt.year\n",
    "df['month'] = df['Date'].dt.month\n",
    "df['day'] = df['Date'].dt.day\n",
    "df['dayofweek'] = df['Date'].dt.dayofweek"
   ]
  },
  {
   "cell_type": "code",
   "execution_count": 12,
   "id": "8eca4d7d",
   "metadata": {
    "execution": {
     "iopub.execute_input": "2025-05-31T11:28:42.121749Z",
     "iopub.status.busy": "2025-05-31T11:28:42.120689Z",
     "iopub.status.idle": "2025-05-31T11:28:42.578857Z",
     "shell.execute_reply": "2025-05-31T11:28:42.579344Z",
     "shell.execute_reply.started": "2025-05-31T11:27:07.044829Z"
    },
    "papermill": {
     "duration": 0.480462,
     "end_time": "2025-05-31T11:28:42.579530",
     "exception": false,
     "start_time": "2025-05-31T11:28:42.099068",
     "status": "completed"
    },
    "tags": []
   },
   "outputs": [
    {
     "data": {
      "text/html": [
       "<div>\n",
       "<style scoped>\n",
       "    .dataframe tbody tr th:only-of-type {\n",
       "        vertical-align: middle;\n",
       "    }\n",
       "\n",
       "    .dataframe tbody tr th {\n",
       "        vertical-align: top;\n",
       "    }\n",
       "\n",
       "    .dataframe thead th {\n",
       "        text-align: right;\n",
       "    }\n",
       "</style>\n",
       "<table border=\"1\" class=\"dataframe\">\n",
       "  <thead>\n",
       "    <tr style=\"text-align: right;\">\n",
       "      <th></th>\n",
       "      <th>Date</th>\n",
       "      <th>Sales</th>\n",
       "      <th>PV</th>\n",
       "      <th>UV</th>\n",
       "      <th>Events</th>\n",
       "      <th>year</th>\n",
       "      <th>month</th>\n",
       "      <th>day</th>\n",
       "      <th>dayofweek</th>\n",
       "      <th>Sales2</th>\n",
       "    </tr>\n",
       "  </thead>\n",
       "  <tbody>\n",
       "    <tr>\n",
       "      <th>0</th>\n",
       "      <td>2022-01-01</td>\n",
       "      <td>22711525</td>\n",
       "      <td>397349</td>\n",
       "      <td>4421.0</td>\n",
       "      <td>1</td>\n",
       "      <td>2022</td>\n",
       "      <td>1</td>\n",
       "      <td>1</td>\n",
       "      <td>5</td>\n",
       "      <td>18169220.0</td>\n",
       "    </tr>\n",
       "    <tr>\n",
       "      <th>1</th>\n",
       "      <td>2022-01-02</td>\n",
       "      <td>36779</td>\n",
       "      <td>3969</td>\n",
       "      <td>2289.0</td>\n",
       "      <td>0</td>\n",
       "      <td>2022</td>\n",
       "      <td>1</td>\n",
       "      <td>2</td>\n",
       "      <td>6</td>\n",
       "      <td>36779.0</td>\n",
       "    </tr>\n",
       "    <tr>\n",
       "      <th>2</th>\n",
       "      <td>2022-01-03</td>\n",
       "      <td>13943875</td>\n",
       "      <td>373890</td>\n",
       "      <td>NaN</td>\n",
       "      <td>1</td>\n",
       "      <td>2022</td>\n",
       "      <td>1</td>\n",
       "      <td>3</td>\n",
       "      <td>0</td>\n",
       "      <td>11155100.0</td>\n",
       "    </tr>\n",
       "    <tr>\n",
       "      <th>3</th>\n",
       "      <td>2022-01-04</td>\n",
       "      <td>8088593</td>\n",
       "      <td>142054</td>\n",
       "      <td>2157.0</td>\n",
       "      <td>0</td>\n",
       "      <td>2022</td>\n",
       "      <td>1</td>\n",
       "      <td>4</td>\n",
       "      <td>1</td>\n",
       "      <td>8088593.0</td>\n",
       "    </tr>\n",
       "    <tr>\n",
       "      <th>4</th>\n",
       "      <td>2022-01-05</td>\n",
       "      <td>2395374</td>\n",
       "      <td>190684</td>\n",
       "      <td>NaN</td>\n",
       "      <td>0</td>\n",
       "      <td>2022</td>\n",
       "      <td>1</td>\n",
       "      <td>5</td>\n",
       "      <td>2</td>\n",
       "      <td>2395374.0</td>\n",
       "    </tr>\n",
       "  </tbody>\n",
       "</table>\n",
       "</div>"
      ],
      "text/plain": [
       "        Date     Sales      PV      UV  Events  year  month  day  dayofweek  \\\n",
       "0 2022-01-01  22711525  397349  4421.0       1  2022      1    1          5   \n",
       "1 2022-01-02     36779    3969  2289.0       0  2022      1    2          6   \n",
       "2 2022-01-03  13943875  373890     NaN       1  2022      1    3          0   \n",
       "3 2022-01-04   8088593  142054  2157.0       0  2022      1    4          1   \n",
       "4 2022-01-05   2395374  190684     NaN       0  2022      1    5          2   \n",
       "\n",
       "       Sales2  \n",
       "0  18169220.0  \n",
       "1     36779.0  \n",
       "2  11155100.0  \n",
       "3   8088593.0  \n",
       "4   2395374.0  "
      ]
     },
     "execution_count": 12,
     "metadata": {},
     "output_type": "execute_result"
    }
   ],
   "source": [
    "# 이벤트가 1인 sales값은 80%만 반영\n",
    "\n",
    "def event_sales(x):\n",
    "    if x['Events'] == 1:\n",
    "        x['Sales2'] = x['Sales']*0.8\n",
    "    else:\n",
    "        x['Sales2'] = x['Sales']\n",
    "    return x\n",
    "\n",
    "\n",
    "df = df.apply(lambda x: event_sales(x), axis=1) #1일 경우 row, 0일 경우 컬럼\n",
    "df.head()"
   ]
  },
  {
   "cell_type": "code",
   "execution_count": 13,
   "id": "28a376b0",
   "metadata": {
    "execution": {
     "iopub.execute_input": "2025-05-31T11:28:42.618875Z",
     "iopub.status.busy": "2025-05-31T11:28:42.618085Z",
     "iopub.status.idle": "2025-05-31T11:28:42.626125Z",
     "shell.execute_reply": "2025-05-31T11:28:42.625192Z",
     "shell.execute_reply.started": "2025-05-31T11:27:09.086659Z"
    },
    "papermill": {
     "duration": 0.031125,
     "end_time": "2025-05-31T11:28:42.626279",
     "exception": false,
     "start_time": "2025-05-31T11:28:42.595154",
     "status": "completed"
    },
    "tags": []
   },
   "outputs": [
    {
     "data": {
      "text/plain": [
       "197145878.0"
      ]
     },
     "execution_count": 13,
     "metadata": {},
     "output_type": "execute_result"
    }
   ],
   "source": [
    "# 2022년 월별 합계 중 가장 큰 값\n",
    "cond = df['year'] == 2022\n",
    "df1 = df[cond]\n",
    "sale1 = df1.groupby('month')['Sales2'].sum().max()\n",
    "sale1"
   ]
  },
  {
   "cell_type": "code",
   "execution_count": 14,
   "id": "0676bab8",
   "metadata": {
    "execution": {
     "iopub.execute_input": "2025-05-31T11:28:42.667672Z",
     "iopub.status.busy": "2025-05-31T11:28:42.666839Z",
     "iopub.status.idle": "2025-05-31T11:28:42.670684Z",
     "shell.execute_reply": "2025-05-31T11:28:42.670097Z",
     "shell.execute_reply.started": "2025-05-31T11:27:10.751137Z"
    },
    "papermill": {
     "duration": 0.02862,
     "end_time": "2025-05-31T11:28:42.670821",
     "exception": false,
     "start_time": "2025-05-31T11:28:42.642201",
     "status": "completed"
    },
    "tags": []
   },
   "outputs": [
    {
     "data": {
      "text/plain": [
       "239619313.8"
      ]
     },
     "execution_count": 14,
     "metadata": {},
     "output_type": "execute_result"
    }
   ],
   "source": [
    "# 2023년 월별 합계 중 가장 큰 값\n",
    "cond = df['year'] == 2023\n",
    "df2 = df[cond]\n",
    "sale2 = df2.groupby('month')['Sales2'].sum().max()\n",
    "sale2"
   ]
  },
  {
   "cell_type": "code",
   "execution_count": 15,
   "id": "2d321cc3",
   "metadata": {
    "execution": {
     "iopub.execute_input": "2025-05-31T11:28:42.708602Z",
     "iopub.status.busy": "2025-05-31T11:28:42.707648Z",
     "iopub.status.idle": "2025-05-31T11:28:42.712691Z",
     "shell.execute_reply": "2025-05-31T11:28:42.712053Z",
     "shell.execute_reply.started": "2025-05-31T11:27:12.285957Z"
    },
    "papermill": {
     "duration": 0.026294,
     "end_time": "2025-05-31T11:28:42.712841",
     "exception": false,
     "start_time": "2025-05-31T11:28:42.686547",
     "status": "completed"
    },
    "tags": []
   },
   "outputs": [
    {
     "data": {
      "text/plain": [
       "42473436"
      ]
     },
     "execution_count": 15,
     "metadata": {},
     "output_type": "execute_result"
    }
   ],
   "source": [
    "# 결과값 반올림 후 정수 출력\n",
    "int(round(abs(sale1 - sale2),0))"
   ]
  }
 ],
 "metadata": {
  "kaggle": {
   "accelerator": "none",
   "dataSources": [
    {
     "datasetId": 1633303,
     "sourceId": 9936200,
     "sourceType": "datasetVersion"
    }
   ],
   "dockerImageVersionId": 30145,
   "isGpuEnabled": false,
   "isInternetEnabled": false,
   "language": "python",
   "sourceType": "notebook"
  },
  "kernelspec": {
   "display_name": "Python 3",
   "language": "python",
   "name": "python3"
  },
  "language_info": {
   "codemirror_mode": {
    "name": "ipython",
    "version": 3
   },
   "file_extension": ".py",
   "mimetype": "text/x-python",
   "name": "python",
   "nbconvert_exporter": "python",
   "pygments_lexer": "ipython3",
   "version": "3.7.10"
  },
  "papermill": {
   "default_parameters": {},
   "duration": 11.467377,
   "end_time": "2025-05-31T11:28:43.341267",
   "environment_variables": {},
   "exception": null,
   "input_path": "__notebook__.ipynb",
   "output_path": "__notebook__.ipynb",
   "parameters": {},
   "start_time": "2025-05-31T11:28:31.873890",
   "version": "2.3.3"
  }
 },
 "nbformat": 4,
 "nbformat_minor": 5
}
