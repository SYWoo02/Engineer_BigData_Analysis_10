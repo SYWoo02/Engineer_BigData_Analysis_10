{
 "cells": [
  {
   "cell_type": "markdown",
   "id": "3c43c52a",
   "metadata": {
    "papermill": {
     "duration": 0.00505,
     "end_time": "2025-06-03T05:06:18.209006",
     "exception": false,
     "start_time": "2025-06-03T05:06:18.203956",
     "status": "completed"
    },
    "tags": []
   },
   "source": [
    "## < 시계열 데이터 >\n",
    "1. 세션의 지속 시간을 분으로 계산하고 가장 긴 지속시간을 출력하시오(반올림 후 총 분만 출력)\n",
    "2. 가장 많이 머무른 Page를 찾고 그 페이지의 머문 평균 시간을 구하시오 (반올림 후 총 시간만 출력) \n",
    "3. 사용자들이 가장 활발히 활동하는 시간대(예: 새벽, 오전, 오후, 저녁)를 분석하세요. 이를 위해 하루를 4개의 시간대로 나누고 각 시간대별로 가장 많이 시작된 세션의 수를 계산하고, 그 중에 가장 많은 세션 수를 출력하시오\n",
    "    - 새벽: 0시 부터 6시 전\n",
    "    - 오전: 6시 부터 12시 전\n",
    "    - 오후: 12 부터 18시 전\n",
    "    - 저녁: 18시 부터 0시 전\n",
    "\n",
    "4. user가 가장 많이 접속 했던 날짜를 출력하시오. (예, 2023-02-17)"
   ]
  },
  {
   "cell_type": "code",
   "execution_count": 1,
   "id": "7ed08346",
   "metadata": {
    "execution": {
     "iopub.execute_input": "2025-06-03T05:06:18.220047Z",
     "iopub.status.busy": "2025-06-03T05:06:18.219632Z",
     "iopub.status.idle": "2025-06-03T05:06:19.164060Z",
     "shell.execute_reply": "2025-06-03T05:06:19.162951Z"
    },
    "papermill": {
     "duration": 0.952779,
     "end_time": "2025-06-03T05:06:19.166483",
     "exception": false,
     "start_time": "2025-06-03T05:06:18.213704",
     "status": "completed"
    },
    "tags": []
   },
   "outputs": [],
   "source": [
    "import pandas as pd\n",
    "df = pd.read_csv(\"/kaggle/input/bigdatacertificationkr/website.csv\")"
   ]
  },
  {
   "cell_type": "code",
   "execution_count": 2,
   "id": "f6a35b62",
   "metadata": {
    "execution": {
     "iopub.execute_input": "2025-06-03T05:06:19.179067Z",
     "iopub.status.busy": "2025-06-03T05:06:19.178637Z",
     "iopub.status.idle": "2025-06-03T05:06:19.201082Z",
     "shell.execute_reply": "2025-06-03T05:06:19.200068Z"
    },
    "papermill": {
     "duration": 0.031261,
     "end_time": "2025-06-03T05:06:19.203193",
     "exception": false,
     "start_time": "2025-06-03T05:06:19.171932",
     "status": "completed"
    },
    "tags": []
   },
   "outputs": [
    {
     "data": {
      "text/html": [
       "<div>\n",
       "<style scoped>\n",
       "    .dataframe tbody tr th:only-of-type {\n",
       "        vertical-align: middle;\n",
       "    }\n",
       "\n",
       "    .dataframe tbody tr th {\n",
       "        vertical-align: top;\n",
       "    }\n",
       "\n",
       "    .dataframe thead th {\n",
       "        text-align: right;\n",
       "    }\n",
       "</style>\n",
       "<table border=\"1\" class=\"dataframe\">\n",
       "  <thead>\n",
       "    <tr style=\"text-align: right;\">\n",
       "      <th></th>\n",
       "      <th>UserID</th>\n",
       "      <th>StartTime</th>\n",
       "      <th>EndTime</th>\n",
       "      <th>Page</th>\n",
       "    </tr>\n",
       "  </thead>\n",
       "  <tbody>\n",
       "    <tr>\n",
       "      <th>0</th>\n",
       "      <td>1</td>\n",
       "      <td>2023-07-02 08:32:00</td>\n",
       "      <td>2023-07-02 12:41:00</td>\n",
       "      <td>Page1</td>\n",
       "    </tr>\n",
       "    <tr>\n",
       "      <th>1</th>\n",
       "      <td>1</td>\n",
       "      <td>2023-05-16 11:37:00</td>\n",
       "      <td>2023-05-16 13:29:00</td>\n",
       "      <td>Page5</td>\n",
       "    </tr>\n",
       "    <tr>\n",
       "      <th>2</th>\n",
       "      <td>1</td>\n",
       "      <td>2023-05-05 03:39:00</td>\n",
       "      <td>2023-05-05 05:48:00</td>\n",
       "      <td>Page2</td>\n",
       "    </tr>\n",
       "    <tr>\n",
       "      <th>3</th>\n",
       "      <td>1</td>\n",
       "      <td>2023-05-04 23:04:00</td>\n",
       "      <td>2023-05-05 01:54:00</td>\n",
       "      <td>Page3</td>\n",
       "    </tr>\n",
       "    <tr>\n",
       "      <th>4</th>\n",
       "      <td>1</td>\n",
       "      <td>2023-09-04 11:27:00</td>\n",
       "      <td>2023-09-04 14:09:00</td>\n",
       "      <td>Page1</td>\n",
       "    </tr>\n",
       "  </tbody>\n",
       "</table>\n",
       "</div>"
      ],
      "text/plain": [
       "   UserID            StartTime              EndTime   Page\n",
       "0       1  2023-07-02 08:32:00  2023-07-02 12:41:00  Page1\n",
       "1       1  2023-05-16 11:37:00  2023-05-16 13:29:00  Page5\n",
       "2       1  2023-05-05 03:39:00  2023-05-05 05:48:00  Page2\n",
       "3       1  2023-05-04 23:04:00  2023-05-05 01:54:00  Page3\n",
       "4       1  2023-09-04 11:27:00  2023-09-04 14:09:00  Page1"
      ]
     },
     "execution_count": 2,
     "metadata": {},
     "output_type": "execute_result"
    }
   ],
   "source": [
    "df.head(5)"
   ]
  },
  {
   "cell_type": "markdown",
   "id": "a437f5fe",
   "metadata": {
    "papermill": {
     "duration": 0.004524,
     "end_time": "2025-06-03T05:06:19.212526",
     "exception": false,
     "start_time": "2025-06-03T05:06:19.208002",
     "status": "completed"
    },
    "tags": []
   },
   "source": [
    "## 나의 코드 "
   ]
  },
  {
   "cell_type": "code",
   "execution_count": 3,
   "id": "9c89495e",
   "metadata": {
    "execution": {
     "iopub.execute_input": "2025-06-03T05:06:19.223396Z",
     "iopub.status.busy": "2025-06-03T05:06:19.223052Z",
     "iopub.status.idle": "2025-06-03T05:06:19.250217Z",
     "shell.execute_reply": "2025-06-03T05:06:19.248806Z"
    },
    "papermill": {
     "duration": 0.035339,
     "end_time": "2025-06-03T05:06:19.252508",
     "exception": false,
     "start_time": "2025-06-03T05:06:19.217169",
     "status": "completed"
    },
    "tags": []
   },
   "outputs": [
    {
     "name": "stdout",
     "output_type": "stream",
     "text": [
      "300.0\n"
     ]
    }
   ],
   "source": [
    "# 1. 세션의 지속 시간을 분으로 계산하고 가장 긴 지속시간을 출력하시오(반올림 후 총 분만 출력)\n",
    "\n",
    "# StartTime과 EndTime을 datetime형식으로 변환\n",
    "df['StartTime'] = pd.to_datetime(df['StartTime'])\n",
    "df['EndTime'] = pd.to_datetime(df['EndTime'])\n",
    "\n",
    "# 지속시간 칼럼 생성 (Only 분) ; dt.total_seconds() 사용\n",
    "df['Duration'] = (df['EndTime'] - df['StartTime']).dt.total_seconds() / 60\n",
    "\n",
    "# 가장 긴 지속시간 출력\n",
    "max = df['Duration'].max()\n",
    "print(max)\n",
    "\n",
    "# 정답: 300.0"
   ]
  },
  {
   "cell_type": "code",
   "execution_count": 4,
   "id": "a7a61d65",
   "metadata": {
    "execution": {
     "iopub.execute_input": "2025-06-03T05:06:19.264874Z",
     "iopub.status.busy": "2025-06-03T05:06:19.264499Z",
     "iopub.status.idle": "2025-06-03T05:06:19.290444Z",
     "shell.execute_reply": "2025-06-03T05:06:19.289369Z"
    },
    "papermill": {
     "duration": 0.035038,
     "end_time": "2025-06-03T05:06:19.292602",
     "exception": false,
     "start_time": "2025-06-03T05:06:19.257564",
     "status": "completed"
    },
    "tags": []
   },
   "outputs": [
    {
     "name": "stdout",
     "output_type": "stream",
     "text": [
      "3\n"
     ]
    }
   ],
   "source": [
    "# 2. 가장 많이 머무른 Page를 찾고 그 페이지의 머문 평균 시간을 구하시오 (반올림 후 총 시간만 출력)\n",
    "longtime_page = df.groupby('Page')['Duration'].value_counts().idxmax()\n",
    "longtime_page\n",
    "\n",
    "# 가장 많이 머무른 Page는 'Page3'\n",
    "cond = df['Page'] == 'Page3'\n",
    "\n",
    "# 'Page3'에서 머문 평균 시간 ? (분 -> 시간)\n",
    "mean = ((df[cond]['Duration'])/60).mean()\n",
    "print(round(mean))\n",
    "\n",
    "# 정답: 3"
   ]
  },
  {
   "cell_type": "code",
   "execution_count": 5,
   "id": "1d82e28e",
   "metadata": {
    "execution": {
     "iopub.execute_input": "2025-06-03T05:06:19.304216Z",
     "iopub.status.busy": "2025-06-03T05:06:19.303610Z",
     "iopub.status.idle": "2025-06-03T05:06:20.333181Z",
     "shell.execute_reply": "2025-06-03T05:06:20.331815Z"
    },
    "papermill": {
     "duration": 1.038193,
     "end_time": "2025-06-03T05:06:20.335675",
     "exception": false,
     "start_time": "2025-06-03T05:06:19.297482",
     "status": "completed"
    },
    "tags": []
   },
   "outputs": [
    {
     "name": "stdout",
     "output_type": "stream",
     "text": [
      "2447\n"
     ]
    }
   ],
   "source": [
    "# 3. 사용자들이 가장 활발히 활동하는 시간대(예: 새벽, 오전, 오후, 저녁)를 분석하세요. \n",
    "# 이를 위해 하루를 4개의 시간대로 나누고 각 시간대별로 가장 많이 시작된 세션(시간대)의 수를 계산하고, \n",
    "# 그 중에 가장 많은 세션(시간대)의 수를 출력하시오.\n",
    "\n",
    "# 새벽: 0시 부터 6시 전\n",
    "# 오전: 6시 부터 12시 전\n",
    "# 오후: 12 부터 18시 전\n",
    "# 저녁: 18시 부터 0시 전\n",
    "\n",
    "\n",
    "# StartTime에서 time만 빼기기\n",
    "df['Time'] = df['StartTime'].dt.time\n",
    "\n",
    "# 기준 시간들도 Timestamp로 변환 (날짜는 기본값)\n",
    "t6 = pd.to_datetime('06:00:00', format='%H:%M:%S')\n",
    "t12 = pd.to_datetime('12:00:00', format='%H:%M:%S')\n",
    "t18 = pd.to_datetime('18:00:00', format='%H:%M:%S')\n",
    "\n",
    "# 하루를 4개의 시간대로 나누는 함수\n",
    "def time_slot(time):\n",
    "    time = pd.to_datetime(time, format='%H:%M:%S')\n",
    "    if time < t6:\n",
    "        return \"새벽\"\n",
    "    elif time < t12:\n",
    "        return \"오전\"\n",
    "    elif time < t18:\n",
    "        return \"오후\"\n",
    "    else:\n",
    "        return \"저녁\"\n",
    "\n",
    "df['TimeSlot'] = df['Time'].apply(time_slot)\n",
    "\n",
    "# 시간대 별로 가장 많이 시작된 세션의 수 계산하여 출력\n",
    "max = df['TimeSlot'].value_counts().max()\n",
    "print(max)\n",
    "\n",
    "# 정답: 2447"
   ]
  },
  {
   "cell_type": "code",
   "execution_count": 6,
   "id": "74d0d2d1",
   "metadata": {
    "execution": {
     "iopub.execute_input": "2025-06-03T05:06:20.348284Z",
     "iopub.status.busy": "2025-06-03T05:06:20.347783Z",
     "iopub.status.idle": "2025-06-03T05:06:20.361869Z",
     "shell.execute_reply": "2025-06-03T05:06:20.360891Z"
    },
    "papermill": {
     "duration": 0.023669,
     "end_time": "2025-06-03T05:06:20.364500",
     "exception": false,
     "start_time": "2025-06-03T05:06:20.340831",
     "status": "completed"
    },
    "tags": []
   },
   "outputs": [
    {
     "name": "stdout",
     "output_type": "stream",
     "text": [
      "2023-03-28\n"
     ]
    }
   ],
   "source": [
    "# 4. user가 가장 많이 접속 했던 날짜를 출력하시오. (예, 2023-02-17)\n",
    "df['Date'] = df['StartTime'].dt.date\n",
    "max_date = df['Date'].value_counts().idxmax()\n",
    "print(max_date)\n",
    "\n",
    "# 정답: 2023-03-28"
   ]
  },
  {
   "cell_type": "code",
   "execution_count": null,
   "id": "2e10a1a0",
   "metadata": {
    "papermill": {
     "duration": 0.004925,
     "end_time": "2025-06-03T05:06:20.374992",
     "exception": false,
     "start_time": "2025-06-03T05:06:20.370067",
     "status": "completed"
    },
    "tags": []
   },
   "outputs": [],
   "source": []
  },
  {
   "cell_type": "code",
   "execution_count": null,
   "id": "168ebdb8",
   "metadata": {
    "papermill": {
     "duration": 0.008007,
     "end_time": "2025-06-03T05:06:20.388873",
     "exception": false,
     "start_time": "2025-06-03T05:06:20.380866",
     "status": "completed"
    },
    "tags": []
   },
   "outputs": [],
   "source": []
  },
  {
   "cell_type": "code",
   "execution_count": null,
   "id": "c28b2fa3",
   "metadata": {
    "papermill": {
     "duration": 0.0067,
     "end_time": "2025-06-03T05:06:20.402948",
     "exception": false,
     "start_time": "2025-06-03T05:06:20.396248",
     "status": "completed"
    },
    "tags": []
   },
   "outputs": [],
   "source": []
  },
  {
   "cell_type": "code",
   "execution_count": null,
   "id": "1b3c86c7",
   "metadata": {
    "papermill": {
     "duration": 0.005279,
     "end_time": "2025-06-03T05:06:20.414154",
     "exception": false,
     "start_time": "2025-06-03T05:06:20.408875",
     "status": "completed"
    },
    "tags": []
   },
   "outputs": [],
   "source": []
  },
  {
   "cell_type": "code",
   "execution_count": null,
   "id": "a29fdc61",
   "metadata": {
    "papermill": {
     "duration": 0.006306,
     "end_time": "2025-06-03T05:06:20.427209",
     "exception": false,
     "start_time": "2025-06-03T05:06:20.420903",
     "status": "completed"
    },
    "tags": []
   },
   "outputs": [],
   "source": []
  },
  {
   "cell_type": "code",
   "execution_count": null,
   "id": "26d0eea6",
   "metadata": {
    "papermill": {
     "duration": 0.004856,
     "end_time": "2025-06-03T05:06:20.438758",
     "exception": false,
     "start_time": "2025-06-03T05:06:20.433902",
     "status": "completed"
    },
    "tags": []
   },
   "outputs": [],
   "source": []
  },
  {
   "cell_type": "code",
   "execution_count": null,
   "id": "3e3031b3",
   "metadata": {
    "papermill": {
     "duration": 0.005047,
     "end_time": "2025-06-03T05:06:20.449002",
     "exception": false,
     "start_time": "2025-06-03T05:06:20.443955",
     "status": "completed"
    },
    "tags": []
   },
   "outputs": [],
   "source": []
  },
  {
   "cell_type": "code",
   "execution_count": null,
   "id": "79a6e172",
   "metadata": {
    "papermill": {
     "duration": 0.004725,
     "end_time": "2025-06-03T05:06:20.458719",
     "exception": false,
     "start_time": "2025-06-03T05:06:20.453994",
     "status": "completed"
    },
    "tags": []
   },
   "outputs": [],
   "source": []
  },
  {
   "cell_type": "code",
   "execution_count": null,
   "id": "37bfeeed",
   "metadata": {
    "papermill": {
     "duration": 0.004725,
     "end_time": "2025-06-03T05:06:20.468336",
     "exception": false,
     "start_time": "2025-06-03T05:06:20.463611",
     "status": "completed"
    },
    "tags": []
   },
   "outputs": [],
   "source": []
  },
  {
   "cell_type": "code",
   "execution_count": null,
   "id": "7e9fa32a",
   "metadata": {
    "papermill": {
     "duration": 0.004939,
     "end_time": "2025-06-03T05:06:20.478109",
     "exception": false,
     "start_time": "2025-06-03T05:06:20.473170",
     "status": "completed"
    },
    "tags": []
   },
   "outputs": [],
   "source": []
  },
  {
   "cell_type": "code",
   "execution_count": null,
   "id": "eba92baa",
   "metadata": {
    "papermill": {
     "duration": 0.00466,
     "end_time": "2025-06-03T05:06:20.487699",
     "exception": false,
     "start_time": "2025-06-03T05:06:20.483039",
     "status": "completed"
    },
    "tags": []
   },
   "outputs": [],
   "source": []
  },
  {
   "cell_type": "markdown",
   "id": "63e9a7ce",
   "metadata": {
    "papermill": {
     "duration": 0.004853,
     "end_time": "2025-06-03T05:06:20.497763",
     "exception": false,
     "start_time": "2025-06-03T05:06:20.492910",
     "status": "completed"
    },
    "tags": []
   },
   "source": [
    "## 풀이 (예시답안) "
   ]
  },
  {
   "cell_type": "code",
   "execution_count": 7,
   "id": "52376f06",
   "metadata": {
    "execution": {
     "iopub.execute_input": "2025-06-03T05:06:20.509320Z",
     "iopub.status.busy": "2025-06-03T05:06:20.508954Z",
     "iopub.status.idle": "2025-06-03T05:06:20.529448Z",
     "shell.execute_reply": "2025-06-03T05:06:20.528331Z"
    },
    "papermill": {
     "duration": 0.029061,
     "end_time": "2025-06-03T05:06:20.531850",
     "exception": false,
     "start_time": "2025-06-03T05:06:20.502789",
     "status": "completed"
    },
    "tags": []
   },
   "outputs": [],
   "source": [
    "import pandas as pd\n",
    "df2 = pd.read_csv(\"/kaggle/input/bigdatacertificationkr/website.csv\")"
   ]
  },
  {
   "cell_type": "code",
   "execution_count": 8,
   "id": "76b99898",
   "metadata": {
    "execution": {
     "iopub.execute_input": "2025-06-03T05:06:20.543770Z",
     "iopub.status.busy": "2025-06-03T05:06:20.543411Z",
     "iopub.status.idle": "2025-06-03T05:06:20.569620Z",
     "shell.execute_reply": "2025-06-03T05:06:20.568274Z"
    },
    "papermill": {
     "duration": 0.035091,
     "end_time": "2025-06-03T05:06:20.572126",
     "exception": false,
     "start_time": "2025-06-03T05:06:20.537035",
     "status": "completed"
    },
    "tags": []
   },
   "outputs": [
    {
     "name": "stdout",
     "output_type": "stream",
     "text": [
      "300.0\n"
     ]
    }
   ],
   "source": [
    "# 1\n",
    "# 날짜 형식으로 변환\n",
    "df2['StartTime'] = pd.to_datetime(df2['StartTime'])\n",
    "df2['EndTime'] = pd.to_datetime(df2['EndTime'])\n",
    "df2['SessionDuration'] = (df2['EndTime'] - df2['StartTime']).dt.total_seconds() / 60 \n",
    "print(df2['SessionDuration'].max())"
   ]
  },
  {
   "cell_type": "code",
   "execution_count": 9,
   "id": "9b466171",
   "metadata": {
    "execution": {
     "iopub.execute_input": "2025-06-03T05:06:20.585987Z",
     "iopub.status.busy": "2025-06-03T05:06:20.585212Z",
     "iopub.status.idle": "2025-06-03T05:06:20.595531Z",
     "shell.execute_reply": "2025-06-03T05:06:20.594558Z"
    },
    "papermill": {
     "duration": 0.020542,
     "end_time": "2025-06-03T05:06:20.598131",
     "exception": false,
     "start_time": "2025-06-03T05:06:20.577589",
     "status": "completed"
    },
    "tags": []
   },
   "outputs": [
    {
     "name": "stdout",
     "output_type": "stream",
     "text": [
      "3\n"
     ]
    }
   ],
   "source": [
    "# 2\n",
    "most_visited_page = df2['Page'].value_counts().idxmax()\n",
    "cond = df2['Page'] == most_visited_page\n",
    "result = df2[cond]['SessionDuration'].mean()\n",
    "print(round(result/60))"
   ]
  },
  {
   "cell_type": "code",
   "execution_count": 10,
   "id": "88b186b4",
   "metadata": {
    "execution": {
     "iopub.execute_input": "2025-06-03T05:06:20.615431Z",
     "iopub.status.busy": "2025-06-03T05:06:20.615067Z",
     "iopub.status.idle": "2025-06-03T05:06:20.627628Z",
     "shell.execute_reply": "2025-06-03T05:06:20.626621Z"
    },
    "papermill": {
     "duration": 0.023449,
     "end_time": "2025-06-03T05:06:20.629613",
     "exception": false,
     "start_time": "2025-06-03T05:06:20.606164",
     "status": "completed"
    },
    "tags": []
   },
   "outputs": [
    {
     "name": "stdout",
     "output_type": "stream",
     "text": [
      "2447\n"
     ]
    }
   ],
   "source": [
    "# 3\n",
    "def time_slot(hour):\n",
    "    if 0 <= hour < 6:\n",
    "        return \"새벽\"\n",
    "    elif 6 <= hour < 12:\n",
    "        return \"오전\"\n",
    "    elif 12 <= hour < 18:\n",
    "        return \"오후\"\n",
    "    else:\n",
    "        return \"저녁\"\n",
    "\n",
    "df2['TimeSlot'] = df2['StartTime'].dt.hour.apply(time_slot)\n",
    "print(df2['TimeSlot'].value_counts()[0])"
   ]
  },
  {
   "cell_type": "code",
   "execution_count": 11,
   "id": "f49c7066",
   "metadata": {
    "execution": {
     "iopub.execute_input": "2025-06-03T05:06:20.644200Z",
     "iopub.status.busy": "2025-06-03T05:06:20.643803Z",
     "iopub.status.idle": "2025-06-03T05:06:20.655516Z",
     "shell.execute_reply": "2025-06-03T05:06:20.654077Z"
    },
    "papermill": {
     "duration": 0.020814,
     "end_time": "2025-06-03T05:06:20.657967",
     "exception": false,
     "start_time": "2025-06-03T05:06:20.637153",
     "status": "completed"
    },
    "tags": []
   },
   "outputs": [
    {
     "name": "stdout",
     "output_type": "stream",
     "text": [
      "2023-03-28\n"
     ]
    }
   ],
   "source": [
    "# 4\n",
    "result = df2['StartTime'].dt.date.value_counts().index[0]\n",
    "print(result.strftime('%Y-%m-%d'))"
   ]
  }
 ],
 "metadata": {
  "kaggle": {
   "accelerator": "none",
   "dataSources": [
    {
     "datasetId": 1633303,
     "sourceId": 9936200,
     "sourceType": "datasetVersion"
    }
   ],
   "dockerImageVersionId": 30579,
   "isGpuEnabled": false,
   "isInternetEnabled": false,
   "language": "python",
   "sourceType": "notebook"
  },
  "kernelspec": {
   "display_name": "Python 3",
   "language": "python",
   "name": "python3"
  },
  "language_info": {
   "codemirror_mode": {
    "name": "ipython",
    "version": 3
   },
   "file_extension": ".py",
   "mimetype": "text/x-python",
   "name": "python",
   "nbconvert_exporter": "python",
   "pygments_lexer": "ipython3",
   "version": "3.10.12"
  },
  "papermill": {
   "default_parameters": {},
   "duration": 6.779963,
   "end_time": "2025-06-03T05:06:21.084233",
   "environment_variables": {},
   "exception": null,
   "input_path": "__notebook__.ipynb",
   "output_path": "__notebook__.ipynb",
   "parameters": {},
   "start_time": "2025-06-03T05:06:14.304270",
   "version": "2.4.0"
  }
 },
 "nbformat": 4,
 "nbformat_minor": 5
}
