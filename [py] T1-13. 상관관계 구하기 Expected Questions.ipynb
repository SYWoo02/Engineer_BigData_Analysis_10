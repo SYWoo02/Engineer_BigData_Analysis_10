{
 "cells": [
  {
   "cell_type": "markdown",
   "id": "d356cd29",
   "metadata": {
    "papermill": {
     "duration": 0.009825,
     "end_time": "2025-05-31T09:31:29.517006",
     "exception": false,
     "start_time": "2025-05-31T09:31:29.507181",
     "status": "completed"
    },
    "tags": []
   },
   "source": [
    "# < 상관관계 구하기 >\n",
    "## 주어진 데이터에서 상관관계를 구하고, quality와의 상관관계가 가장 큰 값과, 가장 작은 값을 구한 다음 더하시오!\n",
    "## 단, quality와 quality 상관관계 제외, 소수점 둘째 자리까지 반올림하여 계산\n",
    "\n",
    "### - 데이터셋 : ../input/red-wine-quality-cortez-et-al-2009/winequality-red.csv\n",
    "### - 오른쪽 상단 copy&edit 클릭 -> 예상문제 풀이 시작\n",
    "### - 스크립트 방식 권장: File -> Editor Type -> Script"
   ]
  },
  {
   "cell_type": "markdown",
   "id": "a1381ae3",
   "metadata": {
    "papermill": {
     "duration": 0.00768,
     "end_time": "2025-05-31T09:31:29.533087",
     "exception": false,
     "start_time": "2025-05-31T09:31:29.525407",
     "status": "completed"
    },
    "tags": []
   },
   "source": [
    "### 라이브러리 및 데이터 불러오기"
   ]
  },
  {
   "cell_type": "code",
   "execution_count": 1,
   "id": "6f404434",
   "metadata": {
    "execution": {
     "iopub.execute_input": "2025-05-31T09:31:29.557733Z",
     "iopub.status.busy": "2025-05-31T09:31:29.557055Z",
     "iopub.status.idle": "2025-05-31T09:31:29.585975Z",
     "shell.execute_reply": "2025-05-31T09:31:29.585103Z",
     "shell.execute_reply.started": "2025-05-31T09:20:09.117631Z"
    },
    "papermill": {
     "duration": 0.045025,
     "end_time": "2025-05-31T09:31:29.586162",
     "exception": false,
     "start_time": "2025-05-31T09:31:29.541137",
     "status": "completed"
    },
    "tags": []
   },
   "outputs": [],
   "source": [
    "import pandas as pd\n",
    "import numpy as np\n",
    "data = pd.read_csv(\"/kaggle/input/red-wine-quality-cortez-et-al-2009/winequality-red.csv\")"
   ]
  },
  {
   "cell_type": "markdown",
   "id": "8a3891e7",
   "metadata": {
    "papermill": {
     "duration": 0.007628,
     "end_time": "2025-05-31T09:31:29.603971",
     "exception": false,
     "start_time": "2025-05-31T09:31:29.596343",
     "status": "completed"
    },
    "tags": []
   },
   "source": [
    "### EDA"
   ]
  },
  {
   "cell_type": "code",
   "execution_count": 2,
   "id": "8b49e7e5",
   "metadata": {
    "execution": {
     "iopub.execute_input": "2025-05-31T09:31:29.625306Z",
     "iopub.status.busy": "2025-05-31T09:31:29.624530Z",
     "iopub.status.idle": "2025-05-31T09:31:29.656324Z",
     "shell.execute_reply": "2025-05-31T09:31:29.657016Z",
     "shell.execute_reply.started": "2025-05-31T09:20:30.787114Z"
    },
    "papermill": {
     "duration": 0.045359,
     "end_time": "2025-05-31T09:31:29.657224",
     "exception": false,
     "start_time": "2025-05-31T09:31:29.611865",
     "status": "completed"
    },
    "tags": []
   },
   "outputs": [
    {
     "name": "stdout",
     "output_type": "stream",
     "text": [
      "fixed acidity           0\n",
      "volatile acidity        0\n",
      "citric acid             0\n",
      "residual sugar          0\n",
      "chlorides               0\n",
      "free sulfur dioxide     0\n",
      "total sulfur dioxide    0\n",
      "density                 0\n",
      "pH                      0\n",
      "sulphates               0\n",
      "alcohol                 0\n",
      "quality                 0\n",
      "dtype: int64\n"
     ]
    },
    {
     "data": {
      "text/html": [
       "<div>\n",
       "<style scoped>\n",
       "    .dataframe tbody tr th:only-of-type {\n",
       "        vertical-align: middle;\n",
       "    }\n",
       "\n",
       "    .dataframe tbody tr th {\n",
       "        vertical-align: top;\n",
       "    }\n",
       "\n",
       "    .dataframe thead th {\n",
       "        text-align: right;\n",
       "    }\n",
       "</style>\n",
       "<table border=\"1\" class=\"dataframe\">\n",
       "  <thead>\n",
       "    <tr style=\"text-align: right;\">\n",
       "      <th></th>\n",
       "      <th>fixed acidity</th>\n",
       "      <th>volatile acidity</th>\n",
       "      <th>citric acid</th>\n",
       "      <th>residual sugar</th>\n",
       "      <th>chlorides</th>\n",
       "      <th>free sulfur dioxide</th>\n",
       "      <th>total sulfur dioxide</th>\n",
       "      <th>density</th>\n",
       "      <th>pH</th>\n",
       "      <th>sulphates</th>\n",
       "      <th>alcohol</th>\n",
       "      <th>quality</th>\n",
       "    </tr>\n",
       "  </thead>\n",
       "  <tbody>\n",
       "    <tr>\n",
       "      <th>0</th>\n",
       "      <td>7.4</td>\n",
       "      <td>0.70</td>\n",
       "      <td>0.00</td>\n",
       "      <td>1.9</td>\n",
       "      <td>0.076</td>\n",
       "      <td>11.0</td>\n",
       "      <td>34.0</td>\n",
       "      <td>0.9978</td>\n",
       "      <td>3.51</td>\n",
       "      <td>0.56</td>\n",
       "      <td>9.4</td>\n",
       "      <td>5</td>\n",
       "    </tr>\n",
       "    <tr>\n",
       "      <th>1</th>\n",
       "      <td>7.8</td>\n",
       "      <td>0.88</td>\n",
       "      <td>0.00</td>\n",
       "      <td>2.6</td>\n",
       "      <td>0.098</td>\n",
       "      <td>25.0</td>\n",
       "      <td>67.0</td>\n",
       "      <td>0.9968</td>\n",
       "      <td>3.20</td>\n",
       "      <td>0.68</td>\n",
       "      <td>9.8</td>\n",
       "      <td>5</td>\n",
       "    </tr>\n",
       "    <tr>\n",
       "      <th>2</th>\n",
       "      <td>7.8</td>\n",
       "      <td>0.76</td>\n",
       "      <td>0.04</td>\n",
       "      <td>2.3</td>\n",
       "      <td>0.092</td>\n",
       "      <td>15.0</td>\n",
       "      <td>54.0</td>\n",
       "      <td>0.9970</td>\n",
       "      <td>3.26</td>\n",
       "      <td>0.65</td>\n",
       "      <td>9.8</td>\n",
       "      <td>5</td>\n",
       "    </tr>\n",
       "    <tr>\n",
       "      <th>3</th>\n",
       "      <td>11.2</td>\n",
       "      <td>0.28</td>\n",
       "      <td>0.56</td>\n",
       "      <td>1.9</td>\n",
       "      <td>0.075</td>\n",
       "      <td>17.0</td>\n",
       "      <td>60.0</td>\n",
       "      <td>0.9980</td>\n",
       "      <td>3.16</td>\n",
       "      <td>0.58</td>\n",
       "      <td>9.8</td>\n",
       "      <td>6</td>\n",
       "    </tr>\n",
       "    <tr>\n",
       "      <th>4</th>\n",
       "      <td>7.4</td>\n",
       "      <td>0.70</td>\n",
       "      <td>0.00</td>\n",
       "      <td>1.9</td>\n",
       "      <td>0.076</td>\n",
       "      <td>11.0</td>\n",
       "      <td>34.0</td>\n",
       "      <td>0.9978</td>\n",
       "      <td>3.51</td>\n",
       "      <td>0.56</td>\n",
       "      <td>9.4</td>\n",
       "      <td>5</td>\n",
       "    </tr>\n",
       "  </tbody>\n",
       "</table>\n",
       "</div>"
      ],
      "text/plain": [
       "   fixed acidity  volatile acidity  citric acid  residual sugar  chlorides  \\\n",
       "0            7.4              0.70         0.00             1.9      0.076   \n",
       "1            7.8              0.88         0.00             2.6      0.098   \n",
       "2            7.8              0.76         0.04             2.3      0.092   \n",
       "3           11.2              0.28         0.56             1.9      0.075   \n",
       "4            7.4              0.70         0.00             1.9      0.076   \n",
       "\n",
       "   free sulfur dioxide  total sulfur dioxide  density    pH  sulphates  \\\n",
       "0                 11.0                  34.0   0.9978  3.51       0.56   \n",
       "1                 25.0                  67.0   0.9968  3.20       0.68   \n",
       "2                 15.0                  54.0   0.9970  3.26       0.65   \n",
       "3                 17.0                  60.0   0.9980  3.16       0.58   \n",
       "4                 11.0                  34.0   0.9978  3.51       0.56   \n",
       "\n",
       "   alcohol  quality  \n",
       "0      9.4        5  \n",
       "1      9.8        5  \n",
       "2      9.8        5  \n",
       "3      9.8        6  \n",
       "4      9.4        5  "
      ]
     },
     "execution_count": 2,
     "metadata": {},
     "output_type": "execute_result"
    }
   ],
   "source": [
    "# 결측치 파악 -> 없음!\n",
    "print(data.isnull().sum())\n",
    "\n",
    "# 데이터 한눈에 보기\n",
    "data.head(5)"
   ]
  },
  {
   "cell_type": "markdown",
   "id": "73d76b6c",
   "metadata": {
    "papermill": {
     "duration": 0.008405,
     "end_time": "2025-05-31T09:31:29.674639",
     "exception": false,
     "start_time": "2025-05-31T09:31:29.666234",
     "status": "completed"
    },
    "tags": []
   },
   "source": [
    "### 상관관계 구하기"
   ]
  },
  {
   "cell_type": "code",
   "execution_count": 3,
   "id": "a267a24e",
   "metadata": {
    "execution": {
     "iopub.execute_input": "2025-05-31T09:31:29.700722Z",
     "iopub.status.busy": "2025-05-31T09:31:29.695788Z",
     "iopub.status.idle": "2025-05-31T09:31:29.721249Z",
     "shell.execute_reply": "2025-05-31T09:31:29.720658Z",
     "shell.execute_reply.started": "2025-05-31T09:23:49.639495Z"
    },
    "papermill": {
     "duration": 0.03813,
     "end_time": "2025-05-31T09:31:29.721417",
     "exception": false,
     "start_time": "2025-05-31T09:31:29.683287",
     "status": "completed"
    },
    "tags": []
   },
   "outputs": [
    {
     "data": {
      "text/html": [
       "<div>\n",
       "<style scoped>\n",
       "    .dataframe tbody tr th:only-of-type {\n",
       "        vertical-align: middle;\n",
       "    }\n",
       "\n",
       "    .dataframe tbody tr th {\n",
       "        vertical-align: top;\n",
       "    }\n",
       "\n",
       "    .dataframe thead th {\n",
       "        text-align: right;\n",
       "    }\n",
       "</style>\n",
       "<table border=\"1\" class=\"dataframe\">\n",
       "  <thead>\n",
       "    <tr style=\"text-align: right;\">\n",
       "      <th></th>\n",
       "      <th>fixed acidity</th>\n",
       "      <th>volatile acidity</th>\n",
       "      <th>citric acid</th>\n",
       "      <th>residual sugar</th>\n",
       "      <th>chlorides</th>\n",
       "      <th>free sulfur dioxide</th>\n",
       "      <th>total sulfur dioxide</th>\n",
       "      <th>density</th>\n",
       "      <th>pH</th>\n",
       "      <th>sulphates</th>\n",
       "      <th>alcohol</th>\n",
       "      <th>quality</th>\n",
       "    </tr>\n",
       "  </thead>\n",
       "  <tbody>\n",
       "    <tr>\n",
       "      <th>fixed acidity</th>\n",
       "      <td>1.000000</td>\n",
       "      <td>-0.256131</td>\n",
       "      <td>0.671703</td>\n",
       "      <td>0.114777</td>\n",
       "      <td>0.093705</td>\n",
       "      <td>-0.153794</td>\n",
       "      <td>-0.113181</td>\n",
       "      <td>0.668047</td>\n",
       "      <td>-0.682978</td>\n",
       "      <td>0.183006</td>\n",
       "      <td>-0.061668</td>\n",
       "      <td>0.124052</td>\n",
       "    </tr>\n",
       "    <tr>\n",
       "      <th>volatile acidity</th>\n",
       "      <td>-0.256131</td>\n",
       "      <td>1.000000</td>\n",
       "      <td>-0.552496</td>\n",
       "      <td>0.001918</td>\n",
       "      <td>0.061298</td>\n",
       "      <td>-0.010504</td>\n",
       "      <td>0.076470</td>\n",
       "      <td>0.022026</td>\n",
       "      <td>0.234937</td>\n",
       "      <td>-0.260987</td>\n",
       "      <td>-0.202288</td>\n",
       "      <td>-0.390558</td>\n",
       "    </tr>\n",
       "    <tr>\n",
       "      <th>citric acid</th>\n",
       "      <td>0.671703</td>\n",
       "      <td>-0.552496</td>\n",
       "      <td>1.000000</td>\n",
       "      <td>0.143577</td>\n",
       "      <td>0.203823</td>\n",
       "      <td>-0.060978</td>\n",
       "      <td>0.035533</td>\n",
       "      <td>0.364947</td>\n",
       "      <td>-0.541904</td>\n",
       "      <td>0.312770</td>\n",
       "      <td>0.109903</td>\n",
       "      <td>0.226373</td>\n",
       "    </tr>\n",
       "    <tr>\n",
       "      <th>residual sugar</th>\n",
       "      <td>0.114777</td>\n",
       "      <td>0.001918</td>\n",
       "      <td>0.143577</td>\n",
       "      <td>1.000000</td>\n",
       "      <td>0.055610</td>\n",
       "      <td>0.187049</td>\n",
       "      <td>0.203028</td>\n",
       "      <td>0.355283</td>\n",
       "      <td>-0.085652</td>\n",
       "      <td>0.005527</td>\n",
       "      <td>0.042075</td>\n",
       "      <td>0.013732</td>\n",
       "    </tr>\n",
       "    <tr>\n",
       "      <th>chlorides</th>\n",
       "      <td>0.093705</td>\n",
       "      <td>0.061298</td>\n",
       "      <td>0.203823</td>\n",
       "      <td>0.055610</td>\n",
       "      <td>1.000000</td>\n",
       "      <td>0.005562</td>\n",
       "      <td>0.047400</td>\n",
       "      <td>0.200632</td>\n",
       "      <td>-0.265026</td>\n",
       "      <td>0.371260</td>\n",
       "      <td>-0.221141</td>\n",
       "      <td>-0.128907</td>\n",
       "    </tr>\n",
       "    <tr>\n",
       "      <th>free sulfur dioxide</th>\n",
       "      <td>-0.153794</td>\n",
       "      <td>-0.010504</td>\n",
       "      <td>-0.060978</td>\n",
       "      <td>0.187049</td>\n",
       "      <td>0.005562</td>\n",
       "      <td>1.000000</td>\n",
       "      <td>0.667666</td>\n",
       "      <td>-0.021946</td>\n",
       "      <td>0.070377</td>\n",
       "      <td>0.051658</td>\n",
       "      <td>-0.069408</td>\n",
       "      <td>-0.050656</td>\n",
       "    </tr>\n",
       "    <tr>\n",
       "      <th>total sulfur dioxide</th>\n",
       "      <td>-0.113181</td>\n",
       "      <td>0.076470</td>\n",
       "      <td>0.035533</td>\n",
       "      <td>0.203028</td>\n",
       "      <td>0.047400</td>\n",
       "      <td>0.667666</td>\n",
       "      <td>1.000000</td>\n",
       "      <td>0.071269</td>\n",
       "      <td>-0.066495</td>\n",
       "      <td>0.042947</td>\n",
       "      <td>-0.205654</td>\n",
       "      <td>-0.185100</td>\n",
       "    </tr>\n",
       "    <tr>\n",
       "      <th>density</th>\n",
       "      <td>0.668047</td>\n",
       "      <td>0.022026</td>\n",
       "      <td>0.364947</td>\n",
       "      <td>0.355283</td>\n",
       "      <td>0.200632</td>\n",
       "      <td>-0.021946</td>\n",
       "      <td>0.071269</td>\n",
       "      <td>1.000000</td>\n",
       "      <td>-0.341699</td>\n",
       "      <td>0.148506</td>\n",
       "      <td>-0.496180</td>\n",
       "      <td>-0.174919</td>\n",
       "    </tr>\n",
       "    <tr>\n",
       "      <th>pH</th>\n",
       "      <td>-0.682978</td>\n",
       "      <td>0.234937</td>\n",
       "      <td>-0.541904</td>\n",
       "      <td>-0.085652</td>\n",
       "      <td>-0.265026</td>\n",
       "      <td>0.070377</td>\n",
       "      <td>-0.066495</td>\n",
       "      <td>-0.341699</td>\n",
       "      <td>1.000000</td>\n",
       "      <td>-0.196648</td>\n",
       "      <td>0.205633</td>\n",
       "      <td>-0.057731</td>\n",
       "    </tr>\n",
       "    <tr>\n",
       "      <th>sulphates</th>\n",
       "      <td>0.183006</td>\n",
       "      <td>-0.260987</td>\n",
       "      <td>0.312770</td>\n",
       "      <td>0.005527</td>\n",
       "      <td>0.371260</td>\n",
       "      <td>0.051658</td>\n",
       "      <td>0.042947</td>\n",
       "      <td>0.148506</td>\n",
       "      <td>-0.196648</td>\n",
       "      <td>1.000000</td>\n",
       "      <td>0.093595</td>\n",
       "      <td>0.251397</td>\n",
       "    </tr>\n",
       "    <tr>\n",
       "      <th>alcohol</th>\n",
       "      <td>-0.061668</td>\n",
       "      <td>-0.202288</td>\n",
       "      <td>0.109903</td>\n",
       "      <td>0.042075</td>\n",
       "      <td>-0.221141</td>\n",
       "      <td>-0.069408</td>\n",
       "      <td>-0.205654</td>\n",
       "      <td>-0.496180</td>\n",
       "      <td>0.205633</td>\n",
       "      <td>0.093595</td>\n",
       "      <td>1.000000</td>\n",
       "      <td>0.476166</td>\n",
       "    </tr>\n",
       "    <tr>\n",
       "      <th>quality</th>\n",
       "      <td>0.124052</td>\n",
       "      <td>-0.390558</td>\n",
       "      <td>0.226373</td>\n",
       "      <td>0.013732</td>\n",
       "      <td>-0.128907</td>\n",
       "      <td>-0.050656</td>\n",
       "      <td>-0.185100</td>\n",
       "      <td>-0.174919</td>\n",
       "      <td>-0.057731</td>\n",
       "      <td>0.251397</td>\n",
       "      <td>0.476166</td>\n",
       "      <td>1.000000</td>\n",
       "    </tr>\n",
       "  </tbody>\n",
       "</table>\n",
       "</div>"
      ],
      "text/plain": [
       "                      fixed acidity  volatile acidity  citric acid  \\\n",
       "fixed acidity              1.000000         -0.256131     0.671703   \n",
       "volatile acidity          -0.256131          1.000000    -0.552496   \n",
       "citric acid                0.671703         -0.552496     1.000000   \n",
       "residual sugar             0.114777          0.001918     0.143577   \n",
       "chlorides                  0.093705          0.061298     0.203823   \n",
       "free sulfur dioxide       -0.153794         -0.010504    -0.060978   \n",
       "total sulfur dioxide      -0.113181          0.076470     0.035533   \n",
       "density                    0.668047          0.022026     0.364947   \n",
       "pH                        -0.682978          0.234937    -0.541904   \n",
       "sulphates                  0.183006         -0.260987     0.312770   \n",
       "alcohol                   -0.061668         -0.202288     0.109903   \n",
       "quality                    0.124052         -0.390558     0.226373   \n",
       "\n",
       "                      residual sugar  chlorides  free sulfur dioxide  \\\n",
       "fixed acidity               0.114777   0.093705            -0.153794   \n",
       "volatile acidity            0.001918   0.061298            -0.010504   \n",
       "citric acid                 0.143577   0.203823            -0.060978   \n",
       "residual sugar              1.000000   0.055610             0.187049   \n",
       "chlorides                   0.055610   1.000000             0.005562   \n",
       "free sulfur dioxide         0.187049   0.005562             1.000000   \n",
       "total sulfur dioxide        0.203028   0.047400             0.667666   \n",
       "density                     0.355283   0.200632            -0.021946   \n",
       "pH                         -0.085652  -0.265026             0.070377   \n",
       "sulphates                   0.005527   0.371260             0.051658   \n",
       "alcohol                     0.042075  -0.221141            -0.069408   \n",
       "quality                     0.013732  -0.128907            -0.050656   \n",
       "\n",
       "                      total sulfur dioxide   density        pH  sulphates  \\\n",
       "fixed acidity                    -0.113181  0.668047 -0.682978   0.183006   \n",
       "volatile acidity                  0.076470  0.022026  0.234937  -0.260987   \n",
       "citric acid                       0.035533  0.364947 -0.541904   0.312770   \n",
       "residual sugar                    0.203028  0.355283 -0.085652   0.005527   \n",
       "chlorides                         0.047400  0.200632 -0.265026   0.371260   \n",
       "free sulfur dioxide               0.667666 -0.021946  0.070377   0.051658   \n",
       "total sulfur dioxide              1.000000  0.071269 -0.066495   0.042947   \n",
       "density                           0.071269  1.000000 -0.341699   0.148506   \n",
       "pH                               -0.066495 -0.341699  1.000000  -0.196648   \n",
       "sulphates                         0.042947  0.148506 -0.196648   1.000000   \n",
       "alcohol                          -0.205654 -0.496180  0.205633   0.093595   \n",
       "quality                          -0.185100 -0.174919 -0.057731   0.251397   \n",
       "\n",
       "                       alcohol   quality  \n",
       "fixed acidity        -0.061668  0.124052  \n",
       "volatile acidity     -0.202288 -0.390558  \n",
       "citric acid           0.109903  0.226373  \n",
       "residual sugar        0.042075  0.013732  \n",
       "chlorides            -0.221141 -0.128907  \n",
       "free sulfur dioxide  -0.069408 -0.050656  \n",
       "total sulfur dioxide -0.205654 -0.185100  \n",
       "density              -0.496180 -0.174919  \n",
       "pH                    0.205633 -0.057731  \n",
       "sulphates             0.093595  0.251397  \n",
       "alcohol               1.000000  0.476166  \n",
       "quality               0.476166  1.000000  "
      ]
     },
     "execution_count": 3,
     "metadata": {},
     "output_type": "execute_result"
    }
   ],
   "source": [
    "corr = data.corr()\n",
    "corr"
   ]
  },
  {
   "cell_type": "markdown",
   "id": "b9e019ac",
   "metadata": {
    "papermill": {
     "duration": 0.008997,
     "end_time": "2025-05-31T09:31:29.740019",
     "exception": false,
     "start_time": "2025-05-31T09:31:29.731022",
     "status": "completed"
    },
    "tags": []
   },
   "source": [
    "### quality와의 상관관계가 가장 큰 값과, 가장 작은 값을 구하기"
   ]
  },
  {
   "cell_type": "code",
   "execution_count": 4,
   "id": "594704f7",
   "metadata": {
    "execution": {
     "iopub.execute_input": "2025-05-31T09:31:29.770197Z",
     "iopub.status.busy": "2025-05-31T09:31:29.767368Z",
     "iopub.status.idle": "2025-05-31T09:31:29.774907Z",
     "shell.execute_reply": "2025-05-31T09:31:29.774204Z",
     "shell.execute_reply.started": "2025-05-31T09:30:09.476618Z"
    },
    "papermill": {
     "duration": 0.025586,
     "end_time": "2025-05-31T09:31:29.775070",
     "exception": false,
     "start_time": "2025-05-31T09:31:29.749484",
     "status": "completed"
    },
    "tags": []
   },
   "outputs": [
    {
     "name": "stdout",
     "output_type": "stream",
     "text": [
      "quality와의 상관관계가 가장 큰 값: 0.47616632400113656\n",
      "quality와의 상관관계가 가장 작은 값: 0.013731637340065779\n"
     ]
    }
   ],
   "source": [
    "# quality와 quality 상관관계 제외\n",
    "quality_corr = corr['quality'][:-1]\n",
    "\n",
    "# quality와의 상관관계가 가장 큰 값 (1에 가까울 수록 상관관계 증가)\n",
    "corr_max_idx = abs(quality_corr).idxmax()\n",
    "corr_max = quality_corr[corr_max_idx]\n",
    "print(\"quality와의 상관관계가 가장 큰 값:\", corr_max)\n",
    "\n",
    "# quality와의 상관관계가 가장 작은 값 (0에 가까울 수록 상관관계 감소)\n",
    "corr_min_idx = abs(quality_corr).idxmin()\n",
    "corr_min = quality_corr[corr_min_idx]\n",
    "print(\"quality와의 상관관계가 가장 작은 값:\", corr_min)"
   ]
  },
  {
   "cell_type": "markdown",
   "id": "3c924062",
   "metadata": {
    "papermill": {
     "duration": 0.009237,
     "end_time": "2025-05-31T09:31:29.794060",
     "exception": false,
     "start_time": "2025-05-31T09:31:29.784823",
     "status": "completed"
    },
    "tags": []
   },
   "source": [
    "### 최댓값과 최솟값을 더한 최종 결과 출력"
   ]
  },
  {
   "cell_type": "code",
   "execution_count": 5,
   "id": "066f79c8",
   "metadata": {
    "execution": {
     "iopub.execute_input": "2025-05-31T09:31:29.822138Z",
     "iopub.status.busy": "2025-05-31T09:31:29.820697Z",
     "iopub.status.idle": "2025-05-31T09:31:29.824702Z",
     "shell.execute_reply": "2025-05-31T09:31:29.825221Z",
     "shell.execute_reply.started": "2025-05-31T09:30:11.725483Z"
    },
    "papermill": {
     "duration": 0.021307,
     "end_time": "2025-05-31T09:31:29.825400",
     "exception": false,
     "start_time": "2025-05-31T09:31:29.804093",
     "status": "completed"
    },
    "tags": []
   },
   "outputs": [
    {
     "name": "stdout",
     "output_type": "stream",
     "text": [
      "0.49\n"
     ]
    }
   ],
   "source": [
    "res = corr_max + corr_min\n",
    "print(round(res,2))"
   ]
  },
  {
   "cell_type": "markdown",
   "id": "572262d1",
   "metadata": {
    "papermill": {
     "duration": 0.009733,
     "end_time": "2025-05-31T09:31:29.845231",
     "exception": false,
     "start_time": "2025-05-31T09:31:29.835498",
     "status": "completed"
    },
    "tags": []
   },
   "source": [
    "## 풀이 (예시답안)"
   ]
  },
  {
   "cell_type": "code",
   "execution_count": 6,
   "id": "dab344c9",
   "metadata": {
    "_cell_guid": "32dd1539-1bba-4952-8f52-c69f7fa60b2c",
    "_uuid": "1a898a5b-9a21-44af-9cef-8bec3c5dabdb",
    "collapsed": false,
    "execution": {
     "iopub.execute_input": "2025-05-31T09:31:29.876672Z",
     "iopub.status.busy": "2025-05-31T09:31:29.875167Z",
     "iopub.status.idle": "2025-05-31T09:31:29.900054Z",
     "shell.execute_reply": "2025-05-31T09:31:29.900534Z",
     "shell.execute_reply.started": "2025-05-31T09:23:01.179156Z"
    },
    "jupyter": {
     "outputs_hidden": false
    },
    "papermill": {
     "duration": 0.044569,
     "end_time": "2025-05-31T09:31:29.900785",
     "exception": false,
     "start_time": "2025-05-31T09:31:29.856216",
     "status": "completed"
    },
    "tags": []
   },
   "outputs": [
    {
     "name": "stdout",
     "output_type": "stream",
     "text": [
      "0.49\n"
     ]
    }
   ],
   "source": [
    "import pandas as pd\n",
    "import numpy as np\n",
    "\n",
    "# 데이터 불러오기\n",
    "df = pd.read_csv(\"../input/red-wine-quality-cortez-et-al-2009/winequality-red.csv\")\n",
    "#print(df.head())\n",
    "\n",
    "# 상관관계 구하기 \n",
    "df_corr = df.corr()\n",
    "df_corr = df_corr[:-1] # quailiy-quailiy 상관관계 제거\n",
    "# print(df_corr['quality'])\n",
    "\n",
    "################# 풀이 수정 2022.6.21 ###################\n",
    "# @b0ngb0ng 님 코드 반영\n",
    "\n",
    "# 상관관계가 가장 큰 값과 가장 작은 값 (절대값으로 확인)\n",
    "max_corr=abs(df.corr()['quality'][:-1]).max()  #0.47\n",
    "min_corr=abs(df.corr()['quality'][:-1]).min()   #0.013\n",
    "\n",
    "if max_corr not in df.corr()[['quality']][:-1].values:\n",
    "    max_corr=-max_corr\n",
    "if min_corr not in df.corr()[['quality']][:-1].values:\n",
    "    min_corr=-min_corr\n",
    "    \n",
    "# 결과 출력\n",
    "ans=round(max_corr+min_corr,2)\n",
    "print(ans) \n",
    "# 0.49"
   ]
  }
 ],
 "metadata": {
  "kaggle": {
   "accelerator": "none",
   "dataSources": [
    {
     "datasetId": 4458,
     "sourceId": 8204,
     "sourceType": "datasetVersion"
    },
    {
     "datasetId": 1633303,
     "sourceId": 9936200,
     "sourceType": "datasetVersion"
    }
   ],
   "dockerImageVersionId": 30145,
   "isGpuEnabled": false,
   "isInternetEnabled": false,
   "language": "python",
   "sourceType": "notebook"
  },
  "kernelspec": {
   "display_name": "Python 3",
   "language": "python",
   "name": "python3"
  },
  "language_info": {
   "codemirror_mode": {
    "name": "ipython",
    "version": 3
   },
   "file_extension": ".py",
   "mimetype": "text/x-python",
   "name": "python",
   "nbconvert_exporter": "python",
   "pygments_lexer": "ipython3",
   "version": "3.7.10"
  },
  "papermill": {
   "default_parameters": {},
   "duration": 11.451625,
   "end_time": "2025-05-31T09:31:30.523323",
   "environment_variables": {},
   "exception": null,
   "input_path": "__notebook__.ipynb",
   "output_path": "__notebook__.ipynb",
   "parameters": {},
   "start_time": "2025-05-31T09:31:19.071698",
   "version": "2.3.3"
  }
 },
 "nbformat": 4,
 "nbformat_minor": 5
}
