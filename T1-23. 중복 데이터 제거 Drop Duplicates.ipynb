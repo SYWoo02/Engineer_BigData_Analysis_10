{
 "cells": [
  {
   "cell_type": "markdown",
   "id": "e10c72c1",
   "metadata": {
    "papermill": {
     "duration": 0.012341,
     "end_time": "2025-06-02T18:29:54.795237",
     "exception": false,
     "start_time": "2025-06-02T18:29:54.782896",
     "status": "completed"
    },
    "tags": []
   },
   "source": [
    "## f1의 결측치를 채운 후 age 컬럼의 중복 제거 전과 후의 'f1' 중앙값 차이를 구하시오 \n",
    "### - 결측치는 'f1' 데이터에서 큰 값 순으로 정렬했을 때 10번째에 위치한 값으로 채운다.\n",
    "### - 중복 데이터 발생시 뒤에 나오는 데이터를 삭제함\n",
    "### - 최종 결과값은 절대값으로 출력\n",
    "(중복 제거 기준: 제공된 데이터 순서대로 중복 데이터 발생시 뒤에 나오는 데이터를 삭제함)\n",
    "\n",
    "\n",
    "- 데이터셋 : basic1.csv\n",
    "- 오른쪽 상단 copy&edit 클릭 -> 예상문제 풀이 시작"
   ]
  },
  {
   "cell_type": "markdown",
   "id": "c893ce64",
   "metadata": {
    "papermill": {
     "duration": 0.009818,
     "end_time": "2025-06-02T18:29:54.816045",
     "exception": false,
     "start_time": "2025-06-02T18:29:54.806227",
     "status": "completed"
    },
    "tags": []
   },
   "source": [
    "## 나의 코드 "
   ]
  },
  {
   "cell_type": "code",
   "execution_count": 1,
   "id": "bb078526",
   "metadata": {
    "execution": {
     "iopub.execute_input": "2025-06-02T18:29:54.847536Z",
     "iopub.status.busy": "2025-06-02T18:29:54.846833Z",
     "iopub.status.idle": "2025-06-02T18:29:54.887568Z",
     "shell.execute_reply": "2025-06-02T18:29:54.888129Z",
     "shell.execute_reply.started": "2025-06-02T18:21:27.721879Z"
    },
    "papermill": {
     "duration": 0.062211,
     "end_time": "2025-06-02T18:29:54.888503",
     "exception": false,
     "start_time": "2025-06-02T18:29:54.826292",
     "status": "completed"
    },
    "tags": []
   },
   "outputs": [
    {
     "data": {
      "text/html": [
       "<div>\n",
       "<style scoped>\n",
       "    .dataframe tbody tr th:only-of-type {\n",
       "        vertical-align: middle;\n",
       "    }\n",
       "\n",
       "    .dataframe tbody tr th {\n",
       "        vertical-align: top;\n",
       "    }\n",
       "\n",
       "    .dataframe thead th {\n",
       "        text-align: right;\n",
       "    }\n",
       "</style>\n",
       "<table border=\"1\" class=\"dataframe\">\n",
       "  <thead>\n",
       "    <tr style=\"text-align: right;\">\n",
       "      <th></th>\n",
       "      <th>id</th>\n",
       "      <th>age</th>\n",
       "      <th>city</th>\n",
       "      <th>f1</th>\n",
       "      <th>f2</th>\n",
       "      <th>f3</th>\n",
       "      <th>f4</th>\n",
       "      <th>f5</th>\n",
       "    </tr>\n",
       "  </thead>\n",
       "  <tbody>\n",
       "    <tr>\n",
       "      <th>95</th>\n",
       "      <td>id96</td>\n",
       "      <td>92.0</td>\n",
       "      <td>경기</td>\n",
       "      <td>53.0</td>\n",
       "      <td>1</td>\n",
       "      <td>NaN</td>\n",
       "      <td>ENTJ</td>\n",
       "      <td>52.667078</td>\n",
       "    </tr>\n",
       "    <tr>\n",
       "      <th>96</th>\n",
       "      <td>id97</td>\n",
       "      <td>100.0</td>\n",
       "      <td>경기</td>\n",
       "      <td>NaN</td>\n",
       "      <td>0</td>\n",
       "      <td>NaN</td>\n",
       "      <td>INFP</td>\n",
       "      <td>67.886373</td>\n",
       "    </tr>\n",
       "    <tr>\n",
       "      <th>97</th>\n",
       "      <td>id98</td>\n",
       "      <td>39.0</td>\n",
       "      <td>경기</td>\n",
       "      <td>58.0</td>\n",
       "      <td>2</td>\n",
       "      <td>NaN</td>\n",
       "      <td>INFP</td>\n",
       "      <td>98.429899</td>\n",
       "    </tr>\n",
       "    <tr>\n",
       "      <th>98</th>\n",
       "      <td>id99</td>\n",
       "      <td>1.0</td>\n",
       "      <td>경기</td>\n",
       "      <td>47.0</td>\n",
       "      <td>0</td>\n",
       "      <td>NaN</td>\n",
       "      <td>ESFJ</td>\n",
       "      <td>97.381034</td>\n",
       "    </tr>\n",
       "    <tr>\n",
       "      <th>99</th>\n",
       "      <td>id100</td>\n",
       "      <td>47.0</td>\n",
       "      <td>경기</td>\n",
       "      <td>53.0</td>\n",
       "      <td>0</td>\n",
       "      <td>vip</td>\n",
       "      <td>ESFP</td>\n",
       "      <td>33.308999</td>\n",
       "    </tr>\n",
       "  </tbody>\n",
       "</table>\n",
       "</div>"
      ],
      "text/plain": [
       "       id    age city    f1  f2   f3    f4         f5\n",
       "95   id96   92.0   경기  53.0   1  NaN  ENTJ  52.667078\n",
       "96   id97  100.0   경기   NaN   0  NaN  INFP  67.886373\n",
       "97   id98   39.0   경기  58.0   2  NaN  INFP  98.429899\n",
       "98   id99    1.0   경기  47.0   0  NaN  ESFJ  97.381034\n",
       "99  id100   47.0   경기  53.0   0  vip  ESFP  33.308999"
      ]
     },
     "execution_count": 1,
     "metadata": {},
     "output_type": "execute_result"
    }
   ],
   "source": [
    "# 라이브러리 및 데이터 불러오기\n",
    "import pandas as pd\n",
    "import numpy as np\n",
    "data = pd.read_csv(\"/kaggle/input/bigdatacertificationkr/basic1.csv\")\n",
    "data.tail(5)"
   ]
  },
  {
   "cell_type": "code",
   "execution_count": 2,
   "id": "30f4945d",
   "metadata": {
    "execution": {
     "iopub.execute_input": "2025-06-02T18:29:54.920327Z",
     "iopub.status.busy": "2025-06-02T18:29:54.919564Z",
     "iopub.status.idle": "2025-06-02T18:29:54.923699Z",
     "shell.execute_reply": "2025-06-02T18:29:54.923174Z",
     "shell.execute_reply.started": "2025-06-02T18:21:32.624104Z"
    },
    "papermill": {
     "duration": 0.023505,
     "end_time": "2025-06-02T18:29:54.923858",
     "exception": false,
     "start_time": "2025-06-02T18:29:54.900353",
     "status": "completed"
    },
    "tags": []
   },
   "outputs": [
    {
     "data": {
      "text/plain": [
       "id       0\n",
       "age      0\n",
       "city     0\n",
       "f1      31\n",
       "f2       0\n",
       "f3      95\n",
       "f4       0\n",
       "f5       0\n",
       "dtype: int64"
      ]
     },
     "execution_count": 2,
     "metadata": {},
     "output_type": "execute_result"
    }
   ],
   "source": [
    "# 결측치 확인\n",
    "data.isnull().sum()"
   ]
  },
  {
   "cell_type": "code",
   "execution_count": 3,
   "id": "e60e9fe1",
   "metadata": {
    "execution": {
     "iopub.execute_input": "2025-06-02T18:29:54.959263Z",
     "iopub.status.busy": "2025-06-02T18:29:54.954024Z",
     "iopub.status.idle": "2025-06-02T18:29:54.964353Z",
     "shell.execute_reply": "2025-06-02T18:29:54.963657Z",
     "shell.execute_reply.started": "2025-06-02T18:28:13.758598Z"
    },
    "papermill": {
     "duration": 0.029945,
     "end_time": "2025-06-02T18:29:54.964526",
     "exception": false,
     "start_time": "2025-06-02T18:29:54.934581",
     "status": "completed"
    },
    "tags": []
   },
   "outputs": [
    {
     "data": {
      "text/plain": [
       "id       0\n",
       "age      0\n",
       "city     0\n",
       "f1       0\n",
       "f2       0\n",
       "f3      95\n",
       "f4       0\n",
       "f5       0\n",
       "dtype: int64"
      ]
     },
     "execution_count": 3,
     "metadata": {},
     "output_type": "execute_result"
    }
   ],
   "source": [
    "# 'f1'칼럼의 결측치 대치 (큰 값 순으로 정렬했을 때 10번째에 위치한 값)\n",
    "\n",
    "# 큰 값 순으로 정렬했을 때 10번째에 위치한 값 찾기 ; 88.0\n",
    "ten = data['f1'].sort_values(ascending=False).iloc[9]\n",
    "data['f1'] = data['f1'].fillna(ten)\n",
    "\n",
    "# 'f1'칼럼의 결측치 대치가 잘 되었는지 확인 ; 31 -> 0\n",
    "data.isnull().sum()"
   ]
  },
  {
   "cell_type": "code",
   "execution_count": 4,
   "id": "b840b955",
   "metadata": {
    "execution": {
     "iopub.execute_input": "2025-06-02T18:29:55.005567Z",
     "iopub.status.busy": "2025-06-02T18:29:54.996183Z",
     "iopub.status.idle": "2025-06-02T18:29:55.010911Z",
     "shell.execute_reply": "2025-06-02T18:29:55.010208Z",
     "shell.execute_reply.started": "2025-06-02T18:29:22.345701Z"
    },
    "papermill": {
     "duration": 0.035381,
     "end_time": "2025-06-02T18:29:55.011078",
     "exception": false,
     "start_time": "2025-06-02T18:29:54.975697",
     "status": "completed"
    },
    "tags": []
   },
   "outputs": [
    {
     "name": "stdout",
     "output_type": "stream",
     "text": [
      "100 71\n"
     ]
    }
   ],
   "source": [
    "# 'age'컬럼의 중복 제거하기 (제공된 데이터 순서대로 중복 데이터 발생 시 뒤에 나오는 데이터를 삭제)\n",
    "# drop_duplicates(): 중복 제거 시 사용하는 함수\n",
    "data2 = data.drop_duplicates('age')\n",
    "\n",
    "# 중복 제거가 잘 되었는지 확인\n",
    "print(len(data), len(data2))"
   ]
  },
  {
   "cell_type": "code",
   "execution_count": 5,
   "id": "afd339e7",
   "metadata": {
    "execution": {
     "iopub.execute_input": "2025-06-02T18:29:55.043332Z",
     "iopub.status.busy": "2025-06-02T18:29:55.042031Z",
     "iopub.status.idle": "2025-06-02T18:29:55.045978Z",
     "shell.execute_reply": "2025-06-02T18:29:55.046558Z",
     "shell.execute_reply.started": "2025-06-02T18:28:19.362373Z"
    },
    "papermill": {
     "duration": 0.02394,
     "end_time": "2025-06-02T18:29:55.046775",
     "exception": false,
     "start_time": "2025-06-02T18:29:55.022835",
     "status": "completed"
    },
    "tags": []
   },
   "outputs": [
    {
     "name": "stdout",
     "output_type": "stream",
     "text": [
      "0.5\n"
     ]
    }
   ],
   "source": [
    "# 중복 제거 전,후의 'f1' 중앙값 차이를 구하기 (절댓값)\n",
    "before_m = data['f1'].median()\n",
    "after_m = data2['f1'].median()\n",
    "res = abs(before_m - after_m)\n",
    "print(res)\n",
    "\n",
    "# 정답: 0.5 "
   ]
  },
  {
   "cell_type": "markdown",
   "id": "cd464952",
   "metadata": {
    "papermill": {
     "duration": 0.011448,
     "end_time": "2025-06-02T18:29:55.070832",
     "exception": false,
     "start_time": "2025-06-02T18:29:55.059384",
     "status": "completed"
    },
    "tags": []
   },
   "source": [
    "## 풀이 (예시답안)"
   ]
  },
  {
   "cell_type": "code",
   "execution_count": 6,
   "id": "56dc7514",
   "metadata": {
    "_cell_guid": "b1076dfc-b9ad-4769-8c92-a6c4dae69d19",
    "_uuid": "8f2839f25d086af736a60e9eeb907d3b93b6e0e5",
    "execution": {
     "iopub.execute_input": "2025-06-02T18:29:55.100867Z",
     "iopub.status.busy": "2025-06-02T18:29:55.099890Z",
     "iopub.status.idle": "2025-06-02T18:29:55.103536Z",
     "shell.execute_reply": "2025-06-02T18:29:55.102814Z",
     "shell.execute_reply.started": "2025-06-02T18:27:43.829777Z"
    },
    "papermill": {
     "duration": 0.020915,
     "end_time": "2025-06-02T18:29:55.103711",
     "exception": false,
     "start_time": "2025-06-02T18:29:55.082796",
     "status": "completed"
    },
    "tags": []
   },
   "outputs": [],
   "source": [
    "import pandas as pd"
   ]
  },
  {
   "cell_type": "code",
   "execution_count": 7,
   "id": "6a86eb68",
   "metadata": {
    "execution": {
     "iopub.execute_input": "2025-06-02T18:29:55.134678Z",
     "iopub.status.busy": "2025-06-02T18:29:55.133864Z",
     "iopub.status.idle": "2025-06-02T18:29:55.150636Z",
     "shell.execute_reply": "2025-06-02T18:29:55.149900Z",
     "shell.execute_reply.started": "2025-06-02T18:27:44.892509Z"
    },
    "papermill": {
     "duration": 0.035474,
     "end_time": "2025-06-02T18:29:55.150792",
     "exception": false,
     "start_time": "2025-06-02T18:29:55.115318",
     "status": "completed"
    },
    "tags": []
   },
   "outputs": [
    {
     "data": {
      "text/html": [
       "<div>\n",
       "<style scoped>\n",
       "    .dataframe tbody tr th:only-of-type {\n",
       "        vertical-align: middle;\n",
       "    }\n",
       "\n",
       "    .dataframe tbody tr th {\n",
       "        vertical-align: top;\n",
       "    }\n",
       "\n",
       "    .dataframe thead th {\n",
       "        text-align: right;\n",
       "    }\n",
       "</style>\n",
       "<table border=\"1\" class=\"dataframe\">\n",
       "  <thead>\n",
       "    <tr style=\"text-align: right;\">\n",
       "      <th></th>\n",
       "      <th>id</th>\n",
       "      <th>age</th>\n",
       "      <th>city</th>\n",
       "      <th>f1</th>\n",
       "      <th>f2</th>\n",
       "      <th>f3</th>\n",
       "      <th>f4</th>\n",
       "      <th>f5</th>\n",
       "    </tr>\n",
       "  </thead>\n",
       "  <tbody>\n",
       "    <tr>\n",
       "      <th>95</th>\n",
       "      <td>id96</td>\n",
       "      <td>92.0</td>\n",
       "      <td>경기</td>\n",
       "      <td>53.0</td>\n",
       "      <td>1</td>\n",
       "      <td>NaN</td>\n",
       "      <td>ENTJ</td>\n",
       "      <td>52.667078</td>\n",
       "    </tr>\n",
       "    <tr>\n",
       "      <th>96</th>\n",
       "      <td>id97</td>\n",
       "      <td>100.0</td>\n",
       "      <td>경기</td>\n",
       "      <td>NaN</td>\n",
       "      <td>0</td>\n",
       "      <td>NaN</td>\n",
       "      <td>INFP</td>\n",
       "      <td>67.886373</td>\n",
       "    </tr>\n",
       "    <tr>\n",
       "      <th>97</th>\n",
       "      <td>id98</td>\n",
       "      <td>39.0</td>\n",
       "      <td>경기</td>\n",
       "      <td>58.0</td>\n",
       "      <td>2</td>\n",
       "      <td>NaN</td>\n",
       "      <td>INFP</td>\n",
       "      <td>98.429899</td>\n",
       "    </tr>\n",
       "    <tr>\n",
       "      <th>98</th>\n",
       "      <td>id99</td>\n",
       "      <td>1.0</td>\n",
       "      <td>경기</td>\n",
       "      <td>47.0</td>\n",
       "      <td>0</td>\n",
       "      <td>NaN</td>\n",
       "      <td>ESFJ</td>\n",
       "      <td>97.381034</td>\n",
       "    </tr>\n",
       "    <tr>\n",
       "      <th>99</th>\n",
       "      <td>id100</td>\n",
       "      <td>47.0</td>\n",
       "      <td>경기</td>\n",
       "      <td>53.0</td>\n",
       "      <td>0</td>\n",
       "      <td>vip</td>\n",
       "      <td>ESFP</td>\n",
       "      <td>33.308999</td>\n",
       "    </tr>\n",
       "  </tbody>\n",
       "</table>\n",
       "</div>"
      ],
      "text/plain": [
       "       id    age city    f1  f2   f3    f4         f5\n",
       "95   id96   92.0   경기  53.0   1  NaN  ENTJ  52.667078\n",
       "96   id97  100.0   경기   NaN   0  NaN  INFP  67.886373\n",
       "97   id98   39.0   경기  58.0   2  NaN  INFP  98.429899\n",
       "98   id99    1.0   경기  47.0   0  NaN  ESFJ  97.381034\n",
       "99  id100   47.0   경기  53.0   0  vip  ESFP  33.308999"
      ]
     },
     "execution_count": 7,
     "metadata": {},
     "output_type": "execute_result"
    }
   ],
   "source": [
    "df = pd.read_csv('../input/bigdatacertificationkr/basic1.csv')\n",
    "df.tail()"
   ]
  },
  {
   "cell_type": "code",
   "execution_count": 8,
   "id": "0431a19e",
   "metadata": {
    "execution": {
     "iopub.execute_input": "2025-06-02T18:29:55.183928Z",
     "iopub.status.busy": "2025-06-02T18:29:55.183068Z",
     "iopub.status.idle": "2025-06-02T18:29:55.188951Z",
     "shell.execute_reply": "2025-06-02T18:29:55.188286Z",
     "shell.execute_reply.started": "2025-06-02T18:27:47.291411Z"
    },
    "papermill": {
     "duration": 0.025871,
     "end_time": "2025-06-02T18:29:55.189141",
     "exception": false,
     "start_time": "2025-06-02T18:29:55.163270",
     "status": "completed"
    },
    "tags": []
   },
   "outputs": [
    {
     "name": "stdout",
     "output_type": "stream",
     "text": [
      "88.0\n"
     ]
    }
   ],
   "source": [
    "# f1데이터에서 10번째 큰 값으로 결측치를 채움\n",
    "top10 = df['f1'].sort_values(ascending=False).iloc[9]\n",
    "print(top10)\n",
    "df['f1'] = df['f1'].fillna(top10)"
   ]
  },
  {
   "cell_type": "code",
   "execution_count": 9,
   "id": "cfbcf2ad",
   "metadata": {
    "execution": {
     "iopub.execute_input": "2025-06-02T18:29:55.221554Z",
     "iopub.status.busy": "2025-06-02T18:29:55.220585Z",
     "iopub.status.idle": "2025-06-02T18:29:55.225544Z",
     "shell.execute_reply": "2025-06-02T18:29:55.224727Z",
     "shell.execute_reply.started": "2025-06-02T18:28:22.360132Z"
    },
    "papermill": {
     "duration": 0.024446,
     "end_time": "2025-06-02T18:29:55.225713",
     "exception": false,
     "start_time": "2025-06-02T18:29:55.201267",
     "status": "completed"
    },
    "tags": []
   },
   "outputs": [
    {
     "data": {
      "text/plain": [
       "77.5"
      ]
     },
     "execution_count": 9,
     "metadata": {},
     "output_type": "execute_result"
    }
   ],
   "source": [
    "# 중복 제거 전 중앙 값\n",
    "result1 = df['f1'].median()\n",
    "result1"
   ]
  },
  {
   "cell_type": "code",
   "execution_count": 10,
   "id": "d33b737b",
   "metadata": {
    "execution": {
     "iopub.execute_input": "2025-06-02T18:29:55.262162Z",
     "iopub.status.busy": "2025-06-02T18:29:55.261336Z",
     "iopub.status.idle": "2025-06-02T18:29:55.265812Z",
     "shell.execute_reply": "2025-06-02T18:29:55.265175Z",
     "shell.execute_reply.started": "2025-06-02T18:28:24.090474Z"
    },
    "papermill": {
     "duration": 0.027451,
     "end_time": "2025-06-02T18:29:55.265955",
     "exception": false,
     "start_time": "2025-06-02T18:29:55.238504",
     "status": "completed"
    },
    "tags": []
   },
   "outputs": [
    {
     "name": "stdout",
     "output_type": "stream",
     "text": [
      "(100, 8)\n",
      "(71, 8)\n"
     ]
    }
   ],
   "source": [
    "# 중복 제거\n",
    "print(df.shape)\n",
    "df = df.drop_duplicates(subset=['age'])\n",
    "print(df.shape)"
   ]
  },
  {
   "cell_type": "code",
   "execution_count": 11,
   "id": "fef0c4f0",
   "metadata": {
    "execution": {
     "iopub.execute_input": "2025-06-02T18:29:55.299505Z",
     "iopub.status.busy": "2025-06-02T18:29:55.298546Z",
     "iopub.status.idle": "2025-06-02T18:29:55.303872Z",
     "shell.execute_reply": "2025-06-02T18:29:55.303244Z",
     "shell.execute_reply.started": "2025-06-02T18:28:25.965195Z"
    },
    "papermill": {
     "duration": 0.025142,
     "end_time": "2025-06-02T18:29:55.304023",
     "exception": false,
     "start_time": "2025-06-02T18:29:55.278881",
     "status": "completed"
    },
    "tags": []
   },
   "outputs": [
    {
     "data": {
      "text/plain": [
       "77.0"
      ]
     },
     "execution_count": 11,
     "metadata": {},
     "output_type": "execute_result"
    }
   ],
   "source": [
    "# 중복 제거 후 중앙 값\n",
    "result2 = df['f1'].median()\n",
    "result2"
   ]
  },
  {
   "cell_type": "code",
   "execution_count": 12,
   "id": "5bda927c",
   "metadata": {
    "execution": {
     "iopub.execute_input": "2025-06-02T18:29:55.336440Z",
     "iopub.status.busy": "2025-06-02T18:29:55.335519Z",
     "iopub.status.idle": "2025-06-02T18:29:55.340613Z",
     "shell.execute_reply": "2025-06-02T18:29:55.339939Z",
     "shell.execute_reply.started": "2025-06-02T18:28:27.728840Z"
    },
    "papermill": {
     "duration": 0.023725,
     "end_time": "2025-06-02T18:29:55.340799",
     "exception": false,
     "start_time": "2025-06-02T18:29:55.317074",
     "status": "completed"
    },
    "tags": []
   },
   "outputs": [
    {
     "name": "stdout",
     "output_type": "stream",
     "text": [
      "0.5\n"
     ]
    }
   ],
   "source": [
    "# 차이 (절대값)\n",
    "print(abs(result1 - result2))"
   ]
  }
 ],
 "metadata": {
  "kaggle": {
   "accelerator": "none",
   "dataSources": [
    {
     "datasetId": 1633303,
     "sourceId": 9936200,
     "sourceType": "datasetVersion"
    }
   ],
   "dockerImageVersionId": 30145,
   "isGpuEnabled": false,
   "isInternetEnabled": false,
   "language": "python",
   "sourceType": "notebook"
  },
  "kernelspec": {
   "display_name": "Python 3",
   "language": "python",
   "name": "python3"
  },
  "language_info": {
   "codemirror_mode": {
    "name": "ipython",
    "version": 3
   },
   "file_extension": ".py",
   "mimetype": "text/x-python",
   "name": "python",
   "nbconvert_exporter": "python",
   "pygments_lexer": "ipython3",
   "version": "3.7.10"
  },
  "papermill": {
   "default_parameters": {},
   "duration": 12.225676,
   "end_time": "2025-06-02T18:29:55.967669",
   "environment_variables": {},
   "exception": null,
   "input_path": "__notebook__.ipynb",
   "output_path": "__notebook__.ipynb",
   "parameters": {},
   "start_time": "2025-06-02T18:29:43.741993",
   "version": "2.3.3"
  }
 },
 "nbformat": 4,
 "nbformat_minor": 5
}
