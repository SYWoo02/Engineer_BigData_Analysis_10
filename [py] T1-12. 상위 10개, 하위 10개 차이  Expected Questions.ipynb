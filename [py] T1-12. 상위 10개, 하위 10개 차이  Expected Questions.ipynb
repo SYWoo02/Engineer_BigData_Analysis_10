{
 "cells": [
  {
   "cell_type": "markdown",
   "id": "19118da4",
   "metadata": {
    "papermill": {
     "duration": 0.009071,
     "end_time": "2025-05-31T09:16:24.049202",
     "exception": false,
     "start_time": "2025-05-31T09:16:24.040131",
     "status": "completed"
    },
    "tags": []
   },
   "source": [
    "# < 상위 1개, 하위 10개의 차이 > \n",
    "## 주어진 데이터에서 상위 10개 국가의 접종률 평균과 하위 10개 국가의 접종률 평균을 구하고, 그 차이를 구해보세요 \n",
    "## (단, 100%가 넘는 접종률 제거, 소수 첫째자리까지 출력)\n",
    "## (나라별 최종 접종률이 100% 초과인 나라는 제외하는 것이므로 최대 접종률을 찾고 최대 접종률이 100% 초과하는 행은 제외)\n",
    "\n",
    "### - 데이터셋 : ../input/covid-vaccination-vs-death/covid-vaccination-vs-death_ratio.csv\n",
    "### - 오른쪽 상단 copy&edit 클릭 -> 예상문제 풀이 시작\n",
    "### - File -> Editor Type -> Script"
   ]
  },
  {
   "cell_type": "markdown",
   "id": "77890654",
   "metadata": {
    "papermill": {
     "duration": 0.007173,
     "end_time": "2025-05-31T09:16:24.064324",
     "exception": false,
     "start_time": "2025-05-31T09:16:24.057151",
     "status": "completed"
    },
    "tags": []
   },
   "source": [
    "### 라이브러리 및 데이터 불러오기"
   ]
  },
  {
   "cell_type": "code",
   "execution_count": 1,
   "id": "812be3bb",
   "metadata": {
    "execution": {
     "iopub.execute_input": "2025-05-31T09:16:24.088128Z",
     "iopub.status.busy": "2025-05-31T09:16:24.086790Z",
     "iopub.status.idle": "2025-05-31T09:16:24.222241Z",
     "shell.execute_reply": "2025-05-31T09:16:24.221546Z",
     "shell.execute_reply.started": "2025-05-31T09:10:08.398190Z"
    },
    "papermill": {
     "duration": 0.150794,
     "end_time": "2025-05-31T09:16:24.222419",
     "exception": false,
     "start_time": "2025-05-31T09:16:24.071625",
     "status": "completed"
    },
    "tags": []
   },
   "outputs": [
    {
     "data": {
      "text/html": [
       "<div>\n",
       "<style scoped>\n",
       "    .dataframe tbody tr th:only-of-type {\n",
       "        vertical-align: middle;\n",
       "    }\n",
       "\n",
       "    .dataframe tbody tr th {\n",
       "        vertical-align: top;\n",
       "    }\n",
       "\n",
       "    .dataframe thead th {\n",
       "        text-align: right;\n",
       "    }\n",
       "</style>\n",
       "<table border=\"1\" class=\"dataframe\">\n",
       "  <thead>\n",
       "    <tr style=\"text-align: right;\">\n",
       "      <th></th>\n",
       "      <th>Unnamed: 0</th>\n",
       "      <th>country</th>\n",
       "      <th>iso_code</th>\n",
       "      <th>date</th>\n",
       "      <th>total_vaccinations</th>\n",
       "      <th>people_vaccinated</th>\n",
       "      <th>people_fully_vaccinated</th>\n",
       "      <th>New_deaths</th>\n",
       "      <th>population</th>\n",
       "      <th>ratio</th>\n",
       "    </tr>\n",
       "  </thead>\n",
       "  <tbody>\n",
       "    <tr>\n",
       "      <th>0</th>\n",
       "      <td>0</td>\n",
       "      <td>Afghanistan</td>\n",
       "      <td>AFG</td>\n",
       "      <td>2021-05-11</td>\n",
       "      <td>504502.0</td>\n",
       "      <td>448878.0</td>\n",
       "      <td>55624.0</td>\n",
       "      <td>12</td>\n",
       "      <td>40374668.0</td>\n",
       "      <td>1.111781</td>\n",
       "    </tr>\n",
       "    <tr>\n",
       "      <th>1</th>\n",
       "      <td>1</td>\n",
       "      <td>Afghanistan</td>\n",
       "      <td>AFG</td>\n",
       "      <td>2021-05-20</td>\n",
       "      <td>547901.0</td>\n",
       "      <td>470341.0</td>\n",
       "      <td>77560.0</td>\n",
       "      <td>10</td>\n",
       "      <td>40374668.0</td>\n",
       "      <td>1.164941</td>\n",
       "    </tr>\n",
       "    <tr>\n",
       "      <th>2</th>\n",
       "      <td>2</td>\n",
       "      <td>Afghanistan</td>\n",
       "      <td>AFG</td>\n",
       "      <td>2021-05-24</td>\n",
       "      <td>573277.0</td>\n",
       "      <td>476367.0</td>\n",
       "      <td>96910.0</td>\n",
       "      <td>10</td>\n",
       "      <td>40374668.0</td>\n",
       "      <td>1.179866</td>\n",
       "    </tr>\n",
       "    <tr>\n",
       "      <th>3</th>\n",
       "      <td>3</td>\n",
       "      <td>Afghanistan</td>\n",
       "      <td>AFG</td>\n",
       "      <td>2021-05-26</td>\n",
       "      <td>590454.0</td>\n",
       "      <td>479372.0</td>\n",
       "      <td>111082.0</td>\n",
       "      <td>19</td>\n",
       "      <td>40374668.0</td>\n",
       "      <td>1.187309</td>\n",
       "    </tr>\n",
       "    <tr>\n",
       "      <th>4</th>\n",
       "      <td>4</td>\n",
       "      <td>Afghanistan</td>\n",
       "      <td>AFG</td>\n",
       "      <td>2021-05-27</td>\n",
       "      <td>593313.0</td>\n",
       "      <td>479574.0</td>\n",
       "      <td>113739.0</td>\n",
       "      <td>14</td>\n",
       "      <td>40374668.0</td>\n",
       "      <td>1.187809</td>\n",
       "    </tr>\n",
       "    <tr>\n",
       "      <th>...</th>\n",
       "      <td>...</td>\n",
       "      <td>...</td>\n",
       "      <td>...</td>\n",
       "      <td>...</td>\n",
       "      <td>...</td>\n",
       "      <td>...</td>\n",
       "      <td>...</td>\n",
       "      <td>...</td>\n",
       "      <td>...</td>\n",
       "      <td>...</td>\n",
       "    </tr>\n",
       "    <tr>\n",
       "      <th>32906</th>\n",
       "      <td>32906</td>\n",
       "      <td>Zimbabwe</td>\n",
       "      <td>ZWE</td>\n",
       "      <td>2022-03-25</td>\n",
       "      <td>8691642.0</td>\n",
       "      <td>4814582.0</td>\n",
       "      <td>3473523.0</td>\n",
       "      <td>2</td>\n",
       "      <td>15229891.0</td>\n",
       "      <td>31.612715</td>\n",
       "    </tr>\n",
       "    <tr>\n",
       "      <th>32907</th>\n",
       "      <td>32907</td>\n",
       "      <td>Zimbabwe</td>\n",
       "      <td>ZWE</td>\n",
       "      <td>2022-03-26</td>\n",
       "      <td>8791728.0</td>\n",
       "      <td>4886242.0</td>\n",
       "      <td>3487962.0</td>\n",
       "      <td>2</td>\n",
       "      <td>15229891.0</td>\n",
       "      <td>32.083237</td>\n",
       "    </tr>\n",
       "    <tr>\n",
       "      <th>32908</th>\n",
       "      <td>32908</td>\n",
       "      <td>Zimbabwe</td>\n",
       "      <td>ZWE</td>\n",
       "      <td>2022-03-27</td>\n",
       "      <td>8845039.0</td>\n",
       "      <td>4918147.0</td>\n",
       "      <td>3493763.0</td>\n",
       "      <td>1</td>\n",
       "      <td>15229891.0</td>\n",
       "      <td>32.292726</td>\n",
       "    </tr>\n",
       "    <tr>\n",
       "      <th>32909</th>\n",
       "      <td>32909</td>\n",
       "      <td>Zimbabwe</td>\n",
       "      <td>ZWE</td>\n",
       "      <td>2022-03-28</td>\n",
       "      <td>8934360.0</td>\n",
       "      <td>4975433.0</td>\n",
       "      <td>3501493.0</td>\n",
       "      <td>1</td>\n",
       "      <td>15229891.0</td>\n",
       "      <td>32.668868</td>\n",
       "    </tr>\n",
       "    <tr>\n",
       "      <th>32910</th>\n",
       "      <td>32910</td>\n",
       "      <td>Zimbabwe</td>\n",
       "      <td>ZWE</td>\n",
       "      <td>2022-03-29</td>\n",
       "      <td>9039729.0</td>\n",
       "      <td>5053114.0</td>\n",
       "      <td>3510256.0</td>\n",
       "      <td>0</td>\n",
       "      <td>15229891.0</td>\n",
       "      <td>33.178924</td>\n",
       "    </tr>\n",
       "  </tbody>\n",
       "</table>\n",
       "<p>32911 rows × 10 columns</p>\n",
       "</div>"
      ],
      "text/plain": [
       "       Unnamed: 0      country iso_code        date  total_vaccinations  \\\n",
       "0               0  Afghanistan      AFG  2021-05-11            504502.0   \n",
       "1               1  Afghanistan      AFG  2021-05-20            547901.0   \n",
       "2               2  Afghanistan      AFG  2021-05-24            573277.0   \n",
       "3               3  Afghanistan      AFG  2021-05-26            590454.0   \n",
       "4               4  Afghanistan      AFG  2021-05-27            593313.0   \n",
       "...           ...          ...      ...         ...                 ...   \n",
       "32906       32906     Zimbabwe      ZWE  2022-03-25           8691642.0   \n",
       "32907       32907     Zimbabwe      ZWE  2022-03-26           8791728.0   \n",
       "32908       32908     Zimbabwe      ZWE  2022-03-27           8845039.0   \n",
       "32909       32909     Zimbabwe      ZWE  2022-03-28           8934360.0   \n",
       "32910       32910     Zimbabwe      ZWE  2022-03-29           9039729.0   \n",
       "\n",
       "       people_vaccinated  people_fully_vaccinated  New_deaths  population  \\\n",
       "0               448878.0                  55624.0          12  40374668.0   \n",
       "1               470341.0                  77560.0          10  40374668.0   \n",
       "2               476367.0                  96910.0          10  40374668.0   \n",
       "3               479372.0                 111082.0          19  40374668.0   \n",
       "4               479574.0                 113739.0          14  40374668.0   \n",
       "...                  ...                      ...         ...         ...   \n",
       "32906          4814582.0                3473523.0           2  15229891.0   \n",
       "32907          4886242.0                3487962.0           2  15229891.0   \n",
       "32908          4918147.0                3493763.0           1  15229891.0   \n",
       "32909          4975433.0                3501493.0           1  15229891.0   \n",
       "32910          5053114.0                3510256.0           0  15229891.0   \n",
       "\n",
       "           ratio  \n",
       "0       1.111781  \n",
       "1       1.164941  \n",
       "2       1.179866  \n",
       "3       1.187309  \n",
       "4       1.187809  \n",
       "...          ...  \n",
       "32906  31.612715  \n",
       "32907  32.083237  \n",
       "32908  32.292726  \n",
       "32909  32.668868  \n",
       "32910  33.178924  \n",
       "\n",
       "[32911 rows x 10 columns]"
      ]
     },
     "execution_count": 1,
     "metadata": {},
     "output_type": "execute_result"
    }
   ],
   "source": [
    "import pandas as pd\n",
    "import numpy as np\n",
    "data = pd.read_csv(\"/kaggle/input/covid-vaccination-vs-death/covid-vaccination-vs-death_ratio.csv\")\n",
    "data"
   ]
  },
  {
   "cell_type": "markdown",
   "id": "829a0c37",
   "metadata": {
    "papermill": {
     "duration": 0.008918,
     "end_time": "2025-05-31T09:16:24.243086",
     "exception": false,
     "start_time": "2025-05-31T09:16:24.234168",
     "status": "completed"
    },
    "tags": []
   },
   "source": [
    "### EDA"
   ]
  },
  {
   "cell_type": "code",
   "execution_count": 2,
   "id": "cda24d9e",
   "metadata": {
    "execution": {
     "iopub.execute_input": "2025-05-31T09:16:24.270869Z",
     "iopub.status.busy": "2025-05-31T09:16:24.270187Z",
     "iopub.status.idle": "2025-05-31T09:16:24.278187Z",
     "shell.execute_reply": "2025-05-31T09:16:24.277630Z",
     "shell.execute_reply.started": "2025-05-31T09:10:12.221268Z"
    },
    "papermill": {
     "duration": 0.027059,
     "end_time": "2025-05-31T09:16:24.278339",
     "exception": false,
     "start_time": "2025-05-31T09:16:24.251280",
     "status": "completed"
    },
    "tags": []
   },
   "outputs": [
    {
     "data": {
      "text/plain": [
       "Unnamed: 0                 0\n",
       "country                    0\n",
       "iso_code                   0\n",
       "date                       0\n",
       "total_vaccinations         0\n",
       "people_vaccinated          0\n",
       "people_fully_vaccinated    0\n",
       "New_deaths                 0\n",
       "population                 0\n",
       "ratio                      0\n",
       "dtype: int64"
      ]
     },
     "execution_count": 2,
     "metadata": {},
     "output_type": "execute_result"
    }
   ],
   "source": [
    "data.isnull().sum()\n",
    "# 결측치 없음 !"
   ]
  },
  {
   "cell_type": "code",
   "execution_count": 3,
   "id": "13127c44",
   "metadata": {
    "execution": {
     "iopub.execute_input": "2025-05-31T09:16:24.311596Z",
     "iopub.status.busy": "2025-05-31T09:16:24.310838Z",
     "iopub.status.idle": "2025-05-31T09:16:24.343384Z",
     "shell.execute_reply": "2025-05-31T09:16:24.342817Z",
     "shell.execute_reply.started": "2025-05-31T09:10:14.251854Z"
    },
    "papermill": {
     "duration": 0.056735,
     "end_time": "2025-05-31T09:16:24.343610",
     "exception": false,
     "start_time": "2025-05-31T09:16:24.286875",
     "status": "completed"
    },
    "tags": []
   },
   "outputs": [
    {
     "data": {
      "text/html": [
       "<div>\n",
       "<style scoped>\n",
       "    .dataframe tbody tr th:only-of-type {\n",
       "        vertical-align: middle;\n",
       "    }\n",
       "\n",
       "    .dataframe tbody tr th {\n",
       "        vertical-align: top;\n",
       "    }\n",
       "\n",
       "    .dataframe thead th {\n",
       "        text-align: right;\n",
       "    }\n",
       "</style>\n",
       "<table border=\"1\" class=\"dataframe\">\n",
       "  <thead>\n",
       "    <tr style=\"text-align: right;\">\n",
       "      <th></th>\n",
       "      <th>Unnamed: 0</th>\n",
       "      <th>total_vaccinations</th>\n",
       "      <th>people_vaccinated</th>\n",
       "      <th>people_fully_vaccinated</th>\n",
       "      <th>New_deaths</th>\n",
       "      <th>population</th>\n",
       "      <th>ratio</th>\n",
       "    </tr>\n",
       "  </thead>\n",
       "  <tbody>\n",
       "    <tr>\n",
       "      <th>count</th>\n",
       "      <td>32911.000000</td>\n",
       "      <td>3.291100e+04</td>\n",
       "      <td>3.291100e+04</td>\n",
       "      <td>3.291100e+04</td>\n",
       "      <td>32911.000000</td>\n",
       "      <td>3.291100e+04</td>\n",
       "      <td>32911.000000</td>\n",
       "    </tr>\n",
       "    <tr>\n",
       "      <th>mean</th>\n",
       "      <td>16455.000000</td>\n",
       "      <td>3.689489e+07</td>\n",
       "      <td>2.035846e+07</td>\n",
       "      <td>1.471013e+07</td>\n",
       "      <td>100.043116</td>\n",
       "      <td>5.164060e+07</td>\n",
       "      <td>41.971287</td>\n",
       "    </tr>\n",
       "    <tr>\n",
       "      <th>std</th>\n",
       "      <td>9500.731691</td>\n",
       "      <td>1.411509e+08</td>\n",
       "      <td>7.843235e+07</td>\n",
       "      <td>5.735093e+07</td>\n",
       "      <td>339.500099</td>\n",
       "      <td>1.645294e+08</td>\n",
       "      <td>28.970518</td>\n",
       "    </tr>\n",
       "    <tr>\n",
       "      <th>min</th>\n",
       "      <td>0.000000</td>\n",
       "      <td>1.000000e+00</td>\n",
       "      <td>1.000000e+00</td>\n",
       "      <td>1.000000e+00</td>\n",
       "      <td>-2440.000000</td>\n",
       "      <td>1.373000e+03</td>\n",
       "      <td>0.000011</td>\n",
       "    </tr>\n",
       "    <tr>\n",
       "      <th>25%</th>\n",
       "      <td>8227.500000</td>\n",
       "      <td>7.289180e+05</td>\n",
       "      <td>4.571090e+05</td>\n",
       "      <td>2.313500e+05</td>\n",
       "      <td>1.000000</td>\n",
       "      <td>2.962425e+06</td>\n",
       "      <td>13.697569</td>\n",
       "    </tr>\n",
       "    <tr>\n",
       "      <th>50%</th>\n",
       "      <td>16455.000000</td>\n",
       "      <td>4.552479e+06</td>\n",
       "      <td>2.724528e+06</td>\n",
       "      <td>1.693674e+06</td>\n",
       "      <td>9.000000</td>\n",
       "      <td>1.034057e+07</td>\n",
       "      <td>41.530473</td>\n",
       "    </tr>\n",
       "    <tr>\n",
       "      <th>75%</th>\n",
       "      <td>24682.500000</td>\n",
       "      <td>2.065201e+07</td>\n",
       "      <td>1.158203e+07</td>\n",
       "      <td>7.907290e+06</td>\n",
       "      <td>49.000000</td>\n",
       "      <td>3.826123e+07</td>\n",
       "      <td>68.147335</td>\n",
       "    </tr>\n",
       "    <tr>\n",
       "      <th>max</th>\n",
       "      <td>32910.000000</td>\n",
       "      <td>3.243599e+09</td>\n",
       "      <td>1.275541e+09</td>\n",
       "      <td>1.240777e+09</td>\n",
       "      <td>11447.000000</td>\n",
       "      <td>1.447065e+09</td>\n",
       "      <td>124.737373</td>\n",
       "    </tr>\n",
       "  </tbody>\n",
       "</table>\n",
       "</div>"
      ],
      "text/plain": [
       "         Unnamed: 0  total_vaccinations  people_vaccinated  \\\n",
       "count  32911.000000        3.291100e+04       3.291100e+04   \n",
       "mean   16455.000000        3.689489e+07       2.035846e+07   \n",
       "std     9500.731691        1.411509e+08       7.843235e+07   \n",
       "min        0.000000        1.000000e+00       1.000000e+00   \n",
       "25%     8227.500000        7.289180e+05       4.571090e+05   \n",
       "50%    16455.000000        4.552479e+06       2.724528e+06   \n",
       "75%    24682.500000        2.065201e+07       1.158203e+07   \n",
       "max    32910.000000        3.243599e+09       1.275541e+09   \n",
       "\n",
       "       people_fully_vaccinated    New_deaths    population         ratio  \n",
       "count             3.291100e+04  32911.000000  3.291100e+04  32911.000000  \n",
       "mean              1.471013e+07    100.043116  5.164060e+07     41.971287  \n",
       "std               5.735093e+07    339.500099  1.645294e+08     28.970518  \n",
       "min               1.000000e+00  -2440.000000  1.373000e+03      0.000011  \n",
       "25%               2.313500e+05      1.000000  2.962425e+06     13.697569  \n",
       "50%               1.693674e+06      9.000000  1.034057e+07     41.530473  \n",
       "75%               7.907290e+06     49.000000  3.826123e+07     68.147335  \n",
       "max               1.240777e+09  11447.000000  1.447065e+09    124.737373  "
      ]
     },
     "execution_count": 3,
     "metadata": {},
     "output_type": "execute_result"
    }
   ],
   "source": [
    "data.describe()"
   ]
  },
  {
   "cell_type": "markdown",
   "id": "f46500cf",
   "metadata": {
    "papermill": {
     "duration": 0.009833,
     "end_time": "2025-05-31T09:16:24.362741",
     "exception": false,
     "start_time": "2025-05-31T09:16:24.352908",
     "status": "completed"
    },
    "tags": []
   },
   "source": [
    "### 상위 10개 국가의 접종률 평균과 하위 10개 국가의 접종률 평균 구하기"
   ]
  },
  {
   "cell_type": "code",
   "execution_count": 4,
   "id": "457a6e2d",
   "metadata": {
    "execution": {
     "iopub.execute_input": "2025-05-31T09:16:24.388793Z",
     "iopub.status.busy": "2025-05-31T09:16:24.388027Z",
     "iopub.status.idle": "2025-05-31T09:16:24.449601Z",
     "shell.execute_reply": "2025-05-31T09:16:24.448853Z",
     "shell.execute_reply.started": "2025-05-31T09:13:24.738559Z"
    },
    "papermill": {
     "duration": 0.078151,
     "end_time": "2025-05-31T09:16:24.449753",
     "exception": false,
     "start_time": "2025-05-31T09:16:24.371602",
     "status": "completed"
    },
    "tags": []
   },
   "outputs": [
    {
     "name": "stdout",
     "output_type": "stream",
     "text": [
      "상위 10개 국가의 접종률 평균 91.81697544672713\n",
      "하위 10개 국가의 접종률 평균 3.4504083912453525\n"
     ]
    }
   ],
   "source": [
    "# 나라 별 최대 접종률 찾기\n",
    "data_max = data.groupby('country').max()\n",
    "\n",
    "# 최대 접종률이 100% 이하인 나라만 선택\n",
    "data_max = data_max[data_max['ratio'] <= 100]\n",
    "\n",
    "# 내림차순 정렬\n",
    "data_max = data_max.sort_values(by='ratio', ascending = False)\n",
    "\n",
    "# 상위 10개 국가의 접종률 평균\n",
    "top10_mean = data_max['ratio'].head(10).mean()\n",
    "\n",
    "# 하위 10개 국가의 접종률 평균\n",
    "buttom10_mean = data_max['ratio'].tail(10).mean()\n",
    "\n",
    "print(\"상위 10개 국가의 접종률 평균\", top10_mean)\n",
    "print(\"하위 10개 국가의 접종률 평균\", buttom10_mean)"
   ]
  },
  {
   "cell_type": "markdown",
   "id": "b33ac4d7",
   "metadata": {
    "papermill": {
     "duration": 0.009665,
     "end_time": "2025-05-31T09:16:24.469783",
     "exception": false,
     "start_time": "2025-05-31T09:16:24.460118",
     "status": "completed"
    },
    "tags": []
   },
   "source": [
    "### 두 평균의 차이 구하기"
   ]
  },
  {
   "cell_type": "code",
   "execution_count": 5,
   "id": "bdd9dfdc",
   "metadata": {
    "execution": {
     "iopub.execute_input": "2025-05-31T09:16:24.496361Z",
     "iopub.status.busy": "2025-05-31T09:16:24.495605Z",
     "iopub.status.idle": "2025-05-31T09:16:24.499876Z",
     "shell.execute_reply": "2025-05-31T09:16:24.499237Z",
     "shell.execute_reply.started": "2025-05-31T09:13:37.884670Z"
    },
    "papermill": {
     "duration": 0.020443,
     "end_time": "2025-05-31T09:16:24.500055",
     "exception": false,
     "start_time": "2025-05-31T09:16:24.479612",
     "status": "completed"
    },
    "tags": []
   },
   "outputs": [
    {
     "name": "stdout",
     "output_type": "stream",
     "text": [
      "88.4\n"
     ]
    }
   ],
   "source": [
    "res = top10_mean - buttom10_mean\n",
    "print(round(res,1))"
   ]
  },
  {
   "cell_type": "markdown",
   "id": "860a85cf",
   "metadata": {
    "papermill": {
     "duration": 0.00897,
     "end_time": "2025-05-31T09:16:24.518410",
     "exception": false,
     "start_time": "2025-05-31T09:16:24.509440",
     "status": "completed"
    },
    "tags": []
   },
   "source": [
    "## 풀이 (예시답안)"
   ]
  },
  {
   "cell_type": "code",
   "execution_count": 6,
   "id": "b0631e85",
   "metadata": {
    "_cell_guid": "22d96fce-01bc-44a9-b47a-79e743ee753a",
    "_uuid": "c00af9e9-036c-492c-8fa3-5dc9dddbf451",
    "collapsed": false,
    "execution": {
     "iopub.execute_input": "2025-05-31T09:16:24.548470Z",
     "iopub.status.busy": "2025-05-31T09:16:24.547670Z",
     "iopub.status.idle": "2025-05-31T09:16:24.656404Z",
     "shell.execute_reply": "2025-05-31T09:16:24.655675Z",
     "shell.execute_reply.started": "2025-05-31T09:06:17.848433Z"
    },
    "jupyter": {
     "outputs_hidden": false
    },
    "papermill": {
     "duration": 0.127348,
     "end_time": "2025-05-31T09:16:24.656552",
     "exception": false,
     "start_time": "2025-05-31T09:16:24.529204",
     "status": "completed"
    },
    "tags": []
   },
   "outputs": [
    {
     "name": "stdout",
     "output_type": "stream",
     "text": [
      "88.4\n"
     ]
    }
   ],
   "source": [
    "\n",
    "import pandas as pd\n",
    "\n",
    "df = pd.read_csv(\"../input/covid-vaccination-vs-death/covid-vaccination-vs-death_ratio.csv\")\n",
    "# print(df.head())\n",
    "\n",
    "df2 = df.groupby('country').max() #시간에 따라 접종률이 점점 올라감\n",
    "df2 = df2.sort_values(by='ratio', ascending = False)\n",
    "\n",
    "#100%가 넘는 접종률 제거\n",
    "cond = df2['ratio'] <= 100\n",
    "df2 = df2[cond]\n",
    "\n",
    "top = df2['ratio'].head(10).mean()\n",
    "bottom = df2['ratio'].tail(10).mean()\n",
    "\n",
    "print(round(top - bottom,1))\n",
    "# 결과값은 데이터 업데이트에 따라 달라질 수 있음\n",
    "\n",
    "# 이 데이터는 각 나라마다 1개의 데이터가 있는 것이 아니라 50%, 60%, 70% 누적되어 있어요. 따라서 가장 %가 큰 값이 최근 접종률로 판단하였습니다."
   ]
  }
 ],
 "metadata": {
  "kaggle": {
   "accelerator": "none",
   "dataSources": [
    {
     "datasetId": 1632717,
     "sourceId": 3887549,
     "sourceType": "datasetVersion"
    },
    {
     "datasetId": 1633303,
     "sourceId": 9936200,
     "sourceType": "datasetVersion"
    }
   ],
   "dockerImageVersionId": 30138,
   "isGpuEnabled": false,
   "isInternetEnabled": false,
   "language": "python",
   "sourceType": "notebook"
  },
  "kernelspec": {
   "display_name": "Python 3",
   "language": "python",
   "name": "python3"
  },
  "language_info": {
   "codemirror_mode": {
    "name": "ipython",
    "version": 3
   },
   "file_extension": ".py",
   "mimetype": "text/x-python",
   "name": "python",
   "nbconvert_exporter": "python",
   "pygments_lexer": "ipython3",
   "version": "3.7.10"
  },
  "papermill": {
   "default_parameters": {},
   "duration": 10.861622,
   "end_time": "2025-05-31T09:16:25.277520",
   "environment_variables": {},
   "exception": null,
   "input_path": "__notebook__.ipynb",
   "output_path": "__notebook__.ipynb",
   "parameters": {},
   "start_time": "2025-05-31T09:16:14.415898",
   "version": "2.3.3"
  }
 },
 "nbformat": 4,
 "nbformat_minor": 5
}
