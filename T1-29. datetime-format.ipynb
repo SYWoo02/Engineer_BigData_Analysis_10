{
 "cells": [
  {
   "cell_type": "markdown",
   "id": "0f1917e3",
   "metadata": {
    "papermill": {
     "duration": 0.003814,
     "end_time": "2025-06-02T19:37:09.352632",
     "exception": false,
     "start_time": "2025-06-02T19:37:09.348818",
     "status": "completed"
    },
    "tags": []
   },
   "source": [
    "# T1-29. 12월인 데이터 수는?"
   ]
  },
  {
   "cell_type": "code",
   "execution_count": 1,
   "id": "f7717bc6",
   "metadata": {
    "execution": {
     "iopub.execute_input": "2025-06-02T19:37:09.360154Z",
     "iopub.status.busy": "2025-06-02T19:37:09.359672Z",
     "iopub.status.idle": "2025-06-02T19:37:09.408950Z",
     "shell.execute_reply": "2025-06-02T19:37:09.407356Z"
    },
    "papermill": {
     "duration": 0.05607,
     "end_time": "2025-06-02T19:37:09.411660",
     "exception": false,
     "start_time": "2025-06-02T19:37:09.355590",
     "status": "completed"
    },
    "tags": []
   },
   "outputs": [
    {
     "data": {
      "text/html": [
       "<div>\n",
       "<style scoped>\n",
       "    .dataframe tbody tr th:only-of-type {\n",
       "        vertical-align: middle;\n",
       "    }\n",
       "\n",
       "    .dataframe tbody tr th {\n",
       "        vertical-align: top;\n",
       "    }\n",
       "\n",
       "    .dataframe thead th {\n",
       "        text-align: right;\n",
       "    }\n",
       "</style>\n",
       "<table border=\"1\" class=\"dataframe\">\n",
       "  <thead>\n",
       "    <tr style=\"text-align: right;\">\n",
       "      <th></th>\n",
       "      <th>date</th>\n",
       "      <th>hour</th>\n",
       "      <th>menu</th>\n",
       "      <th>price</th>\n",
       "    </tr>\n",
       "  </thead>\n",
       "  <tbody>\n",
       "    <tr>\n",
       "      <th>0</th>\n",
       "      <td>20221129</td>\n",
       "      <td>13</td>\n",
       "      <td>딸기라떼</td>\n",
       "      <td>4000</td>\n",
       "    </tr>\n",
       "    <tr>\n",
       "      <th>1</th>\n",
       "      <td>20221130</td>\n",
       "      <td>12</td>\n",
       "      <td>카페라떼</td>\n",
       "      <td>3000</td>\n",
       "    </tr>\n",
       "    <tr>\n",
       "      <th>2</th>\n",
       "      <td>20221201</td>\n",
       "      <td>14</td>\n",
       "      <td>바닐라라떼</td>\n",
       "      <td>3500</td>\n",
       "    </tr>\n",
       "    <tr>\n",
       "      <th>3</th>\n",
       "      <td>20221201</td>\n",
       "      <td>16</td>\n",
       "      <td>초코라떼</td>\n",
       "      <td>3500</td>\n",
       "    </tr>\n",
       "    <tr>\n",
       "      <th>4</th>\n",
       "      <td>20221202</td>\n",
       "      <td>17</td>\n",
       "      <td>모카라떼</td>\n",
       "      <td>3500</td>\n",
       "    </tr>\n",
       "  </tbody>\n",
       "</table>\n",
       "</div>"
      ],
      "text/plain": [
       "       date  hour   menu  price\n",
       "0  20221129    13   딸기라떼   4000\n",
       "1  20221130    12   카페라떼   3000\n",
       "2  20221201    14  바닐라라떼   3500\n",
       "3  20221201    16   초코라떼   3500\n",
       "4  20221202    17   모카라떼   3500"
      ]
     },
     "execution_count": 1,
     "metadata": {},
     "output_type": "execute_result"
    }
   ],
   "source": [
    "import pandas as pd\n",
    "df = pd.read_csv(\"/kaggle/input/bigdatacertificationkr/payment.csv\")\n",
    "df.head(5)"
   ]
  },
  {
   "cell_type": "markdown",
   "id": "ac698714",
   "metadata": {
    "papermill": {
     "duration": 0.00255,
     "end_time": "2025-06-02T19:37:09.417224",
     "exception": false,
     "start_time": "2025-06-02T19:37:09.414674",
     "status": "completed"
    },
    "tags": []
   },
   "source": [
    "## 나의 코드 "
   ]
  },
  {
   "cell_type": "code",
   "execution_count": 2,
   "id": "d411a0ab",
   "metadata": {
    "execution": {
     "iopub.execute_input": "2025-06-02T19:37:09.424885Z",
     "iopub.status.busy": "2025-06-02T19:37:09.424429Z",
     "iopub.status.idle": "2025-06-02T19:37:09.445713Z",
     "shell.execute_reply": "2025-06-02T19:37:09.444360Z"
    },
    "papermill": {
     "duration": 0.027852,
     "end_time": "2025-06-02T19:37:09.447999",
     "exception": false,
     "start_time": "2025-06-02T19:37:09.420147",
     "status": "completed"
    },
    "tags": []
   },
   "outputs": [
    {
     "data": {
      "text/html": [
       "<div>\n",
       "<style scoped>\n",
       "    .dataframe tbody tr th:only-of-type {\n",
       "        vertical-align: middle;\n",
       "    }\n",
       "\n",
       "    .dataframe tbody tr th {\n",
       "        vertical-align: top;\n",
       "    }\n",
       "\n",
       "    .dataframe thead th {\n",
       "        text-align: right;\n",
       "    }\n",
       "</style>\n",
       "<table border=\"1\" class=\"dataframe\">\n",
       "  <thead>\n",
       "    <tr style=\"text-align: right;\">\n",
       "      <th></th>\n",
       "      <th>date</th>\n",
       "      <th>hour</th>\n",
       "      <th>menu</th>\n",
       "      <th>price</th>\n",
       "      <th>month</th>\n",
       "    </tr>\n",
       "  </thead>\n",
       "  <tbody>\n",
       "    <tr>\n",
       "      <th>0</th>\n",
       "      <td>2022-11-29</td>\n",
       "      <td>13</td>\n",
       "      <td>딸기라떼</td>\n",
       "      <td>4000</td>\n",
       "      <td>11</td>\n",
       "    </tr>\n",
       "    <tr>\n",
       "      <th>1</th>\n",
       "      <td>2022-11-30</td>\n",
       "      <td>12</td>\n",
       "      <td>카페라떼</td>\n",
       "      <td>3000</td>\n",
       "      <td>11</td>\n",
       "    </tr>\n",
       "    <tr>\n",
       "      <th>2</th>\n",
       "      <td>2022-12-01</td>\n",
       "      <td>14</td>\n",
       "      <td>바닐라라떼</td>\n",
       "      <td>3500</td>\n",
       "      <td>12</td>\n",
       "    </tr>\n",
       "    <tr>\n",
       "      <th>3</th>\n",
       "      <td>2022-12-01</td>\n",
       "      <td>16</td>\n",
       "      <td>초코라떼</td>\n",
       "      <td>3500</td>\n",
       "      <td>12</td>\n",
       "    </tr>\n",
       "    <tr>\n",
       "      <th>4</th>\n",
       "      <td>2022-12-02</td>\n",
       "      <td>17</td>\n",
       "      <td>모카라떼</td>\n",
       "      <td>3500</td>\n",
       "      <td>12</td>\n",
       "    </tr>\n",
       "    <tr>\n",
       "      <th>5</th>\n",
       "      <td>2022-12-02</td>\n",
       "      <td>12</td>\n",
       "      <td>카라멜라떼</td>\n",
       "      <td>3500</td>\n",
       "      <td>12</td>\n",
       "    </tr>\n",
       "    <tr>\n",
       "      <th>6</th>\n",
       "      <td>2022-12-03</td>\n",
       "      <td>8</td>\n",
       "      <td>챠이 라떼</td>\n",
       "      <td>3500</td>\n",
       "      <td>12</td>\n",
       "    </tr>\n",
       "    <tr>\n",
       "      <th>7</th>\n",
       "      <td>2022-12-03</td>\n",
       "      <td>9</td>\n",
       "      <td>아메리카노</td>\n",
       "      <td>2000</td>\n",
       "      <td>12</td>\n",
       "    </tr>\n",
       "    <tr>\n",
       "      <th>8</th>\n",
       "      <td>2022-12-03</td>\n",
       "      <td>15</td>\n",
       "      <td>오곡 라떼</td>\n",
       "      <td>4000</td>\n",
       "      <td>12</td>\n",
       "    </tr>\n",
       "    <tr>\n",
       "      <th>9</th>\n",
       "      <td>2022-12-03</td>\n",
       "      <td>16</td>\n",
       "      <td>아메리카노</td>\n",
       "      <td>2000</td>\n",
       "      <td>12</td>\n",
       "    </tr>\n",
       "    <tr>\n",
       "      <th>10</th>\n",
       "      <td>2022-12-25</td>\n",
       "      <td>10</td>\n",
       "      <td>아메리카노</td>\n",
       "      <td>2000</td>\n",
       "      <td>12</td>\n",
       "    </tr>\n",
       "    <tr>\n",
       "      <th>11</th>\n",
       "      <td>2022-12-25</td>\n",
       "      <td>14</td>\n",
       "      <td>토피넛 라떼</td>\n",
       "      <td>4000</td>\n",
       "      <td>12</td>\n",
       "    </tr>\n",
       "    <tr>\n",
       "      <th>12</th>\n",
       "      <td>2022-12-25</td>\n",
       "      <td>16</td>\n",
       "      <td>카페 라떼</td>\n",
       "      <td>3000</td>\n",
       "      <td>12</td>\n",
       "    </tr>\n",
       "  </tbody>\n",
       "</table>\n",
       "</div>"
      ],
      "text/plain": [
       "         date  hour    menu  price  month\n",
       "0  2022-11-29    13    딸기라떼   4000     11\n",
       "1  2022-11-30    12    카페라떼   3000     11\n",
       "2  2022-12-01    14   바닐라라떼   3500     12\n",
       "3  2022-12-01    16    초코라떼   3500     12\n",
       "4  2022-12-02    17    모카라떼   3500     12\n",
       "5  2022-12-02    12   카라멜라떼   3500     12\n",
       "6  2022-12-03     8   챠이 라떼   3500     12\n",
       "7  2022-12-03     9   아메리카노   2000     12\n",
       "8  2022-12-03    15   오곡 라떼   4000     12\n",
       "9  2022-12-03    16   아메리카노   2000     12\n",
       "10 2022-12-25    10   아메리카노   2000     12\n",
       "11 2022-12-25    14  토피넛 라떼   4000     12\n",
       "12 2022-12-25    16   카페 라떼   3000     12"
      ]
     },
     "execution_count": 2,
     "metadata": {},
     "output_type": "execute_result"
    }
   ],
   "source": [
    "# 'date'칼럼을 datetime으로 변경 (date가 %Y%m%d 형태임을 잊지 말자 !)\n",
    "df['date'] = pd.to_datetime(df['date'], format='%Y%m%d')\n",
    "\n",
    "# month 추출\n",
    "df['month'] = df['date'].dt.month\n",
    "df"
   ]
  },
  {
   "cell_type": "code",
   "execution_count": 3,
   "id": "c4bbcebd",
   "metadata": {
    "execution": {
     "iopub.execute_input": "2025-06-02T19:37:09.456363Z",
     "iopub.status.busy": "2025-06-02T19:37:09.455911Z",
     "iopub.status.idle": "2025-06-02T19:37:09.467415Z",
     "shell.execute_reply": "2025-06-02T19:37:09.466006Z"
    },
    "papermill": {
     "duration": 0.0187,
     "end_time": "2025-06-02T19:37:09.470116",
     "exception": false,
     "start_time": "2025-06-02T19:37:09.451416",
     "status": "completed"
    },
    "tags": []
   },
   "outputs": [
    {
     "name": "stdout",
     "output_type": "stream",
     "text": [
      "11\n"
     ]
    }
   ],
   "source": [
    "# 12월인 데이터의 수는 ?\n",
    "print(len(df[df['month'] == 12]))\n",
    "\n",
    "# 정답: 11"
   ]
  },
  {
   "cell_type": "code",
   "execution_count": null,
   "id": "0f758397",
   "metadata": {
    "papermill": {
     "duration": 0.003226,
     "end_time": "2025-06-02T19:37:09.476743",
     "exception": false,
     "start_time": "2025-06-02T19:37:09.473517",
     "status": "completed"
    },
    "tags": []
   },
   "outputs": [],
   "source": []
  },
  {
   "cell_type": "code",
   "execution_count": null,
   "id": "381124ff",
   "metadata": {
    "papermill": {
     "duration": 0.002875,
     "end_time": "2025-06-02T19:37:09.483198",
     "exception": false,
     "start_time": "2025-06-02T19:37:09.480323",
     "status": "completed"
    },
    "tags": []
   },
   "outputs": [],
   "source": []
  },
  {
   "cell_type": "code",
   "execution_count": null,
   "id": "0d6e372c",
   "metadata": {
    "papermill": {
     "duration": 0.002937,
     "end_time": "2025-06-02T19:37:09.489438",
     "exception": false,
     "start_time": "2025-06-02T19:37:09.486501",
     "status": "completed"
    },
    "tags": []
   },
   "outputs": [],
   "source": []
  },
  {
   "cell_type": "markdown",
   "id": "0f6ec02d",
   "metadata": {
    "papermill": {
     "duration": 0.002939,
     "end_time": "2025-06-02T19:37:09.495594",
     "exception": false,
     "start_time": "2025-06-02T19:37:09.492655",
     "status": "completed"
    },
    "tags": []
   },
   "source": [
    "## 풀이 (예시답안)"
   ]
  },
  {
   "cell_type": "code",
   "execution_count": 4,
   "id": "f5bdea00",
   "metadata": {
    "execution": {
     "iopub.execute_input": "2025-06-02T19:37:09.504096Z",
     "iopub.status.busy": "2025-06-02T19:37:09.503617Z",
     "iopub.status.idle": "2025-06-02T19:37:09.515144Z",
     "shell.execute_reply": "2025-06-02T19:37:09.513702Z"
    },
    "papermill": {
     "duration": 0.019362,
     "end_time": "2025-06-02T19:37:09.518109",
     "exception": false,
     "start_time": "2025-06-02T19:37:09.498747",
     "status": "completed"
    },
    "tags": []
   },
   "outputs": [
    {
     "name": "stdout",
     "output_type": "stream",
     "text": [
      "11\n"
     ]
    }
   ],
   "source": [
    "data = pd.read_csv(\"/kaggle/input/bigdatacertificationkr/payment.csv\")\n",
    "data['date'] = pd.to_datetime(data['date'], format='%Y%m%d')\n",
    "print(sum(data['date'].dt.month == 12))"
   ]
  }
 ],
 "metadata": {
  "kaggle": {
   "accelerator": "none",
   "dataSources": [
    {
     "datasetId": 1633303,
     "sourceId": 9936200,
     "sourceType": "datasetVersion"
    }
   ],
   "dockerImageVersionId": 30301,
   "isGpuEnabled": false,
   "isInternetEnabled": false,
   "language": "python",
   "sourceType": "notebook"
  },
  "kernelspec": {
   "display_name": "Python 3",
   "language": "python",
   "name": "python3"
  },
  "language_info": {
   "codemirror_mode": {
    "name": "ipython",
    "version": 3
   },
   "file_extension": ".py",
   "mimetype": "text/x-python",
   "name": "python",
   "nbconvert_exporter": "python",
   "pygments_lexer": "ipython3",
   "version": "3.7.12"
  },
  "papermill": {
   "default_parameters": {},
   "duration": 11.468762,
   "end_time": "2025-06-02T19:37:10.244880",
   "environment_variables": {},
   "exception": null,
   "input_path": "__notebook__.ipynb",
   "output_path": "__notebook__.ipynb",
   "parameters": {},
   "start_time": "2025-06-02T19:36:58.776118",
   "version": "2.3.4"
  }
 },
 "nbformat": 4,
 "nbformat_minor": 5
}
