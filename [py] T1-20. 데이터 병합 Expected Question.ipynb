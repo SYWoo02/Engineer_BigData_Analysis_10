{
 "cells": [
  {
   "cell_type": "markdown",
   "id": "a8fea64a",
   "metadata": {
    "execution": {
     "iopub.execute_input": "2021-11-18T01:40:12.744485Z",
     "iopub.status.busy": "2021-11-18T01:40:12.743794Z",
     "iopub.status.idle": "2021-11-18T01:40:12.752699Z",
     "shell.execute_reply": "2021-11-18T01:40:12.751205Z",
     "shell.execute_reply.started": "2021-11-18T01:40:12.744442Z"
    },
    "papermill": {
     "duration": 0.015305,
     "end_time": "2025-05-31T11:48:34.459254",
     "exception": false,
     "start_time": "2025-05-31T11:48:34.443949",
     "status": "completed"
    },
    "tags": []
   },
   "source": [
    "## 고객과 잘 맞는 타입 추천 :)\n",
    "### basic1 데이터와 basic3 데이터를 basic1의 'f4'값을 기준으로 병합하고, \n",
    "### 병합한 데이터에서 r2결측치를 제거한다음, 앞에서 부터 20개 데이터를 선택하고 'f2'컬럼 합을 구하시오\n",
    "\n",
    "- basic1.csv: 고객 데이터 \n",
    "- basic3.csv: 잘 어울리는 관계 데이터 (추천1:r1, 추천2:r2)"
   ]
  },
  {
   "cell_type": "markdown",
   "id": "fb479f96",
   "metadata": {
    "papermill": {
     "duration": 0.014657,
     "end_time": "2025-05-31T11:48:34.489845",
     "exception": false,
     "start_time": "2025-05-31T11:48:34.475188",
     "status": "completed"
    },
    "tags": []
   },
   "source": [
    "## 나의 코드"
   ]
  },
  {
   "cell_type": "code",
   "execution_count": 1,
   "id": "e4f7034e",
   "metadata": {
    "execution": {
     "iopub.execute_input": "2025-05-31T11:48:34.535761Z",
     "iopub.status.busy": "2025-05-31T11:48:34.534831Z",
     "iopub.status.idle": "2025-05-31T11:48:34.577328Z",
     "shell.execute_reply": "2025-05-31T11:48:34.578581Z",
     "shell.execute_reply.started": "2025-05-31T11:41:01.016480Z"
    },
    "papermill": {
     "duration": 0.072217,
     "end_time": "2025-05-31T11:48:34.578912",
     "exception": false,
     "start_time": "2025-05-31T11:48:34.506695",
     "status": "completed"
    },
    "tags": []
   },
   "outputs": [
    {
     "name": "stdout",
     "output_type": "stream",
     "text": [
      "       id    age city    f1  f2   f3    f4         f5\n",
      "0    id01    2.0   서울   NaN   0  NaN  ENFJ  91.297791\n",
      "1    id02    9.0   서울  70.0   1  NaN  ENFJ  60.339826\n",
      "2    id03   27.0   서울  61.0   1  NaN  ISTJ  17.252986\n",
      "3    id04   75.0   서울   NaN   2  NaN  INFP  52.667078\n",
      "4    id05   24.0   서울  85.0   2  NaN  ISFJ  29.269869\n",
      "..    ...    ...  ...   ...  ..  ...   ...        ...\n",
      "95   id96   92.0   경기  53.0   1  NaN  ENTJ  52.667078\n",
      "96   id97  100.0   경기   NaN   0  NaN  INFP  67.886373\n",
      "97   id98   39.0   경기  58.0   2  NaN  INFP  98.429899\n",
      "98   id99    1.0   경기  47.0   0  NaN  ESFJ  97.381034\n",
      "99  id100   47.0   경기  53.0   0  vip  ESFP  33.308999\n",
      "\n",
      "[100 rows x 8 columns]\n",
      "      f4    r1    r2\n",
      "0   INFP  ENFJ  ENTJ\n",
      "1   ENFP  INFJ   NaN\n",
      "2   INFJ  ENFP  ENTP\n",
      "3   ENFJ  INFP  ISFP\n",
      "4   INTJ  ENFP  ENTP\n",
      "5   ENTJ  INFP   NaN\n",
      "6   INTP  ENTJ  ESTJ\n",
      "7   ENTP  INFJ  INTJ\n",
      "8   ISFP  ENFJ  ESFJ\n",
      "9   ESFP  ISFJ  ISTJ\n",
      "10  ISTP  ESFJ   NaN\n",
      "11  ESTP  ISFJ  ISTJ\n",
      "12  ISFJ  ESFP  ESTP\n",
      "13  ESFJ  ISFP  ISTP\n",
      "14  ISTJ  ESFP   NaN\n",
      "15  ESTJ  INTP  ISFP\n"
     ]
    }
   ],
   "source": [
    "# 라이브러리 및 데이터 불러오기\n",
    "import pandas as pd\n",
    "import pandas as np\n",
    "data1 =  pd.read_csv(\"../input/bigdatacertificationkr/basic1.csv\")\n",
    "data2 = pd.read_csv(\"../input/bigdatacertificationkr/basic3.csv\")\n",
    "\n",
    "print(data1)\n",
    "print(data2)"
   ]
  },
  {
   "cell_type": "code",
   "execution_count": 2,
   "id": "c2ca2f1f",
   "metadata": {
    "execution": {
     "iopub.execute_input": "2025-05-31T11:48:34.619127Z",
     "iopub.status.busy": "2025-05-31T11:48:34.618099Z",
     "iopub.status.idle": "2025-05-31T11:48:34.622988Z",
     "shell.execute_reply": "2025-05-31T11:48:34.622308Z",
     "shell.execute_reply.started": "2025-05-31T11:30:46.767896Z"
    },
    "papermill": {
     "duration": 0.029444,
     "end_time": "2025-05-31T11:48:34.623145",
     "exception": false,
     "start_time": "2025-05-31T11:48:34.593701",
     "status": "completed"
    },
    "tags": []
   },
   "outputs": [
    {
     "data": {
      "text/plain": [
       "id       0\n",
       "age      0\n",
       "city     0\n",
       "f1      31\n",
       "f2       0\n",
       "f3      95\n",
       "f4       0\n",
       "f5       0\n",
       "dtype: int64"
      ]
     },
     "execution_count": 2,
     "metadata": {},
     "output_type": "execute_result"
    }
   ],
   "source": [
    "# EDA\n",
    "data1.isnull().sum()"
   ]
  },
  {
   "cell_type": "code",
   "execution_count": 3,
   "id": "7363a8c1",
   "metadata": {
    "execution": {
     "iopub.execute_input": "2025-05-31T11:48:34.660469Z",
     "iopub.status.busy": "2025-05-31T11:48:34.659522Z",
     "iopub.status.idle": "2025-05-31T11:48:34.664482Z",
     "shell.execute_reply": "2025-05-31T11:48:34.665071Z",
     "shell.execute_reply.started": "2025-05-31T11:30:53.918181Z"
    },
    "papermill": {
     "duration": 0.02757,
     "end_time": "2025-05-31T11:48:34.665259",
     "exception": false,
     "start_time": "2025-05-31T11:48:34.637689",
     "status": "completed"
    },
    "tags": []
   },
   "outputs": [
    {
     "data": {
      "text/plain": [
       "f4    0\n",
       "r1    0\n",
       "r2    4\n",
       "dtype: int64"
      ]
     },
     "execution_count": 3,
     "metadata": {},
     "output_type": "execute_result"
    }
   ],
   "source": [
    "# EDA\n",
    "data2.isnull().sum()"
   ]
  },
  {
   "cell_type": "code",
   "execution_count": 4,
   "id": "a9267316",
   "metadata": {
    "execution": {
     "iopub.execute_input": "2025-05-31T11:48:34.704083Z",
     "iopub.status.busy": "2025-05-31T11:48:34.698260Z",
     "iopub.status.idle": "2025-05-31T11:48:34.734358Z",
     "shell.execute_reply": "2025-05-31T11:48:34.733663Z",
     "shell.execute_reply.started": "2025-05-31T11:46:22.755374Z"
    },
    "papermill": {
     "duration": 0.054335,
     "end_time": "2025-05-31T11:48:34.734554",
     "exception": false,
     "start_time": "2025-05-31T11:48:34.680219",
     "status": "completed"
    },
    "tags": []
   },
   "outputs": [
    {
     "data": {
      "text/html": [
       "<div>\n",
       "<style scoped>\n",
       "    .dataframe tbody tr th:only-of-type {\n",
       "        vertical-align: middle;\n",
       "    }\n",
       "\n",
       "    .dataframe tbody tr th {\n",
       "        vertical-align: top;\n",
       "    }\n",
       "\n",
       "    .dataframe thead th {\n",
       "        text-align: right;\n",
       "    }\n",
       "</style>\n",
       "<table border=\"1\" class=\"dataframe\">\n",
       "  <thead>\n",
       "    <tr style=\"text-align: right;\">\n",
       "      <th></th>\n",
       "      <th>id</th>\n",
       "      <th>age</th>\n",
       "      <th>city</th>\n",
       "      <th>f1</th>\n",
       "      <th>f2</th>\n",
       "      <th>f3</th>\n",
       "      <th>f4</th>\n",
       "      <th>f5</th>\n",
       "      <th>r1</th>\n",
       "      <th>r2</th>\n",
       "    </tr>\n",
       "  </thead>\n",
       "  <tbody>\n",
       "    <tr>\n",
       "      <th>0</th>\n",
       "      <td>id01</td>\n",
       "      <td>2.0</td>\n",
       "      <td>서울</td>\n",
       "      <td>NaN</td>\n",
       "      <td>0</td>\n",
       "      <td>NaN</td>\n",
       "      <td>ENFJ</td>\n",
       "      <td>91.297791</td>\n",
       "      <td>INFP</td>\n",
       "      <td>ISFP</td>\n",
       "    </tr>\n",
       "    <tr>\n",
       "      <th>1</th>\n",
       "      <td>id02</td>\n",
       "      <td>9.0</td>\n",
       "      <td>서울</td>\n",
       "      <td>70.0</td>\n",
       "      <td>1</td>\n",
       "      <td>NaN</td>\n",
       "      <td>ENFJ</td>\n",
       "      <td>60.339826</td>\n",
       "      <td>INFP</td>\n",
       "      <td>ISFP</td>\n",
       "    </tr>\n",
       "    <tr>\n",
       "      <th>2</th>\n",
       "      <td>id03</td>\n",
       "      <td>27.0</td>\n",
       "      <td>서울</td>\n",
       "      <td>61.0</td>\n",
       "      <td>1</td>\n",
       "      <td>NaN</td>\n",
       "      <td>ISTJ</td>\n",
       "      <td>17.252986</td>\n",
       "      <td>ESFP</td>\n",
       "      <td>NaN</td>\n",
       "    </tr>\n",
       "    <tr>\n",
       "      <th>3</th>\n",
       "      <td>id04</td>\n",
       "      <td>75.0</td>\n",
       "      <td>서울</td>\n",
       "      <td>NaN</td>\n",
       "      <td>2</td>\n",
       "      <td>NaN</td>\n",
       "      <td>INFP</td>\n",
       "      <td>52.667078</td>\n",
       "      <td>ENFJ</td>\n",
       "      <td>ENTJ</td>\n",
       "    </tr>\n",
       "    <tr>\n",
       "      <th>4</th>\n",
       "      <td>id05</td>\n",
       "      <td>24.0</td>\n",
       "      <td>서울</td>\n",
       "      <td>85.0</td>\n",
       "      <td>2</td>\n",
       "      <td>NaN</td>\n",
       "      <td>ISFJ</td>\n",
       "      <td>29.269869</td>\n",
       "      <td>ESFP</td>\n",
       "      <td>ESTP</td>\n",
       "    </tr>\n",
       "    <tr>\n",
       "      <th>...</th>\n",
       "      <td>...</td>\n",
       "      <td>...</td>\n",
       "      <td>...</td>\n",
       "      <td>...</td>\n",
       "      <td>...</td>\n",
       "      <td>...</td>\n",
       "      <td>...</td>\n",
       "      <td>...</td>\n",
       "      <td>...</td>\n",
       "      <td>...</td>\n",
       "    </tr>\n",
       "    <tr>\n",
       "      <th>95</th>\n",
       "      <td>id96</td>\n",
       "      <td>92.0</td>\n",
       "      <td>경기</td>\n",
       "      <td>53.0</td>\n",
       "      <td>1</td>\n",
       "      <td>NaN</td>\n",
       "      <td>ENTJ</td>\n",
       "      <td>52.667078</td>\n",
       "      <td>INFP</td>\n",
       "      <td>NaN</td>\n",
       "    </tr>\n",
       "    <tr>\n",
       "      <th>96</th>\n",
       "      <td>id97</td>\n",
       "      <td>100.0</td>\n",
       "      <td>경기</td>\n",
       "      <td>NaN</td>\n",
       "      <td>0</td>\n",
       "      <td>NaN</td>\n",
       "      <td>INFP</td>\n",
       "      <td>67.886373</td>\n",
       "      <td>ENFJ</td>\n",
       "      <td>ENTJ</td>\n",
       "    </tr>\n",
       "    <tr>\n",
       "      <th>97</th>\n",
       "      <td>id98</td>\n",
       "      <td>39.0</td>\n",
       "      <td>경기</td>\n",
       "      <td>58.0</td>\n",
       "      <td>2</td>\n",
       "      <td>NaN</td>\n",
       "      <td>INFP</td>\n",
       "      <td>98.429899</td>\n",
       "      <td>ENFJ</td>\n",
       "      <td>ENTJ</td>\n",
       "    </tr>\n",
       "    <tr>\n",
       "      <th>98</th>\n",
       "      <td>id99</td>\n",
       "      <td>1.0</td>\n",
       "      <td>경기</td>\n",
       "      <td>47.0</td>\n",
       "      <td>0</td>\n",
       "      <td>NaN</td>\n",
       "      <td>ESFJ</td>\n",
       "      <td>97.381034</td>\n",
       "      <td>ISFP</td>\n",
       "      <td>ISTP</td>\n",
       "    </tr>\n",
       "    <tr>\n",
       "      <th>99</th>\n",
       "      <td>id100</td>\n",
       "      <td>47.0</td>\n",
       "      <td>경기</td>\n",
       "      <td>53.0</td>\n",
       "      <td>0</td>\n",
       "      <td>vip</td>\n",
       "      <td>ESFP</td>\n",
       "      <td>33.308999</td>\n",
       "      <td>ISFJ</td>\n",
       "      <td>ISTJ</td>\n",
       "    </tr>\n",
       "  </tbody>\n",
       "</table>\n",
       "<p>100 rows × 10 columns</p>\n",
       "</div>"
      ],
      "text/plain": [
       "       id    age city    f1  f2   f3    f4         f5    r1    r2\n",
       "0    id01    2.0   서울   NaN   0  NaN  ENFJ  91.297791  INFP  ISFP\n",
       "1    id02    9.0   서울  70.0   1  NaN  ENFJ  60.339826  INFP  ISFP\n",
       "2    id03   27.0   서울  61.0   1  NaN  ISTJ  17.252986  ESFP   NaN\n",
       "3    id04   75.0   서울   NaN   2  NaN  INFP  52.667078  ENFJ  ENTJ\n",
       "4    id05   24.0   서울  85.0   2  NaN  ISFJ  29.269869  ESFP  ESTP\n",
       "..    ...    ...  ...   ...  ..  ...   ...        ...   ...   ...\n",
       "95   id96   92.0   경기  53.0   1  NaN  ENTJ  52.667078  INFP   NaN\n",
       "96   id97  100.0   경기   NaN   0  NaN  INFP  67.886373  ENFJ  ENTJ\n",
       "97   id98   39.0   경기  58.0   2  NaN  INFP  98.429899  ENFJ  ENTJ\n",
       "98   id99    1.0   경기  47.0   0  NaN  ESFJ  97.381034  ISFP  ISTP\n",
       "99  id100   47.0   경기  53.0   0  vip  ESFP  33.308999  ISFJ  ISTJ\n",
       "\n",
       "[100 rows x 10 columns]"
      ]
     },
     "execution_count": 4,
     "metadata": {},
     "output_type": "execute_result"
    }
   ],
   "source": [
    "# 데이터 basic1 (data1)와 데이터 basic3 (data2)를 basic1의 'f4'값을 기준으로 병합\n",
    "merged_data = pd.merge(data1, data2, how = \"left\", on ='f4')\n",
    "merged_data"
   ]
  },
  {
   "cell_type": "code",
   "execution_count": 5,
   "id": "0aed45c1",
   "metadata": {
    "execution": {
     "iopub.execute_input": "2025-05-31T11:48:34.780288Z",
     "iopub.status.busy": "2025-05-31T11:48:34.775453Z",
     "iopub.status.idle": "2025-05-31T11:48:34.784059Z",
     "shell.execute_reply": "2025-05-31T11:48:34.784726Z",
     "shell.execute_reply.started": "2025-05-31T11:47:19.453782Z"
    },
    "papermill": {
     "duration": 0.033329,
     "end_time": "2025-05-31T11:48:34.784907",
     "exception": false,
     "start_time": "2025-05-31T11:48:34.751578",
     "status": "completed"
    },
    "tags": []
   },
   "outputs": [
    {
     "name": "stdout",
     "output_type": "stream",
     "text": [
      "결측치 제거 전 칼럼 별 결측치 개수 파악: \n",
      " id       0\n",
      "age      0\n",
      "city     0\n",
      "f1      31\n",
      "f2       0\n",
      "f3      95\n",
      "f4       0\n",
      "f5       0\n",
      "r1       0\n",
      "r2      17\n",
      "dtype: int64\n",
      "\n",
      "결측치 제거 후 칼럼 별 결측치 개수 파악: \n",
      " id       0\n",
      "age      0\n",
      "city     0\n",
      "f1      27\n",
      "f2       0\n",
      "f3      78\n",
      "f4       0\n",
      "f5       0\n",
      "r1       0\n",
      "r2       0\n",
      "dtype: int64\n"
     ]
    }
   ],
   "source": [
    "# 병합한 데이터의 결측치 개수 파악\n",
    "print(\"결측치 제거 전 칼럼 별 결측치 개수 파악: \\n\",merged_data.isnull().sum())\n",
    "\n",
    "# 병합한 데이터에서 'r2' 칼럼의 결측치를 제거\n",
    "merged_data2 = merged_data.dropna(subset=['r2'],axis = 0)\n",
    "\n",
    "# 'r2'칼럼의 결측치 제거가 잘 되었는지 확인 \n",
    "print(\"\\n결측치 제거 후 칼럼 별 결측치 개수 파악: \\n\",merged_data2.isnull().sum())"
   ]
  },
  {
   "cell_type": "code",
   "execution_count": 6,
   "id": "113181b9",
   "metadata": {
    "execution": {
     "iopub.execute_input": "2025-05-31T11:48:34.826657Z",
     "iopub.status.busy": "2025-05-31T11:48:34.825946Z",
     "iopub.status.idle": "2025-05-31T11:48:34.829802Z",
     "shell.execute_reply": "2025-05-31T11:48:34.829246Z",
     "shell.execute_reply.started": "2025-05-31T11:47:55.911910Z"
    },
    "papermill": {
     "duration": 0.028282,
     "end_time": "2025-05-31T11:48:34.829951",
     "exception": false,
     "start_time": "2025-05-31T11:48:34.801669",
     "status": "completed"
    },
    "tags": []
   },
   "outputs": [
    {
     "name": "stdout",
     "output_type": "stream",
     "text": [
      "0     0\n",
      "1     1\n",
      "3     2\n",
      "4     2\n",
      "5     0\n",
      "6     1\n",
      "7     1\n",
      "8     2\n",
      "9     1\n",
      "11    0\n",
      "12    0\n",
      "14    1\n",
      "15    0\n",
      "17    2\n",
      "18    0\n",
      "19    1\n",
      "20    1\n",
      "23    0\n",
      "24    0\n",
      "26    0\n",
      "Name: f2, dtype: int64\n",
      "\n",
      " 15\n"
     ]
    }
   ],
   "source": [
    "# 앞에서 부터 20개 데이터를 선택하고 'f2'컬럼 합을 구하기\n",
    "top20 = merged_data2.head(20)\n",
    "top20_f2_sum = top20['f2'].sum()\n",
    "print(top20['f2'])\n",
    "print('\\n',top20_f2_sum)"
   ]
  },
  {
   "cell_type": "markdown",
   "id": "3612b928",
   "metadata": {
    "papermill": {
     "duration": 0.016006,
     "end_time": "2025-05-31T11:48:34.862408",
     "exception": false,
     "start_time": "2025-05-31T11:48:34.846402",
     "status": "completed"
    },
    "tags": []
   },
   "source": [
    "## 풀이 (예시답안)"
   ]
  },
  {
   "cell_type": "code",
   "execution_count": 7,
   "id": "5a933d1f",
   "metadata": {
    "execution": {
     "iopub.execute_input": "2025-05-31T11:48:34.904762Z",
     "iopub.status.busy": "2025-05-31T11:48:34.903979Z",
     "iopub.status.idle": "2025-05-31T11:48:34.914034Z",
     "shell.execute_reply": "2025-05-31T11:48:34.913392Z",
     "shell.execute_reply.started": "2025-05-31T11:44:19.362659Z"
    },
    "papermill": {
     "duration": 0.03553,
     "end_time": "2025-05-31T11:48:34.914184",
     "exception": false,
     "start_time": "2025-05-31T11:48:34.878654",
     "status": "completed"
    },
    "tags": []
   },
   "outputs": [],
   "source": [
    "# 라이브러리 및 데이터 로드\n",
    "import pandas as pd\n",
    "b1 = pd.read_csv(\"../input/bigdatacertificationkr/basic1.csv\")\n",
    "b3 = pd.read_csv(\"../input/bigdatacertificationkr/basic3.csv\")"
   ]
  },
  {
   "cell_type": "code",
   "execution_count": 8,
   "id": "0881a196",
   "metadata": {
    "execution": {
     "iopub.execute_input": "2025-05-31T11:48:34.962054Z",
     "iopub.status.busy": "2025-05-31T11:48:34.956225Z",
     "iopub.status.idle": "2025-05-31T11:48:34.967281Z",
     "shell.execute_reply": "2025-05-31T11:48:34.966707Z",
     "shell.execute_reply.started": "2025-05-31T11:44:21.067745Z"
    },
    "papermill": {
     "duration": 0.036859,
     "end_time": "2025-05-31T11:48:34.967449",
     "exception": false,
     "start_time": "2025-05-31T11:48:34.930590",
     "status": "completed"
    },
    "tags": []
   },
   "outputs": [
    {
     "data": {
      "text/html": [
       "<div>\n",
       "<style scoped>\n",
       "    .dataframe tbody tr th:only-of-type {\n",
       "        vertical-align: middle;\n",
       "    }\n",
       "\n",
       "    .dataframe tbody tr th {\n",
       "        vertical-align: top;\n",
       "    }\n",
       "\n",
       "    .dataframe thead th {\n",
       "        text-align: right;\n",
       "    }\n",
       "</style>\n",
       "<table border=\"1\" class=\"dataframe\">\n",
       "  <thead>\n",
       "    <tr style=\"text-align: right;\">\n",
       "      <th></th>\n",
       "      <th>id</th>\n",
       "      <th>age</th>\n",
       "      <th>city</th>\n",
       "      <th>f1</th>\n",
       "      <th>f2</th>\n",
       "      <th>f3</th>\n",
       "      <th>f4</th>\n",
       "      <th>f5</th>\n",
       "    </tr>\n",
       "  </thead>\n",
       "  <tbody>\n",
       "    <tr>\n",
       "      <th>0</th>\n",
       "      <td>id01</td>\n",
       "      <td>2.0</td>\n",
       "      <td>서울</td>\n",
       "      <td>NaN</td>\n",
       "      <td>0</td>\n",
       "      <td>NaN</td>\n",
       "      <td>ENFJ</td>\n",
       "      <td>91.297791</td>\n",
       "    </tr>\n",
       "    <tr>\n",
       "      <th>1</th>\n",
       "      <td>id02</td>\n",
       "      <td>9.0</td>\n",
       "      <td>서울</td>\n",
       "      <td>70.0</td>\n",
       "      <td>1</td>\n",
       "      <td>NaN</td>\n",
       "      <td>ENFJ</td>\n",
       "      <td>60.339826</td>\n",
       "    </tr>\n",
       "    <tr>\n",
       "      <th>2</th>\n",
       "      <td>id03</td>\n",
       "      <td>27.0</td>\n",
       "      <td>서울</td>\n",
       "      <td>61.0</td>\n",
       "      <td>1</td>\n",
       "      <td>NaN</td>\n",
       "      <td>ISTJ</td>\n",
       "      <td>17.252986</td>\n",
       "    </tr>\n",
       "    <tr>\n",
       "      <th>3</th>\n",
       "      <td>id04</td>\n",
       "      <td>75.0</td>\n",
       "      <td>서울</td>\n",
       "      <td>NaN</td>\n",
       "      <td>2</td>\n",
       "      <td>NaN</td>\n",
       "      <td>INFP</td>\n",
       "      <td>52.667078</td>\n",
       "    </tr>\n",
       "    <tr>\n",
       "      <th>4</th>\n",
       "      <td>id05</td>\n",
       "      <td>24.0</td>\n",
       "      <td>서울</td>\n",
       "      <td>85.0</td>\n",
       "      <td>2</td>\n",
       "      <td>NaN</td>\n",
       "      <td>ISFJ</td>\n",
       "      <td>29.269869</td>\n",
       "    </tr>\n",
       "  </tbody>\n",
       "</table>\n",
       "</div>"
      ],
      "text/plain": [
       "     id   age city    f1  f2   f3    f4         f5\n",
       "0  id01   2.0   서울   NaN   0  NaN  ENFJ  91.297791\n",
       "1  id02   9.0   서울  70.0   1  NaN  ENFJ  60.339826\n",
       "2  id03  27.0   서울  61.0   1  NaN  ISTJ  17.252986\n",
       "3  id04  75.0   서울   NaN   2  NaN  INFP  52.667078\n",
       "4  id05  24.0   서울  85.0   2  NaN  ISFJ  29.269869"
      ]
     },
     "execution_count": 8,
     "metadata": {},
     "output_type": "execute_result"
    }
   ],
   "source": [
    "b1.head()"
   ]
  },
  {
   "cell_type": "code",
   "execution_count": 9,
   "id": "b314e38c",
   "metadata": {
    "execution": {
     "iopub.execute_input": "2025-05-31T11:48:35.012386Z",
     "iopub.status.busy": "2025-05-31T11:48:35.011490Z",
     "iopub.status.idle": "2025-05-31T11:48:35.015589Z",
     "shell.execute_reply": "2025-05-31T11:48:35.015044Z",
     "shell.execute_reply.started": "2025-05-31T11:44:22.675614Z"
    },
    "papermill": {
     "duration": 0.030473,
     "end_time": "2025-05-31T11:48:35.015736",
     "exception": false,
     "start_time": "2025-05-31T11:48:34.985263",
     "status": "completed"
    },
    "tags": []
   },
   "outputs": [
    {
     "data": {
      "text/html": [
       "<div>\n",
       "<style scoped>\n",
       "    .dataframe tbody tr th:only-of-type {\n",
       "        vertical-align: middle;\n",
       "    }\n",
       "\n",
       "    .dataframe tbody tr th {\n",
       "        vertical-align: top;\n",
       "    }\n",
       "\n",
       "    .dataframe thead th {\n",
       "        text-align: right;\n",
       "    }\n",
       "</style>\n",
       "<table border=\"1\" class=\"dataframe\">\n",
       "  <thead>\n",
       "    <tr style=\"text-align: right;\">\n",
       "      <th></th>\n",
       "      <th>f4</th>\n",
       "      <th>r1</th>\n",
       "      <th>r2</th>\n",
       "    </tr>\n",
       "  </thead>\n",
       "  <tbody>\n",
       "    <tr>\n",
       "      <th>0</th>\n",
       "      <td>INFP</td>\n",
       "      <td>ENFJ</td>\n",
       "      <td>ENTJ</td>\n",
       "    </tr>\n",
       "    <tr>\n",
       "      <th>1</th>\n",
       "      <td>ENFP</td>\n",
       "      <td>INFJ</td>\n",
       "      <td>NaN</td>\n",
       "    </tr>\n",
       "    <tr>\n",
       "      <th>2</th>\n",
       "      <td>INFJ</td>\n",
       "      <td>ENFP</td>\n",
       "      <td>ENTP</td>\n",
       "    </tr>\n",
       "    <tr>\n",
       "      <th>3</th>\n",
       "      <td>ENFJ</td>\n",
       "      <td>INFP</td>\n",
       "      <td>ISFP</td>\n",
       "    </tr>\n",
       "    <tr>\n",
       "      <th>4</th>\n",
       "      <td>INTJ</td>\n",
       "      <td>ENFP</td>\n",
       "      <td>ENTP</td>\n",
       "    </tr>\n",
       "  </tbody>\n",
       "</table>\n",
       "</div>"
      ],
      "text/plain": [
       "     f4    r1    r2\n",
       "0  INFP  ENFJ  ENTJ\n",
       "1  ENFP  INFJ   NaN\n",
       "2  INFJ  ENFP  ENTP\n",
       "3  ENFJ  INFP  ISFP\n",
       "4  INTJ  ENFP  ENTP"
      ]
     },
     "execution_count": 9,
     "metadata": {},
     "output_type": "execute_result"
    }
   ],
   "source": [
    "b3.head()"
   ]
  },
  {
   "cell_type": "code",
   "execution_count": 10,
   "id": "3e89d2fb",
   "metadata": {
    "execution": {
     "iopub.execute_input": "2025-05-31T11:48:35.073067Z",
     "iopub.status.busy": "2025-05-31T11:48:35.058698Z",
     "iopub.status.idle": "2025-05-31T11:48:35.077808Z",
     "shell.execute_reply": "2025-05-31T11:48:35.076891Z",
     "shell.execute_reply.started": "2025-05-31T11:44:24.970947Z"
    },
    "papermill": {
     "duration": 0.044812,
     "end_time": "2025-05-31T11:48:35.077986",
     "exception": false,
     "start_time": "2025-05-31T11:48:35.033174",
     "status": "completed"
    },
    "tags": []
   },
   "outputs": [
    {
     "data": {
      "text/html": [
       "<div>\n",
       "<style scoped>\n",
       "    .dataframe tbody tr th:only-of-type {\n",
       "        vertical-align: middle;\n",
       "    }\n",
       "\n",
       "    .dataframe tbody tr th {\n",
       "        vertical-align: top;\n",
       "    }\n",
       "\n",
       "    .dataframe thead th {\n",
       "        text-align: right;\n",
       "    }\n",
       "</style>\n",
       "<table border=\"1\" class=\"dataframe\">\n",
       "  <thead>\n",
       "    <tr style=\"text-align: right;\">\n",
       "      <th></th>\n",
       "      <th>id</th>\n",
       "      <th>age</th>\n",
       "      <th>city</th>\n",
       "      <th>f1</th>\n",
       "      <th>f2</th>\n",
       "      <th>f3</th>\n",
       "      <th>f4</th>\n",
       "      <th>f5</th>\n",
       "      <th>r1</th>\n",
       "      <th>r2</th>\n",
       "    </tr>\n",
       "  </thead>\n",
       "  <tbody>\n",
       "    <tr>\n",
       "      <th>0</th>\n",
       "      <td>id01</td>\n",
       "      <td>2.0</td>\n",
       "      <td>서울</td>\n",
       "      <td>NaN</td>\n",
       "      <td>0</td>\n",
       "      <td>NaN</td>\n",
       "      <td>ENFJ</td>\n",
       "      <td>91.297791</td>\n",
       "      <td>INFP</td>\n",
       "      <td>ISFP</td>\n",
       "    </tr>\n",
       "    <tr>\n",
       "      <th>1</th>\n",
       "      <td>id02</td>\n",
       "      <td>9.0</td>\n",
       "      <td>서울</td>\n",
       "      <td>70.0</td>\n",
       "      <td>1</td>\n",
       "      <td>NaN</td>\n",
       "      <td>ENFJ</td>\n",
       "      <td>60.339826</td>\n",
       "      <td>INFP</td>\n",
       "      <td>ISFP</td>\n",
       "    </tr>\n",
       "    <tr>\n",
       "      <th>2</th>\n",
       "      <td>id03</td>\n",
       "      <td>27.0</td>\n",
       "      <td>서울</td>\n",
       "      <td>61.0</td>\n",
       "      <td>1</td>\n",
       "      <td>NaN</td>\n",
       "      <td>ISTJ</td>\n",
       "      <td>17.252986</td>\n",
       "      <td>ESFP</td>\n",
       "      <td>NaN</td>\n",
       "    </tr>\n",
       "    <tr>\n",
       "      <th>3</th>\n",
       "      <td>id04</td>\n",
       "      <td>75.0</td>\n",
       "      <td>서울</td>\n",
       "      <td>NaN</td>\n",
       "      <td>2</td>\n",
       "      <td>NaN</td>\n",
       "      <td>INFP</td>\n",
       "      <td>52.667078</td>\n",
       "      <td>ENFJ</td>\n",
       "      <td>ENTJ</td>\n",
       "    </tr>\n",
       "    <tr>\n",
       "      <th>4</th>\n",
       "      <td>id05</td>\n",
       "      <td>24.0</td>\n",
       "      <td>서울</td>\n",
       "      <td>85.0</td>\n",
       "      <td>2</td>\n",
       "      <td>NaN</td>\n",
       "      <td>ISFJ</td>\n",
       "      <td>29.269869</td>\n",
       "      <td>ESFP</td>\n",
       "      <td>ESTP</td>\n",
       "    </tr>\n",
       "  </tbody>\n",
       "</table>\n",
       "</div>"
      ],
      "text/plain": [
       "     id   age city    f1  f2   f3    f4         f5    r1    r2\n",
       "0  id01   2.0   서울   NaN   0  NaN  ENFJ  91.297791  INFP  ISFP\n",
       "1  id02   9.0   서울  70.0   1  NaN  ENFJ  60.339826  INFP  ISFP\n",
       "2  id03  27.0   서울  61.0   1  NaN  ISTJ  17.252986  ESFP   NaN\n",
       "3  id04  75.0   서울   NaN   2  NaN  INFP  52.667078  ENFJ  ENTJ\n",
       "4  id05  24.0   서울  85.0   2  NaN  ISFJ  29.269869  ESFP  ESTP"
      ]
     },
     "execution_count": 10,
     "metadata": {},
     "output_type": "execute_result"
    }
   ],
   "source": [
    "# 데이터 결합(b1을 기준으로 결합) \n",
    "df = pd.merge(left = b1 , right = b3, how = \"left\", on = \"f4\")\n",
    "df.head()"
   ]
  },
  {
   "cell_type": "code",
   "execution_count": 11,
   "id": "84f598ab",
   "metadata": {
    "execution": {
     "iopub.execute_input": "2025-05-31T11:48:35.136481Z",
     "iopub.status.busy": "2025-05-31T11:48:35.135554Z",
     "iopub.status.idle": "2025-05-31T11:48:35.139626Z",
     "shell.execute_reply": "2025-05-31T11:48:35.139092Z",
     "shell.execute_reply.started": "2025-05-31T11:44:27.857321Z"
    },
    "papermill": {
     "duration": 0.041753,
     "end_time": "2025-05-31T11:48:35.139769",
     "exception": false,
     "start_time": "2025-05-31T11:48:35.098016",
     "status": "completed"
    },
    "tags": []
   },
   "outputs": [
    {
     "data": {
      "text/html": [
       "<div>\n",
       "<style scoped>\n",
       "    .dataframe tbody tr th:only-of-type {\n",
       "        vertical-align: middle;\n",
       "    }\n",
       "\n",
       "    .dataframe tbody tr th {\n",
       "        vertical-align: top;\n",
       "    }\n",
       "\n",
       "    .dataframe thead th {\n",
       "        text-align: right;\n",
       "    }\n",
       "</style>\n",
       "<table border=\"1\" class=\"dataframe\">\n",
       "  <thead>\n",
       "    <tr style=\"text-align: right;\">\n",
       "      <th></th>\n",
       "      <th>id</th>\n",
       "      <th>age</th>\n",
       "      <th>city</th>\n",
       "      <th>f1</th>\n",
       "      <th>f2</th>\n",
       "      <th>f3</th>\n",
       "      <th>f4</th>\n",
       "      <th>f5</th>\n",
       "      <th>r1</th>\n",
       "      <th>r2</th>\n",
       "    </tr>\n",
       "  </thead>\n",
       "  <tbody>\n",
       "    <tr>\n",
       "      <th>95</th>\n",
       "      <td>id96</td>\n",
       "      <td>92.0</td>\n",
       "      <td>경기</td>\n",
       "      <td>53.0</td>\n",
       "      <td>1</td>\n",
       "      <td>NaN</td>\n",
       "      <td>ENTJ</td>\n",
       "      <td>52.667078</td>\n",
       "      <td>INFP</td>\n",
       "      <td>NaN</td>\n",
       "    </tr>\n",
       "    <tr>\n",
       "      <th>96</th>\n",
       "      <td>id97</td>\n",
       "      <td>100.0</td>\n",
       "      <td>경기</td>\n",
       "      <td>NaN</td>\n",
       "      <td>0</td>\n",
       "      <td>NaN</td>\n",
       "      <td>INFP</td>\n",
       "      <td>67.886373</td>\n",
       "      <td>ENFJ</td>\n",
       "      <td>ENTJ</td>\n",
       "    </tr>\n",
       "    <tr>\n",
       "      <th>97</th>\n",
       "      <td>id98</td>\n",
       "      <td>39.0</td>\n",
       "      <td>경기</td>\n",
       "      <td>58.0</td>\n",
       "      <td>2</td>\n",
       "      <td>NaN</td>\n",
       "      <td>INFP</td>\n",
       "      <td>98.429899</td>\n",
       "      <td>ENFJ</td>\n",
       "      <td>ENTJ</td>\n",
       "    </tr>\n",
       "    <tr>\n",
       "      <th>98</th>\n",
       "      <td>id99</td>\n",
       "      <td>1.0</td>\n",
       "      <td>경기</td>\n",
       "      <td>47.0</td>\n",
       "      <td>0</td>\n",
       "      <td>NaN</td>\n",
       "      <td>ESFJ</td>\n",
       "      <td>97.381034</td>\n",
       "      <td>ISFP</td>\n",
       "      <td>ISTP</td>\n",
       "    </tr>\n",
       "    <tr>\n",
       "      <th>99</th>\n",
       "      <td>id100</td>\n",
       "      <td>47.0</td>\n",
       "      <td>경기</td>\n",
       "      <td>53.0</td>\n",
       "      <td>0</td>\n",
       "      <td>vip</td>\n",
       "      <td>ESFP</td>\n",
       "      <td>33.308999</td>\n",
       "      <td>ISFJ</td>\n",
       "      <td>ISTJ</td>\n",
       "    </tr>\n",
       "  </tbody>\n",
       "</table>\n",
       "</div>"
      ],
      "text/plain": [
       "       id    age city    f1  f2   f3    f4         f5    r1    r2\n",
       "95   id96   92.0   경기  53.0   1  NaN  ENTJ  52.667078  INFP   NaN\n",
       "96   id97  100.0   경기   NaN   0  NaN  INFP  67.886373  ENFJ  ENTJ\n",
       "97   id98   39.0   경기  58.0   2  NaN  INFP  98.429899  ENFJ  ENTJ\n",
       "98   id99    1.0   경기  47.0   0  NaN  ESFJ  97.381034  ISFP  ISTP\n",
       "99  id100   47.0   경기  53.0   0  vip  ESFP  33.308999  ISFJ  ISTJ"
      ]
     },
     "execution_count": 11,
     "metadata": {},
     "output_type": "execute_result"
    }
   ],
   "source": [
    "df.tail()"
   ]
  },
  {
   "cell_type": "code",
   "execution_count": 12,
   "id": "99a504d6",
   "metadata": {
    "execution": {
     "iopub.execute_input": "2025-05-31T11:48:35.190142Z",
     "iopub.status.busy": "2025-05-31T11:48:35.189206Z",
     "iopub.status.idle": "2025-05-31T11:48:35.193760Z",
     "shell.execute_reply": "2025-05-31T11:48:35.193102Z",
     "shell.execute_reply.started": "2025-05-31T11:44:33.175207Z"
    },
    "papermill": {
     "duration": 0.03449,
     "end_time": "2025-05-31T11:48:35.193906",
     "exception": false,
     "start_time": "2025-05-31T11:48:35.159416",
     "status": "completed"
    },
    "tags": []
   },
   "outputs": [
    {
     "data": {
      "text/plain": [
       "id       0\n",
       "age      0\n",
       "city     0\n",
       "f1      31\n",
       "f2       0\n",
       "f3      95\n",
       "f4       0\n",
       "f5       0\n",
       "r1       0\n",
       "r2      17\n",
       "dtype: int64"
      ]
     },
     "execution_count": 12,
     "metadata": {},
     "output_type": "execute_result"
    }
   ],
   "source": [
    "# 결측치 확인\n",
    "df.isnull().sum()"
   ]
  },
  {
   "cell_type": "code",
   "execution_count": 13,
   "id": "0b24a0a2",
   "metadata": {
    "execution": {
     "iopub.execute_input": "2025-05-31T11:48:35.242763Z",
     "iopub.status.busy": "2025-05-31T11:48:35.242038Z",
     "iopub.status.idle": "2025-05-31T11:48:35.245848Z",
     "shell.execute_reply": "2025-05-31T11:48:35.245194Z",
     "shell.execute_reply.started": "2025-05-31T11:44:35.149425Z"
    },
    "papermill": {
     "duration": 0.032477,
     "end_time": "2025-05-31T11:48:35.246002",
     "exception": false,
     "start_time": "2025-05-31T11:48:35.213525",
     "status": "completed"
    },
    "tags": []
   },
   "outputs": [
    {
     "name": "stdout",
     "output_type": "stream",
     "text": [
      "(100, 10)\n",
      "(83, 10)\n"
     ]
    }
   ],
   "source": [
    "# r2컬럼 결측치 제거\n",
    "print(df.shape)\n",
    "df = df.dropna(subset=['r2'])\n",
    "print(df.shape)"
   ]
  },
  {
   "cell_type": "code",
   "execution_count": 14,
   "id": "fd2c2f04",
   "metadata": {
    "execution": {
     "iopub.execute_input": "2025-05-31T11:48:35.292323Z",
     "iopub.status.busy": "2025-05-31T11:48:35.291577Z",
     "iopub.status.idle": "2025-05-31T11:48:35.294807Z",
     "shell.execute_reply": "2025-05-31T11:48:35.294204Z",
     "shell.execute_reply.started": "2025-05-31T11:44:48.304709Z"
    },
    "papermill": {
     "duration": 0.029197,
     "end_time": "2025-05-31T11:48:35.294962",
     "exception": false,
     "start_time": "2025-05-31T11:48:35.265765",
     "status": "completed"
    },
    "tags": []
   },
   "outputs": [],
   "source": [
    "# 인덱스 리셋\n",
    "df = df.reset_index()"
   ]
  },
  {
   "cell_type": "code",
   "execution_count": 15,
   "id": "0628fa38",
   "metadata": {
    "execution": {
     "iopub.execute_input": "2025-05-31T11:48:35.340095Z",
     "iopub.status.busy": "2025-05-31T11:48:35.339069Z",
     "iopub.status.idle": "2025-05-31T11:48:35.344597Z",
     "shell.execute_reply": "2025-05-31T11:48:35.344014Z",
     "shell.execute_reply.started": "2025-05-31T11:44:50.445461Z"
    },
    "papermill": {
     "duration": 0.029996,
     "end_time": "2025-05-31T11:48:35.344765",
     "exception": false,
     "start_time": "2025-05-31T11:48:35.314769",
     "status": "completed"
    },
    "tags": []
   },
   "outputs": [
    {
     "name": "stdout",
     "output_type": "stream",
     "text": [
      "15\n"
     ]
    }
   ],
   "source": [
    "# 앞에서 부터 20개 데이터를 선택하고 'f2'컬럼 합\n",
    "print(df.iloc[:20]['f2'].sum())"
   ]
  },
  {
   "cell_type": "code",
   "execution_count": 16,
   "id": "79275161",
   "metadata": {
    "execution": {
     "iopub.execute_input": "2025-05-31T11:48:35.391215Z",
     "iopub.status.busy": "2025-05-31T11:48:35.390534Z",
     "iopub.status.idle": "2025-05-31T11:48:35.394889Z",
     "shell.execute_reply": "2025-05-31T11:48:35.394291Z",
     "shell.execute_reply.started": "2025-05-31T11:45:01.654342Z"
    },
    "papermill": {
     "duration": 0.030214,
     "end_time": "2025-05-31T11:48:35.395051",
     "exception": false,
     "start_time": "2025-05-31T11:48:35.364837",
     "status": "completed"
    },
    "tags": []
   },
   "outputs": [
    {
     "data": {
      "text/plain": [
       "0     0\n",
       "1     1\n",
       "2     2\n",
       "3     2\n",
       "4     0\n",
       "5     1\n",
       "6     1\n",
       "7     2\n",
       "8     1\n",
       "9     0\n",
       "10    0\n",
       "11    1\n",
       "12    0\n",
       "13    2\n",
       "14    0\n",
       "15    1\n",
       "16    1\n",
       "17    0\n",
       "18    0\n",
       "19    0\n",
       "Name: f2, dtype: int64"
      ]
     },
     "execution_count": 16,
     "metadata": {},
     "output_type": "execute_result"
    }
   ],
   "source": [
    "df.iloc[:20]['f2']"
   ]
  },
  {
   "cell_type": "code",
   "execution_count": null,
   "id": "47ba2f11",
   "metadata": {
    "papermill": {
     "duration": 0.020223,
     "end_time": "2025-05-31T11:48:35.435458",
     "exception": false,
     "start_time": "2025-05-31T11:48:35.415235",
     "status": "completed"
    },
    "tags": []
   },
   "outputs": [],
   "source": []
  }
 ],
 "metadata": {
  "kaggle": {
   "accelerator": "none",
   "dataSources": [
    {
     "datasetId": 1633303,
     "sourceId": 9936200,
     "sourceType": "datasetVersion"
    }
   ],
   "dockerImageVersionId": 30145,
   "isGpuEnabled": false,
   "isInternetEnabled": false,
   "language": "python",
   "sourceType": "notebook"
  },
  "kernelspec": {
   "display_name": "Python 3",
   "language": "python",
   "name": "python3"
  },
  "language_info": {
   "codemirror_mode": {
    "name": "ipython",
    "version": 3
   },
   "file_extension": ".py",
   "mimetype": "text/x-python",
   "name": "python",
   "nbconvert_exporter": "python",
   "pygments_lexer": "ipython3",
   "version": "3.7.10"
  },
  "papermill": {
   "default_parameters": {},
   "duration": 11.322196,
   "end_time": "2025-05-31T11:48:36.066791",
   "environment_variables": {},
   "exception": null,
   "input_path": "__notebook__.ipynb",
   "output_path": "__notebook__.ipynb",
   "parameters": {},
   "start_time": "2025-05-31T11:48:24.744595",
   "version": "2.3.3"
  }
 },
 "nbformat": 4,
 "nbformat_minor": 5
}
