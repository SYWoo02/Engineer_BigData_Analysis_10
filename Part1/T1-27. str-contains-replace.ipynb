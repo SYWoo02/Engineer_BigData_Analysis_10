{
 "cells": [
  {
   "cell_type": "markdown",
   "id": "feabbf41",
   "metadata": {
    "papermill": {
     "duration": 0.005095,
     "end_time": "2025-06-02T19:22:14.175541",
     "exception": false,
     "start_time": "2025-06-02T19:22:14.170446",
     "status": "completed"
    },
    "tags": []
   },
   "source": [
    "## T1-27. 바닐라라떼 5점, 카페라떼 3점, 아메리카노 2점, 나머지 0점이다. 총 메뉴의 점수를 더한 값은?"
   ]
  },
  {
   "cell_type": "code",
   "execution_count": 1,
   "id": "29a432f5",
   "metadata": {
    "_cell_guid": "b1076dfc-b9ad-4769-8c92-a6c4dae69d19",
    "_uuid": "8f2839f25d086af736a60e9eeb907d3b93b6e0e5",
    "execution": {
     "iopub.execute_input": "2025-06-02T19:22:14.184950Z",
     "iopub.status.busy": "2025-06-02T19:22:14.184401Z",
     "iopub.status.idle": "2025-06-02T19:22:14.239188Z",
     "shell.execute_reply": "2025-06-02T19:22:14.237920Z"
    },
    "papermill": {
     "duration": 0.063554,
     "end_time": "2025-06-02T19:22:14.242854",
     "exception": false,
     "start_time": "2025-06-02T19:22:14.179300",
     "status": "completed"
    },
    "tags": []
   },
   "outputs": [
    {
     "data": {
      "text/html": [
       "<div>\n",
       "<style scoped>\n",
       "    .dataframe tbody tr th:only-of-type {\n",
       "        vertical-align: middle;\n",
       "    }\n",
       "\n",
       "    .dataframe tbody tr th {\n",
       "        vertical-align: top;\n",
       "    }\n",
       "\n",
       "    .dataframe thead th {\n",
       "        text-align: right;\n",
       "    }\n",
       "</style>\n",
       "<table border=\"1\" class=\"dataframe\">\n",
       "  <thead>\n",
       "    <tr style=\"text-align: right;\">\n",
       "      <th></th>\n",
       "      <th>date</th>\n",
       "      <th>hour</th>\n",
       "      <th>menu</th>\n",
       "      <th>price</th>\n",
       "    </tr>\n",
       "  </thead>\n",
       "  <tbody>\n",
       "    <tr>\n",
       "      <th>0</th>\n",
       "      <td>20221129</td>\n",
       "      <td>13</td>\n",
       "      <td>딸기라떼</td>\n",
       "      <td>4000</td>\n",
       "    </tr>\n",
       "    <tr>\n",
       "      <th>1</th>\n",
       "      <td>20221130</td>\n",
       "      <td>12</td>\n",
       "      <td>카페라떼</td>\n",
       "      <td>3000</td>\n",
       "    </tr>\n",
       "    <tr>\n",
       "      <th>2</th>\n",
       "      <td>20221201</td>\n",
       "      <td>14</td>\n",
       "      <td>바닐라라떼</td>\n",
       "      <td>3500</td>\n",
       "    </tr>\n",
       "    <tr>\n",
       "      <th>3</th>\n",
       "      <td>20221201</td>\n",
       "      <td>16</td>\n",
       "      <td>초코라떼</td>\n",
       "      <td>3500</td>\n",
       "    </tr>\n",
       "    <tr>\n",
       "      <th>4</th>\n",
       "      <td>20221202</td>\n",
       "      <td>17</td>\n",
       "      <td>모카라떼</td>\n",
       "      <td>3500</td>\n",
       "    </tr>\n",
       "  </tbody>\n",
       "</table>\n",
       "</div>"
      ],
      "text/plain": [
       "       date  hour   menu  price\n",
       "0  20221129    13   딸기라떼   4000\n",
       "1  20221130    12   카페라떼   3000\n",
       "2  20221201    14  바닐라라떼   3500\n",
       "3  20221201    16   초코라떼   3500\n",
       "4  20221202    17   모카라떼   3500"
      ]
     },
     "execution_count": 1,
     "metadata": {},
     "output_type": "execute_result"
    }
   ],
   "source": [
    "import pandas as pd\n",
    "data = pd.read_csv(\"/kaggle/input/bigdatacertificationkr/payment.csv\")\n",
    "data.head(5)"
   ]
  },
  {
   "cell_type": "markdown",
   "id": "85d9f6c8",
   "metadata": {
    "papermill": {
     "duration": 0.003665,
     "end_time": "2025-06-02T19:22:14.249880",
     "exception": false,
     "start_time": "2025-06-02T19:22:14.246215",
     "status": "completed"
    },
    "tags": []
   },
   "source": [
    "# 나의 코드 "
   ]
  },
  {
   "cell_type": "code",
   "execution_count": 2,
   "id": "56652fb5",
   "metadata": {
    "execution": {
     "iopub.execute_input": "2025-06-02T19:22:14.258461Z",
     "iopub.status.busy": "2025-06-02T19:22:14.258072Z",
     "iopub.status.idle": "2025-06-02T19:22:14.272486Z",
     "shell.execute_reply": "2025-06-02T19:22:14.271101Z"
    },
    "papermill": {
     "duration": 0.022229,
     "end_time": "2025-06-02T19:22:14.275425",
     "exception": false,
     "start_time": "2025-06-02T19:22:14.253196",
     "status": "completed"
    },
    "tags": []
   },
   "outputs": [
    {
     "data": {
      "text/plain": [
       "0      딸기라떼\n",
       "1      카페라떼\n",
       "2     바닐라라떼\n",
       "3      초코라떼\n",
       "4      모카라떼\n",
       "5     카라멜라떼\n",
       "6      챠이라떼\n",
       "7     아메리카노\n",
       "8      오곡라떼\n",
       "9     아메리카노\n",
       "10    아메리카노\n",
       "11    토피넛라떼\n",
       "12     카페라떼\n",
       "Name: menu, dtype: object"
      ]
     },
     "execution_count": 2,
     "metadata": {},
     "output_type": "execute_result"
    }
   ],
   "source": [
    "# 띄어쓰기 간격 통일\n",
    "data['menu'] = data['menu'].str.replace(\" \",\"\")\n",
    "data['menu']"
   ]
  },
  {
   "cell_type": "code",
   "execution_count": 3,
   "id": "7e928298",
   "metadata": {
    "execution": {
     "iopub.execute_input": "2025-06-02T19:22:14.285512Z",
     "iopub.status.busy": "2025-06-02T19:22:14.285140Z",
     "iopub.status.idle": "2025-06-02T19:22:14.301121Z",
     "shell.execute_reply": "2025-06-02T19:22:14.299797Z"
    },
    "papermill": {
     "duration": 0.02449,
     "end_time": "2025-06-02T19:22:14.303800",
     "exception": false,
     "start_time": "2025-06-02T19:22:14.279310",
     "status": "completed"
    },
    "tags": []
   },
   "outputs": [
    {
     "data": {
      "text/plain": [
       "아메리카노    3\n",
       "카페라떼     2\n",
       "딸기라떼     1\n",
       "바닐라라떼    1\n",
       "초코라떼     1\n",
       "모카라떼     1\n",
       "카라멜라떼    1\n",
       "챠이라떼     1\n",
       "오곡라떼     1\n",
       "토피넛라떼    1\n",
       "Name: menu, dtype: int64"
      ]
     },
     "execution_count": 3,
     "metadata": {},
     "output_type": "execute_result"
    }
   ],
   "source": [
    "data['menu'].value_counts()"
   ]
  },
  {
   "cell_type": "code",
   "execution_count": 4,
   "id": "306c644f",
   "metadata": {
    "execution": {
     "iopub.execute_input": "2025-06-02T19:22:14.312860Z",
     "iopub.status.busy": "2025-06-02T19:22:14.312437Z",
     "iopub.status.idle": "2025-06-02T19:22:14.327343Z",
     "shell.execute_reply": "2025-06-02T19:22:14.325687Z"
    },
    "papermill": {
     "duration": 0.022975,
     "end_time": "2025-06-02T19:22:14.330406",
     "exception": false,
     "start_time": "2025-06-02T19:22:14.307431",
     "status": "completed"
    },
    "tags": []
   },
   "outputs": [
    {
     "name": "stdout",
     "output_type": "stream",
     "text": [
      "        date  hour   menu  price  score\n",
      "0   20221129    13   딸기라떼   4000      0\n",
      "1   20221130    12   카페라떼   3000      3\n",
      "2   20221201    14  바닐라라떼   3500      5\n",
      "3   20221201    16   초코라떼   3500      0\n",
      "4   20221202    17   모카라떼   3500      0\n",
      "5   20221202    12  카라멜라떼   3500      0\n",
      "6   20221203     8   챠이라떼   3500      0\n",
      "7   20221203     9  아메리카노   2000      2\n",
      "8   20221203    15   오곡라떼   4000      0\n",
      "9   20221203    16  아메리카노   2000      2\n",
      "10  20221225    10  아메리카노   2000      2\n",
      "11  20221225    14  토피넛라떼   4000      0\n",
      "12  20221225    16   카페라떼   3000      3 \n",
      "\n",
      "17\n"
     ]
    }
   ],
   "source": [
    "# 메뉴별 점수를 매기는 함수\n",
    "# 바닐라라떼 5점, 카페라떼 3점, 아메리카노 2점, 나머지 0점\n",
    "def menu_score(menu):\n",
    "    if menu == '바닐라라떼':\n",
    "        return 5\n",
    "    elif menu == '카페라떼':\n",
    "        return 3\n",
    "    elif menu == '아메리카노':\n",
    "        return 2\n",
    "    else:\n",
    "        return 0\n",
    "data['score'] = data['menu'].apply(menu_score)\n",
    "print(data,'\\n')\n",
    "\n",
    "# 총 메뉴의 점수 출력하기 \n",
    "sum = data['score'].sum()\n",
    "print(sum)\n",
    "\n",
    "# 정답: 17"
   ]
  },
  {
   "cell_type": "code",
   "execution_count": null,
   "id": "5f38e78e",
   "metadata": {
    "papermill": {
     "duration": 0.003096,
     "end_time": "2025-06-02T19:22:14.337116",
     "exception": false,
     "start_time": "2025-06-02T19:22:14.334020",
     "status": "completed"
    },
    "tags": []
   },
   "outputs": [],
   "source": []
  },
  {
   "cell_type": "code",
   "execution_count": null,
   "id": "65511aa3",
   "metadata": {
    "papermill": {
     "duration": 0.003317,
     "end_time": "2025-06-02T19:22:14.343905",
     "exception": false,
     "start_time": "2025-06-02T19:22:14.340588",
     "status": "completed"
    },
    "tags": []
   },
   "outputs": [],
   "source": []
  },
  {
   "cell_type": "code",
   "execution_count": null,
   "id": "9b3b2a88",
   "metadata": {
    "papermill": {
     "duration": 0.003308,
     "end_time": "2025-06-02T19:22:14.350876",
     "exception": false,
     "start_time": "2025-06-02T19:22:14.347568",
     "status": "completed"
    },
    "tags": []
   },
   "outputs": [],
   "source": []
  },
  {
   "cell_type": "markdown",
   "id": "a2f0e25f",
   "metadata": {
    "papermill": {
     "duration": 0.003112,
     "end_time": "2025-06-02T19:22:14.357896",
     "exception": false,
     "start_time": "2025-06-02T19:22:14.354784",
     "status": "completed"
    },
    "tags": []
   },
   "source": [
    "## 풀이 (예시 답안)"
   ]
  },
  {
   "cell_type": "code",
   "execution_count": 5,
   "id": "69def629",
   "metadata": {
    "execution": {
     "iopub.execute_input": "2025-06-02T19:22:14.366984Z",
     "iopub.status.busy": "2025-06-02T19:22:14.366478Z",
     "iopub.status.idle": "2025-06-02T19:22:14.383785Z",
     "shell.execute_reply": "2025-06-02T19:22:14.381879Z"
    },
    "papermill": {
     "duration": 0.025486,
     "end_time": "2025-06-02T19:22:14.386753",
     "exception": false,
     "start_time": "2025-06-02T19:22:14.361267",
     "status": "completed"
    },
    "tags": []
   },
   "outputs": [
    {
     "name": "stdout",
     "output_type": "stream",
     "text": [
      "17\n"
     ]
    }
   ],
   "source": [
    "df = pd.read_csv(\"/kaggle/input/bigdatacertificationkr/payment.csv\")\n",
    "df['menu'] = df['menu'].str.replace(' ','')\n",
    "s1 = df['menu'].str.contains(\"바닐라라떼\").sum()\n",
    "s2 = df['menu'].str.contains(\"카페라떼\").sum()\n",
    "s3 = df['menu'].str.contains(\"아메리카노\").sum()\n",
    "# print(s1, s2, s3)\n",
    "print((s1*5) + (s2*3) + (s3*2))"
   ]
  }
 ],
 "metadata": {
  "kaggle": {
   "accelerator": "none",
   "dataSources": [
    {
     "datasetId": 1633303,
     "sourceId": 9936200,
     "sourceType": "datasetVersion"
    }
   ],
   "dockerImageVersionId": 30301,
   "isGpuEnabled": false,
   "isInternetEnabled": false,
   "language": "python",
   "sourceType": "notebook"
  },
  "kernelspec": {
   "display_name": "Python 3",
   "language": "python",
   "name": "python3"
  },
  "language_info": {
   "codemirror_mode": {
    "name": "ipython",
    "version": 3
   },
   "file_extension": ".py",
   "mimetype": "text/x-python",
   "name": "python",
   "nbconvert_exporter": "python",
   "pygments_lexer": "ipython3",
   "version": "3.7.12"
  },
  "papermill": {
   "default_parameters": {},
   "duration": 12.184859,
   "end_time": "2025-06-02T19:22:15.117415",
   "environment_variables": {},
   "exception": null,
   "input_path": "__notebook__.ipynb",
   "output_path": "__notebook__.ipynb",
   "parameters": {},
   "start_time": "2025-06-02T19:22:02.932556",
   "version": "2.3.4"
  }
 },
 "nbformat": 4,
 "nbformat_minor": 5
}
