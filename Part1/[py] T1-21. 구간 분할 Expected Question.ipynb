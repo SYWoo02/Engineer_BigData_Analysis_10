{
 "cells": [
  {
   "cell_type": "markdown",
   "id": "479866a8",
   "metadata": {
    "papermill": {
     "duration": 0.010917,
     "end_time": "2025-05-31T12:08:15.238411",
     "exception": false,
     "start_time": "2025-05-31T12:08:15.227494",
     "status": "completed"
    },
    "tags": []
   },
   "source": [
    "## 나이 구간 나누기\n",
    "###  basic1 데이터 중 'age'컬럼 이상치를 제거하고, 동일한 개수로 나이 순으로 3그룹으로 나눈 뒤 각 그룹의 중앙값을 더하시오\n",
    "### (이상치는 음수(0포함), 소수점 값)\n",
    "- data: basic1.csv\n",
    "- 오른쪽 상단 copy&edit 클릭 -> 예상문제 풀이 시작\n"
   ]
  },
  {
   "cell_type": "markdown",
   "id": "de30305d",
   "metadata": {
    "papermill": {
     "duration": 0.009109,
     "end_time": "2025-05-31T12:08:15.257432",
     "exception": false,
     "start_time": "2025-05-31T12:08:15.248323",
     "status": "completed"
    },
    "tags": []
   },
   "source": [
    "## 나의 코드"
   ]
  },
  {
   "cell_type": "code",
   "execution_count": 1,
   "id": "3d2783f0",
   "metadata": {
    "execution": {
     "iopub.execute_input": "2025-05-31T12:08:15.285696Z",
     "iopub.status.busy": "2025-05-31T12:08:15.284800Z",
     "iopub.status.idle": "2025-05-31T12:08:15.320397Z",
     "shell.execute_reply": "2025-05-31T12:08:15.319686Z",
     "shell.execute_reply.started": "2025-05-31T11:59:57.140492Z"
    },
    "papermill": {
     "duration": 0.053469,
     "end_time": "2025-05-31T12:08:15.320553",
     "exception": false,
     "start_time": "2025-05-31T12:08:15.267084",
     "status": "completed"
    },
    "tags": []
   },
   "outputs": [
    {
     "data": {
      "text/html": [
       "<div>\n",
       "<style scoped>\n",
       "    .dataframe tbody tr th:only-of-type {\n",
       "        vertical-align: middle;\n",
       "    }\n",
       "\n",
       "    .dataframe tbody tr th {\n",
       "        vertical-align: top;\n",
       "    }\n",
       "\n",
       "    .dataframe thead th {\n",
       "        text-align: right;\n",
       "    }\n",
       "</style>\n",
       "<table border=\"1\" class=\"dataframe\">\n",
       "  <thead>\n",
       "    <tr style=\"text-align: right;\">\n",
       "      <th></th>\n",
       "      <th>id</th>\n",
       "      <th>age</th>\n",
       "      <th>city</th>\n",
       "      <th>f1</th>\n",
       "      <th>f2</th>\n",
       "      <th>f3</th>\n",
       "      <th>f4</th>\n",
       "      <th>f5</th>\n",
       "    </tr>\n",
       "  </thead>\n",
       "  <tbody>\n",
       "    <tr>\n",
       "      <th>0</th>\n",
       "      <td>id01</td>\n",
       "      <td>2.0</td>\n",
       "      <td>서울</td>\n",
       "      <td>NaN</td>\n",
       "      <td>0</td>\n",
       "      <td>NaN</td>\n",
       "      <td>ENFJ</td>\n",
       "      <td>91.297791</td>\n",
       "    </tr>\n",
       "    <tr>\n",
       "      <th>1</th>\n",
       "      <td>id02</td>\n",
       "      <td>9.0</td>\n",
       "      <td>서울</td>\n",
       "      <td>70.0</td>\n",
       "      <td>1</td>\n",
       "      <td>NaN</td>\n",
       "      <td>ENFJ</td>\n",
       "      <td>60.339826</td>\n",
       "    </tr>\n",
       "    <tr>\n",
       "      <th>2</th>\n",
       "      <td>id03</td>\n",
       "      <td>27.0</td>\n",
       "      <td>서울</td>\n",
       "      <td>61.0</td>\n",
       "      <td>1</td>\n",
       "      <td>NaN</td>\n",
       "      <td>ISTJ</td>\n",
       "      <td>17.252986</td>\n",
       "    </tr>\n",
       "    <tr>\n",
       "      <th>3</th>\n",
       "      <td>id04</td>\n",
       "      <td>75.0</td>\n",
       "      <td>서울</td>\n",
       "      <td>NaN</td>\n",
       "      <td>2</td>\n",
       "      <td>NaN</td>\n",
       "      <td>INFP</td>\n",
       "      <td>52.667078</td>\n",
       "    </tr>\n",
       "    <tr>\n",
       "      <th>4</th>\n",
       "      <td>id05</td>\n",
       "      <td>24.0</td>\n",
       "      <td>서울</td>\n",
       "      <td>85.0</td>\n",
       "      <td>2</td>\n",
       "      <td>NaN</td>\n",
       "      <td>ISFJ</td>\n",
       "      <td>29.269869</td>\n",
       "    </tr>\n",
       "  </tbody>\n",
       "</table>\n",
       "</div>"
      ],
      "text/plain": [
       "     id   age city    f1  f2   f3    f4         f5\n",
       "0  id01   2.0   서울   NaN   0  NaN  ENFJ  91.297791\n",
       "1  id02   9.0   서울  70.0   1  NaN  ENFJ  60.339826\n",
       "2  id03  27.0   서울  61.0   1  NaN  ISTJ  17.252986\n",
       "3  id04  75.0   서울   NaN   2  NaN  INFP  52.667078\n",
       "4  id05  24.0   서울  85.0   2  NaN  ISFJ  29.269869"
      ]
     },
     "execution_count": 1,
     "metadata": {},
     "output_type": "execute_result"
    }
   ],
   "source": [
    "# 라이브러리 및 데이터 불러오기\n",
    "import pandas as pd\n",
    "import numpy as np\n",
    "data = pd.read_csv(\"/kaggle/input/bigdatacertificationkr/basic1.csv\")\n",
    "data.head(5)"
   ]
  },
  {
   "cell_type": "code",
   "execution_count": 2,
   "id": "a081e5e3",
   "metadata": {
    "execution": {
     "iopub.execute_input": "2025-05-31T12:08:15.355110Z",
     "iopub.status.busy": "2025-05-31T12:08:15.354428Z",
     "iopub.status.idle": "2025-05-31T12:08:15.358118Z",
     "shell.execute_reply": "2025-05-31T12:08:15.357523Z",
     "shell.execute_reply.started": "2025-05-31T12:02:07.855361Z"
    },
    "papermill": {
     "duration": 0.025051,
     "end_time": "2025-05-31T12:08:15.358250",
     "exception": false,
     "start_time": "2025-05-31T12:08:15.333199",
     "status": "completed"
    },
    "tags": []
   },
   "outputs": [
    {
     "name": "stdout",
     "output_type": "stream",
     "text": [
      "100 90\n"
     ]
    }
   ],
   "source": [
    "# basic1 데이터 중 'age'컬럼 이상치를 제거하기 (이상치는 음수(0포함), 소수점 값)\n",
    "outlier = (data['age'] - np.floor(data['age']) != 0) | (data['age'] <= 0)\n",
    "data2 = data[~outlier]\n",
    "print(len(data), len(data2))"
   ]
  },
  {
   "cell_type": "code",
   "execution_count": 3,
   "id": "6f67ae9a",
   "metadata": {
    "execution": {
     "iopub.execute_input": "2025-05-31T12:08:15.385528Z",
     "iopub.status.busy": "2025-05-31T12:08:15.384699Z",
     "iopub.status.idle": "2025-05-31T12:08:15.387695Z",
     "shell.execute_reply": "2025-05-31T12:08:15.388157Z",
     "shell.execute_reply.started": "2025-05-31T12:07:32.292533Z"
    },
    "papermill": {
     "duration": 0.020108,
     "end_time": "2025-05-31T12:08:15.388309",
     "exception": false,
     "start_time": "2025-05-31T12:08:15.368201",
     "status": "completed"
    },
    "tags": []
   },
   "outputs": [
    {
     "name": "stdout",
     "output_type": "stream",
     "text": [
      "30 30 30\n"
     ]
    }
   ],
   "source": [
    "# 데이터를 나이 순으로 동일한 개수의 3그룹으로 나누기\n",
    "# 참고) 예시답안은 pd.qcut()을 이용함\n",
    "data2 = data2.sort_values('age')\n",
    "group1 = data2.iloc[:30]\n",
    "group2 = data2.iloc[30:60]\n",
    "group3 = data2.iloc[60:90]\n",
    "\n",
    "print(len(group1), len(group2), len(group3))"
   ]
  },
  {
   "cell_type": "code",
   "execution_count": 4,
   "id": "f5b5596b",
   "metadata": {
    "execution": {
     "iopub.execute_input": "2025-05-31T12:08:15.415760Z",
     "iopub.status.busy": "2025-05-31T12:08:15.414898Z",
     "iopub.status.idle": "2025-05-31T12:08:15.417957Z",
     "shell.execute_reply": "2025-05-31T12:08:15.418409Z",
     "shell.execute_reply.started": "2025-05-31T12:06:22.190757Z"
    },
    "papermill": {
     "duration": 0.020198,
     "end_time": "2025-05-31T12:08:15.418568",
     "exception": false,
     "start_time": "2025-05-31T12:08:15.398370",
     "status": "completed"
    },
    "tags": []
   },
   "outputs": [
    {
     "name": "stdout",
     "output_type": "stream",
     "text": [
      "165.0\n"
     ]
    }
   ],
   "source": [
    "# 각 그룹의 (나이) 중앙값을 더하여 최종 결과 출력하기\n",
    "g1_m = group1['age'].median()\n",
    "g2_m = group2['age'].median()\n",
    "g3_m = group3['age'].median()\n",
    "\n",
    "print(g1_m + g2_m + g3_m) "
   ]
  },
  {
   "cell_type": "markdown",
   "id": "6140b2ba",
   "metadata": {
    "papermill": {
     "duration": 0.010093,
     "end_time": "2025-05-31T12:08:15.438913",
     "exception": false,
     "start_time": "2025-05-31T12:08:15.428820",
     "status": "completed"
    },
    "tags": []
   },
   "source": [
    "## 풀이 (예시답안)"
   ]
  },
  {
   "cell_type": "code",
   "execution_count": 5,
   "id": "acd1e7e1",
   "metadata": {
    "_cell_guid": "b1076dfc-b9ad-4769-8c92-a6c4dae69d19",
    "_uuid": "8f2839f25d086af736a60e9eeb907d3b93b6e0e5",
    "execution": {
     "iopub.execute_input": "2025-05-31T12:08:15.464681Z",
     "iopub.status.busy": "2025-05-31T12:08:15.464075Z",
     "iopub.status.idle": "2025-05-31T12:08:15.466366Z",
     "shell.execute_reply": "2025-05-31T12:08:15.466867Z",
     "shell.execute_reply.started": "2025-05-31T12:06:29.353149Z"
    },
    "papermill": {
     "duration": 0.017827,
     "end_time": "2025-05-31T12:08:15.467024",
     "exception": false,
     "start_time": "2025-05-31T12:08:15.449197",
     "status": "completed"
    },
    "tags": []
   },
   "outputs": [],
   "source": [
    "import pandas as pd"
   ]
  },
  {
   "cell_type": "code",
   "execution_count": 6,
   "id": "2a269c7a",
   "metadata": {
    "execution": {
     "iopub.execute_input": "2025-05-31T12:08:15.493302Z",
     "iopub.status.busy": "2025-05-31T12:08:15.492304Z",
     "iopub.status.idle": "2025-05-31T12:08:15.501109Z",
     "shell.execute_reply": "2025-05-31T12:08:15.500062Z",
     "shell.execute_reply.started": "2025-05-31T12:06:30.773813Z"
    },
    "papermill": {
     "duration": 0.024033,
     "end_time": "2025-05-31T12:08:15.501341",
     "exception": false,
     "start_time": "2025-05-31T12:08:15.477308",
     "status": "completed"
    },
    "tags": []
   },
   "outputs": [],
   "source": [
    "df = pd.read_csv('../input/bigdatacertificationkr/basic1.csv')"
   ]
  },
  {
   "cell_type": "code",
   "execution_count": 7,
   "id": "19da560e",
   "metadata": {
    "execution": {
     "iopub.execute_input": "2025-05-31T12:08:15.539451Z",
     "iopub.status.busy": "2025-05-31T12:08:15.538580Z",
     "iopub.status.idle": "2025-05-31T12:08:15.542257Z",
     "shell.execute_reply": "2025-05-31T12:08:15.541744Z",
     "shell.execute_reply.started": "2025-05-31T12:06:32.539685Z"
    },
    "papermill": {
     "duration": 0.024801,
     "end_time": "2025-05-31T12:08:15.542418",
     "exception": false,
     "start_time": "2025-05-31T12:08:15.517617",
     "status": "completed"
    },
    "tags": []
   },
   "outputs": [
    {
     "name": "stdout",
     "output_type": "stream",
     "text": [
      "전체 데이터: (100, 8)\n",
      "음수(0포함)값 제거 후 데이터 크기: (96, 8)\n",
      "소수점 제거 후 데이터 크기: (90, 8)\n"
     ]
    }
   ],
   "source": [
    "# age 이상치 (음수(0포함), 소수점 제거)\n",
    "print('전체 데이터:', df.shape)\n",
    "df = df[~(df['age'] <= 0)]\n",
    "print('음수(0포함)값 제거 후 데이터 크기:', df.shape)\n",
    "\n",
    "df = df[(df['age'] == round(df['age'],0))]\n",
    "print('소수점 제거 후 데이터 크기:', df.shape)"
   ]
  },
  {
   "cell_type": "code",
   "execution_count": 8,
   "id": "5c183c41",
   "metadata": {
    "execution": {
     "iopub.execute_input": "2025-05-31T12:08:15.574180Z",
     "iopub.status.busy": "2025-05-31T12:08:15.573130Z",
     "iopub.status.idle": "2025-05-31T12:08:15.582405Z",
     "shell.execute_reply": "2025-05-31T12:08:15.581922Z",
     "shell.execute_reply.started": "2025-05-31T12:06:35.875407Z"
    },
    "papermill": {
     "duration": 0.029575,
     "end_time": "2025-05-31T12:08:15.582534",
     "exception": false,
     "start_time": "2025-05-31T12:08:15.552959",
     "status": "completed"
    },
    "tags": []
   },
   "outputs": [
    {
     "data": {
      "text/html": [
       "<div>\n",
       "<style scoped>\n",
       "    .dataframe tbody tr th:only-of-type {\n",
       "        vertical-align: middle;\n",
       "    }\n",
       "\n",
       "    .dataframe tbody tr th {\n",
       "        vertical-align: top;\n",
       "    }\n",
       "\n",
       "    .dataframe thead th {\n",
       "        text-align: right;\n",
       "    }\n",
       "</style>\n",
       "<table border=\"1\" class=\"dataframe\">\n",
       "  <thead>\n",
       "    <tr style=\"text-align: right;\">\n",
       "      <th></th>\n",
       "      <th>id</th>\n",
       "      <th>age</th>\n",
       "      <th>city</th>\n",
       "      <th>f1</th>\n",
       "      <th>f2</th>\n",
       "      <th>f3</th>\n",
       "      <th>f4</th>\n",
       "      <th>f5</th>\n",
       "    </tr>\n",
       "  </thead>\n",
       "  <tbody>\n",
       "    <tr>\n",
       "      <th>0</th>\n",
       "      <td>id01</td>\n",
       "      <td>2.0</td>\n",
       "      <td>서울</td>\n",
       "      <td>NaN</td>\n",
       "      <td>0</td>\n",
       "      <td>NaN</td>\n",
       "      <td>ENFJ</td>\n",
       "      <td>91.297791</td>\n",
       "    </tr>\n",
       "    <tr>\n",
       "      <th>1</th>\n",
       "      <td>id02</td>\n",
       "      <td>9.0</td>\n",
       "      <td>서울</td>\n",
       "      <td>70.0</td>\n",
       "      <td>1</td>\n",
       "      <td>NaN</td>\n",
       "      <td>ENFJ</td>\n",
       "      <td>60.339826</td>\n",
       "    </tr>\n",
       "    <tr>\n",
       "      <th>2</th>\n",
       "      <td>id03</td>\n",
       "      <td>27.0</td>\n",
       "      <td>서울</td>\n",
       "      <td>61.0</td>\n",
       "      <td>1</td>\n",
       "      <td>NaN</td>\n",
       "      <td>ISTJ</td>\n",
       "      <td>17.252986</td>\n",
       "    </tr>\n",
       "    <tr>\n",
       "      <th>3</th>\n",
       "      <td>id04</td>\n",
       "      <td>75.0</td>\n",
       "      <td>서울</td>\n",
       "      <td>NaN</td>\n",
       "      <td>2</td>\n",
       "      <td>NaN</td>\n",
       "      <td>INFP</td>\n",
       "      <td>52.667078</td>\n",
       "    </tr>\n",
       "    <tr>\n",
       "      <th>4</th>\n",
       "      <td>id05</td>\n",
       "      <td>24.0</td>\n",
       "      <td>서울</td>\n",
       "      <td>85.0</td>\n",
       "      <td>2</td>\n",
       "      <td>NaN</td>\n",
       "      <td>ISFJ</td>\n",
       "      <td>29.269869</td>\n",
       "    </tr>\n",
       "  </tbody>\n",
       "</table>\n",
       "</div>"
      ],
      "text/plain": [
       "     id   age city    f1  f2   f3    f4         f5\n",
       "0  id01   2.0   서울   NaN   0  NaN  ENFJ  91.297791\n",
       "1  id02   9.0   서울  70.0   1  NaN  ENFJ  60.339826\n",
       "2  id03  27.0   서울  61.0   1  NaN  ISTJ  17.252986\n",
       "3  id04  75.0   서울   NaN   2  NaN  INFP  52.667078\n",
       "4  id05  24.0   서울  85.0   2  NaN  ISFJ  29.269869"
      ]
     },
     "execution_count": 8,
     "metadata": {},
     "output_type": "execute_result"
    }
   ],
   "source": [
    "df.head()"
   ]
  },
  {
   "cell_type": "code",
   "execution_count": 9,
   "id": "25800cdf",
   "metadata": {
    "execution": {
     "iopub.execute_input": "2025-05-31T12:08:15.625837Z",
     "iopub.status.busy": "2025-05-31T12:08:15.625036Z",
     "iopub.status.idle": "2025-05-31T12:08:15.628486Z",
     "shell.execute_reply": "2025-05-31T12:08:15.628043Z",
     "shell.execute_reply.started": "2025-05-31T12:06:37.529548Z"
    },
    "papermill": {
     "duration": 0.034472,
     "end_time": "2025-05-31T12:08:15.628632",
     "exception": false,
     "start_time": "2025-05-31T12:08:15.594160",
     "status": "completed"
    },
    "tags": []
   },
   "outputs": [
    {
     "data": {
      "text/plain": [
       "0      (0.999, 38.667]\n",
       "1      (0.999, 38.667]\n",
       "2      (0.999, 38.667]\n",
       "3      (73.333, 100.0]\n",
       "4      (0.999, 38.667]\n",
       "            ...       \n",
       "95     (73.333, 100.0]\n",
       "96     (73.333, 100.0]\n",
       "97    (38.667, 73.333]\n",
       "98     (0.999, 38.667]\n",
       "99    (38.667, 73.333]\n",
       "Name: age, Length: 90, dtype: category\n",
       "Categories (3, interval[float64, right]): [(0.999, 38.667] < (38.667, 73.333] < (73.333, 100.0]]"
      ]
     },
     "execution_count": 9,
     "metadata": {},
     "output_type": "execute_result"
    }
   ],
   "source": [
    "# 기준 확인\n",
    "pd.qcut(df['age'], q=3)"
   ]
  },
  {
   "cell_type": "code",
   "execution_count": 10,
   "id": "a773acef",
   "metadata": {
    "execution": {
     "iopub.execute_input": "2025-05-31T12:08:15.659803Z",
     "iopub.status.busy": "2025-05-31T12:08:15.659089Z",
     "iopub.status.idle": "2025-05-31T12:08:15.661223Z",
     "shell.execute_reply": "2025-05-31T12:08:15.661793Z",
     "shell.execute_reply.started": "2025-05-31T12:07:41.521132Z"
    },
    "papermill": {
     "duration": 0.021871,
     "end_time": "2025-05-31T12:08:15.661961",
     "exception": false,
     "start_time": "2025-05-31T12:08:15.640090",
     "status": "completed"
    },
    "tags": []
   },
   "outputs": [],
   "source": [
    "# 구간 분할\n",
    "df['range'] = pd.qcut(df['age'], q=3, labels=['group1','group2','group3'])"
   ]
  },
  {
   "cell_type": "code",
   "execution_count": 11,
   "id": "37355321",
   "metadata": {
    "execution": {
     "iopub.execute_input": "2025-05-31T12:08:15.696574Z",
     "iopub.status.busy": "2025-05-31T12:08:15.695672Z",
     "iopub.status.idle": "2025-05-31T12:08:15.698914Z",
     "shell.execute_reply": "2025-05-31T12:08:15.699489Z",
     "shell.execute_reply.started": "2025-05-31T12:06:43.047172Z"
    },
    "papermill": {
     "duration": 0.024744,
     "end_time": "2025-05-31T12:08:15.699663",
     "exception": false,
     "start_time": "2025-05-31T12:08:15.674919",
     "status": "completed"
    },
    "tags": []
   },
   "outputs": [
    {
     "data": {
      "text/plain": [
       "group1    30\n",
       "group2    30\n",
       "group3    30\n",
       "Name: range, dtype: int64"
      ]
     },
     "execution_count": 11,
     "metadata": {},
     "output_type": "execute_result"
    }
   ],
   "source": [
    "# 수량 비교\n",
    "df['range'].value_counts()"
   ]
  },
  {
   "cell_type": "code",
   "execution_count": 12,
   "id": "ef537b07",
   "metadata": {
    "execution": {
     "iopub.execute_input": "2025-05-31T12:08:15.732748Z",
     "iopub.status.busy": "2025-05-31T12:08:15.730027Z",
     "iopub.status.idle": "2025-05-31T12:08:15.735930Z",
     "shell.execute_reply": "2025-05-31T12:08:15.735292Z",
     "shell.execute_reply.started": "2025-05-31T12:06:44.507334Z"
    },
    "papermill": {
     "duration": 0.024215,
     "end_time": "2025-05-31T12:08:15.736072",
     "exception": false,
     "start_time": "2025-05-31T12:08:15.711857",
     "status": "completed"
    },
    "tags": []
   },
   "outputs": [
    {
     "name": "stdout",
     "output_type": "stream",
     "text": [
      "165.0\n"
     ]
    }
   ],
   "source": [
    "# 중간이상 - 중간이하 \n",
    "g1_med = df[df['range'] == 'group1']['age'].median()\n",
    "g2_med = df[df['range'] == 'group2']['age'].median()\n",
    "g3_med = df[df['range'] == 'group3']['age'].median()\n",
    "\n",
    "print(g1_med + g2_med + g3_med)"
   ]
  }
 ],
 "metadata": {
  "kaggle": {
   "accelerator": "none",
   "dataSources": [
    {
     "datasetId": 1633303,
     "sourceId": 9936200,
     "sourceType": "datasetVersion"
    }
   ],
   "dockerImageVersionId": 30145,
   "isGpuEnabled": false,
   "isInternetEnabled": false,
   "language": "python",
   "sourceType": "notebook"
  },
  "kernelspec": {
   "display_name": "Python 3",
   "language": "python",
   "name": "python3"
  },
  "language_info": {
   "codemirror_mode": {
    "name": "ipython",
    "version": 3
   },
   "file_extension": ".py",
   "mimetype": "text/x-python",
   "name": "python",
   "nbconvert_exporter": "python",
   "pygments_lexer": "ipython3",
   "version": "3.7.10"
  },
  "papermill": {
   "default_parameters": {},
   "duration": 9.322762,
   "end_time": "2025-05-31T12:08:16.358226",
   "environment_variables": {},
   "exception": null,
   "input_path": "__notebook__.ipynb",
   "output_path": "__notebook__.ipynb",
   "parameters": {},
   "start_time": "2025-05-31T12:08:07.035464",
   "version": "2.3.3"
  }
 },
 "nbformat": 4,
 "nbformat_minor": 5
}
