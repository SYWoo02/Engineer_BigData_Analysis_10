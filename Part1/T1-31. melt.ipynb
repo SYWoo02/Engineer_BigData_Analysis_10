{
 "cells": [
  {
   "cell_type": "markdown",
   "id": "50cf66b3",
   "metadata": {
    "papermill": {
     "duration": 0.00373,
     "end_time": "2025-06-02T19:57:30.625853",
     "exception": false,
     "start_time": "2025-06-02T19:57:30.622123",
     "status": "completed"
    },
    "tags": []
   },
   "source": [
    "## Q. 수학, 영어, 국어 점수 중 사람과 과목에 상관없이 가장 상위 점수 5개를 모두 더하고 출력하시오.\n",
    "- updated 22.12.2"
   ]
  },
  {
   "cell_type": "code",
   "execution_count": 1,
   "id": "4d849697",
   "metadata": {
    "execution": {
     "iopub.execute_input": "2025-06-02T19:57:30.634260Z",
     "iopub.status.busy": "2025-06-02T19:57:30.633582Z",
     "iopub.status.idle": "2025-06-02T19:57:30.676434Z",
     "shell.execute_reply": "2025-06-02T19:57:30.675198Z"
    },
    "papermill": {
     "duration": 0.050003,
     "end_time": "2025-06-02T19:57:30.678906",
     "exception": false,
     "start_time": "2025-06-02T19:57:30.628903",
     "status": "completed"
    },
    "tags": []
   },
   "outputs": [
    {
     "data": {
      "text/html": [
       "<div>\n",
       "<style scoped>\n",
       "    .dataframe tbody tr th:only-of-type {\n",
       "        vertical-align: middle;\n",
       "    }\n",
       "\n",
       "    .dataframe tbody tr th {\n",
       "        vertical-align: top;\n",
       "    }\n",
       "\n",
       "    .dataframe thead th {\n",
       "        text-align: right;\n",
       "    }\n",
       "</style>\n",
       "<table border=\"1\" class=\"dataframe\">\n",
       "  <thead>\n",
       "    <tr style=\"text-align: right;\">\n",
       "      <th></th>\n",
       "      <th>Name</th>\n",
       "      <th>수학</th>\n",
       "      <th>영어</th>\n",
       "      <th>국어</th>\n",
       "    </tr>\n",
       "  </thead>\n",
       "  <tbody>\n",
       "    <tr>\n",
       "      <th>0</th>\n",
       "      <td>김딴짓</td>\n",
       "      <td>90</td>\n",
       "      <td>92</td>\n",
       "      <td>91</td>\n",
       "    </tr>\n",
       "    <tr>\n",
       "      <th>1</th>\n",
       "      <td>박분기</td>\n",
       "      <td>93</td>\n",
       "      <td>84</td>\n",
       "      <td>94</td>\n",
       "    </tr>\n",
       "    <tr>\n",
       "      <th>2</th>\n",
       "      <td>이퇴근</td>\n",
       "      <td>85</td>\n",
       "      <td>86</td>\n",
       "      <td>83</td>\n",
       "    </tr>\n",
       "  </tbody>\n",
       "</table>\n",
       "</div>"
      ],
      "text/plain": [
       "  Name  수학  영어  국어\n",
       "0  김딴짓  90  92  91\n",
       "1  박분기  93  84  94\n",
       "2  이퇴근  85  86  83"
      ]
     },
     "execution_count": 1,
     "metadata": {},
     "output_type": "execute_result"
    }
   ],
   "source": [
    "import pandas as pd\n",
    "df = pd.DataFrame({'Name': {0: '김딴짓', 1: '박분기', 2: '이퇴근'},\n",
    "                   '수학': {0: 90, 1: 93, 2: 85},\n",
    "                   '영어': {0: 92, 1: 84, 2: 86},\n",
    "                   '국어': {0: 91, 1: 94, 2: 83},})\n",
    "\n",
    "df"
   ]
  },
  {
   "cell_type": "markdown",
   "id": "8567858d",
   "metadata": {
    "papermill": {
     "duration": 0.002441,
     "end_time": "2025-06-02T19:57:30.684169",
     "exception": false,
     "start_time": "2025-06-02T19:57:30.681728",
     "status": "completed"
    },
    "tags": []
   },
   "source": [
    "## 나의 코드 "
   ]
  },
  {
   "cell_type": "code",
   "execution_count": 2,
   "id": "bc014881",
   "metadata": {
    "execution": {
     "iopub.execute_input": "2025-06-02T19:57:30.691320Z",
     "iopub.status.busy": "2025-06-02T19:57:30.690906Z",
     "iopub.status.idle": "2025-06-02T19:57:30.710440Z",
     "shell.execute_reply": "2025-06-02T19:57:30.709102Z"
    },
    "papermill": {
     "duration": 0.026117,
     "end_time": "2025-06-02T19:57:30.713041",
     "exception": false,
     "start_time": "2025-06-02T19:57:30.686924",
     "status": "completed"
    },
    "tags": []
   },
   "outputs": [
    {
     "name": "stdout",
     "output_type": "stream",
     "text": [
      "460\n"
     ]
    }
   ],
   "source": [
    "# 'Name' 칼럼 제외하고 열 -> 행으로 melt\n",
    "data = pd.melt(df,['Name'])\n",
    "\n",
    "# melt된 점수들 (value) 기준으로 내림차순, 상위 점수 5개 추출\n",
    "top5 = data.sort_values('value',ascending=False).head(5)\n",
    "\n",
    "# 추출한 상위 점수 5개의 총합 출력\n",
    "print(top5['value'].sum())"
   ]
  },
  {
   "cell_type": "code",
   "execution_count": null,
   "id": "508c8bd0",
   "metadata": {
    "papermill": {
     "duration": 0.002683,
     "end_time": "2025-06-02T19:57:30.719125",
     "exception": false,
     "start_time": "2025-06-02T19:57:30.716442",
     "status": "completed"
    },
    "tags": []
   },
   "outputs": [],
   "source": []
  },
  {
   "cell_type": "code",
   "execution_count": null,
   "id": "f3cb227a",
   "metadata": {
    "papermill": {
     "duration": 0.002602,
     "end_time": "2025-06-02T19:57:30.724748",
     "exception": false,
     "start_time": "2025-06-02T19:57:30.722146",
     "status": "completed"
    },
    "tags": []
   },
   "outputs": [],
   "source": []
  },
  {
   "cell_type": "code",
   "execution_count": null,
   "id": "1445f83b",
   "metadata": {
    "papermill": {
     "duration": 0.002645,
     "end_time": "2025-06-02T19:57:30.730187",
     "exception": false,
     "start_time": "2025-06-02T19:57:30.727542",
     "status": "completed"
    },
    "tags": []
   },
   "outputs": [],
   "source": []
  },
  {
   "cell_type": "code",
   "execution_count": null,
   "id": "02fcbd57",
   "metadata": {
    "papermill": {
     "duration": 0.002488,
     "end_time": "2025-06-02T19:57:30.735520",
     "exception": false,
     "start_time": "2025-06-02T19:57:30.733032",
     "status": "completed"
    },
    "tags": []
   },
   "outputs": [],
   "source": []
  },
  {
   "cell_type": "markdown",
   "id": "1823e077",
   "metadata": {
    "papermill": {
     "duration": 0.002682,
     "end_time": "2025-06-02T19:57:30.741084",
     "exception": false,
     "start_time": "2025-06-02T19:57:30.738402",
     "status": "completed"
    },
    "tags": []
   },
   "source": [
    "## 풀이 (예시답안)"
   ]
  },
  {
   "cell_type": "code",
   "execution_count": 3,
   "id": "9d8affc4",
   "metadata": {
    "execution": {
     "iopub.execute_input": "2025-06-02T19:57:30.748547Z",
     "iopub.status.busy": "2025-06-02T19:57:30.748157Z",
     "iopub.status.idle": "2025-06-02T19:57:30.759247Z",
     "shell.execute_reply": "2025-06-02T19:57:30.757877Z"
    },
    "papermill": {
     "duration": 0.017612,
     "end_time": "2025-06-02T19:57:30.761567",
     "exception": false,
     "start_time": "2025-06-02T19:57:30.743955",
     "status": "completed"
    },
    "tags": []
   },
   "outputs": [
    {
     "name": "stdout",
     "output_type": "stream",
     "text": [
      "460\n"
     ]
    }
   ],
   "source": [
    "df = pd.melt(df, id_vars=['Name'])\n",
    "df = df.sort_values(by='value', ascending=False)\n",
    "print(sum(df['value'].iloc[:5]))"
   ]
  }
 ],
 "metadata": {
  "kaggle": {
   "accelerator": "none",
   "dataSources": [
    {
     "datasetId": 1633303,
     "sourceId": 9936200,
     "sourceType": "datasetVersion"
    }
   ],
   "dockerImageVersionId": 30301,
   "isGpuEnabled": false,
   "isInternetEnabled": false,
   "language": "python",
   "sourceType": "notebook"
  },
  "kernelspec": {
   "display_name": "Python 3",
   "language": "python",
   "name": "python3"
  },
  "language_info": {
   "codemirror_mode": {
    "name": "ipython",
    "version": 3
   },
   "file_extension": ".py",
   "mimetype": "text/x-python",
   "name": "python",
   "nbconvert_exporter": "python",
   "pygments_lexer": "ipython3",
   "version": "3.7.12"
  },
  "papermill": {
   "default_parameters": {},
   "duration": 12.059483,
   "end_time": "2025-06-02T19:57:31.488548",
   "environment_variables": {},
   "exception": null,
   "input_path": "__notebook__.ipynb",
   "output_path": "__notebook__.ipynb",
   "parameters": {},
   "start_time": "2025-06-02T19:57:19.429065",
   "version": "2.3.4"
  }
 },
 "nbformat": 4,
 "nbformat_minor": 5
}
