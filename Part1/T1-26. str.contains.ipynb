{
 "cells": [
  {
   "cell_type": "markdown",
   "id": "86b5e22a",
   "metadata": {
    "papermill": {
     "duration": 0.003686,
     "end_time": "2025-06-02T18:56:17.272651",
     "exception": false,
     "start_time": "2025-06-02T18:56:17.268965",
     "status": "completed"
    },
    "tags": []
   },
   "source": [
    "## T1-26. menu컬럼에 \"라떼\" 키워드가 있는 데이터의 수는?"
   ]
  },
  {
   "cell_type": "code",
   "execution_count": 1,
   "id": "b2206bbf",
   "metadata": {
    "_cell_guid": "b1076dfc-b9ad-4769-8c92-a6c4dae69d19",
    "_uuid": "8f2839f25d086af736a60e9eeb907d3b93b6e0e5",
    "execution": {
     "iopub.execute_input": "2025-06-02T18:56:17.279557Z",
     "iopub.status.busy": "2025-06-02T18:56:17.279089Z",
     "iopub.status.idle": "2025-06-02T18:56:17.325129Z",
     "shell.execute_reply": "2025-06-02T18:56:17.323673Z"
    },
    "papermill": {
     "duration": 0.052713,
     "end_time": "2025-06-02T18:56:17.328063",
     "exception": false,
     "start_time": "2025-06-02T18:56:17.275350",
     "status": "completed"
    },
    "tags": []
   },
   "outputs": [
    {
     "data": {
      "text/html": [
       "<div>\n",
       "<style scoped>\n",
       "    .dataframe tbody tr th:only-of-type {\n",
       "        vertical-align: middle;\n",
       "    }\n",
       "\n",
       "    .dataframe tbody tr th {\n",
       "        vertical-align: top;\n",
       "    }\n",
       "\n",
       "    .dataframe thead th {\n",
       "        text-align: right;\n",
       "    }\n",
       "</style>\n",
       "<table border=\"1\" class=\"dataframe\">\n",
       "  <thead>\n",
       "    <tr style=\"text-align: right;\">\n",
       "      <th></th>\n",
       "      <th>date</th>\n",
       "      <th>hour</th>\n",
       "      <th>menu</th>\n",
       "      <th>price</th>\n",
       "    </tr>\n",
       "  </thead>\n",
       "  <tbody>\n",
       "    <tr>\n",
       "      <th>0</th>\n",
       "      <td>20221129</td>\n",
       "      <td>13</td>\n",
       "      <td>딸기라떼</td>\n",
       "      <td>4000</td>\n",
       "    </tr>\n",
       "    <tr>\n",
       "      <th>1</th>\n",
       "      <td>20221130</td>\n",
       "      <td>12</td>\n",
       "      <td>카페라떼</td>\n",
       "      <td>3000</td>\n",
       "    </tr>\n",
       "    <tr>\n",
       "      <th>2</th>\n",
       "      <td>20221201</td>\n",
       "      <td>14</td>\n",
       "      <td>바닐라라떼</td>\n",
       "      <td>3500</td>\n",
       "    </tr>\n",
       "    <tr>\n",
       "      <th>3</th>\n",
       "      <td>20221201</td>\n",
       "      <td>16</td>\n",
       "      <td>초코라떼</td>\n",
       "      <td>3500</td>\n",
       "    </tr>\n",
       "    <tr>\n",
       "      <th>4</th>\n",
       "      <td>20221202</td>\n",
       "      <td>17</td>\n",
       "      <td>모카라떼</td>\n",
       "      <td>3500</td>\n",
       "    </tr>\n",
       "    <tr>\n",
       "      <th>5</th>\n",
       "      <td>20221202</td>\n",
       "      <td>12</td>\n",
       "      <td>카라멜라떼</td>\n",
       "      <td>3500</td>\n",
       "    </tr>\n",
       "    <tr>\n",
       "      <th>6</th>\n",
       "      <td>20221203</td>\n",
       "      <td>8</td>\n",
       "      <td>챠이 라떼</td>\n",
       "      <td>3500</td>\n",
       "    </tr>\n",
       "    <tr>\n",
       "      <th>7</th>\n",
       "      <td>20221203</td>\n",
       "      <td>9</td>\n",
       "      <td>아메리카노</td>\n",
       "      <td>2000</td>\n",
       "    </tr>\n",
       "    <tr>\n",
       "      <th>8</th>\n",
       "      <td>20221203</td>\n",
       "      <td>15</td>\n",
       "      <td>오곡 라떼</td>\n",
       "      <td>4000</td>\n",
       "    </tr>\n",
       "    <tr>\n",
       "      <th>9</th>\n",
       "      <td>20221203</td>\n",
       "      <td>16</td>\n",
       "      <td>아메리카노</td>\n",
       "      <td>2000</td>\n",
       "    </tr>\n",
       "    <tr>\n",
       "      <th>10</th>\n",
       "      <td>20221225</td>\n",
       "      <td>10</td>\n",
       "      <td>아메리카노</td>\n",
       "      <td>2000</td>\n",
       "    </tr>\n",
       "    <tr>\n",
       "      <th>11</th>\n",
       "      <td>20221225</td>\n",
       "      <td>14</td>\n",
       "      <td>토피넛 라떼</td>\n",
       "      <td>4000</td>\n",
       "    </tr>\n",
       "    <tr>\n",
       "      <th>12</th>\n",
       "      <td>20221225</td>\n",
       "      <td>16</td>\n",
       "      <td>카페 라떼</td>\n",
       "      <td>3000</td>\n",
       "    </tr>\n",
       "  </tbody>\n",
       "</table>\n",
       "</div>"
      ],
      "text/plain": [
       "        date  hour    menu  price\n",
       "0   20221129    13    딸기라떼   4000\n",
       "1   20221130    12    카페라떼   3000\n",
       "2   20221201    14   바닐라라떼   3500\n",
       "3   20221201    16    초코라떼   3500\n",
       "4   20221202    17    모카라떼   3500\n",
       "5   20221202    12   카라멜라떼   3500\n",
       "6   20221203     8   챠이 라떼   3500\n",
       "7   20221203     9   아메리카노   2000\n",
       "8   20221203    15   오곡 라떼   4000\n",
       "9   20221203    16   아메리카노   2000\n",
       "10  20221225    10   아메리카노   2000\n",
       "11  20221225    14  토피넛 라떼   4000\n",
       "12  20221225    16   카페 라떼   3000"
      ]
     },
     "execution_count": 1,
     "metadata": {},
     "output_type": "execute_result"
    }
   ],
   "source": [
    "import pandas as pd\n",
    "df = pd.read_csv(\"/kaggle/input/bigdatacertificationkr/payment.csv\")\n",
    "df"
   ]
  },
  {
   "cell_type": "markdown",
   "id": "468ad113",
   "metadata": {
    "papermill": {
     "duration": 0.002658,
     "end_time": "2025-06-02T18:56:17.333870",
     "exception": false,
     "start_time": "2025-06-02T18:56:17.331212",
     "status": "completed"
    },
    "tags": []
   },
   "source": [
    "## 나의 코드 "
   ]
  },
  {
   "cell_type": "code",
   "execution_count": 2,
   "id": "e825cf5f",
   "metadata": {
    "execution": {
     "iopub.execute_input": "2025-06-02T18:56:17.341429Z",
     "iopub.status.busy": "2025-06-02T18:56:17.341041Z",
     "iopub.status.idle": "2025-06-02T18:56:17.353395Z",
     "shell.execute_reply": "2025-06-02T18:56:17.352150Z"
    },
    "papermill": {
     "duration": 0.019323,
     "end_time": "2025-06-02T18:56:17.356102",
     "exception": false,
     "start_time": "2025-06-02T18:56:17.336779",
     "status": "completed"
    },
    "tags": []
   },
   "outputs": [
    {
     "name": "stdout",
     "output_type": "stream",
     "text": [
      "10\n"
     ]
    }
   ],
   "source": [
    "print(df['menu'].str.contains(\"라떼\").sum())\n",
    "\n",
    "# Pandas의 str는 시리즈(Series)나 데이터프레임 열이 문자열 데이터를 담고 있을 때, \n",
    "# 그 안의 각 문자열에 문자열 전용 메서드(예: contains, replace, upper 등)를 적용할 수 있게 해주는 인터페이스임."
   ]
  },
  {
   "cell_type": "code",
   "execution_count": null,
   "id": "759da24b",
   "metadata": {
    "papermill": {
     "duration": 0.002645,
     "end_time": "2025-06-02T18:56:17.361824",
     "exception": false,
     "start_time": "2025-06-02T18:56:17.359179",
     "status": "completed"
    },
    "tags": []
   },
   "outputs": [],
   "source": []
  },
  {
   "cell_type": "code",
   "execution_count": null,
   "id": "7c84e21a",
   "metadata": {
    "papermill": {
     "duration": 0.00248,
     "end_time": "2025-06-02T18:56:17.367129",
     "exception": false,
     "start_time": "2025-06-02T18:56:17.364649",
     "status": "completed"
    },
    "tags": []
   },
   "outputs": [],
   "source": []
  },
  {
   "cell_type": "code",
   "execution_count": null,
   "id": "ba825e56",
   "metadata": {
    "papermill": {
     "duration": 0.003074,
     "end_time": "2025-06-02T18:56:17.373026",
     "exception": false,
     "start_time": "2025-06-02T18:56:17.369952",
     "status": "completed"
    },
    "tags": []
   },
   "outputs": [],
   "source": []
  },
  {
   "cell_type": "markdown",
   "id": "9f3d8afa",
   "metadata": {
    "papermill": {
     "duration": 0.002411,
     "end_time": "2025-06-02T18:56:17.378417",
     "exception": false,
     "start_time": "2025-06-02T18:56:17.376006",
     "status": "completed"
    },
    "tags": []
   },
   "source": [
    "## 풀이 (예시답안) "
   ]
  },
  {
   "cell_type": "code",
   "execution_count": 3,
   "id": "961b0874",
   "metadata": {
    "execution": {
     "iopub.execute_input": "2025-06-02T18:56:17.385797Z",
     "iopub.status.busy": "2025-06-02T18:56:17.385359Z",
     "iopub.status.idle": "2025-06-02T18:56:17.392439Z",
     "shell.execute_reply": "2025-06-02T18:56:17.391058Z"
    },
    "papermill": {
     "duration": 0.013864,
     "end_time": "2025-06-02T18:56:17.394994",
     "exception": false,
     "start_time": "2025-06-02T18:56:17.381130",
     "status": "completed"
    },
    "tags": []
   },
   "outputs": [
    {
     "name": "stdout",
     "output_type": "stream",
     "text": [
      "10\n"
     ]
    }
   ],
   "source": [
    "print(sum(df['menu'].str.contains(\"라떼\")))"
   ]
  }
 ],
 "metadata": {
  "kaggle": {
   "accelerator": "none",
   "dataSources": [
    {
     "datasetId": 1633303,
     "sourceId": 9936200,
     "sourceType": "datasetVersion"
    }
   ],
   "dockerImageVersionId": 30301,
   "isGpuEnabled": false,
   "isInternetEnabled": false,
   "language": "python",
   "sourceType": "notebook"
  },
  "kernelspec": {
   "display_name": "Python 3",
   "language": "python",
   "name": "python3"
  },
  "language_info": {
   "codemirror_mode": {
    "name": "ipython",
    "version": 3
   },
   "file_extension": ".py",
   "mimetype": "text/x-python",
   "name": "python",
   "nbconvert_exporter": "python",
   "pygments_lexer": "ipython3",
   "version": "3.7.12"
  },
  "papermill": {
   "default_parameters": {},
   "duration": 11.670829,
   "end_time": "2025-06-02T18:56:18.121497",
   "environment_variables": {},
   "exception": null,
   "input_path": "__notebook__.ipynb",
   "output_path": "__notebook__.ipynb",
   "parameters": {},
   "start_time": "2025-06-02T18:56:06.450668",
   "version": "2.3.4"
  }
 },
 "nbformat": 4,
 "nbformat_minor": 5
}
