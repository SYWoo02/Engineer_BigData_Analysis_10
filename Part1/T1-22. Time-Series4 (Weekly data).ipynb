{
 "cells": [
  {
   "cell_type": "markdown",
   "id": "1a3ef23c",
   "metadata": {
    "_cell_guid": "b1076dfc-b9ad-4769-8c92-a6c4dae69d19",
    "_uuid": "8f2839f25d086af736a60e9eeb907d3b93b6e0e5",
    "papermill": {
     "duration": 0.012683,
     "end_time": "2025-06-02T18:14:50.157699",
     "exception": false,
     "start_time": "2025-06-02T18:14:50.145016",
     "status": "completed"
    },
    "tags": []
   },
   "source": [
    "## < 시계열 데이터 >\n",
    "## 주어진 데이터(basic2.csv)에서 주 단위 Sales의 합계를 구하고,\n",
    "## 가장 큰 값을 가진 주와 작은 값을 가진 주의 차이를 구하시오(절대값)\n",
    "\n",
    "### - 데이터셋 : basic2.csv\n",
    "### - 오른쪽 상단 copy&edit 클릭 -> 예상문제 풀이 시작"
   ]
  },
  {
   "cell_type": "markdown",
   "id": "f48122e6",
   "metadata": {
    "papermill": {
     "duration": 0.010699,
     "end_time": "2025-06-02T18:14:50.179283",
     "exception": false,
     "start_time": "2025-06-02T18:14:50.168584",
     "status": "completed"
    },
    "tags": []
   },
   "source": [
    "## 나의 코드"
   ]
  },
  {
   "cell_type": "code",
   "execution_count": 1,
   "id": "374d0416",
   "metadata": {
    "execution": {
     "iopub.execute_input": "2025-06-02T18:14:50.215665Z",
     "iopub.status.busy": "2025-06-02T18:14:50.214894Z",
     "iopub.status.idle": "2025-06-02T18:14:50.259659Z",
     "shell.execute_reply": "2025-06-02T18:14:50.258880Z",
     "shell.execute_reply.started": "2025-06-02T18:12:29.846094Z"
    },
    "papermill": {
     "duration": 0.068672,
     "end_time": "2025-06-02T18:14:50.259842",
     "exception": false,
     "start_time": "2025-06-02T18:14:50.191170",
     "status": "completed"
    },
    "tags": []
   },
   "outputs": [
    {
     "data": {
      "text/html": [
       "<div>\n",
       "<style scoped>\n",
       "    .dataframe tbody tr th:only-of-type {\n",
       "        vertical-align: middle;\n",
       "    }\n",
       "\n",
       "    .dataframe tbody tr th {\n",
       "        vertical-align: top;\n",
       "    }\n",
       "\n",
       "    .dataframe thead th {\n",
       "        text-align: right;\n",
       "    }\n",
       "</style>\n",
       "<table border=\"1\" class=\"dataframe\">\n",
       "  <thead>\n",
       "    <tr style=\"text-align: right;\">\n",
       "      <th></th>\n",
       "      <th>Date</th>\n",
       "      <th>Sales</th>\n",
       "      <th>PV</th>\n",
       "      <th>UV</th>\n",
       "      <th>Events</th>\n",
       "    </tr>\n",
       "  </thead>\n",
       "  <tbody>\n",
       "    <tr>\n",
       "      <th>0</th>\n",
       "      <td>2022-01-01</td>\n",
       "      <td>22711525</td>\n",
       "      <td>397349</td>\n",
       "      <td>4421.0</td>\n",
       "      <td>1</td>\n",
       "    </tr>\n",
       "    <tr>\n",
       "      <th>1</th>\n",
       "      <td>2022-01-02</td>\n",
       "      <td>36779</td>\n",
       "      <td>3969</td>\n",
       "      <td>2289.0</td>\n",
       "      <td>0</td>\n",
       "    </tr>\n",
       "    <tr>\n",
       "      <th>2</th>\n",
       "      <td>2022-01-03</td>\n",
       "      <td>13943875</td>\n",
       "      <td>373890</td>\n",
       "      <td>NaN</td>\n",
       "      <td>1</td>\n",
       "    </tr>\n",
       "    <tr>\n",
       "      <th>3</th>\n",
       "      <td>2022-01-04</td>\n",
       "      <td>8088593</td>\n",
       "      <td>142054</td>\n",
       "      <td>2157.0</td>\n",
       "      <td>0</td>\n",
       "    </tr>\n",
       "    <tr>\n",
       "      <th>4</th>\n",
       "      <td>2022-01-05</td>\n",
       "      <td>2395374</td>\n",
       "      <td>190684</td>\n",
       "      <td>NaN</td>\n",
       "      <td>0</td>\n",
       "    </tr>\n",
       "  </tbody>\n",
       "</table>\n",
       "</div>"
      ],
      "text/plain": [
       "         Date     Sales      PV      UV  Events\n",
       "0  2022-01-01  22711525  397349  4421.0       1\n",
       "1  2022-01-02     36779    3969  2289.0       0\n",
       "2  2022-01-03  13943875  373890     NaN       1\n",
       "3  2022-01-04   8088593  142054  2157.0       0\n",
       "4  2022-01-05   2395374  190684     NaN       0"
      ]
     },
     "execution_count": 1,
     "metadata": {},
     "output_type": "execute_result"
    }
   ],
   "source": [
    "# 라이브러리 및 데이터 불러오기 \n",
    "import pandas as pd\n",
    "import numpy as np\n",
    "data = pd.read_csv(\"/kaggle/input/bigdatacertificationkr/basic2.csv\")\n",
    "data.head(5)"
   ]
  },
  {
   "cell_type": "code",
   "execution_count": 2,
   "id": "ef46127d",
   "metadata": {
    "execution": {
     "iopub.execute_input": "2025-06-02T18:14:50.305383Z",
     "iopub.status.busy": "2025-06-02T18:14:50.290979Z",
     "iopub.status.idle": "2025-06-02T18:14:50.313841Z",
     "shell.execute_reply": "2025-06-02T18:14:50.313160Z",
     "shell.execute_reply.started": "2025-06-02T18:12:44.306454Z"
    },
    "papermill": {
     "duration": 0.042565,
     "end_time": "2025-06-02T18:14:50.314014",
     "exception": false,
     "start_time": "2025-06-02T18:14:50.271449",
     "status": "completed"
    },
    "tags": []
   },
   "outputs": [
    {
     "data": {
      "text/html": [
       "<div>\n",
       "<style scoped>\n",
       "    .dataframe tbody tr th:only-of-type {\n",
       "        vertical-align: middle;\n",
       "    }\n",
       "\n",
       "    .dataframe tbody tr th {\n",
       "        vertical-align: top;\n",
       "    }\n",
       "\n",
       "    .dataframe thead th {\n",
       "        text-align: right;\n",
       "    }\n",
       "</style>\n",
       "<table border=\"1\" class=\"dataframe\">\n",
       "  <thead>\n",
       "    <tr style=\"text-align: right;\">\n",
       "      <th></th>\n",
       "      <th>Sales</th>\n",
       "      <th>PV</th>\n",
       "      <th>UV</th>\n",
       "      <th>Events</th>\n",
       "    </tr>\n",
       "    <tr>\n",
       "      <th>Date</th>\n",
       "      <th></th>\n",
       "      <th></th>\n",
       "      <th></th>\n",
       "      <th></th>\n",
       "    </tr>\n",
       "  </thead>\n",
       "  <tbody>\n",
       "    <tr>\n",
       "      <th>2022-01-01</th>\n",
       "      <td>22711525</td>\n",
       "      <td>397349</td>\n",
       "      <td>4421.0</td>\n",
       "      <td>1</td>\n",
       "    </tr>\n",
       "    <tr>\n",
       "      <th>2022-01-02</th>\n",
       "      <td>36779</td>\n",
       "      <td>3969</td>\n",
       "      <td>2289.0</td>\n",
       "      <td>0</td>\n",
       "    </tr>\n",
       "    <tr>\n",
       "      <th>2022-01-03</th>\n",
       "      <td>13943875</td>\n",
       "      <td>373890</td>\n",
       "      <td>NaN</td>\n",
       "      <td>1</td>\n",
       "    </tr>\n",
       "    <tr>\n",
       "      <th>2022-01-04</th>\n",
       "      <td>8088593</td>\n",
       "      <td>142054</td>\n",
       "      <td>2157.0</td>\n",
       "      <td>0</td>\n",
       "    </tr>\n",
       "    <tr>\n",
       "      <th>2022-01-05</th>\n",
       "      <td>2395374</td>\n",
       "      <td>190684</td>\n",
       "      <td>NaN</td>\n",
       "      <td>0</td>\n",
       "    </tr>\n",
       "    <tr>\n",
       "      <th>...</th>\n",
       "      <td>...</td>\n",
       "      <td>...</td>\n",
       "      <td>...</td>\n",
       "      <td>...</td>\n",
       "    </tr>\n",
       "    <tr>\n",
       "      <th>2023-12-27</th>\n",
       "      <td>33846609</td>\n",
       "      <td>415067</td>\n",
       "      <td>7360.0</td>\n",
       "      <td>1</td>\n",
       "    </tr>\n",
       "    <tr>\n",
       "      <th>2023-12-28</th>\n",
       "      <td>3659566</td>\n",
       "      <td>208601</td>\n",
       "      <td>2262.0</td>\n",
       "      <td>1</td>\n",
       "    </tr>\n",
       "    <tr>\n",
       "      <th>2023-12-29</th>\n",
       "      <td>1164008</td>\n",
       "      <td>14309</td>\n",
       "      <td>193.0</td>\n",
       "      <td>0</td>\n",
       "    </tr>\n",
       "    <tr>\n",
       "      <th>2023-12-30</th>\n",
       "      <td>3977696</td>\n",
       "      <td>60935</td>\n",
       "      <td>NaN</td>\n",
       "      <td>0</td>\n",
       "    </tr>\n",
       "    <tr>\n",
       "      <th>2023-12-31</th>\n",
       "      <td>3719764</td>\n",
       "      <td>60963</td>\n",
       "      <td>1507.0</td>\n",
       "      <td>0</td>\n",
       "    </tr>\n",
       "  </tbody>\n",
       "</table>\n",
       "<p>730 rows × 4 columns</p>\n",
       "</div>"
      ],
      "text/plain": [
       "               Sales      PV      UV  Events\n",
       "Date                                        \n",
       "2022-01-01  22711525  397349  4421.0       1\n",
       "2022-01-02     36779    3969  2289.0       0\n",
       "2022-01-03  13943875  373890     NaN       1\n",
       "2022-01-04   8088593  142054  2157.0       0\n",
       "2022-01-05   2395374  190684     NaN       0\n",
       "...              ...     ...     ...     ...\n",
       "2023-12-27  33846609  415067  7360.0       1\n",
       "2023-12-28   3659566  208601  2262.0       1\n",
       "2023-12-29   1164008   14309   193.0       0\n",
       "2023-12-30   3977696   60935     NaN       0\n",
       "2023-12-31   3719764   60963  1507.0       0\n",
       "\n",
       "[730 rows x 4 columns]"
      ]
     },
     "execution_count": 2,
     "metadata": {},
     "output_type": "execute_result"
    }
   ],
   "source": [
    "# 데이터의 'Date'칼럼을 datetime 타입으로 변경\n",
    "data['Date'] = pd.to_datetime(data['Date'])\n",
    "\n",
    "# 'Date'를 인덱스로 지정 \n",
    "data2 = data.set_index('Date')\n",
    "data2"
   ]
  },
  {
   "cell_type": "code",
   "execution_count": 3,
   "id": "5f374cb8",
   "metadata": {
    "execution": {
     "iopub.execute_input": "2025-06-02T18:14:50.342832Z",
     "iopub.status.busy": "2025-06-02T18:14:50.342064Z",
     "iopub.status.idle": "2025-06-02T18:14:50.376200Z",
     "shell.execute_reply": "2025-06-02T18:14:50.375610Z",
     "shell.execute_reply.started": "2025-06-02T18:14:03.497342Z"
    },
    "papermill": {
     "duration": 0.050982,
     "end_time": "2025-06-02T18:14:50.376381",
     "exception": false,
     "start_time": "2025-06-02T18:14:50.325399",
     "status": "completed"
    },
    "tags": []
   },
   "outputs": [
    {
     "data": {
      "text/plain": [
       "Date\n",
       "2022-01-02    22748304\n",
       "2022-01-09    33373822\n",
       "2022-01-16    20754519\n",
       "2022-01-23    21880751\n",
       "2022-01-30    28878452\n",
       "                ...   \n",
       "2023-12-03    47120909\n",
       "2023-12-10    46398053\n",
       "2023-12-17    20763518\n",
       "2023-12-24    34528035\n",
       "2023-12-31    51435189\n",
       "Freq: W-SUN, Name: Sales, Length: 105, dtype: int64"
      ]
     },
     "execution_count": 3,
     "metadata": {},
     "output_type": "execute_result"
    }
   ],
   "source": [
    "# 주 단위로 변경\n",
    "data2_w = data2.resample('W')\n",
    "\n",
    "# 주 단위 Sales 합계\n",
    "data2_w_Sales_sum = data2_w['Sales'].sum()\n",
    "data2_w_Sales_sum"
   ]
  },
  {
   "cell_type": "code",
   "execution_count": 4,
   "id": "7651ffd9",
   "metadata": {
    "execution": {
     "iopub.execute_input": "2025-06-02T18:14:50.408147Z",
     "iopub.status.busy": "2025-06-02T18:14:50.407263Z",
     "iopub.status.idle": "2025-06-02T18:14:50.411423Z",
     "shell.execute_reply": "2025-06-02T18:14:50.410783Z",
     "shell.execute_reply.started": "2025-06-02T18:14:06.454138Z"
    },
    "papermill": {
     "duration": 0.022797,
     "end_time": "2025-06-02T18:14:50.411579",
     "exception": false,
     "start_time": "2025-06-02T18:14:50.388782",
     "status": "completed"
    },
    "tags": []
   },
   "outputs": [
    {
     "name": "stdout",
     "output_type": "stream",
     "text": [
      "91639050\n"
     ]
    }
   ],
   "source": [
    "# 가장 큰 값을 가진 주와 작은 값을 가진 주의 차이 출력 (절댓값)\n",
    "max = data2_w_Sales_sum.max()\n",
    "min = data2_w_Sales_sum.min()\n",
    "res = abs(max - min)\n",
    "print(res)\n",
    "\n",
    "# 정답: 91639050"
   ]
  },
  {
   "cell_type": "markdown",
   "id": "b1e3d4ae",
   "metadata": {
    "papermill": {
     "duration": 0.011592,
     "end_time": "2025-06-02T18:14:50.435332",
     "exception": false,
     "start_time": "2025-06-02T18:14:50.423740",
     "status": "completed"
    },
    "tags": []
   },
   "source": [
    "## 풀이 (예시답안)"
   ]
  },
  {
   "cell_type": "code",
   "execution_count": 5,
   "id": "4d85855e",
   "metadata": {
    "execution": {
     "iopub.execute_input": "2025-06-02T18:14:50.466287Z",
     "iopub.status.busy": "2025-06-02T18:14:50.465071Z",
     "iopub.status.idle": "2025-06-02T18:14:50.468575Z",
     "shell.execute_reply": "2025-06-02T18:14:50.467883Z",
     "shell.execute_reply.started": "2025-06-02T18:11:11.845579Z"
    },
    "papermill": {
     "duration": 0.021369,
     "end_time": "2025-06-02T18:14:50.468735",
     "exception": false,
     "start_time": "2025-06-02T18:14:50.447366",
     "status": "completed"
    },
    "tags": []
   },
   "outputs": [],
   "source": [
    "import pandas as pd"
   ]
  },
  {
   "cell_type": "code",
   "execution_count": 6,
   "id": "a9b1a144",
   "metadata": {
    "execution": {
     "iopub.execute_input": "2025-06-02T18:14:50.500051Z",
     "iopub.status.busy": "2025-06-02T18:14:50.499298Z",
     "iopub.status.idle": "2025-06-02T18:14:50.511716Z",
     "shell.execute_reply": "2025-06-02T18:14:50.510987Z",
     "shell.execute_reply.started": "2025-06-02T18:11:16.334801Z"
    },
    "papermill": {
     "duration": 0.030297,
     "end_time": "2025-06-02T18:14:50.511872",
     "exception": false,
     "start_time": "2025-06-02T18:14:50.481575",
     "status": "completed"
    },
    "tags": []
   },
   "outputs": [],
   "source": [
    "df = pd.read_csv(\"../input/bigdatacertificationkr/basic2.csv\", parse_dates=['Date'], index_col=0)\n",
    "\n",
    "# 아래 코드를 한줄로 표현함\n",
    "# df = pd.read_csv(\"../input/bigdatacertificationkr/basic2.csv\")\n",
    "# df['Date'] = pd.to_datetime(df['Date'])\n",
    "# df = df.set_index('Date')"
   ]
  },
  {
   "cell_type": "code",
   "execution_count": 7,
   "id": "212a5a5c",
   "metadata": {
    "execution": {
     "iopub.execute_input": "2025-06-02T18:14:50.547795Z",
     "iopub.status.busy": "2025-06-02T18:14:50.546850Z",
     "iopub.status.idle": "2025-06-02T18:14:50.553590Z",
     "shell.execute_reply": "2025-06-02T18:14:50.552666Z",
     "shell.execute_reply.started": "2025-06-02T18:11:18.360021Z"
    },
    "papermill": {
     "duration": 0.029783,
     "end_time": "2025-06-02T18:14:50.553764",
     "exception": false,
     "start_time": "2025-06-02T18:14:50.523981",
     "status": "completed"
    },
    "tags": []
   },
   "outputs": [
    {
     "name": "stdout",
     "output_type": "stream",
     "text": [
      "(730, 4)\n"
     ]
    },
    {
     "data": {
      "text/html": [
       "<div>\n",
       "<style scoped>\n",
       "    .dataframe tbody tr th:only-of-type {\n",
       "        vertical-align: middle;\n",
       "    }\n",
       "\n",
       "    .dataframe tbody tr th {\n",
       "        vertical-align: top;\n",
       "    }\n",
       "\n",
       "    .dataframe thead th {\n",
       "        text-align: right;\n",
       "    }\n",
       "</style>\n",
       "<table border=\"1\" class=\"dataframe\">\n",
       "  <thead>\n",
       "    <tr style=\"text-align: right;\">\n",
       "      <th></th>\n",
       "      <th>Sales</th>\n",
       "      <th>PV</th>\n",
       "      <th>UV</th>\n",
       "      <th>Events</th>\n",
       "    </tr>\n",
       "    <tr>\n",
       "      <th>Date</th>\n",
       "      <th></th>\n",
       "      <th></th>\n",
       "      <th></th>\n",
       "      <th></th>\n",
       "    </tr>\n",
       "  </thead>\n",
       "  <tbody>\n",
       "    <tr>\n",
       "      <th>2022-01-01</th>\n",
       "      <td>22711525</td>\n",
       "      <td>397349</td>\n",
       "      <td>4421.0</td>\n",
       "      <td>1</td>\n",
       "    </tr>\n",
       "    <tr>\n",
       "      <th>2022-01-02</th>\n",
       "      <td>36779</td>\n",
       "      <td>3969</td>\n",
       "      <td>2289.0</td>\n",
       "      <td>0</td>\n",
       "    </tr>\n",
       "    <tr>\n",
       "      <th>2022-01-03</th>\n",
       "      <td>13943875</td>\n",
       "      <td>373890</td>\n",
       "      <td>NaN</td>\n",
       "      <td>1</td>\n",
       "    </tr>\n",
       "  </tbody>\n",
       "</table>\n",
       "</div>"
      ],
      "text/plain": [
       "               Sales      PV      UV  Events\n",
       "Date                                        \n",
       "2022-01-01  22711525  397349  4421.0       1\n",
       "2022-01-02     36779    3969  2289.0       0\n",
       "2022-01-03  13943875  373890     NaN       1"
      ]
     },
     "execution_count": 7,
     "metadata": {},
     "output_type": "execute_result"
    }
   ],
   "source": [
    "print(df.shape)\n",
    "df.head(3)"
   ]
  },
  {
   "cell_type": "code",
   "execution_count": 8,
   "id": "04a05d62",
   "metadata": {
    "execution": {
     "iopub.execute_input": "2025-06-02T18:14:50.591233Z",
     "iopub.status.busy": "2025-06-02T18:14:50.590415Z",
     "iopub.status.idle": "2025-06-02T18:14:50.594901Z",
     "shell.execute_reply": "2025-06-02T18:14:50.594361Z",
     "shell.execute_reply.started": "2025-06-02T18:11:21.088695Z"
    },
    "papermill": {
     "duration": 0.028676,
     "end_time": "2025-06-02T18:14:50.595063",
     "exception": false,
     "start_time": "2025-06-02T18:14:50.566387",
     "status": "completed"
    },
    "tags": []
   },
   "outputs": [
    {
     "data": {
      "text/html": [
       "<div>\n",
       "<style scoped>\n",
       "    .dataframe tbody tr th:only-of-type {\n",
       "        vertical-align: middle;\n",
       "    }\n",
       "\n",
       "    .dataframe tbody tr th {\n",
       "        vertical-align: top;\n",
       "    }\n",
       "\n",
       "    .dataframe thead th {\n",
       "        text-align: right;\n",
       "    }\n",
       "</style>\n",
       "<table border=\"1\" class=\"dataframe\">\n",
       "  <thead>\n",
       "    <tr style=\"text-align: right;\">\n",
       "      <th></th>\n",
       "      <th>Sales</th>\n",
       "      <th>PV</th>\n",
       "      <th>UV</th>\n",
       "      <th>Events</th>\n",
       "    </tr>\n",
       "    <tr>\n",
       "      <th>Date</th>\n",
       "      <th></th>\n",
       "      <th></th>\n",
       "      <th></th>\n",
       "      <th></th>\n",
       "    </tr>\n",
       "  </thead>\n",
       "  <tbody>\n",
       "    <tr>\n",
       "      <th>2023-12-29</th>\n",
       "      <td>1164008</td>\n",
       "      <td>14309</td>\n",
       "      <td>193.0</td>\n",
       "      <td>0</td>\n",
       "    </tr>\n",
       "    <tr>\n",
       "      <th>2023-12-30</th>\n",
       "      <td>3977696</td>\n",
       "      <td>60935</td>\n",
       "      <td>NaN</td>\n",
       "      <td>0</td>\n",
       "    </tr>\n",
       "    <tr>\n",
       "      <th>2023-12-31</th>\n",
       "      <td>3719764</td>\n",
       "      <td>60963</td>\n",
       "      <td>1507.0</td>\n",
       "      <td>0</td>\n",
       "    </tr>\n",
       "  </tbody>\n",
       "</table>\n",
       "</div>"
      ],
      "text/plain": [
       "              Sales     PV      UV  Events\n",
       "Date                                      \n",
       "2023-12-29  1164008  14309   193.0       0\n",
       "2023-12-30  3977696  60935     NaN       0\n",
       "2023-12-31  3719764  60963  1507.0       0"
      ]
     },
     "execution_count": 8,
     "metadata": {},
     "output_type": "execute_result"
    }
   ],
   "source": [
    "df.tail(3)"
   ]
  },
  {
   "cell_type": "markdown",
   "id": "1d73014b",
   "metadata": {
    "papermill": {
     "duration": 0.013786,
     "end_time": "2025-06-02T18:14:50.622110",
     "exception": false,
     "start_time": "2025-06-02T18:14:50.608324",
     "status": "completed"
    },
    "tags": []
   },
   "source": [
    "### 단위 \n",
    "- 주 단위 W\n",
    "- 2주 단위 2W\n",
    "- 월 단위 M"
   ]
  },
  {
   "cell_type": "code",
   "execution_count": 9,
   "id": "9e078ef0",
   "metadata": {
    "execution": {
     "iopub.execute_input": "2025-06-02T18:14:50.666783Z",
     "iopub.status.busy": "2025-06-02T18:14:50.666031Z",
     "iopub.status.idle": "2025-06-02T18:14:50.670849Z",
     "shell.execute_reply": "2025-06-02T18:14:50.670187Z",
     "shell.execute_reply.started": "2025-06-02T18:11:22.757203Z"
    },
    "papermill": {
     "duration": 0.035387,
     "end_time": "2025-06-02T18:14:50.671036",
     "exception": false,
     "start_time": "2025-06-02T18:14:50.635649",
     "status": "completed"
    },
    "tags": []
   },
   "outputs": [
    {
     "data": {
      "text/html": [
       "<div>\n",
       "<style scoped>\n",
       "    .dataframe tbody tr th:only-of-type {\n",
       "        vertical-align: middle;\n",
       "    }\n",
       "\n",
       "    .dataframe tbody tr th {\n",
       "        vertical-align: top;\n",
       "    }\n",
       "\n",
       "    .dataframe thead th {\n",
       "        text-align: right;\n",
       "    }\n",
       "</style>\n",
       "<table border=\"1\" class=\"dataframe\">\n",
       "  <thead>\n",
       "    <tr style=\"text-align: right;\">\n",
       "      <th></th>\n",
       "      <th>Sales</th>\n",
       "      <th>PV</th>\n",
       "      <th>UV</th>\n",
       "      <th>Events</th>\n",
       "    </tr>\n",
       "    <tr>\n",
       "      <th>Date</th>\n",
       "      <th></th>\n",
       "      <th></th>\n",
       "      <th></th>\n",
       "      <th></th>\n",
       "    </tr>\n",
       "  </thead>\n",
       "  <tbody>\n",
       "    <tr>\n",
       "      <th>2022-01-02</th>\n",
       "      <td>22748304</td>\n",
       "      <td>401318</td>\n",
       "      <td>6710.0</td>\n",
       "      <td>1</td>\n",
       "    </tr>\n",
       "    <tr>\n",
       "      <th>2022-01-09</th>\n",
       "      <td>33373822</td>\n",
       "      <td>1148464</td>\n",
       "      <td>15189.0</td>\n",
       "      <td>2</td>\n",
       "    </tr>\n",
       "    <tr>\n",
       "      <th>2022-01-16</th>\n",
       "      <td>20754519</td>\n",
       "      <td>283773</td>\n",
       "      <td>9344.0</td>\n",
       "      <td>0</td>\n",
       "    </tr>\n",
       "    <tr>\n",
       "      <th>2022-01-23</th>\n",
       "      <td>21880751</td>\n",
       "      <td>538633</td>\n",
       "      <td>9841.0</td>\n",
       "      <td>1</td>\n",
       "    </tr>\n",
       "    <tr>\n",
       "      <th>2022-01-30</th>\n",
       "      <td>28878452</td>\n",
       "      <td>560814</td>\n",
       "      <td>7808.0</td>\n",
       "      <td>1</td>\n",
       "    </tr>\n",
       "  </tbody>\n",
       "</table>\n",
       "</div>"
      ],
      "text/plain": [
       "               Sales       PV       UV  Events\n",
       "Date                                          \n",
       "2022-01-02  22748304   401318   6710.0       1\n",
       "2022-01-09  33373822  1148464  15189.0       2\n",
       "2022-01-16  20754519   283773   9344.0       0\n",
       "2022-01-23  21880751   538633   9841.0       1\n",
       "2022-01-30  28878452   560814   7808.0       1"
      ]
     },
     "execution_count": 9,
     "metadata": {},
     "output_type": "execute_result"
    }
   ],
   "source": [
    "df_w = df.resample('W').sum()\n",
    "df_w.head()"
   ]
  },
  {
   "cell_type": "code",
   "execution_count": 10,
   "id": "36ba16f9",
   "metadata": {
    "execution": {
     "iopub.execute_input": "2025-06-02T18:14:50.704545Z",
     "iopub.status.busy": "2025-06-02T18:14:50.703703Z",
     "iopub.status.idle": "2025-06-02T18:14:50.709569Z",
     "shell.execute_reply": "2025-06-02T18:14:50.708836Z",
     "shell.execute_reply.started": "2025-06-02T18:11:29.064994Z"
    },
    "papermill": {
     "duration": 0.025331,
     "end_time": "2025-06-02T18:14:50.709742",
     "exception": false,
     "start_time": "2025-06-02T18:14:50.684411",
     "status": "completed"
    },
    "tags": []
   },
   "outputs": [
    {
     "data": {
      "text/plain": [
       "99165648"
      ]
     },
     "execution_count": 10,
     "metadata": {},
     "output_type": "execute_result"
    }
   ],
   "source": [
    "ma = df_w['Sales'].max()\n",
    "ma"
   ]
  },
  {
   "cell_type": "code",
   "execution_count": 11,
   "id": "0a3a3cd6",
   "metadata": {
    "execution": {
     "iopub.execute_input": "2025-06-02T18:14:50.746347Z",
     "iopub.status.busy": "2025-06-02T18:14:50.745304Z",
     "iopub.status.idle": "2025-06-02T18:14:50.749803Z",
     "shell.execute_reply": "2025-06-02T18:14:50.749149Z",
     "shell.execute_reply.started": "2025-06-02T18:11:31.577921Z"
    },
    "papermill": {
     "duration": 0.026733,
     "end_time": "2025-06-02T18:14:50.749987",
     "exception": false,
     "start_time": "2025-06-02T18:14:50.723254",
     "status": "completed"
    },
    "tags": []
   },
   "outputs": [
    {
     "data": {
      "text/plain": [
       "7526598"
      ]
     },
     "execution_count": 11,
     "metadata": {},
     "output_type": "execute_result"
    }
   ],
   "source": [
    "mi = df_w['Sales'].min()\n",
    "mi"
   ]
  },
  {
   "cell_type": "code",
   "execution_count": 12,
   "id": "b93c1f4e",
   "metadata": {
    "execution": {
     "iopub.execute_input": "2025-06-02T18:14:50.788293Z",
     "iopub.status.busy": "2025-06-02T18:14:50.787173Z",
     "iopub.status.idle": "2025-06-02T18:14:50.790915Z",
     "shell.execute_reply": "2025-06-02T18:14:50.791459Z",
     "shell.execute_reply.started": "2025-06-02T18:11:34.343532Z"
    },
    "papermill": {
     "duration": 0.025959,
     "end_time": "2025-06-02T18:14:50.791645",
     "exception": false,
     "start_time": "2025-06-02T18:14:50.765686",
     "status": "completed"
    },
    "tags": []
   },
   "outputs": [
    {
     "name": "stdout",
     "output_type": "stream",
     "text": [
      "91639050\n"
     ]
    }
   ],
   "source": [
    "print(ma - mi)"
   ]
  },
  {
   "cell_type": "code",
   "execution_count": null,
   "id": "755012a8",
   "metadata": {
    "papermill": {
     "duration": 0.013972,
     "end_time": "2025-06-02T18:14:50.820565",
     "exception": false,
     "start_time": "2025-06-02T18:14:50.806593",
     "status": "completed"
    },
    "tags": []
   },
   "outputs": [],
   "source": []
  }
 ],
 "metadata": {
  "kaggle": {
   "accelerator": "none",
   "dataSources": [
    {
     "datasetId": 1633303,
     "sourceId": 9936200,
     "sourceType": "datasetVersion"
    }
   ],
   "dockerImageVersionId": 30145,
   "isGpuEnabled": false,
   "isInternetEnabled": false,
   "language": "python",
   "sourceType": "notebook"
  },
  "kernelspec": {
   "display_name": "Python 3",
   "language": "python",
   "name": "python3"
  },
  "language_info": {
   "codemirror_mode": {
    "name": "ipython",
    "version": 3
   },
   "file_extension": ".py",
   "mimetype": "text/x-python",
   "name": "python",
   "nbconvert_exporter": "python",
   "pygments_lexer": "ipython3",
   "version": "3.7.10"
  },
  "papermill": {
   "default_parameters": {},
   "duration": 12.11742,
   "end_time": "2025-06-02T18:14:51.447134",
   "environment_variables": {},
   "exception": null,
   "input_path": "__notebook__.ipynb",
   "output_path": "__notebook__.ipynb",
   "parameters": {},
   "start_time": "2025-06-02T18:14:39.329714",
   "version": "2.3.3"
  }
 },
 "nbformat": 4,
 "nbformat_minor": 5
}
