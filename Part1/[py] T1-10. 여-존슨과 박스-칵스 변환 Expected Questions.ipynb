{
 "cells": [
  {
   "cell_type": "markdown",
   "id": "09248a70",
   "metadata": {
    "papermill": {
     "duration": 0.016395,
     "end_time": "2025-05-31T07:03:30.395572",
     "exception": false,
     "start_time": "2025-05-31T07:03:30.379177",
     "status": "completed"
    },
    "tags": []
   },
   "source": [
    "# 수치형 변수 변환하기\n",
    "\n",
    "### 주어진 데이터에서 20세 이상인 데이터를 추출하고 'f1'컬럼을 결측치를 최빈값으로 채운 후, \n",
    "### f1 컬럼의 여-존슨과 박스콕스 변환 값을 구하고, \n",
    "### 두 값의 차이를 절대값으로 구한 다음, 모두 더해 소수점 둘째 자리까지 출력(반올림)하시오.\n",
    "\n",
    "- 데이터셋 : basic1.csv\n",
    "- 오른쪽 상단 copy&edit 클릭 -> 예상문제 풀이 시작"
   ]
  },
  {
   "cell_type": "markdown",
   "id": "2e16ed22",
   "metadata": {
    "papermill": {
     "duration": 0.01245,
     "end_time": "2025-05-31T07:03:30.421577",
     "exception": false,
     "start_time": "2025-05-31T07:03:30.409127",
     "status": "completed"
    },
    "tags": []
   },
   "source": [
    "### 박스-콕스\n",
    "![박스-콕스](https://wikimedia.org/api/rest_v1/media/math/render/svg/b565ae8f1cce1e4035e2a36213b8c9ce34b5029d)\n",
    "\n",
    "### 여-존슨\n",
    "![여-존슨](https://wikimedia.org/api/rest_v1/media/math/render/svg/2a99e24c81226f3d0547c471281197ea265553c5)"
   ]
  },
  {
   "cell_type": "code",
   "execution_count": 1,
   "id": "a2a2e9f6",
   "metadata": {
    "execution": {
     "iopub.execute_input": "2025-05-31T07:03:30.458991Z",
     "iopub.status.busy": "2025-05-31T07:03:30.458298Z",
     "iopub.status.idle": "2025-05-31T07:03:31.582350Z",
     "shell.execute_reply": "2025-05-31T07:03:31.581606Z",
     "shell.execute_reply.started": "2025-05-31T06:57:11.755837Z"
    },
    "papermill": {
     "duration": 1.147817,
     "end_time": "2025-05-31T07:03:31.582523",
     "exception": false,
     "start_time": "2025-05-31T07:03:30.434706",
     "status": "completed"
    },
    "tags": []
   },
   "outputs": [
    {
     "data": {
      "text/html": [
       "<div>\n",
       "<style scoped>\n",
       "    .dataframe tbody tr th:only-of-type {\n",
       "        vertical-align: middle;\n",
       "    }\n",
       "\n",
       "    .dataframe tbody tr th {\n",
       "        vertical-align: top;\n",
       "    }\n",
       "\n",
       "    .dataframe thead th {\n",
       "        text-align: right;\n",
       "    }\n",
       "</style>\n",
       "<table border=\"1\" class=\"dataframe\">\n",
       "  <thead>\n",
       "    <tr style=\"text-align: right;\">\n",
       "      <th></th>\n",
       "      <th>id</th>\n",
       "      <th>age</th>\n",
       "      <th>city</th>\n",
       "      <th>f1</th>\n",
       "      <th>f2</th>\n",
       "      <th>f3</th>\n",
       "      <th>f4</th>\n",
       "      <th>f5</th>\n",
       "    </tr>\n",
       "  </thead>\n",
       "  <tbody>\n",
       "    <tr>\n",
       "      <th>0</th>\n",
       "      <td>id01</td>\n",
       "      <td>2.0</td>\n",
       "      <td>서울</td>\n",
       "      <td>NaN</td>\n",
       "      <td>0</td>\n",
       "      <td>NaN</td>\n",
       "      <td>ENFJ</td>\n",
       "      <td>91.297791</td>\n",
       "    </tr>\n",
       "    <tr>\n",
       "      <th>1</th>\n",
       "      <td>id02</td>\n",
       "      <td>9.0</td>\n",
       "      <td>서울</td>\n",
       "      <td>70.0</td>\n",
       "      <td>1</td>\n",
       "      <td>NaN</td>\n",
       "      <td>ENFJ</td>\n",
       "      <td>60.339826</td>\n",
       "    </tr>\n",
       "    <tr>\n",
       "      <th>2</th>\n",
       "      <td>id03</td>\n",
       "      <td>27.0</td>\n",
       "      <td>서울</td>\n",
       "      <td>61.0</td>\n",
       "      <td>1</td>\n",
       "      <td>NaN</td>\n",
       "      <td>ISTJ</td>\n",
       "      <td>17.252986</td>\n",
       "    </tr>\n",
       "  </tbody>\n",
       "</table>\n",
       "</div>"
      ],
      "text/plain": [
       "     id   age city    f1  f2   f3    f4         f5\n",
       "0  id01   2.0   서울   NaN   0  NaN  ENFJ  91.297791\n",
       "1  id02   9.0   서울  70.0   1  NaN  ENFJ  60.339826\n",
       "2  id03  27.0   서울  61.0   1  NaN  ISTJ  17.252986"
      ]
     },
     "execution_count": 1,
     "metadata": {},
     "output_type": "execute_result"
    }
   ],
   "source": [
    "# 라이브러리 및 데이터 불러오기\n",
    "import pandas as pd\n",
    "import numpy as np\n",
    "from sklearn.preprocessing import power_transform\n",
    "data = pd.read_csv(\"/kaggle/input/bigdatacertificationkr/basic1.csv\")\n",
    "data.head(3)"
   ]
  },
  {
   "cell_type": "code",
   "execution_count": 2,
   "id": "ebab0bda",
   "metadata": {
    "execution": {
     "iopub.execute_input": "2025-05-31T07:03:31.631339Z",
     "iopub.status.busy": "2025-05-31T07:03:31.618403Z",
     "iopub.status.idle": "2025-05-31T07:03:31.634969Z",
     "shell.execute_reply": "2025-05-31T07:03:31.635410Z",
     "shell.execute_reply.started": "2025-05-31T06:56:43.034167Z"
    },
    "papermill": {
     "duration": 0.039189,
     "end_time": "2025-05-31T07:03:31.635579",
     "exception": false,
     "start_time": "2025-05-31T07:03:31.596390",
     "status": "completed"
    },
    "tags": []
   },
   "outputs": [
    {
     "name": "stdout",
     "output_type": "stream",
     "text": [
      "       id    age city    f1  f2   f3    f4         f5\n",
      "0    id01    2.0   서울   NaN   0  NaN  ENFJ  91.297791\n",
      "1    id02    9.0   서울  70.0   1  NaN  ENFJ  60.339826\n",
      "2    id03   27.0   서울  61.0   1  NaN  ISTJ  17.252986\n",
      "3    id04   75.0   서울   NaN   2  NaN  INFP  52.667078\n",
      "4    id05   24.0   서울  85.0   2  NaN  ISFJ  29.269869\n",
      "..    ...    ...  ...   ...  ..  ...   ...        ...\n",
      "95   id96   92.0   경기  53.0   1  NaN  ENTJ  52.667078\n",
      "96   id97  100.0   경기   NaN   0  NaN  INFP  67.886373\n",
      "97   id98   39.0   경기  58.0   2  NaN  INFP  98.429899\n",
      "98   id99    1.0   경기  47.0   0  NaN  ESFJ  97.381034\n",
      "99  id100   47.0   경기  53.0   0  vip  ESFP  33.308999\n",
      "\n",
      "[92 rows x 8 columns]\n",
      "100 92\n"
     ]
    }
   ],
   "source": [
    "# 'age' 컬럼에서 이상치(float형) 제거\n",
    "cond = (data['age'] - np.floor(data['age'])) != 0\n",
    "data2 = data[~cond]\n",
    "print(data2)\n",
    "print(len(data),len(data2))"
   ]
  },
  {
   "cell_type": "code",
   "execution_count": 3,
   "id": "ed552dc7",
   "metadata": {
    "execution": {
     "iopub.execute_input": "2025-05-31T07:03:31.684558Z",
     "iopub.status.busy": "2025-05-31T07:03:31.683521Z",
     "iopub.status.idle": "2025-05-31T07:03:31.687857Z",
     "shell.execute_reply": "2025-05-31T07:03:31.687350Z",
     "shell.execute_reply.started": "2025-05-31T06:56:45.588672Z"
    },
    "papermill": {
     "duration": 0.038768,
     "end_time": "2025-05-31T07:03:31.688015",
     "exception": false,
     "start_time": "2025-05-31T07:03:31.649247",
     "status": "completed"
    },
    "tags": []
   },
   "outputs": [
    {
     "data": {
      "text/html": [
       "<div>\n",
       "<style scoped>\n",
       "    .dataframe tbody tr th:only-of-type {\n",
       "        vertical-align: middle;\n",
       "    }\n",
       "\n",
       "    .dataframe tbody tr th {\n",
       "        vertical-align: top;\n",
       "    }\n",
       "\n",
       "    .dataframe thead th {\n",
       "        text-align: right;\n",
       "    }\n",
       "</style>\n",
       "<table border=\"1\" class=\"dataframe\">\n",
       "  <thead>\n",
       "    <tr style=\"text-align: right;\">\n",
       "      <th></th>\n",
       "      <th>id</th>\n",
       "      <th>age</th>\n",
       "      <th>city</th>\n",
       "      <th>f1</th>\n",
       "      <th>f2</th>\n",
       "      <th>f3</th>\n",
       "      <th>f4</th>\n",
       "      <th>f5</th>\n",
       "    </tr>\n",
       "  </thead>\n",
       "  <tbody>\n",
       "    <tr>\n",
       "      <th>2</th>\n",
       "      <td>id03</td>\n",
       "      <td>27.0</td>\n",
       "      <td>서울</td>\n",
       "      <td>61.0</td>\n",
       "      <td>1</td>\n",
       "      <td>NaN</td>\n",
       "      <td>ISTJ</td>\n",
       "      <td>17.252986</td>\n",
       "    </tr>\n",
       "    <tr>\n",
       "      <th>3</th>\n",
       "      <td>id04</td>\n",
       "      <td>75.0</td>\n",
       "      <td>서울</td>\n",
       "      <td>NaN</td>\n",
       "      <td>2</td>\n",
       "      <td>NaN</td>\n",
       "      <td>INFP</td>\n",
       "      <td>52.667078</td>\n",
       "    </tr>\n",
       "    <tr>\n",
       "      <th>4</th>\n",
       "      <td>id05</td>\n",
       "      <td>24.0</td>\n",
       "      <td>서울</td>\n",
       "      <td>85.0</td>\n",
       "      <td>2</td>\n",
       "      <td>NaN</td>\n",
       "      <td>ISFJ</td>\n",
       "      <td>29.269869</td>\n",
       "    </tr>\n",
       "    <tr>\n",
       "      <th>5</th>\n",
       "      <td>id06</td>\n",
       "      <td>22.0</td>\n",
       "      <td>서울</td>\n",
       "      <td>57.0</td>\n",
       "      <td>0</td>\n",
       "      <td>vip</td>\n",
       "      <td>INTP</td>\n",
       "      <td>20.129444</td>\n",
       "    </tr>\n",
       "    <tr>\n",
       "      <th>7</th>\n",
       "      <td>id08</td>\n",
       "      <td>38.0</td>\n",
       "      <td>서울</td>\n",
       "      <td>101.0</td>\n",
       "      <td>1</td>\n",
       "      <td>NaN</td>\n",
       "      <td>INFJ</td>\n",
       "      <td>83.685380</td>\n",
       "    </tr>\n",
       "    <tr>\n",
       "      <th>...</th>\n",
       "      <td>...</td>\n",
       "      <td>...</td>\n",
       "      <td>...</td>\n",
       "      <td>...</td>\n",
       "      <td>...</td>\n",
       "      <td>...</td>\n",
       "      <td>...</td>\n",
       "      <td>...</td>\n",
       "    </tr>\n",
       "    <tr>\n",
       "      <th>94</th>\n",
       "      <td>id95</td>\n",
       "      <td>77.0</td>\n",
       "      <td>경기</td>\n",
       "      <td>43.0</td>\n",
       "      <td>1</td>\n",
       "      <td>NaN</td>\n",
       "      <td>INTJ</td>\n",
       "      <td>91.297791</td>\n",
       "    </tr>\n",
       "    <tr>\n",
       "      <th>95</th>\n",
       "      <td>id96</td>\n",
       "      <td>92.0</td>\n",
       "      <td>경기</td>\n",
       "      <td>53.0</td>\n",
       "      <td>1</td>\n",
       "      <td>NaN</td>\n",
       "      <td>ENTJ</td>\n",
       "      <td>52.667078</td>\n",
       "    </tr>\n",
       "    <tr>\n",
       "      <th>96</th>\n",
       "      <td>id97</td>\n",
       "      <td>100.0</td>\n",
       "      <td>경기</td>\n",
       "      <td>NaN</td>\n",
       "      <td>0</td>\n",
       "      <td>NaN</td>\n",
       "      <td>INFP</td>\n",
       "      <td>67.886373</td>\n",
       "    </tr>\n",
       "    <tr>\n",
       "      <th>97</th>\n",
       "      <td>id98</td>\n",
       "      <td>39.0</td>\n",
       "      <td>경기</td>\n",
       "      <td>58.0</td>\n",
       "      <td>2</td>\n",
       "      <td>NaN</td>\n",
       "      <td>INFP</td>\n",
       "      <td>98.429899</td>\n",
       "    </tr>\n",
       "    <tr>\n",
       "      <th>99</th>\n",
       "      <td>id100</td>\n",
       "      <td>47.0</td>\n",
       "      <td>경기</td>\n",
       "      <td>53.0</td>\n",
       "      <td>0</td>\n",
       "      <td>vip</td>\n",
       "      <td>ESFP</td>\n",
       "      <td>33.308999</td>\n",
       "    </tr>\n",
       "  </tbody>\n",
       "</table>\n",
       "<p>78 rows × 8 columns</p>\n",
       "</div>"
      ],
      "text/plain": [
       "       id    age city     f1  f2   f3    f4         f5\n",
       "2    id03   27.0   서울   61.0   1  NaN  ISTJ  17.252986\n",
       "3    id04   75.0   서울    NaN   2  NaN  INFP  52.667078\n",
       "4    id05   24.0   서울   85.0   2  NaN  ISFJ  29.269869\n",
       "5    id06   22.0   서울   57.0   0  vip  INTP  20.129444\n",
       "7    id08   38.0   서울  101.0   1  NaN  INFJ  83.685380\n",
       "..    ...    ...  ...    ...  ..  ...   ...        ...\n",
       "94   id95   77.0   경기   43.0   1  NaN  INTJ  91.297791\n",
       "95   id96   92.0   경기   53.0   1  NaN  ENTJ  52.667078\n",
       "96   id97  100.0   경기    NaN   0  NaN  INFP  67.886373\n",
       "97   id98   39.0   경기   58.0   2  NaN  INFP  98.429899\n",
       "99  id100   47.0   경기   53.0   0  vip  ESFP  33.308999\n",
       "\n",
       "[78 rows x 8 columns]"
      ]
     },
     "execution_count": 3,
     "metadata": {},
     "output_type": "execute_result"
    }
   ],
   "source": [
    "# 주어진 데이터에서 20세 이상인 데이터를 추출\n",
    "cond = data2['age'] >= 20\n",
    "data2_up_20 = data2[cond].copy()\n",
    "data2_up_20"
   ]
  },
  {
   "cell_type": "code",
   "execution_count": 4,
   "id": "5e2643bd",
   "metadata": {
    "execution": {
     "iopub.execute_input": "2025-05-31T07:03:31.732217Z",
     "iopub.status.busy": "2025-05-31T07:03:31.731366Z",
     "iopub.status.idle": "2025-05-31T07:03:31.735078Z",
     "shell.execute_reply": "2025-05-31T07:03:31.734582Z",
     "shell.execute_reply.started": "2025-05-31T06:56:50.561682Z"
    },
    "papermill": {
     "duration": 0.031958,
     "end_time": "2025-05-31T07:03:31.735215",
     "exception": false,
     "start_time": "2025-05-31T07:03:31.703257",
     "status": "completed"
    },
    "tags": []
   },
   "outputs": [
    {
     "data": {
      "text/plain": [
       "id       0\n",
       "age      0\n",
       "city     0\n",
       "f1       0\n",
       "f2       0\n",
       "f3      73\n",
       "f4       0\n",
       "f5       0\n",
       "dtype: int64"
      ]
     },
     "execution_count": 4,
     "metadata": {},
     "output_type": "execute_result"
    }
   ],
   "source": [
    "# 최빈값\n",
    "freq = data['f1'].mode()[0]\n",
    "\n",
    "# 최빈값으로 'f1' 컬럼 결측치 대체\n",
    "data2_up_20['f1'] = data2_up_20['f1'].fillna(freq)\n",
    "\n",
    "# 결측치 대체가 잘 되었는지 확인\n",
    "data2_up_20.isnull().sum()"
   ]
  },
  {
   "cell_type": "code",
   "execution_count": 5,
   "id": "3a76ddec",
   "metadata": {
    "execution": {
     "iopub.execute_input": "2025-05-31T07:03:31.775173Z",
     "iopub.status.busy": "2025-05-31T07:03:31.774439Z",
     "iopub.status.idle": "2025-05-31T07:03:31.781803Z",
     "shell.execute_reply": "2025-05-31T07:03:31.781139Z",
     "shell.execute_reply.started": "2025-05-31T07:01:37.566660Z"
    },
    "papermill": {
     "duration": 0.032435,
     "end_time": "2025-05-31T07:03:31.781947",
     "exception": false,
     "start_time": "2025-05-31T07:03:31.749512",
     "status": "completed"
    },
    "tags": []
   },
   "outputs": [
    {
     "data": {
      "text/plain": [
       "array([[ 0.09813597],\n",
       "       [-0.57249279],\n",
       "       [ 1.42931829],\n",
       "       [-0.14041289],\n",
       "       [ 2.24315955]])"
      ]
     },
     "execution_count": 5,
     "metadata": {},
     "output_type": "execute_result"
    }
   ],
   "source": [
    "# 'f1'데이터 여-존슨 yeo-johnson 값 구하기\n",
    "y_j = power_transform(data2_up_20[['f1']], method='yeo-johnson')\n",
    "y_j[:5]"
   ]
  },
  {
   "cell_type": "code",
   "execution_count": 6,
   "id": "462a4838",
   "metadata": {
    "execution": {
     "iopub.execute_input": "2025-05-31T07:03:31.822376Z",
     "iopub.status.busy": "2025-05-31T07:03:31.821287Z",
     "iopub.status.idle": "2025-05-31T07:03:31.824559Z",
     "shell.execute_reply": "2025-05-31T07:03:31.825077Z",
     "shell.execute_reply.started": "2025-05-31T07:01:39.418696Z"
    },
    "papermill": {
     "duration": 0.028444,
     "end_time": "2025-05-31T07:03:31.825248",
     "exception": false,
     "start_time": "2025-05-31T07:03:31.796804",
     "status": "completed"
    },
    "tags": []
   },
   "outputs": [
    {
     "data": {
      "text/plain": [
       "array([[ 0.09734885],\n",
       "       [-0.57275789],\n",
       "       [ 1.42975822],\n",
       "       [-0.1410986 ],\n",
       "       [ 2.24585506]])"
      ]
     },
     "execution_count": 6,
     "metadata": {},
     "output_type": "execute_result"
    }
   ],
   "source": [
    "# 'f1'데이터 박스-콕스 box-cox 값 구하기\n",
    "b_c = power_transform(data2_up_20[['f1']], method='box-cox')\n",
    "b_c[:5]"
   ]
  },
  {
   "cell_type": "code",
   "execution_count": 7,
   "id": "3d0e45b1",
   "metadata": {
    "execution": {
     "iopub.execute_input": "2025-05-31T07:03:31.861244Z",
     "iopub.status.busy": "2025-05-31T07:03:31.860536Z",
     "iopub.status.idle": "2025-05-31T07:03:31.863903Z",
     "shell.execute_reply": "2025-05-31T07:03:31.863375Z",
     "shell.execute_reply.started": "2025-05-31T07:01:41.288679Z"
    },
    "papermill": {
     "duration": 0.023685,
     "end_time": "2025-05-31T07:03:31.864053",
     "exception": false,
     "start_time": "2025-05-31T07:03:31.840368",
     "status": "completed"
    },
    "tags": []
   },
   "outputs": [
    {
     "name": "stdout",
     "output_type": "stream",
     "text": [
      "0.05\n"
     ]
    }
   ],
   "source": [
    "# 두 값의 차이를 절대값으로 구한다음 모두 더해 소수점 둘째 자리까지 출력(반올림)\n",
    "res = abs(y_j - b_c).sum()\n",
    "print(round(res,2))"
   ]
  },
  {
   "cell_type": "markdown",
   "id": "28493618",
   "metadata": {
    "papermill": {
     "duration": 0.01486,
     "end_time": "2025-05-31T07:03:31.894299",
     "exception": false,
     "start_time": "2025-05-31T07:03:31.879439",
     "status": "completed"
    },
    "tags": []
   },
   "source": [
    "## Hint\n",
    "- https://scikit-learn.org/stable/modules/generated/sklearn.preprocessing.power_transform.html"
   ]
  },
  {
   "cell_type": "code",
   "execution_count": 8,
   "id": "09a53ede",
   "metadata": {
    "execution": {
     "iopub.execute_input": "2025-05-31T07:03:31.940883Z",
     "iopub.status.busy": "2025-05-31T07:03:31.939967Z",
     "iopub.status.idle": "2025-05-31T07:03:31.943932Z",
     "shell.execute_reply": "2025-05-31T07:03:31.943302Z",
     "shell.execute_reply.started": "2025-05-31T06:59:54.087894Z"
    },
    "papermill": {
     "duration": 0.034615,
     "end_time": "2025-05-31T07:03:31.944083",
     "exception": false,
     "start_time": "2025-05-31T07:03:31.909468",
     "status": "completed"
    },
    "tags": []
   },
   "outputs": [
    {
     "name": "stdout",
     "output_type": "stream",
     "text": [
      "[[-1.27332767 -1.24414502]\n",
      " [ 0.10376846  0.03976901]\n",
      " [ 1.16955921  1.20437601]]\n",
      "[[-1.27548765 -1.24611441]\n",
      " [ 0.1087368   0.04392064]\n",
      " [ 1.16675085  1.20219377]]\n"
     ]
    }
   ],
   "source": [
    "from sklearn.preprocessing import power_transform\n",
    "data = [[11, 12], [23, 22], [34, 35]]\n",
    "print(power_transform(data)) # method 디폴트 값은 여-존슨’yeo-johnson’\n",
    "print(power_transform(data, method='box-cox'))"
   ]
  },
  {
   "cell_type": "markdown",
   "id": "28213ca0",
   "metadata": {
    "papermill": {
     "duration": 0.015611,
     "end_time": "2025-05-31T07:03:31.975215",
     "exception": false,
     "start_time": "2025-05-31T07:03:31.959604",
     "status": "completed"
    },
    "tags": []
   },
   "source": [
    "## 풀이"
   ]
  },
  {
   "cell_type": "code",
   "execution_count": 9,
   "id": "25e85c0c",
   "metadata": {
    "_cell_guid": "b1076dfc-b9ad-4769-8c92-a6c4dae69d19",
    "_uuid": "8f2839f25d086af736a60e9eeb907d3b93b6e0e5",
    "execution": {
     "iopub.execute_input": "2025-05-31T07:03:32.013963Z",
     "iopub.status.busy": "2025-05-31T07:03:32.013258Z",
     "iopub.status.idle": "2025-05-31T07:03:32.028755Z",
     "shell.execute_reply": "2025-05-31T07:03:32.028204Z",
     "shell.execute_reply.started": "2025-05-31T07:01:45.801711Z"
    },
    "papermill": {
     "duration": 0.036702,
     "end_time": "2025-05-31T07:03:32.028916",
     "exception": false,
     "start_time": "2025-05-31T07:03:31.992214",
     "status": "completed"
    },
    "tags": []
   },
   "outputs": [
    {
     "data": {
      "text/html": [
       "<div>\n",
       "<style scoped>\n",
       "    .dataframe tbody tr th:only-of-type {\n",
       "        vertical-align: middle;\n",
       "    }\n",
       "\n",
       "    .dataframe tbody tr th {\n",
       "        vertical-align: top;\n",
       "    }\n",
       "\n",
       "    .dataframe thead th {\n",
       "        text-align: right;\n",
       "    }\n",
       "</style>\n",
       "<table border=\"1\" class=\"dataframe\">\n",
       "  <thead>\n",
       "    <tr style=\"text-align: right;\">\n",
       "      <th></th>\n",
       "      <th>id</th>\n",
       "      <th>age</th>\n",
       "      <th>city</th>\n",
       "      <th>f1</th>\n",
       "      <th>f2</th>\n",
       "      <th>f3</th>\n",
       "      <th>f4</th>\n",
       "      <th>f5</th>\n",
       "    </tr>\n",
       "  </thead>\n",
       "  <tbody>\n",
       "    <tr>\n",
       "      <th>0</th>\n",
       "      <td>id01</td>\n",
       "      <td>2.0</td>\n",
       "      <td>서울</td>\n",
       "      <td>NaN</td>\n",
       "      <td>0</td>\n",
       "      <td>NaN</td>\n",
       "      <td>ENFJ</td>\n",
       "      <td>91.297791</td>\n",
       "    </tr>\n",
       "    <tr>\n",
       "      <th>1</th>\n",
       "      <td>id02</td>\n",
       "      <td>9.0</td>\n",
       "      <td>서울</td>\n",
       "      <td>70.0</td>\n",
       "      <td>1</td>\n",
       "      <td>NaN</td>\n",
       "      <td>ENFJ</td>\n",
       "      <td>60.339826</td>\n",
       "    </tr>\n",
       "    <tr>\n",
       "      <th>2</th>\n",
       "      <td>id03</td>\n",
       "      <td>27.0</td>\n",
       "      <td>서울</td>\n",
       "      <td>61.0</td>\n",
       "      <td>1</td>\n",
       "      <td>NaN</td>\n",
       "      <td>ISTJ</td>\n",
       "      <td>17.252986</td>\n",
       "    </tr>\n",
       "    <tr>\n",
       "      <th>3</th>\n",
       "      <td>id04</td>\n",
       "      <td>75.0</td>\n",
       "      <td>서울</td>\n",
       "      <td>NaN</td>\n",
       "      <td>2</td>\n",
       "      <td>NaN</td>\n",
       "      <td>INFP</td>\n",
       "      <td>52.667078</td>\n",
       "    </tr>\n",
       "    <tr>\n",
       "      <th>4</th>\n",
       "      <td>id05</td>\n",
       "      <td>24.0</td>\n",
       "      <td>서울</td>\n",
       "      <td>85.0</td>\n",
       "      <td>2</td>\n",
       "      <td>NaN</td>\n",
       "      <td>ISFJ</td>\n",
       "      <td>29.269869</td>\n",
       "    </tr>\n",
       "  </tbody>\n",
       "</table>\n",
       "</div>"
      ],
      "text/plain": [
       "     id   age city    f1  f2   f3    f4         f5\n",
       "0  id01   2.0   서울   NaN   0  NaN  ENFJ  91.297791\n",
       "1  id02   9.0   서울  70.0   1  NaN  ENFJ  60.339826\n",
       "2  id03  27.0   서울  61.0   1  NaN  ISTJ  17.252986\n",
       "3  id04  75.0   서울   NaN   2  NaN  INFP  52.667078\n",
       "4  id05  24.0   서울  85.0   2  NaN  ISFJ  29.269869"
      ]
     },
     "execution_count": 9,
     "metadata": {},
     "output_type": "execute_result"
    }
   ],
   "source": [
    "# 라이브러리 및 데이터 불러오기\n",
    "import pandas as pd\n",
    "import numpy as np\n",
    "from sklearn.preprocessing import power_transform\n",
    "\n",
    "df = pd.read_csv('../input/bigdatacertificationkr/basic1.csv')\n",
    "df.head(5)"
   ]
  },
  {
   "cell_type": "code",
   "execution_count": 10,
   "id": "3185661b",
   "metadata": {
    "execution": {
     "iopub.execute_input": "2025-05-31T07:03:32.068774Z",
     "iopub.status.busy": "2025-05-31T07:03:32.067989Z",
     "iopub.status.idle": "2025-05-31T07:03:32.071044Z",
     "shell.execute_reply": "2025-05-31T07:03:32.071501Z",
     "shell.execute_reply.started": "2025-05-31T07:01:47.882111Z"
    },
    "papermill": {
     "duration": 0.026057,
     "end_time": "2025-05-31T07:03:32.071666",
     "exception": false,
     "start_time": "2025-05-31T07:03:32.045609",
     "status": "completed"
    },
    "tags": []
   },
   "outputs": [
    {
     "name": "stdout",
     "output_type": "stream",
     "text": [
      "조건 적용 전: (100, 8)\n",
      "조건 적용 후: (83, 8)\n"
     ]
    }
   ],
   "source": [
    "# 조건에 맞는 데이터\n",
    "print(\"조건 적용 전:\", df.shape)\n",
    "df = df[df['age']>=20]\n",
    "print(\"조건 적용 후:\", df.shape)"
   ]
  },
  {
   "cell_type": "code",
   "execution_count": 11,
   "id": "001bbff8",
   "metadata": {
    "execution": {
     "iopub.execute_input": "2025-05-31T07:03:32.114737Z",
     "iopub.status.busy": "2025-05-31T07:03:32.114045Z",
     "iopub.status.idle": "2025-05-31T07:03:32.118534Z",
     "shell.execute_reply": "2025-05-31T07:03:32.117912Z",
     "shell.execute_reply.started": "2025-05-31T07:01:49.945837Z"
    },
    "papermill": {
     "duration": 0.030858,
     "end_time": "2025-05-31T07:03:32.118669",
     "exception": false,
     "start_time": "2025-05-31T07:03:32.087811",
     "status": "completed"
    },
    "tags": []
   },
   "outputs": [
    {
     "name": "stdout",
     "output_type": "stream",
     "text": [
      "결측치 처리 전: \n",
      " id       0\n",
      "age      0\n",
      "city     0\n",
      "f1      26\n",
      "f2       0\n",
      "f3      78\n",
      "f4       0\n",
      "f5       0\n",
      "dtype: int64\n",
      "최빈값:  50.0\n",
      "결측치 처리 후: \n",
      " id       0\n",
      "age      0\n",
      "city     0\n",
      "f1       0\n",
      "f2       0\n",
      "f3      78\n",
      "f4       0\n",
      "f5       0\n",
      "dtype: int64\n"
     ]
    }
   ],
   "source": [
    "# 최빈값으로 'f1' 컬럼 결측치 대체\n",
    "print(\"결측치 처리 전: \\n\", df.isnull().sum())\n",
    "print(\"최빈값: \",df['f1'].mode()[0])\n",
    "df['f1'] = df['f1'].fillna(df['f1'].mode()[0])\n",
    "print(\"결측치 처리 후: \\n\", df.isnull().sum())   "
   ]
  },
  {
   "cell_type": "code",
   "execution_count": 12,
   "id": "7e9ed71d",
   "metadata": {
    "execution": {
     "iopub.execute_input": "2025-05-31T07:03:32.166101Z",
     "iopub.status.busy": "2025-05-31T07:03:32.165182Z",
     "iopub.status.idle": "2025-05-31T07:03:32.169264Z",
     "shell.execute_reply": "2025-05-31T07:03:32.168621Z",
     "shell.execute_reply.started": "2025-05-31T07:01:54.456583Z"
    },
    "papermill": {
     "duration": 0.034346,
     "end_time": "2025-05-31T07:03:32.169403",
     "exception": false,
     "start_time": "2025-05-31T07:03:32.135057",
     "status": "completed"
    },
    "tags": []
   },
   "outputs": [
    {
     "data": {
      "text/plain": [
       "2    0.101083\n",
       "3   -0.585402\n",
       "4    1.463459\n",
       "5   -0.143094\n",
       "6    0.040578\n",
       "Name: y, dtype: float64"
      ]
     },
     "execution_count": 12,
     "metadata": {},
     "output_type": "execute_result"
    }
   ],
   "source": [
    "# 'f1'데이터 여-존슨 yeo-johnson 값 구하기\n",
    "df['y'] = power_transform(df[['f1']]) # method 디폴트 값은 여-존슨’yeo-johnson’\n",
    "df['y'].head()"
   ]
  },
  {
   "cell_type": "code",
   "execution_count": 13,
   "id": "9c70cc5c",
   "metadata": {
    "execution": {
     "iopub.execute_input": "2025-05-31T07:03:32.215515Z",
     "iopub.status.busy": "2025-05-31T07:03:32.214649Z",
     "iopub.status.idle": "2025-05-31T07:03:32.218801Z",
     "shell.execute_reply": "2025-05-31T07:03:32.218275Z",
     "shell.execute_reply.started": "2025-05-31T06:45:19.701970Z"
    },
    "papermill": {
     "duration": 0.032341,
     "end_time": "2025-05-31T07:03:32.218953",
     "exception": false,
     "start_time": "2025-05-31T07:03:32.186612",
     "status": "completed"
    },
    "tags": []
   },
   "outputs": [
    {
     "data": {
      "text/plain": [
       "2    20.583423\n",
       "3    17.968081\n",
       "4    25.773745\n",
       "5    19.653167\n",
       "6    20.352915\n",
       "Name: y, dtype: float64"
      ]
     },
     "execution_count": 13,
     "metadata": {},
     "output_type": "execute_result"
    }
   ],
   "source": [
    "# 'f1'데이터 여-존슨 yeo-johnson 값 구하기\n",
    "df['y'] = power_transform(df[['f1']],standardize=False) # method 디폴트 값은 여-존슨’yeo-johnson’\n",
    "df['y'].head()"
   ]
  },
  {
   "cell_type": "code",
   "execution_count": 14,
   "id": "889fa750",
   "metadata": {
    "execution": {
     "iopub.execute_input": "2025-05-31T07:03:32.265238Z",
     "iopub.status.busy": "2025-05-31T07:03:32.264322Z",
     "iopub.status.idle": "2025-05-31T07:03:32.268881Z",
     "shell.execute_reply": "2025-05-31T07:03:32.268361Z",
     "shell.execute_reply.started": "2025-05-31T07:01:58.723419Z"
    },
    "papermill": {
     "duration": 0.033159,
     "end_time": "2025-05-31T07:03:32.269018",
     "exception": false,
     "start_time": "2025-05-31T07:03:32.235859",
     "status": "completed"
    },
    "tags": []
   },
   "outputs": [
    {
     "data": {
      "text/plain": [
       "2    0.100290\n",
       "3   -0.585656\n",
       "4    1.463969\n",
       "5   -0.143784\n",
       "6    0.039801\n",
       "Name: b, dtype: float64"
      ]
     },
     "execution_count": 14,
     "metadata": {},
     "output_type": "execute_result"
    }
   ],
   "source": [
    "# 'f1'데이터 박스-콕스 box-cox 값 구하기\n",
    "df['b'] = power_transform(df[['f1']], method='box-cox')\n",
    "df['b'].head()"
   ]
  },
  {
   "cell_type": "code",
   "execution_count": 15,
   "id": "7b7a3ba4",
   "metadata": {
    "execution": {
     "iopub.execute_input": "2025-05-31T07:03:32.314969Z",
     "iopub.status.busy": "2025-05-31T07:03:32.306096Z",
     "iopub.status.idle": "2025-05-31T07:03:32.318828Z",
     "shell.execute_reply": "2025-05-31T07:03:32.318282Z",
     "shell.execute_reply.started": "2025-05-31T06:45:30.658089Z"
    },
    "papermill": {
     "duration": 0.032776,
     "end_time": "2025-05-31T07:03:32.318970",
     "exception": false,
     "start_time": "2025-05-31T07:03:32.286194",
     "status": "completed"
    },
    "tags": []
   },
   "outputs": [
    {
     "data": {
      "text/plain": [
       "2    21.067090\n",
       "3    18.305263\n",
       "4    26.557680\n",
       "5    20.084373\n",
       "6    20.823545\n",
       "Name: b, dtype: float64"
      ]
     },
     "execution_count": 15,
     "metadata": {},
     "output_type": "execute_result"
    }
   ],
   "source": [
    "# 'f1'데이터 박스-콕스 box-cox 값 구하기\n",
    "# 추가 2022.6.21 \n",
    "# standardize=False는 python과 R의 디폴트가 달라 결과를 맞추기 위함이었어요! 이번 문제는 출제 가능성이 낮아 보여요 (이미 풀이한 분들이 있어 그대로 두었습니다.)\n",
    "df['b'] = power_transform(df[['f1']], method='box-cox', standardize=False)\n",
    "df['b'].head()"
   ]
  },
  {
   "cell_type": "code",
   "execution_count": 16,
   "id": "86cad5ff",
   "metadata": {
    "execution": {
     "iopub.execute_input": "2025-05-31T07:03:32.362670Z",
     "iopub.status.busy": "2025-05-31T07:03:32.362023Z",
     "iopub.status.idle": "2025-05-31T07:03:32.365487Z",
     "shell.execute_reply": "2025-05-31T07:03:32.365038Z",
     "shell.execute_reply.started": "2025-05-31T06:41:31.570684Z"
    },
    "papermill": {
     "duration": 0.02907,
     "end_time": "2025-05-31T07:03:32.365620",
     "exception": false,
     "start_time": "2025-05-31T07:03:32.336550",
     "status": "completed"
    },
    "tags": []
   },
   "outputs": [
    {
     "data": {
      "text/plain": [
       "(array([21.06708953, 18.3052633 , 26.5576802 , 20.08437298, 20.82354507,\n",
       "        29.92014513, 24.11822132, 22.73510562, 18.3052633 , 18.3052633 ,\n",
       "        22.50057055, 26.5576802 , 18.3052633 , 26.9892231 , 18.3052633 ,\n",
       "        18.3052633 , 24.34492271, 16.71079147, 18.3052633 , 20.08437298,\n",
       "        20.82354507, 13.87430348, 24.79522889, 21.78961583, 28.47348918,\n",
       "        18.3052633 , 18.3052633 , 24.79522889, 18.3052633 , 18.3052633 ,\n",
       "        18.3052633 , 24.34492271, 19.58413896, 17.78149164, 20.82354507,\n",
       "        18.3052633 , 27.20371216, 18.3052633 , 24.34492271, 27.20371216,\n",
       "        25.01886978, 18.3052633 , 25.90374843, 18.3052633 , 18.3052633 ,\n",
       "        21.55009581, 18.3052633 , 18.3052633 , 18.3052633 , 21.30926323,\n",
       "        18.3052633 , 26.77388356, 21.30926323, 18.3052633 , 18.3052633 ,\n",
       "        18.82186921, 16.9815023 , 26.5576802 , 26.34059934, 18.3052633 ,\n",
       "        29.30451924, 17.51679379,  6.25392521, 12.96923726, 28.89049447,\n",
       "        18.3052633 , 20.82354507, 18.3052633 , 18.3052633 , 18.3052633 ,\n",
       "        16.71079147, 19.58413896, 24.34492271, 22.26482716, 18.3052633 ,\n",
       "        25.01886978, 20.08437298, 18.3052633 , 16.43795391, 19.07760136,\n",
       "        18.3052633 , 20.33221948, 19.07760136]),\n",
       " 0.6557192658257479)"
      ]
     },
     "execution_count": 16,
     "metadata": {},
     "output_type": "execute_result"
    }
   ],
   "source": [
    "## 박스콕스 방법2\n",
    "from scipy import stats\n",
    "x = stats.boxcox(df['f1'])\n",
    "x"
   ]
  },
  {
   "cell_type": "code",
   "execution_count": 17,
   "id": "b0f13731",
   "metadata": {
    "execution": {
     "iopub.execute_input": "2025-05-31T07:03:32.407228Z",
     "iopub.status.busy": "2025-05-31T07:03:32.406451Z",
     "iopub.status.idle": "2025-05-31T07:03:32.410506Z",
     "shell.execute_reply": "2025-05-31T07:03:32.409901Z",
     "shell.execute_reply.started": "2025-05-31T07:02:28.681488Z"
    },
    "papermill": {
     "duration": 0.02748,
     "end_time": "2025-05-31T07:03:32.410641",
     "exception": false,
     "start_time": "2025-05-31T07:03:32.383161",
     "status": "completed"
    },
    "tags": []
   },
   "outputs": [
    {
     "data": {
      "text/plain": [
       "39.17"
      ]
     },
     "execution_count": 17,
     "metadata": {},
     "output_type": "execute_result"
    }
   ],
   "source": [
    "# 두 값의 차이를 절대값으로 구한다음 모두 더해 소수점 둘째 자리까지 출력(반올림)\n",
    "# 표준화 포함으로 선택\n",
    "round(sum(np.abs(df['y'] - df['b'])),2)"
   ]
  }
 ],
 "metadata": {
  "kaggle": {
   "accelerator": "none",
   "dataSources": [
    {
     "datasetId": 1633303,
     "sourceId": 9936200,
     "sourceType": "datasetVersion"
    }
   ],
   "dockerImageVersionId": 30138,
   "isGpuEnabled": false,
   "isInternetEnabled": false,
   "language": "python",
   "sourceType": "notebook"
  },
  "kernelspec": {
   "display_name": "Python 3",
   "language": "python",
   "name": "python3"
  },
  "language_info": {
   "codemirror_mode": {
    "name": "ipython",
    "version": 3
   },
   "file_extension": ".py",
   "mimetype": "text/x-python",
   "name": "python",
   "nbconvert_exporter": "python",
   "pygments_lexer": "ipython3",
   "version": "3.7.10"
  },
  "papermill": {
   "default_parameters": {},
   "duration": 12.045643,
   "end_time": "2025-05-31T07:03:33.038900",
   "environment_variables": {},
   "exception": null,
   "input_path": "__notebook__.ipynb",
   "output_path": "__notebook__.ipynb",
   "parameters": {},
   "start_time": "2025-05-31T07:03:20.993257",
   "version": "2.3.3"
  }
 },
 "nbformat": 4,
 "nbformat_minor": 5
}
