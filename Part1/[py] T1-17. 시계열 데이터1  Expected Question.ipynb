{
 "cells": [
  {
   "cell_type": "markdown",
   "id": "b7f4c70d",
   "metadata": {
    "papermill": {
     "duration": 0.011711,
     "end_time": "2025-05-31T10:40:51.503739",
     "exception": false,
     "start_time": "2025-05-31T10:40:51.492028",
     "status": "completed"
    },
    "tags": []
   },
   "source": [
    "# 시계열 데이터1\n",
    "## 2022년 5월 sales의 중앙값을 구하시오\n",
    "\n",
    "### - 데이터셋 : basic2.csv \n",
    "### - 오른쪽 상단 copy&edit 클릭 -> 예상문제 풀이 시작"
   ]
  },
  {
   "cell_type": "markdown",
   "id": "73923195",
   "metadata": {
    "papermill": {
     "duration": 0.009557,
     "end_time": "2025-05-31T10:40:51.523614",
     "exception": false,
     "start_time": "2025-05-31T10:40:51.514057",
     "status": "completed"
    },
    "tags": []
   },
   "source": [
    "## 나의 코드"
   ]
  },
  {
   "cell_type": "code",
   "execution_count": 1,
   "id": "cf6f277b",
   "metadata": {
    "execution": {
     "iopub.execute_input": "2025-05-31T10:40:51.553337Z",
     "iopub.status.busy": "2025-05-31T10:40:51.551098Z",
     "iopub.status.idle": "2025-05-31T10:40:51.592885Z",
     "shell.execute_reply": "2025-05-31T10:40:51.593398Z",
     "shell.execute_reply.started": "2025-05-31T10:33:49.867921Z"
    },
    "papermill": {
     "duration": 0.060244,
     "end_time": "2025-05-31T10:40:51.593727",
     "exception": false,
     "start_time": "2025-05-31T10:40:51.533483",
     "status": "completed"
    },
    "tags": []
   },
   "outputs": [
    {
     "data": {
      "text/html": [
       "<div>\n",
       "<style scoped>\n",
       "    .dataframe tbody tr th:only-of-type {\n",
       "        vertical-align: middle;\n",
       "    }\n",
       "\n",
       "    .dataframe tbody tr th {\n",
       "        vertical-align: top;\n",
       "    }\n",
       "\n",
       "    .dataframe thead th {\n",
       "        text-align: right;\n",
       "    }\n",
       "</style>\n",
       "<table border=\"1\" class=\"dataframe\">\n",
       "  <thead>\n",
       "    <tr style=\"text-align: right;\">\n",
       "      <th></th>\n",
       "      <th>Date</th>\n",
       "      <th>Sales</th>\n",
       "      <th>PV</th>\n",
       "      <th>UV</th>\n",
       "      <th>Events</th>\n",
       "    </tr>\n",
       "  </thead>\n",
       "  <tbody>\n",
       "    <tr>\n",
       "      <th>0</th>\n",
       "      <td>2022-01-01</td>\n",
       "      <td>22711525</td>\n",
       "      <td>397349</td>\n",
       "      <td>4421.0</td>\n",
       "      <td>1</td>\n",
       "    </tr>\n",
       "    <tr>\n",
       "      <th>1</th>\n",
       "      <td>2022-01-02</td>\n",
       "      <td>36779</td>\n",
       "      <td>3969</td>\n",
       "      <td>2289.0</td>\n",
       "      <td>0</td>\n",
       "    </tr>\n",
       "    <tr>\n",
       "      <th>2</th>\n",
       "      <td>2022-01-03</td>\n",
       "      <td>13943875</td>\n",
       "      <td>373890</td>\n",
       "      <td>NaN</td>\n",
       "      <td>1</td>\n",
       "    </tr>\n",
       "    <tr>\n",
       "      <th>3</th>\n",
       "      <td>2022-01-04</td>\n",
       "      <td>8088593</td>\n",
       "      <td>142054</td>\n",
       "      <td>2157.0</td>\n",
       "      <td>0</td>\n",
       "    </tr>\n",
       "    <tr>\n",
       "      <th>4</th>\n",
       "      <td>2022-01-05</td>\n",
       "      <td>2395374</td>\n",
       "      <td>190684</td>\n",
       "      <td>NaN</td>\n",
       "      <td>0</td>\n",
       "    </tr>\n",
       "  </tbody>\n",
       "</table>\n",
       "</div>"
      ],
      "text/plain": [
       "         Date     Sales      PV      UV  Events\n",
       "0  2022-01-01  22711525  397349  4421.0       1\n",
       "1  2022-01-02     36779    3969  2289.0       0\n",
       "2  2022-01-03  13943875  373890     NaN       1\n",
       "3  2022-01-04   8088593  142054  2157.0       0\n",
       "4  2022-01-05   2395374  190684     NaN       0"
      ]
     },
     "execution_count": 1,
     "metadata": {},
     "output_type": "execute_result"
    }
   ],
   "source": [
    "# 라이브러리 불러오기\n",
    "import pandas as pd\n",
    "import numpy as np\n",
    "data = pd.read_csv(\"/kaggle/input/bigdatacertificationkr/basic2.csv\")\n",
    "data.head(5)"
   ]
  },
  {
   "cell_type": "code",
   "execution_count": 2,
   "id": "1abf4f4f",
   "metadata": {
    "execution": {
     "iopub.execute_input": "2025-05-31T10:40:51.626328Z",
     "iopub.status.busy": "2025-05-31T10:40:51.625336Z",
     "iopub.status.idle": "2025-05-31T10:40:51.629364Z",
     "shell.execute_reply": "2025-05-31T10:40:51.628758Z",
     "shell.execute_reply.started": "2025-05-31T10:30:22.816803Z"
    },
    "papermill": {
     "duration": 0.022445,
     "end_time": "2025-05-31T10:40:51.629531",
     "exception": false,
     "start_time": "2025-05-31T10:40:51.607086",
     "status": "completed"
    },
    "tags": []
   },
   "outputs": [
    {
     "data": {
      "text/plain": [
       "Date       0\n",
       "Sales      0\n",
       "PV         0\n",
       "UV        46\n",
       "Events     0\n",
       "dtype: int64"
      ]
     },
     "execution_count": 2,
     "metadata": {},
     "output_type": "execute_result"
    }
   ],
   "source": [
    "# 결측치 파악\n",
    "data.isnull().sum()"
   ]
  },
  {
   "cell_type": "code",
   "execution_count": 3,
   "id": "1838dd4e",
   "metadata": {
    "execution": {
     "iopub.execute_input": "2025-05-31T10:40:51.664783Z",
     "iopub.status.busy": "2025-05-31T10:40:51.660462Z",
     "iopub.status.idle": "2025-05-31T10:40:51.678177Z",
     "shell.execute_reply": "2025-05-31T10:40:51.678714Z",
     "shell.execute_reply.started": "2025-05-31T10:39:38.649458Z"
    },
    "papermill": {
     "duration": 0.038627,
     "end_time": "2025-05-31T10:40:51.678900",
     "exception": false,
     "start_time": "2025-05-31T10:40:51.640273",
     "status": "completed"
    },
    "tags": []
   },
   "outputs": [
    {
     "name": "stdout",
     "output_type": "stream",
     "text": [
      "1477685.0\n"
     ]
    }
   ],
   "source": [
    "# 'Date'칼럼을 datetime으로 변경\n",
    "data['Date'] = pd.to_datetime(data['Date'])\n",
    "\n",
    "# 'Year'와 'Month' 칼럼 추가 \n",
    "data['Year'] = data['Date'].dt.year\n",
    "data['Month'] = data['Date'].dt.month\n",
    "\n",
    "# 2022년 5월 데이터 추출\n",
    "cond1 = data['Year'] == 2022\n",
    "cond2 = data['Month'] == 5\n",
    "filtered_data = data[cond1 & cond2]\n",
    "\n",
    "# 추출된 데이터 중 'Sales'칼럼의 중앙값 구하기\n",
    "median = filtered_data['Sales'].median()\n",
    "print(median)"
   ]
  },
  {
   "cell_type": "markdown",
   "id": "893e4f56",
   "metadata": {
    "papermill": {
     "duration": 0.010995,
     "end_time": "2025-05-31T10:40:51.701059",
     "exception": false,
     "start_time": "2025-05-31T10:40:51.690064",
     "status": "completed"
    },
    "tags": []
   },
   "source": [
    "## 풀이(예시답안)"
   ]
  },
  {
   "cell_type": "code",
   "execution_count": 4,
   "id": "6111a1e6",
   "metadata": {
    "_cell_guid": "b1076dfc-b9ad-4769-8c92-a6c4dae69d19",
    "_uuid": "8f2839f25d086af736a60e9eeb907d3b93b6e0e5",
    "execution": {
     "iopub.execute_input": "2025-05-31T10:40:51.728269Z",
     "iopub.status.busy": "2025-05-31T10:40:51.727621Z",
     "iopub.status.idle": "2025-05-31T10:40:51.730313Z",
     "shell.execute_reply": "2025-05-31T10:40:51.730821Z",
     "shell.execute_reply.started": "2025-05-31T10:39:42.825820Z"
    },
    "papermill": {
     "duration": 0.01875,
     "end_time": "2025-05-31T10:40:51.731005",
     "exception": false,
     "start_time": "2025-05-31T10:40:51.712255",
     "status": "completed"
    },
    "tags": []
   },
   "outputs": [],
   "source": [
    "# 라이브러리 불러오기\n",
    "import pandas as pd"
   ]
  },
  {
   "cell_type": "code",
   "execution_count": 5,
   "id": "3fd95326",
   "metadata": {
    "execution": {
     "iopub.execute_input": "2025-05-31T10:40:51.758939Z",
     "iopub.status.busy": "2025-05-31T10:40:51.758235Z",
     "iopub.status.idle": "2025-05-31T10:40:51.772468Z",
     "shell.execute_reply": "2025-05-31T10:40:51.773000Z",
     "shell.execute_reply.started": "2025-05-31T10:39:45.033550Z"
    },
    "papermill": {
     "duration": 0.030447,
     "end_time": "2025-05-31T10:40:51.773184",
     "exception": false,
     "start_time": "2025-05-31T10:40:51.742737",
     "status": "completed"
    },
    "tags": []
   },
   "outputs": [],
   "source": [
    "# 데이터 불러오기\n",
    "df = pd.read_csv(\"../input/bigdatacertificationkr/basic2.csv\")"
   ]
  },
  {
   "cell_type": "code",
   "execution_count": 6,
   "id": "680b90f9",
   "metadata": {
    "execution": {
     "iopub.execute_input": "2025-05-31T10:40:51.807404Z",
     "iopub.status.busy": "2025-05-31T10:40:51.806670Z",
     "iopub.status.idle": "2025-05-31T10:40:51.810827Z",
     "shell.execute_reply": "2025-05-31T10:40:51.810138Z",
     "shell.execute_reply.started": "2025-05-31T10:39:46.555188Z"
    },
    "papermill": {
     "duration": 0.025907,
     "end_time": "2025-05-31T10:40:51.810974",
     "exception": false,
     "start_time": "2025-05-31T10:40:51.785067",
     "status": "completed"
    },
    "tags": []
   },
   "outputs": [
    {
     "data": {
      "text/html": [
       "<div>\n",
       "<style scoped>\n",
       "    .dataframe tbody tr th:only-of-type {\n",
       "        vertical-align: middle;\n",
       "    }\n",
       "\n",
       "    .dataframe tbody tr th {\n",
       "        vertical-align: top;\n",
       "    }\n",
       "\n",
       "    .dataframe thead th {\n",
       "        text-align: right;\n",
       "    }\n",
       "</style>\n",
       "<table border=\"1\" class=\"dataframe\">\n",
       "  <thead>\n",
       "    <tr style=\"text-align: right;\">\n",
       "      <th></th>\n",
       "      <th>Date</th>\n",
       "      <th>Sales</th>\n",
       "      <th>PV</th>\n",
       "      <th>UV</th>\n",
       "      <th>Events</th>\n",
       "    </tr>\n",
       "  </thead>\n",
       "  <tbody>\n",
       "    <tr>\n",
       "      <th>0</th>\n",
       "      <td>2022-01-01</td>\n",
       "      <td>22711525</td>\n",
       "      <td>397349</td>\n",
       "      <td>4421.0</td>\n",
       "      <td>1</td>\n",
       "    </tr>\n",
       "    <tr>\n",
       "      <th>1</th>\n",
       "      <td>2022-01-02</td>\n",
       "      <td>36779</td>\n",
       "      <td>3969</td>\n",
       "      <td>2289.0</td>\n",
       "      <td>0</td>\n",
       "    </tr>\n",
       "    <tr>\n",
       "      <th>2</th>\n",
       "      <td>2022-01-03</td>\n",
       "      <td>13943875</td>\n",
       "      <td>373890</td>\n",
       "      <td>NaN</td>\n",
       "      <td>1</td>\n",
       "    </tr>\n",
       "    <tr>\n",
       "      <th>3</th>\n",
       "      <td>2022-01-04</td>\n",
       "      <td>8088593</td>\n",
       "      <td>142054</td>\n",
       "      <td>2157.0</td>\n",
       "      <td>0</td>\n",
       "    </tr>\n",
       "    <tr>\n",
       "      <th>4</th>\n",
       "      <td>2022-01-05</td>\n",
       "      <td>2395374</td>\n",
       "      <td>190684</td>\n",
       "      <td>NaN</td>\n",
       "      <td>0</td>\n",
       "    </tr>\n",
       "  </tbody>\n",
       "</table>\n",
       "</div>"
      ],
      "text/plain": [
       "         Date     Sales      PV      UV  Events\n",
       "0  2022-01-01  22711525  397349  4421.0       1\n",
       "1  2022-01-02     36779    3969  2289.0       0\n",
       "2  2022-01-03  13943875  373890     NaN       1\n",
       "3  2022-01-04   8088593  142054  2157.0       0\n",
       "4  2022-01-05   2395374  190684     NaN       0"
      ]
     },
     "execution_count": 6,
     "metadata": {},
     "output_type": "execute_result"
    }
   ],
   "source": [
    "df.head()"
   ]
  },
  {
   "cell_type": "code",
   "execution_count": 7,
   "id": "25a8c411",
   "metadata": {
    "execution": {
     "iopub.execute_input": "2025-05-31T10:40:51.853003Z",
     "iopub.status.busy": "2025-05-31T10:40:51.852283Z",
     "iopub.status.idle": "2025-05-31T10:40:51.855571Z",
     "shell.execute_reply": "2025-05-31T10:40:51.855025Z",
     "shell.execute_reply.started": "2025-05-31T10:39:48.355094Z"
    },
    "papermill": {
     "duration": 0.033153,
     "end_time": "2025-05-31T10:40:51.855718",
     "exception": false,
     "start_time": "2025-05-31T10:40:51.822565",
     "status": "completed"
    },
    "tags": []
   },
   "outputs": [
    {
     "name": "stdout",
     "output_type": "stream",
     "text": [
      "<class 'pandas.core.frame.DataFrame'>\n",
      "RangeIndex: 730 entries, 0 to 729\n",
      "Data columns (total 5 columns):\n",
      " #   Column  Non-Null Count  Dtype  \n",
      "---  ------  --------------  -----  \n",
      " 0   Date    730 non-null    object \n",
      " 1   Sales   730 non-null    int64  \n",
      " 2   PV      730 non-null    int64  \n",
      " 3   UV      684 non-null    float64\n",
      " 4   Events  730 non-null    int64  \n",
      "dtypes: float64(1), int64(3), object(1)\n",
      "memory usage: 28.6+ KB\n"
     ]
    }
   ],
   "source": [
    "df.info()"
   ]
  },
  {
   "cell_type": "code",
   "execution_count": 8,
   "id": "0120a8e3",
   "metadata": {
    "execution": {
     "iopub.execute_input": "2025-05-31T10:40:51.894970Z",
     "iopub.status.busy": "2025-05-31T10:40:51.894209Z",
     "iopub.status.idle": "2025-05-31T10:40:51.897259Z",
     "shell.execute_reply": "2025-05-31T10:40:51.897800Z",
     "shell.execute_reply.started": "2025-05-31T10:39:51.172292Z"
    },
    "papermill": {
     "duration": 0.030323,
     "end_time": "2025-05-31T10:40:51.897973",
     "exception": false,
     "start_time": "2025-05-31T10:40:51.867650",
     "status": "completed"
    },
    "tags": []
   },
   "outputs": [
    {
     "name": "stdout",
     "output_type": "stream",
     "text": [
      "<class 'pandas.core.frame.DataFrame'>\n",
      "RangeIndex: 730 entries, 0 to 729\n",
      "Data columns (total 5 columns):\n",
      " #   Column  Non-Null Count  Dtype         \n",
      "---  ------  --------------  -----         \n",
      " 0   Date    730 non-null    datetime64[ns]\n",
      " 1   Sales   730 non-null    int64         \n",
      " 2   PV      730 non-null    int64         \n",
      " 3   UV      684 non-null    float64       \n",
      " 4   Events  730 non-null    int64         \n",
      "dtypes: datetime64[ns](1), float64(1), int64(3)\n",
      "memory usage: 28.6 KB\n"
     ]
    }
   ],
   "source": [
    "# datetime으로 type변경\n",
    "df['Date'] = pd.to_datetime(df['Date'])\n",
    "df.info()"
   ]
  },
  {
   "cell_type": "code",
   "execution_count": 9,
   "id": "6a8944b2",
   "metadata": {
    "execution": {
     "iopub.execute_input": "2025-05-31T10:40:51.929659Z",
     "iopub.status.busy": "2025-05-31T10:40:51.928378Z",
     "iopub.status.idle": "2025-05-31T10:40:51.933780Z",
     "shell.execute_reply": "2025-05-31T10:40:51.933205Z",
     "shell.execute_reply.started": "2025-05-31T10:39:53.182003Z"
    },
    "papermill": {
     "duration": 0.023936,
     "end_time": "2025-05-31T10:40:51.933937",
     "exception": false,
     "start_time": "2025-05-31T10:40:51.910001",
     "status": "completed"
    },
    "tags": []
   },
   "outputs": [],
   "source": [
    "# 새로운 컬럼 추가 (년, 월, 일)\n",
    "df['year'] = df['Date'].dt.year\n",
    "df['month'] = df['Date'].dt.month\n",
    "df['day'] = df['Date'].dt.day"
   ]
  },
  {
   "cell_type": "code",
   "execution_count": 10,
   "id": "3aa0dee0",
   "metadata": {
    "execution": {
     "iopub.execute_input": "2025-05-31T10:40:51.971130Z",
     "iopub.status.busy": "2025-05-31T10:40:51.970211Z",
     "iopub.status.idle": "2025-05-31T10:40:51.974743Z",
     "shell.execute_reply": "2025-05-31T10:40:51.973811Z",
     "shell.execute_reply.started": "2025-05-31T10:39:55.373123Z"
    },
    "papermill": {
     "duration": 0.028678,
     "end_time": "2025-05-31T10:40:51.974928",
     "exception": false,
     "start_time": "2025-05-31T10:40:51.946250",
     "status": "completed"
    },
    "tags": []
   },
   "outputs": [
    {
     "data": {
      "text/html": [
       "<div>\n",
       "<style scoped>\n",
       "    .dataframe tbody tr th:only-of-type {\n",
       "        vertical-align: middle;\n",
       "    }\n",
       "\n",
       "    .dataframe tbody tr th {\n",
       "        vertical-align: top;\n",
       "    }\n",
       "\n",
       "    .dataframe thead th {\n",
       "        text-align: right;\n",
       "    }\n",
       "</style>\n",
       "<table border=\"1\" class=\"dataframe\">\n",
       "  <thead>\n",
       "    <tr style=\"text-align: right;\">\n",
       "      <th></th>\n",
       "      <th>Date</th>\n",
       "      <th>Sales</th>\n",
       "      <th>PV</th>\n",
       "      <th>UV</th>\n",
       "      <th>Events</th>\n",
       "      <th>year</th>\n",
       "      <th>month</th>\n",
       "      <th>day</th>\n",
       "    </tr>\n",
       "  </thead>\n",
       "  <tbody>\n",
       "    <tr>\n",
       "      <th>0</th>\n",
       "      <td>2022-01-01</td>\n",
       "      <td>22711525</td>\n",
       "      <td>397349</td>\n",
       "      <td>4421.0</td>\n",
       "      <td>1</td>\n",
       "      <td>2022</td>\n",
       "      <td>1</td>\n",
       "      <td>1</td>\n",
       "    </tr>\n",
       "    <tr>\n",
       "      <th>1</th>\n",
       "      <td>2022-01-02</td>\n",
       "      <td>36779</td>\n",
       "      <td>3969</td>\n",
       "      <td>2289.0</td>\n",
       "      <td>0</td>\n",
       "      <td>2022</td>\n",
       "      <td>1</td>\n",
       "      <td>2</td>\n",
       "    </tr>\n",
       "    <tr>\n",
       "      <th>2</th>\n",
       "      <td>2022-01-03</td>\n",
       "      <td>13943875</td>\n",
       "      <td>373890</td>\n",
       "      <td>NaN</td>\n",
       "      <td>1</td>\n",
       "      <td>2022</td>\n",
       "      <td>1</td>\n",
       "      <td>3</td>\n",
       "    </tr>\n",
       "    <tr>\n",
       "      <th>3</th>\n",
       "      <td>2022-01-04</td>\n",
       "      <td>8088593</td>\n",
       "      <td>142054</td>\n",
       "      <td>2157.0</td>\n",
       "      <td>0</td>\n",
       "      <td>2022</td>\n",
       "      <td>1</td>\n",
       "      <td>4</td>\n",
       "    </tr>\n",
       "    <tr>\n",
       "      <th>4</th>\n",
       "      <td>2022-01-05</td>\n",
       "      <td>2395374</td>\n",
       "      <td>190684</td>\n",
       "      <td>NaN</td>\n",
       "      <td>0</td>\n",
       "      <td>2022</td>\n",
       "      <td>1</td>\n",
       "      <td>5</td>\n",
       "    </tr>\n",
       "  </tbody>\n",
       "</table>\n",
       "</div>"
      ],
      "text/plain": [
       "        Date     Sales      PV      UV  Events  year  month  day\n",
       "0 2022-01-01  22711525  397349  4421.0       1  2022      1    1\n",
       "1 2022-01-02     36779    3969  2289.0       0  2022      1    2\n",
       "2 2022-01-03  13943875  373890     NaN       1  2022      1    3\n",
       "3 2022-01-04   8088593  142054  2157.0       0  2022      1    4\n",
       "4 2022-01-05   2395374  190684     NaN       0  2022      1    5"
      ]
     },
     "execution_count": 10,
     "metadata": {},
     "output_type": "execute_result"
    }
   ],
   "source": [
    "df.head()"
   ]
  },
  {
   "cell_type": "code",
   "execution_count": 11,
   "id": "fe5c10a9",
   "metadata": {
    "execution": {
     "iopub.execute_input": "2025-05-31T10:40:52.008723Z",
     "iopub.status.busy": "2025-05-31T10:40:52.007397Z",
     "iopub.status.idle": "2025-05-31T10:40:52.012606Z",
     "shell.execute_reply": "2025-05-31T10:40:52.012040Z",
     "shell.execute_reply.started": "2025-05-31T10:39:59.826264Z"
    },
    "papermill": {
     "duration": 0.024583,
     "end_time": "2025-05-31T10:40:52.012760",
     "exception": false,
     "start_time": "2025-05-31T10:40:51.988177",
     "status": "completed"
    },
    "tags": []
   },
   "outputs": [
    {
     "name": "stdout",
     "output_type": "stream",
     "text": [
      "1477685.0\n"
     ]
    }
   ],
   "source": [
    "# 문제 조건에 맞는 값 구하기\n",
    "cond = (df['year']==2022) & (df['month']==5)\n",
    "print(df[cond]['Sales'].median())"
   ]
  }
 ],
 "metadata": {
  "kaggle": {
   "accelerator": "none",
   "dataSources": [
    {
     "datasetId": 1633303,
     "sourceId": 9936200,
     "sourceType": "datasetVersion"
    }
   ],
   "dockerImageVersionId": 30145,
   "isGpuEnabled": false,
   "isInternetEnabled": false,
   "language": "python",
   "sourceType": "notebook"
  },
  "kernelspec": {
   "display_name": "Python 3",
   "language": "python",
   "name": "python3"
  },
  "language_info": {
   "codemirror_mode": {
    "name": "ipython",
    "version": 3
   },
   "file_extension": ".py",
   "mimetype": "text/x-python",
   "name": "python",
   "nbconvert_exporter": "python",
   "pygments_lexer": "ipython3",
   "version": "3.7.10"
  },
  "papermill": {
   "default_parameters": {},
   "duration": 10.609927,
   "end_time": "2025-05-31T10:40:52.537393",
   "environment_variables": {},
   "exception": null,
   "input_path": "__notebook__.ipynb",
   "output_path": "__notebook__.ipynb",
   "parameters": {},
   "start_time": "2025-05-31T10:40:41.927466",
   "version": "2.3.3"
  }
 },
 "nbformat": 4,
 "nbformat_minor": 5
}
