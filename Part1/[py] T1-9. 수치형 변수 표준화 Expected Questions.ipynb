{
 "cells": [
  {
   "cell_type": "markdown",
   "id": "59d6d70e",
   "metadata": {
    "papermill": {
     "duration": 0.010135,
     "end_time": "2025-05-31T05:53:10.785964",
     "exception": false,
     "start_time": "2025-05-31T05:53:10.775829",
     "status": "completed"
    },
    "tags": []
   },
   "source": [
    "# 수치형 변수 변환하기\n",
    "\n",
    "\n",
    "### 주어진 데이터에서 'f5'컬럼을 표준화(Standardization (Z-score Normalization))하고 그 중앙값을 구하시오\n",
    "- 데이터셋 : basic1.csv\n",
    "- 오른쪽 상단 copy&edit 클릭 -> 예상문제 풀이 시작\n"
   ]
  },
  {
   "cell_type": "markdown",
   "id": "ba0ec9d0",
   "metadata": {
    "papermill": {
     "duration": 0.00836,
     "end_time": "2025-05-31T05:53:10.805567",
     "exception": false,
     "start_time": "2025-05-31T05:53:10.797207",
     "status": "completed"
    },
    "tags": []
   },
   "source": [
    "## Standardization (Z-score Normalization)\n",
    "\n",
    "![standard](https://wikimedia.org/api/rest_v1/media/math/render/svg/b0aa2e7d203db1526c577192f2d9102b718eafd5)"
   ]
  },
  {
   "cell_type": "code",
   "execution_count": 1,
   "id": "3929fb39",
   "metadata": {
    "execution": {
     "iopub.execute_input": "2025-05-31T05:53:10.833304Z",
     "iopub.status.busy": "2025-05-31T05:53:10.831200Z",
     "iopub.status.idle": "2025-05-31T05:53:10.889166Z",
     "shell.execute_reply": "2025-05-31T05:53:10.889687Z",
     "shell.execute_reply.started": "2025-05-31T05:45:57.943382Z"
    },
    "papermill": {
     "duration": 0.075688,
     "end_time": "2025-05-31T05:53:10.889981",
     "exception": false,
     "start_time": "2025-05-31T05:53:10.814293",
     "status": "completed"
    },
    "tags": []
   },
   "outputs": [
    {
     "data": {
      "text/html": [
       "<div>\n",
       "<style scoped>\n",
       "    .dataframe tbody tr th:only-of-type {\n",
       "        vertical-align: middle;\n",
       "    }\n",
       "\n",
       "    .dataframe tbody tr th {\n",
       "        vertical-align: top;\n",
       "    }\n",
       "\n",
       "    .dataframe thead th {\n",
       "        text-align: right;\n",
       "    }\n",
       "</style>\n",
       "<table border=\"1\" class=\"dataframe\">\n",
       "  <thead>\n",
       "    <tr style=\"text-align: right;\">\n",
       "      <th></th>\n",
       "      <th>id</th>\n",
       "      <th>age</th>\n",
       "      <th>city</th>\n",
       "      <th>f1</th>\n",
       "      <th>f2</th>\n",
       "      <th>f3</th>\n",
       "      <th>f4</th>\n",
       "      <th>f5</th>\n",
       "    </tr>\n",
       "  </thead>\n",
       "  <tbody>\n",
       "    <tr>\n",
       "      <th>0</th>\n",
       "      <td>id01</td>\n",
       "      <td>2.0</td>\n",
       "      <td>서울</td>\n",
       "      <td>NaN</td>\n",
       "      <td>0</td>\n",
       "      <td>NaN</td>\n",
       "      <td>ENFJ</td>\n",
       "      <td>91.297791</td>\n",
       "    </tr>\n",
       "    <tr>\n",
       "      <th>1</th>\n",
       "      <td>id02</td>\n",
       "      <td>9.0</td>\n",
       "      <td>서울</td>\n",
       "      <td>70.0</td>\n",
       "      <td>1</td>\n",
       "      <td>NaN</td>\n",
       "      <td>ENFJ</td>\n",
       "      <td>60.339826</td>\n",
       "    </tr>\n",
       "    <tr>\n",
       "      <th>2</th>\n",
       "      <td>id03</td>\n",
       "      <td>27.0</td>\n",
       "      <td>서울</td>\n",
       "      <td>61.0</td>\n",
       "      <td>1</td>\n",
       "      <td>NaN</td>\n",
       "      <td>ISTJ</td>\n",
       "      <td>17.252986</td>\n",
       "    </tr>\n",
       "    <tr>\n",
       "      <th>3</th>\n",
       "      <td>id04</td>\n",
       "      <td>75.0</td>\n",
       "      <td>서울</td>\n",
       "      <td>NaN</td>\n",
       "      <td>2</td>\n",
       "      <td>NaN</td>\n",
       "      <td>INFP</td>\n",
       "      <td>52.667078</td>\n",
       "    </tr>\n",
       "    <tr>\n",
       "      <th>4</th>\n",
       "      <td>id05</td>\n",
       "      <td>24.0</td>\n",
       "      <td>서울</td>\n",
       "      <td>85.0</td>\n",
       "      <td>2</td>\n",
       "      <td>NaN</td>\n",
       "      <td>ISFJ</td>\n",
       "      <td>29.269869</td>\n",
       "    </tr>\n",
       "  </tbody>\n",
       "</table>\n",
       "</div>"
      ],
      "text/plain": [
       "     id   age city    f1  f2   f3    f4         f5\n",
       "0  id01   2.0   서울   NaN   0  NaN  ENFJ  91.297791\n",
       "1  id02   9.0   서울  70.0   1  NaN  ENFJ  60.339826\n",
       "2  id03  27.0   서울  61.0   1  NaN  ISTJ  17.252986\n",
       "3  id04  75.0   서울   NaN   2  NaN  INFP  52.667078\n",
       "4  id05  24.0   서울  85.0   2  NaN  ISFJ  29.269869"
      ]
     },
     "execution_count": 1,
     "metadata": {},
     "output_type": "execute_result"
    }
   ],
   "source": [
    "# 라이브러리 및 데이터 불러오기\n",
    "import pandas as pd\n",
    "import numpy as np\n",
    "data = pd.read_csv(\"/kaggle/input/bigdatacertificationkr/basic1.csv\")\n",
    "data.head(5)"
   ]
  },
  {
   "cell_type": "code",
   "execution_count": 2,
   "id": "b1b34ba5",
   "metadata": {
    "execution": {
     "iopub.execute_input": "2025-05-31T05:53:10.922009Z",
     "iopub.status.busy": "2025-05-31T05:53:10.921317Z",
     "iopub.status.idle": "2025-05-31T05:53:11.208192Z",
     "shell.execute_reply": "2025-05-31T05:53:11.207365Z",
     "shell.execute_reply.started": "2025-05-31T05:46:46.922442Z"
    },
    "papermill": {
     "duration": 0.306046,
     "end_time": "2025-05-31T05:53:11.208357",
     "exception": false,
     "start_time": "2025-05-31T05:53:10.902311",
     "status": "completed"
    },
    "tags": []
   },
   "outputs": [
    {
     "data": {
      "text/plain": [
       "<AxesSubplot:>"
      ]
     },
     "execution_count": 2,
     "metadata": {},
     "output_type": "execute_result"
    },
    {
     "data": {
      "image/png": "[encoded data removed]",
      "text/plain": [
       "<Figure size 432x288 with 1 Axes>"
      ]
     },
     "metadata": {
      "needs_background": "light"
     },
     "output_type": "display_data"
    }
   ],
   "source": [
    "data['f5'].hist()"
   ]
  },
  {
   "cell_type": "code",
   "execution_count": 3,
   "id": "5e7d81c8",
   "metadata": {
    "execution": {
     "iopub.execute_input": "2025-05-31T05:53:11.240620Z",
     "iopub.status.busy": "2025-05-31T05:53:11.239343Z",
     "iopub.status.idle": "2025-05-31T05:53:11.244388Z",
     "shell.execute_reply": "2025-05-31T05:53:11.243674Z",
     "shell.execute_reply.started": "2025-05-31T05:47:54.165248Z"
    },
    "papermill": {
     "duration": 0.025702,
     "end_time": "2025-05-31T05:53:11.244559",
     "exception": false,
     "start_time": "2025-05-31T05:53:11.218857",
     "status": "completed"
    },
    "tags": []
   },
   "outputs": [
    {
     "data": {
      "text/plain": [
       "0     1.214696\n",
       "1     0.126705\n",
       "2    -1.387545\n",
       "3    -0.142947\n",
       "4    -0.965222\n",
       "        ...   \n",
       "95   -0.142947\n",
       "96    0.391922\n",
       "97    1.465348\n",
       "98    1.428486\n",
       "99   -0.823270\n",
       "Name: f5, Length: 100, dtype: float64"
      ]
     },
     "execution_count": 3,
     "metadata": {},
     "output_type": "execute_result"
    }
   ],
   "source": [
    "# 'f5'컬럼 표준화\n",
    "mean = data['f5'].mean()\n",
    "std = data['f5'].std()\n",
    "Z_score_nolmalization = (data['f5'] - mean) / std\n",
    "Z_score_nolmalization"
   ]
  },
  {
   "cell_type": "code",
   "execution_count": 4,
   "id": "0b02e4e5",
   "metadata": {
    "execution": {
     "iopub.execute_input": "2025-05-31T05:53:11.288157Z",
     "iopub.status.busy": "2025-05-31T05:53:11.287299Z",
     "iopub.status.idle": "2025-05-31T05:53:11.515915Z",
     "shell.execute_reply": "2025-05-31T05:53:11.515202Z",
     "shell.execute_reply.started": "2025-05-31T05:51:13.482215Z"
    },
    "papermill": {
     "duration": 0.260984,
     "end_time": "2025-05-31T05:53:11.516111",
     "exception": false,
     "start_time": "2025-05-31T05:53:11.255127",
     "status": "completed"
    },
    "tags": []
   },
   "outputs": [
    {
     "data": {
      "text/plain": [
       "<AxesSubplot:>"
      ]
     },
     "execution_count": 4,
     "metadata": {},
     "output_type": "execute_result"
    },
    {
     "data": {
      "image/png": "[encoded data removed]",
      "text/plain": [
       "<Figure size 432x288 with 1 Axes>"
      ]
     },
     "metadata": {
      "needs_background": "light"
     },
     "output_type": "display_data"
    }
   ],
   "source": [
    "Z_score_nolmalization.hist()"
   ]
  },
  {
   "cell_type": "code",
   "execution_count": 5,
   "id": "52e5e59d",
   "metadata": {
    "execution": {
     "iopub.execute_input": "2025-05-31T05:53:11.549186Z",
     "iopub.status.busy": "2025-05-31T05:53:11.548353Z",
     "iopub.status.idle": "2025-05-31T05:53:11.553344Z",
     "shell.execute_reply": "2025-05-31T05:53:11.551917Z",
     "shell.execute_reply.started": "2025-05-31T05:52:15.011564Z"
    },
    "papermill": {
     "duration": 0.024632,
     "end_time": "2025-05-31T05:53:11.553543",
     "exception": false,
     "start_time": "2025-05-31T05:53:11.528911",
     "status": "completed"
    },
    "tags": []
   },
   "outputs": [
    {
     "name": "stdout",
     "output_type": "stream",
     "text": [
      "정규화 공식 이용: 0.26\n",
      "sklearn StandardScaler 라이브러리 이용: 0.26\n"
     ]
    }
   ],
   "source": [
    "# 중앙값 출력\n",
    "median = Z_score_nolmalization.quantile(0.50)\n",
    "print(\"정규화 공식 이용:\", round(median,2))\n",
    "print(\"sklearn StandardScaler 라이브러리 이용:\", 0.26)"
   ]
  },
  {
   "cell_type": "markdown",
   "id": "ed22cf7d",
   "metadata": {
    "papermill": {
     "duration": 0.011115,
     "end_time": "2025-05-31T05:53:11.576514",
     "exception": false,
     "start_time": "2025-05-31T05:53:11.565399",
     "status": "completed"
    },
    "tags": []
   },
   "source": [
    "## Hint\n",
    "- https://scikit-learn.org/stable/modules/generated/sklearn.preprocessing.StandardScaler.html\n",
    "- https://en.wikipedia.org/wiki/Feature_scaling"
   ]
  },
  {
   "cell_type": "code",
   "execution_count": 6,
   "id": "4fa1f3b4",
   "metadata": {
    "execution": {
     "iopub.execute_input": "2025-05-31T05:53:11.606077Z",
     "iopub.status.busy": "2025-05-31T05:53:11.605191Z",
     "iopub.status.idle": "2025-05-31T05:53:12.771026Z",
     "shell.execute_reply": "2025-05-31T05:53:12.770319Z",
     "shell.execute_reply.started": "2021-10-20T23:37:17.412446Z"
    },
    "papermill": {
     "duration": 1.1834,
     "end_time": "2025-05-31T05:53:12.771183",
     "exception": false,
     "start_time": "2025-05-31T05:53:11.587783",
     "status": "completed"
    },
    "tags": []
   },
   "outputs": [
    {
     "name": "stdout",
     "output_type": "stream",
     "text": [
      "StandardScaler()\n",
      "[[-0.73299648 -0.99206078]\n",
      " [-0.69948807 -1.125655  ]\n",
      " [-0.64084835 -0.39830869]\n",
      " [ 0.18848481  0.26966241]\n",
      " [ 2.11521842  0.41810043]\n",
      " [-0.23037032  1.82826164]]\n"
     ]
    }
   ],
   "source": [
    "from sklearn.preprocessing import StandardScaler\n",
    "data = [[0, 2], [0.4, 0.2], [1.1, 10], [11, 19], [34, 21], [6, 40]]\n",
    "scaler = StandardScaler()\n",
    "print(scaler.fit(data))\n",
    "print(scaler.transform(data))"
   ]
  },
  {
   "cell_type": "markdown",
   "id": "8ef46aa8",
   "metadata": {
    "papermill": {
     "duration": 0.011495,
     "end_time": "2025-05-31T05:53:12.795487",
     "exception": false,
     "start_time": "2025-05-31T05:53:12.783992",
     "status": "completed"
    },
    "tags": []
   },
   "source": [
    "## 풀이"
   ]
  },
  {
   "cell_type": "code",
   "execution_count": 7,
   "id": "dd626af2",
   "metadata": {
    "_cell_guid": "b1076dfc-b9ad-4769-8c92-a6c4dae69d19",
    "_uuid": "8f2839f25d086af736a60e9eeb907d3b93b6e0e5",
    "execution": {
     "iopub.execute_input": "2025-05-31T05:53:12.825034Z",
     "iopub.status.busy": "2025-05-31T05:53:12.824322Z",
     "iopub.status.idle": "2025-05-31T05:53:12.841189Z",
     "shell.execute_reply": "2025-05-31T05:53:12.840454Z",
     "shell.execute_reply.started": "2025-05-31T05:48:23.736392Z"
    },
    "papermill": {
     "duration": 0.034174,
     "end_time": "2025-05-31T05:53:12.841363",
     "exception": false,
     "start_time": "2025-05-31T05:53:12.807189",
     "status": "completed"
    },
    "tags": []
   },
   "outputs": [
    {
     "data": {
      "text/html": [
       "<div>\n",
       "<style scoped>\n",
       "    .dataframe tbody tr th:only-of-type {\n",
       "        vertical-align: middle;\n",
       "    }\n",
       "\n",
       "    .dataframe tbody tr th {\n",
       "        vertical-align: top;\n",
       "    }\n",
       "\n",
       "    .dataframe thead th {\n",
       "        text-align: right;\n",
       "    }\n",
       "</style>\n",
       "<table border=\"1\" class=\"dataframe\">\n",
       "  <thead>\n",
       "    <tr style=\"text-align: right;\">\n",
       "      <th></th>\n",
       "      <th>id</th>\n",
       "      <th>age</th>\n",
       "      <th>city</th>\n",
       "      <th>f1</th>\n",
       "      <th>f2</th>\n",
       "      <th>f3</th>\n",
       "      <th>f4</th>\n",
       "      <th>f5</th>\n",
       "    </tr>\n",
       "  </thead>\n",
       "  <tbody>\n",
       "    <tr>\n",
       "      <th>0</th>\n",
       "      <td>id01</td>\n",
       "      <td>2.0</td>\n",
       "      <td>서울</td>\n",
       "      <td>NaN</td>\n",
       "      <td>0</td>\n",
       "      <td>NaN</td>\n",
       "      <td>ENFJ</td>\n",
       "      <td>91.297791</td>\n",
       "    </tr>\n",
       "    <tr>\n",
       "      <th>1</th>\n",
       "      <td>id02</td>\n",
       "      <td>9.0</td>\n",
       "      <td>서울</td>\n",
       "      <td>70.0</td>\n",
       "      <td>1</td>\n",
       "      <td>NaN</td>\n",
       "      <td>ENFJ</td>\n",
       "      <td>60.339826</td>\n",
       "    </tr>\n",
       "  </tbody>\n",
       "</table>\n",
       "</div>"
      ],
      "text/plain": [
       "     id  age city    f1  f2   f3    f4         f5\n",
       "0  id01  2.0   서울   NaN   0  NaN  ENFJ  91.297791\n",
       "1  id02  9.0   서울  70.0   1  NaN  ENFJ  60.339826"
      ]
     },
     "execution_count": 7,
     "metadata": {},
     "output_type": "execute_result"
    }
   ],
   "source": [
    "# 라이브러리 및 데이터 불러오기\n",
    "import pandas as pd\n",
    "import numpy as np\n",
    "\n",
    "df = pd.read_csv('../input/bigdatacertificationkr/basic1.csv')\n",
    "df.head(2)"
   ]
  },
  {
   "cell_type": "code",
   "execution_count": 8,
   "id": "28c97b72",
   "metadata": {
    "execution": {
     "iopub.execute_input": "2025-05-31T05:53:12.895744Z",
     "iopub.status.busy": "2025-05-31T05:53:12.894741Z",
     "iopub.status.idle": "2025-05-31T05:53:12.898704Z",
     "shell.execute_reply": "2025-05-31T05:53:12.899192Z",
     "shell.execute_reply.started": "2025-05-31T05:48:26.188552Z"
    },
    "papermill": {
     "duration": 0.04559,
     "end_time": "2025-05-31T05:53:12.899365",
     "exception": false,
     "start_time": "2025-05-31T05:53:12.853775",
     "status": "completed"
    },
    "tags": []
   },
   "outputs": [
    {
     "data": {
      "text/html": [
       "<div>\n",
       "<style scoped>\n",
       "    .dataframe tbody tr th:only-of-type {\n",
       "        vertical-align: middle;\n",
       "    }\n",
       "\n",
       "    .dataframe tbody tr th {\n",
       "        vertical-align: top;\n",
       "    }\n",
       "\n",
       "    .dataframe thead th {\n",
       "        text-align: right;\n",
       "    }\n",
       "</style>\n",
       "<table border=\"1\" class=\"dataframe\">\n",
       "  <thead>\n",
       "    <tr style=\"text-align: right;\">\n",
       "      <th></th>\n",
       "      <th>id</th>\n",
       "      <th>age</th>\n",
       "      <th>city</th>\n",
       "      <th>f1</th>\n",
       "      <th>f2</th>\n",
       "      <th>f3</th>\n",
       "      <th>f4</th>\n",
       "      <th>f5</th>\n",
       "    </tr>\n",
       "  </thead>\n",
       "  <tbody>\n",
       "    <tr>\n",
       "      <th>0</th>\n",
       "      <td>id01</td>\n",
       "      <td>2.0</td>\n",
       "      <td>서울</td>\n",
       "      <td>NaN</td>\n",
       "      <td>0</td>\n",
       "      <td>NaN</td>\n",
       "      <td>ENFJ</td>\n",
       "      <td>1.220815</td>\n",
       "    </tr>\n",
       "    <tr>\n",
       "      <th>1</th>\n",
       "      <td>id02</td>\n",
       "      <td>9.0</td>\n",
       "      <td>서울</td>\n",
       "      <td>70.0</td>\n",
       "      <td>1</td>\n",
       "      <td>NaN</td>\n",
       "      <td>ENFJ</td>\n",
       "      <td>0.127343</td>\n",
       "    </tr>\n",
       "    <tr>\n",
       "      <th>2</th>\n",
       "      <td>id03</td>\n",
       "      <td>27.0</td>\n",
       "      <td>서울</td>\n",
       "      <td>61.0</td>\n",
       "      <td>1</td>\n",
       "      <td>NaN</td>\n",
       "      <td>ISTJ</td>\n",
       "      <td>-1.394535</td>\n",
       "    </tr>\n",
       "    <tr>\n",
       "      <th>3</th>\n",
       "      <td>id04</td>\n",
       "      <td>75.0</td>\n",
       "      <td>서울</td>\n",
       "      <td>NaN</td>\n",
       "      <td>2</td>\n",
       "      <td>NaN</td>\n",
       "      <td>INFP</td>\n",
       "      <td>-0.143667</td>\n",
       "    </tr>\n",
       "    <tr>\n",
       "      <th>4</th>\n",
       "      <td>id05</td>\n",
       "      <td>24.0</td>\n",
       "      <td>서울</td>\n",
       "      <td>85.0</td>\n",
       "      <td>2</td>\n",
       "      <td>NaN</td>\n",
       "      <td>ISFJ</td>\n",
       "      <td>-0.970085</td>\n",
       "    </tr>\n",
       "  </tbody>\n",
       "</table>\n",
       "</div>"
      ],
      "text/plain": [
       "     id   age city    f1  f2   f3    f4        f5\n",
       "0  id01   2.0   서울   NaN   0  NaN  ENFJ  1.220815\n",
       "1  id02   9.0   서울  70.0   1  NaN  ENFJ  0.127343\n",
       "2  id03  27.0   서울  61.0   1  NaN  ISTJ -1.394535\n",
       "3  id04  75.0   서울   NaN   2  NaN  INFP -0.143667\n",
       "4  id05  24.0   서울  85.0   2  NaN  ISFJ -0.970085"
      ]
     },
     "execution_count": 8,
     "metadata": {},
     "output_type": "execute_result"
    }
   ],
   "source": [
    "# 표준화\n",
    "from sklearn.preprocessing import StandardScaler\n",
    "\n",
    "scaler = StandardScaler()\n",
    "df['f5']=scaler.fit_transform(df[['f5']])\n",
    "df.head()"
   ]
  },
  {
   "cell_type": "code",
   "execution_count": 9,
   "id": "e24e1cad",
   "metadata": {
    "execution": {
     "iopub.execute_input": "2025-05-31T05:53:12.933350Z",
     "iopub.status.busy": "2025-05-31T05:53:12.932678Z",
     "iopub.status.idle": "2025-05-31T05:53:12.936379Z",
     "shell.execute_reply": "2025-05-31T05:53:12.935651Z",
     "shell.execute_reply.started": "2025-05-31T05:52:22.547566Z"
    },
    "papermill": {
     "duration": 0.024615,
     "end_time": "2025-05-31T05:53:12.936690",
     "exception": false,
     "start_time": "2025-05-31T05:53:12.912075",
     "status": "completed"
    },
    "tags": []
   },
   "outputs": [
    {
     "name": "stdout",
     "output_type": "stream",
     "text": [
      "0.26\n"
     ]
    }
   ],
   "source": [
    "# 중앙값 출력\n",
    "print(round(df['f5'].median(),2))"
   ]
  },
  {
   "cell_type": "code",
   "execution_count": 10,
   "id": "190dc824",
   "metadata": {
    "execution": {
     "iopub.execute_input": "2025-05-31T05:53:13.011383Z",
     "iopub.status.busy": "2025-05-31T05:53:13.010662Z",
     "iopub.status.idle": "2025-05-31T05:53:13.179865Z",
     "shell.execute_reply": "2025-05-31T05:53:13.179155Z",
     "shell.execute_reply.started": "2025-05-31T05:51:37.888565Z"
    },
    "papermill": {
     "duration": 0.23,
     "end_time": "2025-05-31T05:53:13.180042",
     "exception": false,
     "start_time": "2025-05-31T05:53:12.950042",
     "status": "completed"
    },
    "tags": []
   },
   "outputs": [
    {
     "data": {
      "text/plain": [
       "<AxesSubplot:>"
      ]
     },
     "execution_count": 10,
     "metadata": {},
     "output_type": "execute_result"
    },
    {
     "data": {
      "image/png": "[encoded data removed]",
      "text/plain": [
       "<Figure size 432x288 with 1 Axes>"
      ]
     },
     "metadata": {
      "needs_background": "light"
     },
     "output_type": "display_data"
    }
   ],
   "source": [
    "df['f5'].hist()"
   ]
  }
 ],
 "metadata": {
  "kaggle": {
   "accelerator": "none",
   "dataSources": [
    {
     "datasetId": 1633303,
     "sourceId": 9936200,
     "sourceType": "datasetVersion"
    }
   ],
   "dockerImageVersionId": 30138,
   "isGpuEnabled": false,
   "isInternetEnabled": false,
   "language": "python",
   "sourceType": "notebook"
  },
  "kernelspec": {
   "display_name": "Python 3",
   "language": "python",
   "name": "python3"
  },
  "language_info": {
   "codemirror_mode": {
    "name": "ipython",
    "version": 3
   },
   "file_extension": ".py",
   "mimetype": "text/x-python",
   "name": "python",
   "nbconvert_exporter": "python",
   "pygments_lexer": "ipython3",
   "version": "3.7.10"
  },
  "papermill": {
   "default_parameters": {},
   "duration": 13.291853,
   "end_time": "2025-05-31T05:53:13.908181",
   "environment_variables": {},
   "exception": null,
   "input_path": "__notebook__.ipynb",
   "output_path": "__notebook__.ipynb",
   "parameters": {},
   "start_time": "2025-05-31T05:53:00.616328",
   "version": "2.3.3"
  }
 },
 "nbformat": 4,
 "nbformat_minor": 5
}
