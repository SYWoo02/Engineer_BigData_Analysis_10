{
 "cells": [
  {
   "cell_type": "markdown",
   "id": "60dc6692",
   "metadata": {
    "papermill": {
     "duration": 0.013609,
     "end_time": "2025-05-30T05:55:17.567705",
     "exception": false,
     "start_time": "2025-05-30T05:55:17.554096",
     "status": "completed"
    },
    "tags": []
   },
   "source": [
    "## 조건에 맞는 데이터 표준편차 구하기\n",
    "- 주어진 데이터 중 basic1.csv에서 'f4'컬럼 값이 'ENFJ'와 'INFP'인 'f1'의 표준편차 차이를 절대값으로 구하시오\n",
    "- 데이터셋 : basic1.csv\n",
    "- 오른쪽 상단 copy&edit 클릭 -> 예상문제 풀이 시작"
   ]
  },
  {
   "cell_type": "code",
   "execution_count": 1,
   "id": "86143f9f",
   "metadata": {
    "execution": {
     "iopub.execute_input": "2025-05-30T05:55:17.604011Z",
     "iopub.status.busy": "2025-05-30T05:55:17.603050Z",
     "iopub.status.idle": "2025-05-30T05:55:17.647082Z",
     "shell.execute_reply": "2025-05-30T05:55:17.647788Z",
     "shell.execute_reply.started": "2025-05-30T05:46:43.477838Z"
    },
    "papermill": {
     "duration": 0.06788,
     "end_time": "2025-05-30T05:55:17.648325",
     "exception": false,
     "start_time": "2025-05-30T05:55:17.580445",
     "status": "completed"
    },
    "tags": []
   },
   "outputs": [
    {
     "data": {
      "text/html": [
       "<div>\n",
       "<style scoped>\n",
       "    .dataframe tbody tr th:only-of-type {\n",
       "        vertical-align: middle;\n",
       "    }\n",
       "\n",
       "    .dataframe tbody tr th {\n",
       "        vertical-align: top;\n",
       "    }\n",
       "\n",
       "    .dataframe thead th {\n",
       "        text-align: right;\n",
       "    }\n",
       "</style>\n",
       "<table border=\"1\" class=\"dataframe\">\n",
       "  <thead>\n",
       "    <tr style=\"text-align: right;\">\n",
       "      <th></th>\n",
       "      <th>id</th>\n",
       "      <th>age</th>\n",
       "      <th>city</th>\n",
       "      <th>f1</th>\n",
       "      <th>f2</th>\n",
       "      <th>f3</th>\n",
       "      <th>f4</th>\n",
       "      <th>f5</th>\n",
       "    </tr>\n",
       "  </thead>\n",
       "  <tbody>\n",
       "    <tr>\n",
       "      <th>0</th>\n",
       "      <td>id01</td>\n",
       "      <td>2.0</td>\n",
       "      <td>서울</td>\n",
       "      <td>NaN</td>\n",
       "      <td>0</td>\n",
       "      <td>NaN</td>\n",
       "      <td>ENFJ</td>\n",
       "      <td>91.297791</td>\n",
       "    </tr>\n",
       "    <tr>\n",
       "      <th>1</th>\n",
       "      <td>id02</td>\n",
       "      <td>9.0</td>\n",
       "      <td>서울</td>\n",
       "      <td>70.0</td>\n",
       "      <td>1</td>\n",
       "      <td>NaN</td>\n",
       "      <td>ENFJ</td>\n",
       "      <td>60.339826</td>\n",
       "    </tr>\n",
       "    <tr>\n",
       "      <th>2</th>\n",
       "      <td>id03</td>\n",
       "      <td>27.0</td>\n",
       "      <td>서울</td>\n",
       "      <td>61.0</td>\n",
       "      <td>1</td>\n",
       "      <td>NaN</td>\n",
       "      <td>ISTJ</td>\n",
       "      <td>17.252986</td>\n",
       "    </tr>\n",
       "    <tr>\n",
       "      <th>3</th>\n",
       "      <td>id04</td>\n",
       "      <td>75.0</td>\n",
       "      <td>서울</td>\n",
       "      <td>NaN</td>\n",
       "      <td>2</td>\n",
       "      <td>NaN</td>\n",
       "      <td>INFP</td>\n",
       "      <td>52.667078</td>\n",
       "    </tr>\n",
       "    <tr>\n",
       "      <th>4</th>\n",
       "      <td>id05</td>\n",
       "      <td>24.0</td>\n",
       "      <td>서울</td>\n",
       "      <td>85.0</td>\n",
       "      <td>2</td>\n",
       "      <td>NaN</td>\n",
       "      <td>ISFJ</td>\n",
       "      <td>29.269869</td>\n",
       "    </tr>\n",
       "  </tbody>\n",
       "</table>\n",
       "</div>"
      ],
      "text/plain": [
       "     id   age city    f1  f2   f3    f4         f5\n",
       "0  id01   2.0   서울   NaN   0  NaN  ENFJ  91.297791\n",
       "1  id02   9.0   서울  70.0   1  NaN  ENFJ  60.339826\n",
       "2  id03  27.0   서울  61.0   1  NaN  ISTJ  17.252986\n",
       "3  id04  75.0   서울   NaN   2  NaN  INFP  52.667078\n",
       "4  id05  24.0   서울  85.0   2  NaN  ISFJ  29.269869"
      ]
     },
     "execution_count": 1,
     "metadata": {},
     "output_type": "execute_result"
    }
   ],
   "source": [
    "# 라이브러리 및 데이터 불러오기\n",
    "import pandas as pd\n",
    "import numpy as np\n",
    "data = pd.read_csv(\"/kaggle/input/bigdatacertificationkr/basic1.csv\")\n",
    "data.head(5)"
   ]
  },
  {
   "cell_type": "code",
   "execution_count": 2,
   "id": "d4949ba6",
   "metadata": {
    "execution": {
     "iopub.execute_input": "2025-05-30T05:55:17.699639Z",
     "iopub.status.busy": "2025-05-30T05:55:17.698959Z",
     "iopub.status.idle": "2025-05-30T05:55:17.704277Z",
     "shell.execute_reply": "2025-05-30T05:55:17.704739Z",
     "shell.execute_reply.started": "2025-05-30T05:51:06.906441Z"
    },
    "papermill": {
     "duration": 0.043014,
     "end_time": "2025-05-30T05:55:17.704974",
     "exception": false,
     "start_time": "2025-05-30T05:55:17.661960",
     "status": "completed"
    },
    "tags": []
   },
   "outputs": [
    {
     "data": {
      "text/html": [
       "<div>\n",
       "<style scoped>\n",
       "    .dataframe tbody tr th:only-of-type {\n",
       "        vertical-align: middle;\n",
       "    }\n",
       "\n",
       "    .dataframe tbody tr th {\n",
       "        vertical-align: top;\n",
       "    }\n",
       "\n",
       "    .dataframe thead th {\n",
       "        text-align: right;\n",
       "    }\n",
       "</style>\n",
       "<table border=\"1\" class=\"dataframe\">\n",
       "  <thead>\n",
       "    <tr style=\"text-align: right;\">\n",
       "      <th></th>\n",
       "      <th>id</th>\n",
       "      <th>age</th>\n",
       "      <th>city</th>\n",
       "      <th>f1</th>\n",
       "      <th>f2</th>\n",
       "      <th>f3</th>\n",
       "      <th>f4</th>\n",
       "      <th>f5</th>\n",
       "    </tr>\n",
       "  </thead>\n",
       "  <tbody>\n",
       "    <tr>\n",
       "      <th>0</th>\n",
       "      <td>id01</td>\n",
       "      <td>2.0</td>\n",
       "      <td>서울</td>\n",
       "      <td>NaN</td>\n",
       "      <td>0</td>\n",
       "      <td>NaN</td>\n",
       "      <td>ENFJ</td>\n",
       "      <td>91.297791</td>\n",
       "    </tr>\n",
       "    <tr>\n",
       "      <th>1</th>\n",
       "      <td>id02</td>\n",
       "      <td>9.0</td>\n",
       "      <td>서울</td>\n",
       "      <td>70.0</td>\n",
       "      <td>1</td>\n",
       "      <td>NaN</td>\n",
       "      <td>ENFJ</td>\n",
       "      <td>60.339826</td>\n",
       "    </tr>\n",
       "    <tr>\n",
       "      <th>32</th>\n",
       "      <td>id33</td>\n",
       "      <td>47.0</td>\n",
       "      <td>부산</td>\n",
       "      <td>94.0</td>\n",
       "      <td>0</td>\n",
       "      <td>NaN</td>\n",
       "      <td>ENFJ</td>\n",
       "      <td>17.252986</td>\n",
       "    </tr>\n",
       "    <tr>\n",
       "      <th>40</th>\n",
       "      <td>id41</td>\n",
       "      <td>81.0</td>\n",
       "      <td>대구</td>\n",
       "      <td>55.0</td>\n",
       "      <td>0</td>\n",
       "      <td>NaN</td>\n",
       "      <td>ENFJ</td>\n",
       "      <td>37.113739</td>\n",
       "    </tr>\n",
       "    <tr>\n",
       "      <th>44</th>\n",
       "      <td>id45</td>\n",
       "      <td>97.0</td>\n",
       "      <td>대구</td>\n",
       "      <td>88.0</td>\n",
       "      <td>0</td>\n",
       "      <td>NaN</td>\n",
       "      <td>ENFJ</td>\n",
       "      <td>13.049921</td>\n",
       "    </tr>\n",
       "    <tr>\n",
       "      <th>53</th>\n",
       "      <td>id54</td>\n",
       "      <td>53.0</td>\n",
       "      <td>대구</td>\n",
       "      <td>NaN</td>\n",
       "      <td>1</td>\n",
       "      <td>NaN</td>\n",
       "      <td>ENFJ</td>\n",
       "      <td>69.730313</td>\n",
       "    </tr>\n",
       "  </tbody>\n",
       "</table>\n",
       "</div>"
      ],
      "text/plain": [
       "      id   age city    f1  f2   f3    f4         f5\n",
       "0   id01   2.0   서울   NaN   0  NaN  ENFJ  91.297791\n",
       "1   id02   9.0   서울  70.0   1  NaN  ENFJ  60.339826\n",
       "32  id33  47.0   부산  94.0   0  NaN  ENFJ  17.252986\n",
       "40  id41  81.0   대구  55.0   0  NaN  ENFJ  37.113739\n",
       "44  id45  97.0   대구  88.0   0  NaN  ENFJ  13.049921\n",
       "53  id54  53.0   대구   NaN   1  NaN  ENFJ  69.730313"
      ]
     },
     "execution_count": 2,
     "metadata": {},
     "output_type": "execute_result"
    }
   ],
   "source": [
    "# 조건에 맞는 데이터 추출 ('f4'컬럼 값이 'ENFJ','INFP')\n",
    "cond1 = data['f4'] == 'ENFJ'\n",
    "cond2 = data['f4'] == 'INFP'\n",
    "ENFJ = data[cond1]\n",
    "INFP = data[cond2]\n",
    "ENFJ"
   ]
  },
  {
   "cell_type": "code",
   "execution_count": 3,
   "id": "1f6c3eba",
   "metadata": {
    "execution": {
     "iopub.execute_input": "2025-05-30T05:55:17.739480Z",
     "iopub.status.busy": "2025-05-30T05:55:17.738185Z",
     "iopub.status.idle": "2025-05-30T05:55:17.749855Z",
     "shell.execute_reply": "2025-05-30T05:55:17.749158Z",
     "shell.execute_reply.started": "2025-05-30T05:51:19.837064Z"
    },
    "papermill": {
     "duration": 0.034317,
     "end_time": "2025-05-30T05:55:17.750037",
     "exception": false,
     "start_time": "2025-05-30T05:55:17.715720",
     "status": "completed"
    },
    "tags": []
   },
   "outputs": [
    {
     "data": {
      "text/html": [
       "<div>\n",
       "<style scoped>\n",
       "    .dataframe tbody tr th:only-of-type {\n",
       "        vertical-align: middle;\n",
       "    }\n",
       "\n",
       "    .dataframe tbody tr th {\n",
       "        vertical-align: top;\n",
       "    }\n",
       "\n",
       "    .dataframe thead th {\n",
       "        text-align: right;\n",
       "    }\n",
       "</style>\n",
       "<table border=\"1\" class=\"dataframe\">\n",
       "  <thead>\n",
       "    <tr style=\"text-align: right;\">\n",
       "      <th></th>\n",
       "      <th>id</th>\n",
       "      <th>age</th>\n",
       "      <th>city</th>\n",
       "      <th>f1</th>\n",
       "      <th>f2</th>\n",
       "      <th>f3</th>\n",
       "      <th>f4</th>\n",
       "      <th>f5</th>\n",
       "    </tr>\n",
       "  </thead>\n",
       "  <tbody>\n",
       "    <tr>\n",
       "      <th>3</th>\n",
       "      <td>id04</td>\n",
       "      <td>75.0</td>\n",
       "      <td>서울</td>\n",
       "      <td>NaN</td>\n",
       "      <td>2</td>\n",
       "      <td>NaN</td>\n",
       "      <td>INFP</td>\n",
       "      <td>52.667078</td>\n",
       "    </tr>\n",
       "    <tr>\n",
       "      <th>33</th>\n",
       "      <td>id34</td>\n",
       "      <td>65.0</td>\n",
       "      <td>부산</td>\n",
       "      <td>NaN</td>\n",
       "      <td>1</td>\n",
       "      <td>NaN</td>\n",
       "      <td>INFP</td>\n",
       "      <td>48.431184</td>\n",
       "    </tr>\n",
       "    <tr>\n",
       "      <th>76</th>\n",
       "      <td>id77</td>\n",
       "      <td>77.0</td>\n",
       "      <td>경기</td>\n",
       "      <td>31.0</td>\n",
       "      <td>0</td>\n",
       "      <td>NaN</td>\n",
       "      <td>INFP</td>\n",
       "      <td>98.429899</td>\n",
       "    </tr>\n",
       "    <tr>\n",
       "      <th>91</th>\n",
       "      <td>id92</td>\n",
       "      <td>97.0</td>\n",
       "      <td>경기</td>\n",
       "      <td>78.0</td>\n",
       "      <td>1</td>\n",
       "      <td>NaN</td>\n",
       "      <td>INFP</td>\n",
       "      <td>97.381034</td>\n",
       "    </tr>\n",
       "    <tr>\n",
       "      <th>96</th>\n",
       "      <td>id97</td>\n",
       "      <td>100.0</td>\n",
       "      <td>경기</td>\n",
       "      <td>NaN</td>\n",
       "      <td>0</td>\n",
       "      <td>NaN</td>\n",
       "      <td>INFP</td>\n",
       "      <td>67.886373</td>\n",
       "    </tr>\n",
       "    <tr>\n",
       "      <th>97</th>\n",
       "      <td>id98</td>\n",
       "      <td>39.0</td>\n",
       "      <td>경기</td>\n",
       "      <td>58.0</td>\n",
       "      <td>2</td>\n",
       "      <td>NaN</td>\n",
       "      <td>INFP</td>\n",
       "      <td>98.429899</td>\n",
       "    </tr>\n",
       "  </tbody>\n",
       "</table>\n",
       "</div>"
      ],
      "text/plain": [
       "      id    age city    f1  f2   f3    f4         f5\n",
       "3   id04   75.0   서울   NaN   2  NaN  INFP  52.667078\n",
       "33  id34   65.0   부산   NaN   1  NaN  INFP  48.431184\n",
       "76  id77   77.0   경기  31.0   0  NaN  INFP  98.429899\n",
       "91  id92   97.0   경기  78.0   1  NaN  INFP  97.381034\n",
       "96  id97  100.0   경기   NaN   0  NaN  INFP  67.886373\n",
       "97  id98   39.0   경기  58.0   2  NaN  INFP  98.429899"
      ]
     },
     "execution_count": 3,
     "metadata": {},
     "output_type": "execute_result"
    }
   ],
   "source": [
    "INFP"
   ]
  },
  {
   "cell_type": "code",
   "execution_count": 4,
   "id": "529a0445",
   "metadata": {
    "execution": {
     "iopub.execute_input": "2025-05-30T05:55:17.782331Z",
     "iopub.status.busy": "2025-05-30T05:55:17.781373Z",
     "iopub.status.idle": "2025-05-30T05:55:17.786879Z",
     "shell.execute_reply": "2025-05-30T05:55:17.785382Z",
     "shell.execute_reply.started": "2025-05-30T05:51:37.655451Z"
    },
    "papermill": {
     "duration": 0.024473,
     "end_time": "2025-05-30T05:55:17.787108",
     "exception": false,
     "start_time": "2025-05-30T05:55:17.762635",
     "status": "completed"
    },
    "tags": []
   },
   "outputs": [
    {
     "data": {
      "text/plain": [
       "17.727097901235837"
      ]
     },
     "execution_count": 4,
     "metadata": {},
     "output_type": "execute_result"
    }
   ],
   "source": [
    "# 조건에 맞는 f1의 표준편차 (ENFJ, INFP)\n",
    "std_ENFJ = ENFJ['f1'].std()\n",
    "std_ENFJ"
   ]
  },
  {
   "cell_type": "code",
   "execution_count": 5,
   "id": "8b6d0928",
   "metadata": {
    "execution": {
     "iopub.execute_input": "2025-05-30T05:55:17.824327Z",
     "iopub.status.busy": "2025-05-30T05:55:17.823292Z",
     "iopub.status.idle": "2025-05-30T05:55:17.827714Z",
     "shell.execute_reply": "2025-05-30T05:55:17.828272Z",
     "shell.execute_reply.started": "2025-05-30T05:52:00.307561Z"
    },
    "papermill": {
     "duration": 0.027569,
     "end_time": "2025-05-30T05:55:17.828458",
     "exception": false,
     "start_time": "2025-05-30T05:55:17.800889",
     "status": "completed"
    },
    "tags": []
   },
   "outputs": [
    {
     "data": {
      "text/plain": [
       "23.586719427112648"
      ]
     },
     "execution_count": 5,
     "metadata": {},
     "output_type": "execute_result"
    }
   ],
   "source": [
    "# 조건에 맞는 f1의 표준편차 (ENFJ, INFP)\n",
    "std_INFP = INFP['f1'].std()\n",
    "std_INFP"
   ]
  },
  {
   "cell_type": "code",
   "execution_count": 6,
   "id": "f9049852",
   "metadata": {
    "execution": {
     "iopub.execute_input": "2025-05-30T05:55:17.859313Z",
     "iopub.status.busy": "2025-05-30T05:55:17.858532Z",
     "iopub.status.idle": "2025-05-30T05:55:17.862303Z",
     "shell.execute_reply": "2025-05-30T05:55:17.862990Z",
     "shell.execute_reply.started": "2025-05-30T05:53:03.499314Z"
    },
    "papermill": {
     "duration": 0.021161,
     "end_time": "2025-05-30T05:55:17.863188",
     "exception": false,
     "start_time": "2025-05-30T05:55:17.842027",
     "status": "completed"
    },
    "tags": []
   },
   "outputs": [
    {
     "name": "stdout",
     "output_type": "stream",
     "text": [
      "5.859621525876811\n"
     ]
    }
   ],
   "source": [
    "# 두 표준편차 차이 절대값 출력\n",
    "res = abs(std_ENFJ - std_INFP)\n",
    "print(res)"
   ]
  },
  {
   "cell_type": "markdown",
   "id": "6f73f64d",
   "metadata": {
    "papermill": {
     "duration": 0.011882,
     "end_time": "2025-05-30T05:55:17.887163",
     "exception": false,
     "start_time": "2025-05-30T05:55:17.875281",
     "status": "completed"
    },
    "tags": []
   },
   "source": [
    "## Hint\n",
    "- 절대 값 : np.abs()\n",
    "- 표준편차 : DataFrame.std()"
   ]
  },
  {
   "cell_type": "markdown",
   "id": "c00a9c1b",
   "metadata": {
    "papermill": {
     "duration": 0.011734,
     "end_time": "2025-05-30T05:55:17.913107",
     "exception": false,
     "start_time": "2025-05-30T05:55:17.901373",
     "status": "completed"
    },
    "tags": []
   },
   "source": [
    "## 풀이"
   ]
  },
  {
   "cell_type": "code",
   "execution_count": 7,
   "id": "ecf359aa",
   "metadata": {
    "_cell_guid": "b1076dfc-b9ad-4769-8c92-a6c4dae69d19",
    "_uuid": "8f2839f25d086af736a60e9eeb907d3b93b6e0e5",
    "execution": {
     "iopub.execute_input": "2025-05-30T05:55:17.943921Z",
     "iopub.status.busy": "2025-05-30T05:55:17.943211Z",
     "iopub.status.idle": "2025-05-30T05:55:17.960985Z",
     "shell.execute_reply": "2025-05-30T05:55:17.960445Z",
     "shell.execute_reply.started": "2025-05-30T05:52:42.229374Z"
    },
    "papermill": {
     "duration": 0.035061,
     "end_time": "2025-05-30T05:55:17.961136",
     "exception": false,
     "start_time": "2025-05-30T05:55:17.926075",
     "status": "completed"
    },
    "tags": []
   },
   "outputs": [
    {
     "data": {
      "text/html": [
       "<div>\n",
       "<style scoped>\n",
       "    .dataframe tbody tr th:only-of-type {\n",
       "        vertical-align: middle;\n",
       "    }\n",
       "\n",
       "    .dataframe tbody tr th {\n",
       "        vertical-align: top;\n",
       "    }\n",
       "\n",
       "    .dataframe thead th {\n",
       "        text-align: right;\n",
       "    }\n",
       "</style>\n",
       "<table border=\"1\" class=\"dataframe\">\n",
       "  <thead>\n",
       "    <tr style=\"text-align: right;\">\n",
       "      <th></th>\n",
       "      <th>id</th>\n",
       "      <th>age</th>\n",
       "      <th>city</th>\n",
       "      <th>f1</th>\n",
       "      <th>f2</th>\n",
       "      <th>f3</th>\n",
       "      <th>f4</th>\n",
       "      <th>f5</th>\n",
       "    </tr>\n",
       "  </thead>\n",
       "  <tbody>\n",
       "    <tr>\n",
       "      <th>0</th>\n",
       "      <td>id01</td>\n",
       "      <td>2.0</td>\n",
       "      <td>서울</td>\n",
       "      <td>NaN</td>\n",
       "      <td>0</td>\n",
       "      <td>NaN</td>\n",
       "      <td>ENFJ</td>\n",
       "      <td>91.297791</td>\n",
       "    </tr>\n",
       "    <tr>\n",
       "      <th>1</th>\n",
       "      <td>id02</td>\n",
       "      <td>9.0</td>\n",
       "      <td>서울</td>\n",
       "      <td>70.0</td>\n",
       "      <td>1</td>\n",
       "      <td>NaN</td>\n",
       "      <td>ENFJ</td>\n",
       "      <td>60.339826</td>\n",
       "    </tr>\n",
       "    <tr>\n",
       "      <th>2</th>\n",
       "      <td>id03</td>\n",
       "      <td>27.0</td>\n",
       "      <td>서울</td>\n",
       "      <td>61.0</td>\n",
       "      <td>1</td>\n",
       "      <td>NaN</td>\n",
       "      <td>ISTJ</td>\n",
       "      <td>17.252986</td>\n",
       "    </tr>\n",
       "    <tr>\n",
       "      <th>3</th>\n",
       "      <td>id04</td>\n",
       "      <td>75.0</td>\n",
       "      <td>서울</td>\n",
       "      <td>NaN</td>\n",
       "      <td>2</td>\n",
       "      <td>NaN</td>\n",
       "      <td>INFP</td>\n",
       "      <td>52.667078</td>\n",
       "    </tr>\n",
       "    <tr>\n",
       "      <th>4</th>\n",
       "      <td>id05</td>\n",
       "      <td>24.0</td>\n",
       "      <td>서울</td>\n",
       "      <td>85.0</td>\n",
       "      <td>2</td>\n",
       "      <td>NaN</td>\n",
       "      <td>ISFJ</td>\n",
       "      <td>29.269869</td>\n",
       "    </tr>\n",
       "  </tbody>\n",
       "</table>\n",
       "</div>"
      ],
      "text/plain": [
       "     id   age city    f1  f2   f3    f4         f5\n",
       "0  id01   2.0   서울   NaN   0  NaN  ENFJ  91.297791\n",
       "1  id02   9.0   서울  70.0   1  NaN  ENFJ  60.339826\n",
       "2  id03  27.0   서울  61.0   1  NaN  ISTJ  17.252986\n",
       "3  id04  75.0   서울   NaN   2  NaN  INFP  52.667078\n",
       "4  id05  24.0   서울  85.0   2  NaN  ISFJ  29.269869"
      ]
     },
     "execution_count": 7,
     "metadata": {},
     "output_type": "execute_result"
    }
   ],
   "source": [
    "# 라이브러리 및 데이터 불러오기\n",
    "import pandas as pd\n",
    "import numpy as np\n",
    "\n",
    "df = pd.read_csv('../input/bigdatacertificationkr/basic1.csv')\n",
    "df.head()"
   ]
  },
  {
   "cell_type": "code",
   "execution_count": 8,
   "id": "708457c0",
   "metadata": {
    "execution": {
     "iopub.execute_input": "2025-05-30T05:55:18.006506Z",
     "iopub.status.busy": "2025-05-30T05:55:18.005472Z",
     "iopub.status.idle": "2025-05-30T05:55:18.011858Z",
     "shell.execute_reply": "2025-05-30T05:55:18.011154Z",
     "shell.execute_reply.started": "2025-05-30T05:52:44.592531Z"
    },
    "papermill": {
     "duration": 0.03797,
     "end_time": "2025-05-30T05:55:18.012016",
     "exception": false,
     "start_time": "2025-05-30T05:55:17.974046",
     "status": "completed"
    },
    "tags": []
   },
   "outputs": [
    {
     "data": {
      "text/html": [
       "<div>\n",
       "<style scoped>\n",
       "    .dataframe tbody tr th:only-of-type {\n",
       "        vertical-align: middle;\n",
       "    }\n",
       "\n",
       "    .dataframe tbody tr th {\n",
       "        vertical-align: top;\n",
       "    }\n",
       "\n",
       "    .dataframe thead th {\n",
       "        text-align: right;\n",
       "    }\n",
       "</style>\n",
       "<table border=\"1\" class=\"dataframe\">\n",
       "  <thead>\n",
       "    <tr style=\"text-align: right;\">\n",
       "      <th></th>\n",
       "      <th>id</th>\n",
       "      <th>age</th>\n",
       "      <th>city</th>\n",
       "      <th>f1</th>\n",
       "      <th>f2</th>\n",
       "      <th>f3</th>\n",
       "      <th>f4</th>\n",
       "      <th>f5</th>\n",
       "    </tr>\n",
       "  </thead>\n",
       "  <tbody>\n",
       "    <tr>\n",
       "      <th>0</th>\n",
       "      <td>id01</td>\n",
       "      <td>2.0</td>\n",
       "      <td>서울</td>\n",
       "      <td>NaN</td>\n",
       "      <td>0</td>\n",
       "      <td>NaN</td>\n",
       "      <td>ENFJ</td>\n",
       "      <td>91.297791</td>\n",
       "    </tr>\n",
       "    <tr>\n",
       "      <th>1</th>\n",
       "      <td>id02</td>\n",
       "      <td>9.0</td>\n",
       "      <td>서울</td>\n",
       "      <td>70.0</td>\n",
       "      <td>1</td>\n",
       "      <td>NaN</td>\n",
       "      <td>ENFJ</td>\n",
       "      <td>60.339826</td>\n",
       "    </tr>\n",
       "    <tr>\n",
       "      <th>32</th>\n",
       "      <td>id33</td>\n",
       "      <td>47.0</td>\n",
       "      <td>부산</td>\n",
       "      <td>94.0</td>\n",
       "      <td>0</td>\n",
       "      <td>NaN</td>\n",
       "      <td>ENFJ</td>\n",
       "      <td>17.252986</td>\n",
       "    </tr>\n",
       "    <tr>\n",
       "      <th>40</th>\n",
       "      <td>id41</td>\n",
       "      <td>81.0</td>\n",
       "      <td>대구</td>\n",
       "      <td>55.0</td>\n",
       "      <td>0</td>\n",
       "      <td>NaN</td>\n",
       "      <td>ENFJ</td>\n",
       "      <td>37.113739</td>\n",
       "    </tr>\n",
       "    <tr>\n",
       "      <th>44</th>\n",
       "      <td>id45</td>\n",
       "      <td>97.0</td>\n",
       "      <td>대구</td>\n",
       "      <td>88.0</td>\n",
       "      <td>0</td>\n",
       "      <td>NaN</td>\n",
       "      <td>ENFJ</td>\n",
       "      <td>13.049921</td>\n",
       "    </tr>\n",
       "    <tr>\n",
       "      <th>53</th>\n",
       "      <td>id54</td>\n",
       "      <td>53.0</td>\n",
       "      <td>대구</td>\n",
       "      <td>NaN</td>\n",
       "      <td>1</td>\n",
       "      <td>NaN</td>\n",
       "      <td>ENFJ</td>\n",
       "      <td>69.730313</td>\n",
       "    </tr>\n",
       "  </tbody>\n",
       "</table>\n",
       "</div>"
      ],
      "text/plain": [
       "      id   age city    f1  f2   f3    f4         f5\n",
       "0   id01   2.0   서울   NaN   0  NaN  ENFJ  91.297791\n",
       "1   id02   9.0   서울  70.0   1  NaN  ENFJ  60.339826\n",
       "32  id33  47.0   부산  94.0   0  NaN  ENFJ  17.252986\n",
       "40  id41  81.0   대구  55.0   0  NaN  ENFJ  37.113739\n",
       "44  id45  97.0   대구  88.0   0  NaN  ENFJ  13.049921\n",
       "53  id54  53.0   대구   NaN   1  NaN  ENFJ  69.730313"
      ]
     },
     "execution_count": 8,
     "metadata": {},
     "output_type": "execute_result"
    }
   ],
   "source": [
    "# 조건에 맞는 데이터\n",
    "df[df['f4']=='ENFJ']"
   ]
  },
  {
   "cell_type": "code",
   "execution_count": 9,
   "id": "d22b41af",
   "metadata": {
    "execution": {
     "iopub.execute_input": "2025-05-30T05:55:18.047136Z",
     "iopub.status.busy": "2025-05-30T05:55:18.046233Z",
     "iopub.status.idle": "2025-05-30T05:55:18.051168Z",
     "shell.execute_reply": "2025-05-30T05:55:18.050624Z",
     "shell.execute_reply.started": "2025-05-30T05:52:46.690385Z"
    },
    "papermill": {
     "duration": 0.026495,
     "end_time": "2025-05-30T05:55:18.051321",
     "exception": false,
     "start_time": "2025-05-30T05:55:18.024826",
     "status": "completed"
    },
    "tags": []
   },
   "outputs": [
    {
     "data": {
      "text/plain": [
       "17.727097901235837"
      ]
     },
     "execution_count": 9,
     "metadata": {},
     "output_type": "execute_result"
    }
   ],
   "source": [
    "df[df['f4']=='ENFJ']['f1'].std()"
   ]
  },
  {
   "cell_type": "code",
   "execution_count": 10,
   "id": "710ae3d3",
   "metadata": {
    "execution": {
     "iopub.execute_input": "2025-05-30T05:55:18.086992Z",
     "iopub.status.busy": "2025-05-30T05:55:18.086205Z",
     "iopub.status.idle": "2025-05-30T05:55:18.091713Z",
     "shell.execute_reply": "2025-05-30T05:55:18.091145Z",
     "shell.execute_reply.started": "2025-05-30T05:52:48.096701Z"
    },
    "papermill": {
     "duration": 0.026466,
     "end_time": "2025-05-30T05:55:18.092138",
     "exception": false,
     "start_time": "2025-05-30T05:55:18.065672",
     "status": "completed"
    },
    "tags": []
   },
   "outputs": [
    {
     "data": {
      "text/plain": [
       "17.727097901235837"
      ]
     },
     "execution_count": 10,
     "metadata": {},
     "output_type": "execute_result"
    }
   ],
   "source": [
    "# 조건에 맞는 f1의 표준편차\n",
    "enfj = df[df['f4']=='ENFJ']['f1'].std()\n",
    "enfj"
   ]
  },
  {
   "cell_type": "code",
   "execution_count": 11,
   "id": "8b11255c",
   "metadata": {
    "execution": {
     "iopub.execute_input": "2025-05-30T05:55:18.137991Z",
     "iopub.status.busy": "2025-05-30T05:55:18.135473Z",
     "iopub.status.idle": "2025-05-30T05:55:18.143113Z",
     "shell.execute_reply": "2025-05-30T05:55:18.142297Z",
     "shell.execute_reply.started": "2025-05-30T05:52:50.054701Z"
    },
    "papermill": {
     "duration": 0.033034,
     "end_time": "2025-05-30T05:55:18.143308",
     "exception": false,
     "start_time": "2025-05-30T05:55:18.110274",
     "status": "completed"
    },
    "tags": []
   },
   "outputs": [
    {
     "data": {
      "text/plain": [
       "23.586719427112648"
      ]
     },
     "execution_count": 11,
     "metadata": {},
     "output_type": "execute_result"
    }
   ],
   "source": [
    "# 조건에 맞는 f1의 표준편차\n",
    "infp = df[df['f4']=='INFP']['f1'].std()\n",
    "infp"
   ]
  },
  {
   "cell_type": "code",
   "execution_count": 12,
   "id": "0a374758",
   "metadata": {
    "execution": {
     "iopub.execute_input": "2025-05-30T05:55:18.182164Z",
     "iopub.status.busy": "2025-05-30T05:55:18.181426Z",
     "iopub.status.idle": "2025-05-30T05:55:18.185636Z",
     "shell.execute_reply": "2025-05-30T05:55:18.185004Z",
     "shell.execute_reply.started": "2025-05-30T05:52:51.427370Z"
    },
    "papermill": {
     "duration": 0.026161,
     "end_time": "2025-05-30T05:55:18.185778",
     "exception": false,
     "start_time": "2025-05-30T05:55:18.159617",
     "status": "completed"
    },
    "tags": []
   },
   "outputs": [
    {
     "name": "stdout",
     "output_type": "stream",
     "text": [
      "5.859621525876811\n"
     ]
    }
   ],
   "source": [
    "# 두 표준편차 차이 절대값 출력\n",
    "print(np.abs(enfj - infp))"
   ]
  }
 ],
 "metadata": {
  "kaggle": {
   "accelerator": "none",
   "dataSources": [
    {
     "datasetId": 1633303,
     "sourceId": 9936200,
     "sourceType": "datasetVersion"
    }
   ],
   "dockerImageVersionId": 30129,
   "isGpuEnabled": false,
   "isInternetEnabled": false,
   "language": "python",
   "sourceType": "notebook"
  },
  "kernelspec": {
   "display_name": "Python 3",
   "language": "python",
   "name": "python3"
  },
  "language_info": {
   "codemirror_mode": {
    "name": "ipython",
    "version": 3
   },
   "file_extension": ".py",
   "mimetype": "text/x-python",
   "name": "python",
   "nbconvert_exporter": "python",
   "pygments_lexer": "ipython3",
   "version": "3.7.10"
  },
  "papermill": {
   "default_parameters": {},
   "duration": 11.720344,
   "end_time": "2025-05-30T05:55:18.814167",
   "environment_variables": {},
   "exception": null,
   "input_path": "__notebook__.ipynb",
   "output_path": "__notebook__.ipynb",
   "parameters": {},
   "start_time": "2025-05-30T05:55:07.093823",
   "version": "2.3.3"
  }
 },
 "nbformat": 4,
 "nbformat_minor": 5
}
