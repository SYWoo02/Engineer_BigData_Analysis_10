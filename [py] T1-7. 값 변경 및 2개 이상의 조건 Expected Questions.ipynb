{
 "cells": [
  {
   "cell_type": "markdown",
   "id": "218fdaa6",
   "metadata": {
    "papermill": {
     "duration": 0.011182,
     "end_time": "2025-05-30T06:36:10.529876",
     "exception": false,
     "start_time": "2025-05-30T06:36:10.518694",
     "status": "completed"
    },
    "tags": []
   },
   "source": [
    "### 'f4'컬럼의 값이 'ESFJ'인 데이터를 'ISFJ'로 대체하고, 'city'가 '경기'이면서 'f4'가 'ISFJ'인 데이터 중 'age'컬럼의 최대값을 출력하시오!\n",
    "- 데이터셋 : basic1.csv\n",
    "- 오른쪽 상단 copy&edit 클릭 -> 예상문제 풀이 시작"
   ]
  },
  {
   "cell_type": "code",
   "execution_count": 1,
   "id": "15560e6c",
   "metadata": {
    "execution": {
     "iopub.execute_input": "2025-05-30T06:36:10.570446Z",
     "iopub.status.busy": "2025-05-30T06:36:10.569332Z",
     "iopub.status.idle": "2025-05-30T06:36:10.612879Z",
     "shell.execute_reply": "2025-05-30T06:36:10.613400Z",
     "shell.execute_reply.started": "2025-05-30T06:33:17.722015Z"
    },
    "papermill": {
     "duration": 0.07192,
     "end_time": "2025-05-30T06:36:10.614082",
     "exception": false,
     "start_time": "2025-05-30T06:36:10.542162",
     "status": "completed"
    },
    "tags": []
   },
   "outputs": [
    {
     "data": {
      "text/html": [
       "<div>\n",
       "<style scoped>\n",
       "    .dataframe tbody tr th:only-of-type {\n",
       "        vertical-align: middle;\n",
       "    }\n",
       "\n",
       "    .dataframe tbody tr th {\n",
       "        vertical-align: top;\n",
       "    }\n",
       "\n",
       "    .dataframe thead th {\n",
       "        text-align: right;\n",
       "    }\n",
       "</style>\n",
       "<table border=\"1\" class=\"dataframe\">\n",
       "  <thead>\n",
       "    <tr style=\"text-align: right;\">\n",
       "      <th></th>\n",
       "      <th>id</th>\n",
       "      <th>age</th>\n",
       "      <th>city</th>\n",
       "      <th>f1</th>\n",
       "      <th>f2</th>\n",
       "      <th>f3</th>\n",
       "      <th>f4</th>\n",
       "      <th>f5</th>\n",
       "    </tr>\n",
       "  </thead>\n",
       "  <tbody>\n",
       "    <tr>\n",
       "      <th>0</th>\n",
       "      <td>id01</td>\n",
       "      <td>2.0</td>\n",
       "      <td>서울</td>\n",
       "      <td>NaN</td>\n",
       "      <td>0</td>\n",
       "      <td>NaN</td>\n",
       "      <td>ENFJ</td>\n",
       "      <td>91.297791</td>\n",
       "    </tr>\n",
       "    <tr>\n",
       "      <th>1</th>\n",
       "      <td>id02</td>\n",
       "      <td>9.0</td>\n",
       "      <td>서울</td>\n",
       "      <td>70.0</td>\n",
       "      <td>1</td>\n",
       "      <td>NaN</td>\n",
       "      <td>ENFJ</td>\n",
       "      <td>60.339826</td>\n",
       "    </tr>\n",
       "    <tr>\n",
       "      <th>2</th>\n",
       "      <td>id03</td>\n",
       "      <td>27.0</td>\n",
       "      <td>서울</td>\n",
       "      <td>61.0</td>\n",
       "      <td>1</td>\n",
       "      <td>NaN</td>\n",
       "      <td>ISTJ</td>\n",
       "      <td>17.252986</td>\n",
       "    </tr>\n",
       "    <tr>\n",
       "      <th>3</th>\n",
       "      <td>id04</td>\n",
       "      <td>75.0</td>\n",
       "      <td>서울</td>\n",
       "      <td>NaN</td>\n",
       "      <td>2</td>\n",
       "      <td>NaN</td>\n",
       "      <td>INFP</td>\n",
       "      <td>52.667078</td>\n",
       "    </tr>\n",
       "    <tr>\n",
       "      <th>4</th>\n",
       "      <td>id05</td>\n",
       "      <td>24.0</td>\n",
       "      <td>서울</td>\n",
       "      <td>85.0</td>\n",
       "      <td>2</td>\n",
       "      <td>NaN</td>\n",
       "      <td>ISFJ</td>\n",
       "      <td>29.269869</td>\n",
       "    </tr>\n",
       "  </tbody>\n",
       "</table>\n",
       "</div>"
      ],
      "text/plain": [
       "     id   age city    f1  f2   f3    f4         f5\n",
       "0  id01   2.0   서울   NaN   0  NaN  ENFJ  91.297791\n",
       "1  id02   9.0   서울  70.0   1  NaN  ENFJ  60.339826\n",
       "2  id03  27.0   서울  61.0   1  NaN  ISTJ  17.252986\n",
       "3  id04  75.0   서울   NaN   2  NaN  INFP  52.667078\n",
       "4  id05  24.0   서울  85.0   2  NaN  ISFJ  29.269869"
      ]
     },
     "execution_count": 1,
     "metadata": {},
     "output_type": "execute_result"
    }
   ],
   "source": [
    "# 라이브러리 및 데이터 불러오기\n",
    "import pandas as pd\n",
    "import numpy as np\n",
    "\n",
    "data = pd.read_csv('../input/bigdatacertificationkr/basic1.csv')\n",
    "data.head(5)"
   ]
  },
  {
   "cell_type": "code",
   "execution_count": 2,
   "id": "be1c550a",
   "metadata": {
    "execution": {
     "iopub.execute_input": "2025-05-30T06:36:10.651267Z",
     "iopub.status.busy": "2025-05-30T06:36:10.647367Z",
     "iopub.status.idle": "2025-05-30T06:36:10.656511Z",
     "shell.execute_reply": "2025-05-30T06:36:10.655724Z"
    },
    "papermill": {
     "duration": 0.030949,
     "end_time": "2025-05-30T06:36:10.656687",
     "exception": false,
     "start_time": "2025-05-30T06:36:10.625738",
     "status": "completed"
    },
    "tags": []
   },
   "outputs": [
    {
     "data": {
      "text/plain": [
       "ESTP    11\n",
       "ISFJ    10\n",
       "ISFP    10\n",
       "ESTJ     9\n",
       "INTP     8\n",
       "ENFJ     6\n",
       "INFP     6\n",
       "ENFP     6\n",
       "ENTP     6\n",
       "ESFJ     5\n",
       "ENTJ     5\n",
       "INFJ     4\n",
       "ESFP     4\n",
       "ISTP     4\n",
       "INTJ     4\n",
       "ISTJ     2\n",
       "Name: f4, dtype: int64"
      ]
     },
     "execution_count": 2,
     "metadata": {},
     "output_type": "execute_result"
    }
   ],
   "source": [
    "data['f4'].value_counts()"
   ]
  },
  {
   "cell_type": "code",
   "execution_count": 3,
   "id": "284c4240",
   "metadata": {
    "execution": {
     "iopub.execute_input": "2025-05-30T06:36:10.709255Z",
     "iopub.status.busy": "2025-05-30T06:36:10.708359Z",
     "iopub.status.idle": "2025-05-30T06:36:10.713276Z",
     "shell.execute_reply": "2025-05-30T06:36:10.712601Z",
     "shell.execute_reply.started": "2025-05-30T06:33:22.213102Z"
    },
    "papermill": {
     "duration": 0.041279,
     "end_time": "2025-05-30T06:36:10.713419",
     "exception": false,
     "start_time": "2025-05-30T06:36:10.672140",
     "status": "completed"
    },
    "tags": []
   },
   "outputs": [
    {
     "data": {
      "text/html": [
       "<div>\n",
       "<style scoped>\n",
       "    .dataframe tbody tr th:only-of-type {\n",
       "        vertical-align: middle;\n",
       "    }\n",
       "\n",
       "    .dataframe tbody tr th {\n",
       "        vertical-align: top;\n",
       "    }\n",
       "\n",
       "    .dataframe thead th {\n",
       "        text-align: right;\n",
       "    }\n",
       "</style>\n",
       "<table border=\"1\" class=\"dataframe\">\n",
       "  <thead>\n",
       "    <tr style=\"text-align: right;\">\n",
       "      <th></th>\n",
       "      <th>id</th>\n",
       "      <th>age</th>\n",
       "      <th>city</th>\n",
       "      <th>f1</th>\n",
       "      <th>f2</th>\n",
       "      <th>f3</th>\n",
       "      <th>f4</th>\n",
       "      <th>f5</th>\n",
       "    </tr>\n",
       "  </thead>\n",
       "  <tbody>\n",
       "    <tr>\n",
       "      <th>8</th>\n",
       "      <td>id09</td>\n",
       "      <td>3.3</td>\n",
       "      <td>서울</td>\n",
       "      <td>35.0</td>\n",
       "      <td>2</td>\n",
       "      <td>NaN</td>\n",
       "      <td>ESFJ</td>\n",
       "      <td>17.252986</td>\n",
       "    </tr>\n",
       "    <tr>\n",
       "      <th>12</th>\n",
       "      <td>id13</td>\n",
       "      <td>15.0</td>\n",
       "      <td>서울</td>\n",
       "      <td>68.0</td>\n",
       "      <td>0</td>\n",
       "      <td>NaN</td>\n",
       "      <td>ESFJ</td>\n",
       "      <td>83.685380</td>\n",
       "    </tr>\n",
       "    <tr>\n",
       "      <th>30</th>\n",
       "      <td>id31</td>\n",
       "      <td>86.0</td>\n",
       "      <td>부산</td>\n",
       "      <td>77.0</td>\n",
       "      <td>0</td>\n",
       "      <td>NaN</td>\n",
       "      <td>ESFJ</td>\n",
       "      <td>73.586397</td>\n",
       "    </tr>\n",
       "    <tr>\n",
       "      <th>58</th>\n",
       "      <td>id59</td>\n",
       "      <td>64.0</td>\n",
       "      <td>대구</td>\n",
       "      <td>NaN</td>\n",
       "      <td>1</td>\n",
       "      <td>NaN</td>\n",
       "      <td>ESFJ</td>\n",
       "      <td>20.129444</td>\n",
       "    </tr>\n",
       "    <tr>\n",
       "      <th>98</th>\n",
       "      <td>id99</td>\n",
       "      <td>1.0</td>\n",
       "      <td>경기</td>\n",
       "      <td>47.0</td>\n",
       "      <td>0</td>\n",
       "      <td>NaN</td>\n",
       "      <td>ESFJ</td>\n",
       "      <td>97.381034</td>\n",
       "    </tr>\n",
       "  </tbody>\n",
       "</table>\n",
       "</div>"
      ],
      "text/plain": [
       "      id   age city    f1  f2   f3    f4         f5\n",
       "8   id09   3.3   서울  35.0   2  NaN  ESFJ  17.252986\n",
       "12  id13  15.0   서울  68.0   0  NaN  ESFJ  83.685380\n",
       "30  id31  86.0   부산  77.0   0  NaN  ESFJ  73.586397\n",
       "58  id59  64.0   대구   NaN   1  NaN  ESFJ  20.129444\n",
       "98  id99   1.0   경기  47.0   0  NaN  ESFJ  97.381034"
      ]
     },
     "execution_count": 3,
     "metadata": {},
     "output_type": "execute_result"
    }
   ],
   "source": [
    "# 'f4'컬럼의 값이 'ESFJ'인 데이터 추출\n",
    "cond = data['f4'] == 'ESFJ'\n",
    "data[cond]"
   ]
  },
  {
   "cell_type": "code",
   "execution_count": 4,
   "id": "3849d128",
   "metadata": {
    "execution": {
     "iopub.execute_input": "2025-05-30T06:36:10.746526Z",
     "iopub.status.busy": "2025-05-30T06:36:10.745715Z",
     "iopub.status.idle": "2025-05-30T06:36:10.750095Z",
     "shell.execute_reply": "2025-05-30T06:36:10.749499Z",
     "shell.execute_reply.started": "2025-05-30T06:33:26.693478Z"
    },
    "papermill": {
     "duration": 0.02575,
     "end_time": "2025-05-30T06:36:10.750244",
     "exception": false,
     "start_time": "2025-05-30T06:36:10.724494",
     "status": "completed"
    },
    "tags": []
   },
   "outputs": [
    {
     "data": {
      "text/plain": [
       "ISFJ    15\n",
       "ESTP    11\n",
       "ISFP    10\n",
       "ESTJ     9\n",
       "INTP     8\n",
       "ENFJ     6\n",
       "INFP     6\n",
       "ENFP     6\n",
       "ENTP     6\n",
       "ENTJ     5\n",
       "INFJ     4\n",
       "ESFP     4\n",
       "ISTP     4\n",
       "INTJ     4\n",
       "ISTJ     2\n",
       "Name: f4, dtype: int64"
      ]
     },
     "execution_count": 4,
     "metadata": {},
     "output_type": "execute_result"
    }
   ],
   "source": [
    "# 'f4'컬럼의 값이 'ESFJ'인 데이터를 'ISFJ'로 대체\n",
    "data['f4'] = data['f4'].replace('ESFJ','ISFJ')\n",
    "data['f4'].value_counts() # ISFJ의 개수가 5개 증가"
   ]
  },
  {
   "cell_type": "code",
   "execution_count": 5,
   "id": "da7e72fc",
   "metadata": {
    "execution": {
     "iopub.execute_input": "2025-05-30T06:36:10.782798Z",
     "iopub.status.busy": "2025-05-30T06:36:10.782049Z",
     "iopub.status.idle": "2025-05-30T06:36:10.786709Z",
     "shell.execute_reply": "2025-05-30T06:36:10.786213Z",
     "shell.execute_reply.started": "2025-05-30T06:34:39.851231Z"
    },
    "papermill": {
     "duration": 0.025004,
     "end_time": "2025-05-30T06:36:10.786879",
     "exception": false,
     "start_time": "2025-05-30T06:36:10.761875",
     "status": "completed"
    },
    "tags": []
   },
   "outputs": [
    {
     "name": "stdout",
     "output_type": "stream",
     "text": [
      "90.0\n"
     ]
    }
   ],
   "source": [
    "# 'city'가 '경기'이면서 'f4'가 'ISFJ'인 데이터 중 'age'컬럼의 최대값을 출력\n",
    "cond1 = data['city'] == '경기'\n",
    "cond2 = data['f4'] == 'ISFJ'\n",
    "data2 = data[cond1 & cond2]\n",
    "\n",
    "max = data2['age'].max()\n",
    "print(max)"
   ]
  },
  {
   "cell_type": "markdown",
   "id": "acd284af",
   "metadata": {
    "papermill": {
     "duration": 0.01127,
     "end_time": "2025-05-30T06:36:10.810522",
     "exception": false,
     "start_time": "2025-05-30T06:36:10.799252",
     "status": "completed"
    },
    "tags": []
   },
   "source": [
    "## HINT"
   ]
  },
  {
   "cell_type": "code",
   "execution_count": 6,
   "id": "af82ead9",
   "metadata": {
    "execution": {
     "iopub.execute_input": "2025-05-30T06:36:10.843722Z",
     "iopub.status.busy": "2025-05-30T06:36:10.842719Z",
     "iopub.status.idle": "2025-05-30T06:36:10.847037Z",
     "shell.execute_reply": "2025-05-30T06:36:10.846349Z",
     "shell.execute_reply.started": "2025-05-30T06:35:27.563128Z"
    },
    "papermill": {
     "duration": 0.025025,
     "end_time": "2025-05-30T06:36:10.847185",
     "exception": false,
     "start_time": "2025-05-30T06:36:10.822160",
     "status": "completed"
    },
    "tags": []
   },
   "outputs": [
    {
     "data": {
      "text/html": [
       "<div>\n",
       "<style scoped>\n",
       "    .dataframe tbody tr th:only-of-type {\n",
       "        vertical-align: middle;\n",
       "    }\n",
       "\n",
       "    .dataframe tbody tr th {\n",
       "        vertical-align: top;\n",
       "    }\n",
       "\n",
       "    .dataframe thead th {\n",
       "        text-align: right;\n",
       "    }\n",
       "</style>\n",
       "<table border=\"1\" class=\"dataframe\">\n",
       "  <thead>\n",
       "    <tr style=\"text-align: right;\">\n",
       "      <th></th>\n",
       "      <th>0</th>\n",
       "    </tr>\n",
       "  </thead>\n",
       "  <tbody>\n",
       "    <tr>\n",
       "      <th>0</th>\n",
       "      <td>2</td>\n",
       "    </tr>\n",
       "    <tr>\n",
       "      <th>1</th>\n",
       "      <td>1</td>\n",
       "    </tr>\n",
       "    <tr>\n",
       "      <th>2</th>\n",
       "      <td>2</td>\n",
       "    </tr>\n",
       "    <tr>\n",
       "      <th>3</th>\n",
       "      <td>1</td>\n",
       "    </tr>\n",
       "    <tr>\n",
       "      <th>4</th>\n",
       "      <td>2</td>\n",
       "    </tr>\n",
       "  </tbody>\n",
       "</table>\n",
       "</div>"
      ],
      "text/plain": [
       "   0\n",
       "0  2\n",
       "1  1\n",
       "2  2\n",
       "3  1\n",
       "4  2"
      ]
     },
     "execution_count": 6,
     "metadata": {},
     "output_type": "execute_result"
    }
   ],
   "source": [
    "# 값 변경하기\n",
    "import pandas as pd\n",
    "data = pd.DataFrame([0, 1, 0, 1, 0])\n",
    "data = data.replace(0, 2)\n",
    "data"
   ]
  },
  {
   "cell_type": "markdown",
   "id": "a1f602de",
   "metadata": {
    "papermill": {
     "duration": 0.013297,
     "end_time": "2025-05-30T06:36:10.872231",
     "exception": false,
     "start_time": "2025-05-30T06:36:10.858934",
     "status": "completed"
    },
    "tags": []
   },
   "source": [
    "## 풀이"
   ]
  },
  {
   "cell_type": "code",
   "execution_count": 7,
   "id": "3c9f5edd",
   "metadata": {
    "_cell_guid": "b1076dfc-b9ad-4769-8c92-a6c4dae69d19",
    "_uuid": "8f2839f25d086af736a60e9eeb907d3b93b6e0e5",
    "execution": {
     "iopub.execute_input": "2025-05-30T06:36:10.908342Z",
     "iopub.status.busy": "2025-05-30T06:36:10.907160Z",
     "iopub.status.idle": "2025-05-30T06:36:10.925359Z",
     "shell.execute_reply": "2025-05-30T06:36:10.924789Z"
    },
    "papermill": {
     "duration": 0.038482,
     "end_time": "2025-05-30T06:36:10.925504",
     "exception": false,
     "start_time": "2025-05-30T06:36:10.887022",
     "status": "completed"
    },
    "tags": []
   },
   "outputs": [
    {
     "data": {
      "text/html": [
       "<div>\n",
       "<style scoped>\n",
       "    .dataframe tbody tr th:only-of-type {\n",
       "        vertical-align: middle;\n",
       "    }\n",
       "\n",
       "    .dataframe tbody tr th {\n",
       "        vertical-align: top;\n",
       "    }\n",
       "\n",
       "    .dataframe thead th {\n",
       "        text-align: right;\n",
       "    }\n",
       "</style>\n",
       "<table border=\"1\" class=\"dataframe\">\n",
       "  <thead>\n",
       "    <tr style=\"text-align: right;\">\n",
       "      <th></th>\n",
       "      <th>id</th>\n",
       "      <th>age</th>\n",
       "      <th>city</th>\n",
       "      <th>f1</th>\n",
       "      <th>f2</th>\n",
       "      <th>f3</th>\n",
       "      <th>f4</th>\n",
       "      <th>f5</th>\n",
       "    </tr>\n",
       "  </thead>\n",
       "  <tbody>\n",
       "    <tr>\n",
       "      <th>0</th>\n",
       "      <td>id01</td>\n",
       "      <td>2.0</td>\n",
       "      <td>서울</td>\n",
       "      <td>NaN</td>\n",
       "      <td>0</td>\n",
       "      <td>NaN</td>\n",
       "      <td>ENFJ</td>\n",
       "      <td>91.297791</td>\n",
       "    </tr>\n",
       "    <tr>\n",
       "      <th>1</th>\n",
       "      <td>id02</td>\n",
       "      <td>9.0</td>\n",
       "      <td>서울</td>\n",
       "      <td>70.0</td>\n",
       "      <td>1</td>\n",
       "      <td>NaN</td>\n",
       "      <td>ENFJ</td>\n",
       "      <td>60.339826</td>\n",
       "    </tr>\n",
       "  </tbody>\n",
       "</table>\n",
       "</div>"
      ],
      "text/plain": [
       "     id  age city    f1  f2   f3    f4         f5\n",
       "0  id01  2.0   서울   NaN   0  NaN  ENFJ  91.297791\n",
       "1  id02  9.0   서울  70.0   1  NaN  ENFJ  60.339826"
      ]
     },
     "execution_count": 7,
     "metadata": {},
     "output_type": "execute_result"
    }
   ],
   "source": [
    "# 라이브러리 및 데이터 불러오기\n",
    "import pandas as pd\n",
    "import numpy as np\n",
    "\n",
    "df = pd.read_csv('../input/bigdatacertificationkr/basic1.csv')\n",
    "df.head(2)"
   ]
  },
  {
   "cell_type": "code",
   "execution_count": 8,
   "id": "286a97ec",
   "metadata": {
    "execution": {
     "iopub.execute_input": "2025-05-30T06:36:10.969506Z",
     "iopub.status.busy": "2025-05-30T06:36:10.968455Z",
     "iopub.status.idle": "2025-05-30T06:36:10.974168Z",
     "shell.execute_reply": "2025-05-30T06:36:10.973316Z",
     "shell.execute_reply.started": "2025-05-30T06:34:53.020552Z"
    },
    "papermill": {
     "duration": 0.035161,
     "end_time": "2025-05-30T06:36:10.974341",
     "exception": false,
     "start_time": "2025-05-30T06:36:10.939180",
     "status": "completed"
    },
    "tags": []
   },
   "outputs": [
    {
     "data": {
      "text/html": [
       "<div>\n",
       "<style scoped>\n",
       "    .dataframe tbody tr th:only-of-type {\n",
       "        vertical-align: middle;\n",
       "    }\n",
       "\n",
       "    .dataframe tbody tr th {\n",
       "        vertical-align: top;\n",
       "    }\n",
       "\n",
       "    .dataframe thead th {\n",
       "        text-align: right;\n",
       "    }\n",
       "</style>\n",
       "<table border=\"1\" class=\"dataframe\">\n",
       "  <thead>\n",
       "    <tr style=\"text-align: right;\">\n",
       "      <th></th>\n",
       "      <th>id</th>\n",
       "      <th>age</th>\n",
       "      <th>city</th>\n",
       "      <th>f1</th>\n",
       "      <th>f2</th>\n",
       "      <th>f3</th>\n",
       "      <th>f4</th>\n",
       "      <th>f5</th>\n",
       "    </tr>\n",
       "  </thead>\n",
       "  <tbody>\n",
       "    <tr>\n",
       "      <th>8</th>\n",
       "      <td>id09</td>\n",
       "      <td>3.3</td>\n",
       "      <td>서울</td>\n",
       "      <td>35.0</td>\n",
       "      <td>2</td>\n",
       "      <td>NaN</td>\n",
       "      <td>ESFJ</td>\n",
       "      <td>17.252986</td>\n",
       "    </tr>\n",
       "    <tr>\n",
       "      <th>12</th>\n",
       "      <td>id13</td>\n",
       "      <td>15.0</td>\n",
       "      <td>서울</td>\n",
       "      <td>68.0</td>\n",
       "      <td>0</td>\n",
       "      <td>NaN</td>\n",
       "      <td>ESFJ</td>\n",
       "      <td>83.685380</td>\n",
       "    </tr>\n",
       "    <tr>\n",
       "      <th>30</th>\n",
       "      <td>id31</td>\n",
       "      <td>86.0</td>\n",
       "      <td>부산</td>\n",
       "      <td>77.0</td>\n",
       "      <td>0</td>\n",
       "      <td>NaN</td>\n",
       "      <td>ESFJ</td>\n",
       "      <td>73.586397</td>\n",
       "    </tr>\n",
       "    <tr>\n",
       "      <th>58</th>\n",
       "      <td>id59</td>\n",
       "      <td>64.0</td>\n",
       "      <td>대구</td>\n",
       "      <td>NaN</td>\n",
       "      <td>1</td>\n",
       "      <td>NaN</td>\n",
       "      <td>ESFJ</td>\n",
       "      <td>20.129444</td>\n",
       "    </tr>\n",
       "    <tr>\n",
       "      <th>98</th>\n",
       "      <td>id99</td>\n",
       "      <td>1.0</td>\n",
       "      <td>경기</td>\n",
       "      <td>47.0</td>\n",
       "      <td>0</td>\n",
       "      <td>NaN</td>\n",
       "      <td>ESFJ</td>\n",
       "      <td>97.381034</td>\n",
       "    </tr>\n",
       "  </tbody>\n",
       "</table>\n",
       "</div>"
      ],
      "text/plain": [
       "      id   age city    f1  f2   f3    f4         f5\n",
       "8   id09   3.3   서울  35.0   2  NaN  ESFJ  17.252986\n",
       "12  id13  15.0   서울  68.0   0  NaN  ESFJ  83.685380\n",
       "30  id31  86.0   부산  77.0   0  NaN  ESFJ  73.586397\n",
       "58  id59  64.0   대구   NaN   1  NaN  ESFJ  20.129444\n",
       "98  id99   1.0   경기  47.0   0  NaN  ESFJ  97.381034"
      ]
     },
     "execution_count": 8,
     "metadata": {},
     "output_type": "execute_result"
    }
   ],
   "source": [
    "# ESFJ 값을 가진 데이터 확인\n",
    "df[df['f4'] == 'ESFJ']"
   ]
  },
  {
   "cell_type": "code",
   "execution_count": 9,
   "id": "42293b04",
   "metadata": {
    "execution": {
     "iopub.execute_input": "2025-05-30T06:36:11.009870Z",
     "iopub.status.busy": "2025-05-30T06:36:11.008968Z",
     "iopub.status.idle": "2025-05-30T06:36:11.012422Z",
     "shell.execute_reply": "2025-05-30T06:36:11.011446Z",
     "shell.execute_reply.started": "2025-05-30T06:34:57.675000Z"
    },
    "papermill": {
     "duration": 0.023443,
     "end_time": "2025-05-30T06:36:11.012665",
     "exception": false,
     "start_time": "2025-05-30T06:36:10.989222",
     "status": "completed"
    },
    "tags": []
   },
   "outputs": [],
   "source": [
    "# 값 변경하기\n",
    "df['f4'] = df['f4'].replace('ESFJ', 'ISFJ')"
   ]
  },
  {
   "cell_type": "code",
   "execution_count": 10,
   "id": "f45a2cc3",
   "metadata": {
    "execution": {
     "iopub.execute_input": "2025-05-30T06:36:11.050039Z",
     "iopub.status.busy": "2025-05-30T06:36:11.049062Z",
     "iopub.status.idle": "2025-05-30T06:36:11.053673Z",
     "shell.execute_reply": "2025-05-30T06:36:11.053017Z",
     "shell.execute_reply.started": "2025-05-30T06:35:09.351139Z"
    },
    "papermill": {
     "duration": 0.028512,
     "end_time": "2025-05-30T06:36:11.053912",
     "exception": false,
     "start_time": "2025-05-30T06:36:11.025400",
     "status": "completed"
    },
    "tags": []
   },
   "outputs": [
    {
     "data": {
      "text/html": [
       "<div>\n",
       "<style scoped>\n",
       "    .dataframe tbody tr th:only-of-type {\n",
       "        vertical-align: middle;\n",
       "    }\n",
       "\n",
       "    .dataframe tbody tr th {\n",
       "        vertical-align: top;\n",
       "    }\n",
       "\n",
       "    .dataframe thead th {\n",
       "        text-align: right;\n",
       "    }\n",
       "</style>\n",
       "<table border=\"1\" class=\"dataframe\">\n",
       "  <thead>\n",
       "    <tr style=\"text-align: right;\">\n",
       "      <th></th>\n",
       "      <th>id</th>\n",
       "      <th>age</th>\n",
       "      <th>city</th>\n",
       "      <th>f1</th>\n",
       "      <th>f2</th>\n",
       "      <th>f3</th>\n",
       "      <th>f4</th>\n",
       "      <th>f5</th>\n",
       "    </tr>\n",
       "  </thead>\n",
       "  <tbody>\n",
       "  </tbody>\n",
       "</table>\n",
       "</div>"
      ],
      "text/plain": [
       "Empty DataFrame\n",
       "Columns: [id, age, city, f1, f2, f3, f4, f5]\n",
       "Index: []"
      ]
     },
     "execution_count": 10,
     "metadata": {},
     "output_type": "execute_result"
    }
   ],
   "source": [
    "# ESFJ 값을 가진 데이터 확인\n",
    "df[df['f4'] == 'ESFJ']"
   ]
  },
  {
   "cell_type": "code",
   "execution_count": 11,
   "id": "f7653050",
   "metadata": {
    "execution": {
     "iopub.execute_input": "2025-05-30T06:36:11.101876Z",
     "iopub.status.busy": "2025-05-30T06:36:11.087360Z",
     "iopub.status.idle": "2025-05-30T06:36:11.107186Z",
     "shell.execute_reply": "2025-05-30T06:36:11.106622Z",
     "shell.execute_reply.started": "2025-05-30T06:35:01.669970Z"
    },
    "papermill": {
     "duration": 0.039321,
     "end_time": "2025-05-30T06:36:11.107345",
     "exception": false,
     "start_time": "2025-05-30T06:36:11.068024",
     "status": "completed"
    },
    "tags": []
   },
   "outputs": [
    {
     "data": {
      "text/html": [
       "<div>\n",
       "<style scoped>\n",
       "    .dataframe tbody tr th:only-of-type {\n",
       "        vertical-align: middle;\n",
       "    }\n",
       "\n",
       "    .dataframe tbody tr th {\n",
       "        vertical-align: top;\n",
       "    }\n",
       "\n",
       "    .dataframe thead th {\n",
       "        text-align: right;\n",
       "    }\n",
       "</style>\n",
       "<table border=\"1\" class=\"dataframe\">\n",
       "  <thead>\n",
       "    <tr style=\"text-align: right;\">\n",
       "      <th></th>\n",
       "      <th>id</th>\n",
       "      <th>age</th>\n",
       "      <th>city</th>\n",
       "      <th>f1</th>\n",
       "      <th>f2</th>\n",
       "      <th>f3</th>\n",
       "      <th>f4</th>\n",
       "      <th>f5</th>\n",
       "    </tr>\n",
       "  </thead>\n",
       "  <tbody>\n",
       "    <tr>\n",
       "      <th>62</th>\n",
       "      <td>id63</td>\n",
       "      <td>88.0</td>\n",
       "      <td>경기</td>\n",
       "      <td>86.0</td>\n",
       "      <td>1</td>\n",
       "      <td>NaN</td>\n",
       "      <td>ISFJ</td>\n",
       "      <td>73.586397</td>\n",
       "    </tr>\n",
       "    <tr>\n",
       "      <th>66</th>\n",
       "      <td>id67</td>\n",
       "      <td>66.0</td>\n",
       "      <td>경기</td>\n",
       "      <td>52.0</td>\n",
       "      <td>1</td>\n",
       "      <td>NaN</td>\n",
       "      <td>ISFJ</td>\n",
       "      <td>73.586397</td>\n",
       "    </tr>\n",
       "    <tr>\n",
       "      <th>72</th>\n",
       "      <td>id73</td>\n",
       "      <td>90.0</td>\n",
       "      <td>경기</td>\n",
       "      <td>NaN</td>\n",
       "      <td>1</td>\n",
       "      <td>NaN</td>\n",
       "      <td>ISFJ</td>\n",
       "      <td>73.586397</td>\n",
       "    </tr>\n",
       "    <tr>\n",
       "      <th>80</th>\n",
       "      <td>id81</td>\n",
       "      <td>86.0</td>\n",
       "      <td>경기</td>\n",
       "      <td>50.0</td>\n",
       "      <td>1</td>\n",
       "      <td>NaN</td>\n",
       "      <td>ISFJ</td>\n",
       "      <td>37.113739</td>\n",
       "    </tr>\n",
       "    <tr>\n",
       "      <th>98</th>\n",
       "      <td>id99</td>\n",
       "      <td>1.0</td>\n",
       "      <td>경기</td>\n",
       "      <td>47.0</td>\n",
       "      <td>0</td>\n",
       "      <td>NaN</td>\n",
       "      <td>ISFJ</td>\n",
       "      <td>97.381034</td>\n",
       "    </tr>\n",
       "  </tbody>\n",
       "</table>\n",
       "</div>"
      ],
      "text/plain": [
       "      id   age city    f1  f2   f3    f4         f5\n",
       "62  id63  88.0   경기  86.0   1  NaN  ISFJ  73.586397\n",
       "66  id67  66.0   경기  52.0   1  NaN  ISFJ  73.586397\n",
       "72  id73  90.0   경기   NaN   1  NaN  ISFJ  73.586397\n",
       "80  id81  86.0   경기  50.0   1  NaN  ISFJ  37.113739\n",
       "98  id99   1.0   경기  47.0   0  NaN  ISFJ  97.381034"
      ]
     },
     "execution_count": 11,
     "metadata": {},
     "output_type": "execute_result"
    }
   ],
   "source": [
    "# 2개의 조건에 맞는 값\n",
    "df[(df['f4'] == 'ISFJ') & (df['city'] == '경기')]"
   ]
  },
  {
   "cell_type": "code",
   "execution_count": 12,
   "id": "85be1a33",
   "metadata": {
    "execution": {
     "iopub.execute_input": "2025-05-30T06:36:11.145896Z",
     "iopub.status.busy": "2025-05-30T06:36:11.145081Z",
     "iopub.status.idle": "2025-05-30T06:36:11.150722Z",
     "shell.execute_reply": "2025-05-30T06:36:11.150120Z",
     "shell.execute_reply.started": "2025-05-30T06:35:03.352487Z"
    },
    "papermill": {
     "duration": 0.028264,
     "end_time": "2025-05-30T06:36:11.150904",
     "exception": false,
     "start_time": "2025-05-30T06:36:11.122640",
     "status": "completed"
    },
    "tags": []
   },
   "outputs": [
    {
     "data": {
      "text/plain": [
       "90.0"
      ]
     },
     "execution_count": 12,
     "metadata": {},
     "output_type": "execute_result"
    }
   ],
   "source": [
    "# 2개의 조건에 맞는 값중 age컬럼의 최대값\n",
    "df[(df['f4'] == 'ISFJ') & (df['city'] == '경기')]['age'].max()"
   ]
  }
 ],
 "metadata": {
  "kaggle": {
   "accelerator": "none",
   "dataSources": [
    {
     "datasetId": 1633303,
     "sourceId": 9936200,
     "sourceType": "datasetVersion"
    }
   ],
   "dockerImageVersionId": 30129,
   "isGpuEnabled": false,
   "isInternetEnabled": false,
   "language": "python",
   "sourceType": "notebook"
  },
  "kernelspec": {
   "display_name": "Python 3",
   "language": "python",
   "name": "python3"
  },
  "language_info": {
   "codemirror_mode": {
    "name": "ipython",
    "version": 3
   },
   "file_extension": ".py",
   "mimetype": "text/x-python",
   "name": "python",
   "nbconvert_exporter": "python",
   "pygments_lexer": "ipython3",
   "version": "3.7.10"
  },
  "papermill": {
   "default_parameters": {},
   "duration": 11.888979,
   "end_time": "2025-05-30T06:36:11.777860",
   "environment_variables": {},
   "exception": null,
   "input_path": "__notebook__.ipynb",
   "output_path": "__notebook__.ipynb",
   "parameters": {},
   "start_time": "2025-05-30T06:35:59.888881",
   "version": "2.3.3"
  }
 },
 "nbformat": 4,
 "nbformat_minor": 5
}
