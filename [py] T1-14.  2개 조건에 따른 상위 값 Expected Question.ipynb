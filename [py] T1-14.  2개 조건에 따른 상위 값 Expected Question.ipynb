{
 "cells": [
  {
   "cell_type": "markdown",
   "id": "256c2c32",
   "metadata": {
    "papermill": {
     "duration": 0.009037,
     "end_time": "2025-05-31T10:01:34.087167",
     "exception": false,
     "start_time": "2025-05-31T10:01:34.078130",
     "status": "completed"
    },
    "tags": []
   },
   "source": [
    "# < 조건에 따른 상위 값 출력하기 >\n",
    "## city와 f4를 기준으로 f5의 평균값을 구한 다음, f5를 기준으로 상위 7개 값을 모두 더해 출력하시오 (소수점 둘째자리까지 출력)\n",
    "\n",
    "### - 데이터셋 : basic1.csv \n",
    "### - 오른쪽 상단 copy&edit 클릭 -> 예상문제 풀이 시작\n",
    "### - File -> Editor Type -> Script"
   ]
  },
  {
   "cell_type": "markdown",
   "id": "707d1ffb",
   "metadata": {
    "papermill": {
     "duration": 0.007555,
     "end_time": "2025-05-31T10:01:34.103153",
     "exception": false,
     "start_time": "2025-05-31T10:01:34.095598",
     "status": "completed"
    },
    "tags": []
   },
   "source": [
    "## 라이브러리 및 데이터 불러오기"
   ]
  },
  {
   "cell_type": "code",
   "execution_count": 1,
   "id": "d55ad836",
   "metadata": {
    "execution": {
     "iopub.execute_input": "2025-05-31T10:01:34.132117Z",
     "iopub.status.busy": "2025-05-31T10:01:34.128422Z",
     "iopub.status.idle": "2025-05-31T10:01:34.149898Z",
     "shell.execute_reply": "2025-05-31T10:01:34.149195Z",
     "shell.execute_reply.started": "2025-05-31T09:59:14.212556Z"
    },
    "papermill": {
     "duration": 0.039022,
     "end_time": "2025-05-31T10:01:34.150070",
     "exception": false,
     "start_time": "2025-05-31T10:01:34.111048",
     "status": "completed"
    },
    "tags": []
   },
   "outputs": [],
   "source": [
    "import pandas as pd\n",
    "import numpy as np\n",
    "data = pd.read_csv(\"/kaggle/input/bigdatacertificationkr/basic1.csv\")"
   ]
  },
  {
   "cell_type": "markdown",
   "id": "51bd4c0b",
   "metadata": {
    "papermill": {
     "duration": 0.007534,
     "end_time": "2025-05-31T10:01:34.167780",
     "exception": false,
     "start_time": "2025-05-31T10:01:34.160246",
     "status": "completed"
    },
    "tags": []
   },
   "source": [
    "## EDA"
   ]
  },
  {
   "cell_type": "code",
   "execution_count": 2,
   "id": "62279a45",
   "metadata": {
    "execution": {
     "iopub.execute_input": "2025-05-31T10:01:34.190243Z",
     "iopub.status.busy": "2025-05-31T10:01:34.189425Z",
     "iopub.status.idle": "2025-05-31T10:01:34.204483Z",
     "shell.execute_reply": "2025-05-31T10:01:34.203822Z",
     "shell.execute_reply.started": "2025-05-31T09:59:15.781813Z"
    },
    "papermill": {
     "duration": 0.028995,
     "end_time": "2025-05-31T10:01:34.204632",
     "exception": false,
     "start_time": "2025-05-31T10:01:34.175637",
     "status": "completed"
    },
    "tags": []
   },
   "outputs": [
    {
     "name": "stdout",
     "output_type": "stream",
     "text": [
      "     id   age city    f1  f2   f3    f4         f5\n",
      "0  id01   2.0   서울   NaN   0  NaN  ENFJ  91.297791\n",
      "1  id02   9.0   서울  70.0   1  NaN  ENFJ  60.339826\n",
      "2  id03  27.0   서울  61.0   1  NaN  ISTJ  17.252986\n",
      "3  id04  75.0   서울   NaN   2  NaN  INFP  52.667078\n",
      "4  id05  24.0   서울  85.0   2  NaN  ISFJ  29.269869 \n",
      "\n",
      "id       0\n",
      "age      0\n",
      "city     0\n",
      "f1      31\n",
      "f2       0\n",
      "f3      95\n",
      "f4       0\n",
      "f5       0\n",
      "dtype: int64\n"
     ]
    }
   ],
   "source": [
    "# 데이터 한눈에 기기\n",
    "print(data.head(5),'\\n')\n",
    "\n",
    "# 결측치 유무 확인\n",
    "print(data.isnull().sum())"
   ]
  },
  {
   "cell_type": "markdown",
   "id": "226c57e5",
   "metadata": {
    "papermill": {
     "duration": 0.00781,
     "end_time": "2025-05-31T10:01:34.220930",
     "exception": false,
     "start_time": "2025-05-31T10:01:34.213120",
     "status": "completed"
    },
    "tags": []
   },
   "source": [
    "## city와 f4를 기준으로 f5의 평균값 구하기"
   ]
  },
  {
   "cell_type": "code",
   "execution_count": 3,
   "id": "e4aea1d8",
   "metadata": {
    "execution": {
     "iopub.execute_input": "2025-05-31T10:01:34.251190Z",
     "iopub.status.busy": "2025-05-31T10:01:34.246427Z",
     "iopub.status.idle": "2025-05-31T10:01:34.266565Z",
     "shell.execute_reply": "2025-05-31T10:01:34.265921Z",
     "shell.execute_reply.started": "2025-05-31T09:59:17.718287Z"
    },
    "papermill": {
     "duration": 0.037584,
     "end_time": "2025-05-31T10:01:34.266702",
     "exception": false,
     "start_time": "2025-05-31T10:01:34.229118",
     "status": "completed"
    },
    "tags": []
   },
   "outputs": [
    {
     "data": {
      "text/plain": [
       "city  f4  \n",
       "경기    ENTJ    51.693799\n",
       "      ENTP    54.704075\n",
       "      ESFJ    97.381034\n",
       "      ESFP    53.187491\n",
       "      ESTJ    79.487043\n",
       "      ESTP    34.022130\n",
       "      INFJ    80.138280\n",
       "      INFP    90.531801\n",
       "      INTJ    80.388795\n",
       "      INTP    55.887974\n",
       "      ISFJ    64.468233\n",
       "      ISFP    69.108148\n",
       "      ISTP    48.431184\n",
       "대구    ENFJ    39.964658\n",
       "      ENFP    32.574085\n",
       "      ENTP    13.049921\n",
       "      ESFJ    20.129444\n",
       "      ESTJ    77.323257\n",
       "      ESTP    28.915814\n",
       "      INTP    26.698797\n",
       "      ISFJ    59.883434\n",
       "      ISTJ    83.685380\n",
       "      ISTP    29.269869\n",
       "부산    ENFJ    17.252986\n",
       "      ENFP    68.176229\n",
       "      ENTP    74.012327\n",
       "      ESFJ    73.586397\n",
       "      ESTJ    25.280992\n",
       "      ESTP    62.730150\n",
       "      INFJ    53.447698\n",
       "      INFP    48.431184\n",
       "      INTP    13.049921\n",
       "      ISFJ    13.049921\n",
       "      ISFP    29.269869\n",
       "      ISTP    69.730313\n",
       "서울    ENFJ    75.818808\n",
       "      ENFP    98.429899\n",
       "      ENTJ    67.886373\n",
       "      ENTP     9.796378\n",
       "      ESFJ    50.469183\n",
       "      ESFP    16.283854\n",
       "      ESTP    91.297791\n",
       "      INFJ    83.685380\n",
       "      INFP    52.667078\n",
       "      INTJ    91.297791\n",
       "      INTP    20.129444\n",
       "      ISFJ    39.734842\n",
       "      ISFP    91.057640\n",
       "      ISTJ    17.252986\n",
       "      ISTP    67.886373\n",
       "Name: f5, dtype: float64"
      ]
     },
     "execution_count": 3,
     "metadata": {},
     "output_type": "execute_result"
    }
   ],
   "source": [
    "data2 = data.groupby(by=['city','f4'])['f5'].mean()\n",
    "data2"
   ]
  },
  {
   "cell_type": "markdown",
   "id": "61b4a51c",
   "metadata": {
    "papermill": {
     "duration": 0.008042,
     "end_time": "2025-05-31T10:01:34.283383",
     "exception": false,
     "start_time": "2025-05-31T10:01:34.275341",
     "status": "completed"
    },
    "tags": []
   },
   "source": [
    "## f5를 기준으로 상위 7개 값을 모두 더해 출력하기 (소수점 둘째자리까지 출력하시오.)"
   ]
  },
  {
   "cell_type": "code",
   "execution_count": 4,
   "id": "8bdb8a79",
   "metadata": {
    "execution": {
     "iopub.execute_input": "2025-05-31T10:01:34.308310Z",
     "iopub.status.busy": "2025-05-31T10:01:34.307538Z",
     "iopub.status.idle": "2025-05-31T10:01:34.311070Z",
     "shell.execute_reply": "2025-05-31T10:01:34.310515Z",
     "shell.execute_reply.started": "2025-05-31T09:59:41.505892Z"
    },
    "papermill": {
     "duration": 0.019284,
     "end_time": "2025-05-31T10:01:34.311230",
     "exception": false,
     "start_time": "2025-05-31T10:01:34.291946",
     "status": "completed"
    },
    "tags": []
   },
   "outputs": [],
   "source": [
    "data2 = data2.reset_index()"
   ]
  },
  {
   "cell_type": "code",
   "execution_count": 5,
   "id": "2ca79001",
   "metadata": {
    "execution": {
     "iopub.execute_input": "2025-05-31T10:01:34.341574Z",
     "iopub.status.busy": "2025-05-31T10:01:34.340858Z",
     "iopub.status.idle": "2025-05-31T10:01:34.351196Z",
     "shell.execute_reply": "2025-05-31T10:01:34.350440Z",
     "shell.execute_reply.started": "2025-05-31T09:59:52.328957Z"
    },
    "papermill": {
     "duration": 0.030471,
     "end_time": "2025-05-31T10:01:34.351351",
     "exception": false,
     "start_time": "2025-05-31T10:01:34.320880",
     "status": "completed"
    },
    "tags": []
   },
   "outputs": [
    {
     "data": {
      "text/html": [
       "<div>\n",
       "<style scoped>\n",
       "    .dataframe tbody tr th:only-of-type {\n",
       "        vertical-align: middle;\n",
       "    }\n",
       "\n",
       "    .dataframe tbody tr th {\n",
       "        vertical-align: top;\n",
       "    }\n",
       "\n",
       "    .dataframe thead th {\n",
       "        text-align: right;\n",
       "    }\n",
       "</style>\n",
       "<table border=\"1\" class=\"dataframe\">\n",
       "  <thead>\n",
       "    <tr style=\"text-align: right;\">\n",
       "      <th></th>\n",
       "      <th>city</th>\n",
       "      <th>f4</th>\n",
       "      <th>f5</th>\n",
       "    </tr>\n",
       "  </thead>\n",
       "  <tbody>\n",
       "    <tr>\n",
       "      <th>36</th>\n",
       "      <td>서울</td>\n",
       "      <td>ENFP</td>\n",
       "      <td>98.429899</td>\n",
       "    </tr>\n",
       "    <tr>\n",
       "      <th>2</th>\n",
       "      <td>경기</td>\n",
       "      <td>ESFJ</td>\n",
       "      <td>97.381034</td>\n",
       "    </tr>\n",
       "    <tr>\n",
       "      <th>44</th>\n",
       "      <td>서울</td>\n",
       "      <td>INTJ</td>\n",
       "      <td>91.297791</td>\n",
       "    </tr>\n",
       "    <tr>\n",
       "      <th>41</th>\n",
       "      <td>서울</td>\n",
       "      <td>ESTP</td>\n",
       "      <td>91.297791</td>\n",
       "    </tr>\n",
       "    <tr>\n",
       "      <th>47</th>\n",
       "      <td>서울</td>\n",
       "      <td>ISFP</td>\n",
       "      <td>91.057640</td>\n",
       "    </tr>\n",
       "    <tr>\n",
       "      <th>7</th>\n",
       "      <td>경기</td>\n",
       "      <td>INFP</td>\n",
       "      <td>90.531801</td>\n",
       "    </tr>\n",
       "    <tr>\n",
       "      <th>42</th>\n",
       "      <td>서울</td>\n",
       "      <td>INFJ</td>\n",
       "      <td>83.685380</td>\n",
       "    </tr>\n",
       "  </tbody>\n",
       "</table>\n",
       "</div>"
      ],
      "text/plain": [
       "   city    f4         f5\n",
       "36   서울  ENFP  98.429899\n",
       "2    경기  ESFJ  97.381034\n",
       "44   서울  INTJ  91.297791\n",
       "41   서울  ESTP  91.297791\n",
       "47   서울  ISFP  91.057640\n",
       "7    경기  INFP  90.531801\n",
       "42   서울  INFJ  83.685380"
      ]
     },
     "execution_count": 5,
     "metadata": {},
     "output_type": "execute_result"
    }
   ],
   "source": [
    "f5_top7 = data2.sort_values(by = 'f5',ascending = False).head(7)\n",
    "f5_top7"
   ]
  },
  {
   "cell_type": "code",
   "execution_count": 6,
   "id": "a4c89ccc",
   "metadata": {
    "execution": {
     "iopub.execute_input": "2025-05-31T10:01:34.375791Z",
     "iopub.status.busy": "2025-05-31T10:01:34.375061Z",
     "iopub.status.idle": "2025-05-31T10:01:34.378109Z",
     "shell.execute_reply": "2025-05-31T10:01:34.378569Z",
     "shell.execute_reply.started": "2025-05-31T09:59:55.124242Z"
    },
    "papermill": {
     "duration": 0.018077,
     "end_time": "2025-05-31T10:01:34.378733",
     "exception": false,
     "start_time": "2025-05-31T10:01:34.360656",
     "status": "completed"
    },
    "tags": []
   },
   "outputs": [
    {
     "name": "stdout",
     "output_type": "stream",
     "text": [
      "643.68\n"
     ]
    }
   ],
   "source": [
    "f5_top7_sum = f5_top7['f5'].sum()\n",
    "print(round(f5_top7_sum,2))"
   ]
  },
  {
   "cell_type": "markdown",
   "id": "2cd6ab40",
   "metadata": {
    "papermill": {
     "duration": 0.008841,
     "end_time": "2025-05-31T10:01:34.397075",
     "exception": false,
     "start_time": "2025-05-31T10:01:34.388234",
     "status": "completed"
    },
    "tags": []
   },
   "source": [
    "## 풀이 (예시답안)"
   ]
  },
  {
   "cell_type": "code",
   "execution_count": 7,
   "id": "61a2deaa",
   "metadata": {
    "_cell_guid": "98c67bfa-1be9-4e0d-9fb7-366b018df82e",
    "_uuid": "6f42a5aa-aba5-4e7f-b672-bac5fe573067",
    "collapsed": false,
    "execution": {
     "iopub.execute_input": "2025-05-31T10:01:34.423315Z",
     "iopub.status.busy": "2025-05-31T10:01:34.422220Z",
     "iopub.status.idle": "2025-05-31T10:01:34.449964Z",
     "shell.execute_reply": "2025-05-31T10:01:34.449352Z",
     "shell.execute_reply.started": "2025-05-31T10:00:42.649515Z"
    },
    "jupyter": {
     "outputs_hidden": false
    },
    "papermill": {
     "duration": 0.04374,
     "end_time": "2025-05-31T10:01:34.450124",
     "exception": false,
     "start_time": "2025-05-31T10:01:34.406384",
     "status": "completed"
    },
    "tags": []
   },
   "outputs": [
    {
     "name": "stdout",
     "output_type": "stream",
     "text": [
      "                  f5\n",
      "city f4             \n",
      "경기   ENTJ  51.693799\n",
      "     ENTP  54.704075\n",
      "     ESFJ  97.381034\n",
      "     ESFP  53.187491\n",
      "     ESTJ  79.487043\n",
      "     ESTP  34.022130\n",
      "     INFJ  80.138280\n",
      "     INFP  90.531801\n",
      "     INTJ  80.388795\n",
      "     INTP  55.887974\n",
      "     ISFJ  64.468233\n",
      "     ISFP  69.108148\n",
      "     ISTP  48.431184\n",
      "대구   ENFJ  39.964658\n",
      "     ENFP  32.574085\n",
      "     ENTP  13.049921\n",
      "     ESFJ  20.129444\n",
      "     ESTJ  77.323257\n",
      "     ESTP  28.915814\n",
      "     INTP  26.698797\n",
      "     ISFJ  59.883434\n",
      "     ISTJ  83.685380\n",
      "     ISTP  29.269869\n",
      "부산   ENFJ  17.252986\n",
      "     ENFP  68.176229\n",
      "     ENTP  74.012327\n",
      "     ESFJ  73.586397\n",
      "     ESTJ  25.280992\n",
      "     ESTP  62.730150\n",
      "     INFJ  53.447698\n",
      "     INFP  48.431184\n",
      "     INTP  13.049921\n",
      "     ISFJ  13.049921\n",
      "     ISFP  29.269869\n",
      "     ISTP  69.730313\n",
      "서울   ENFJ  75.818808\n",
      "     ENFP  98.429899\n",
      "     ENTJ  67.886373\n",
      "     ENTP   9.796378\n",
      "     ESFJ  50.469183\n",
      "     ESFP  16.283854\n",
      "     ESTP  91.297791\n",
      "     INFJ  83.685380\n",
      "     INFP  52.667078\n",
      "     INTJ  91.297791\n",
      "     INTP  20.129444\n",
      "     ISFJ  39.734842\n",
      "     ISFP  91.057640\n",
      "     ISTJ  17.252986\n",
      "     ISTP  67.886373\n",
      "   city    f4         f5\n",
      "36   서울  ENFP  98.429899\n",
      "2    경기  ESFJ  97.381034\n",
      "44   서울  INTJ  91.297791\n",
      "41   서울  ESTP  91.297791\n",
      "47   서울  ISFP  91.057640\n",
      "7    경기  INFP  90.531801\n",
      "42   서울  INFJ  83.685380\n"
     ]
    },
    {
     "data": {
      "text/plain": [
       "643.68"
      ]
     },
     "execution_count": 7,
     "metadata": {},
     "output_type": "execute_result"
    }
   ],
   "source": [
    "import pandas as pd\n",
    "\n",
    "df = pd.read_csv(\"../input/bigdatacertificationkr/basic1.csv\")\n",
    "df.head()\n",
    "\n",
    "# city와 f4별 f5의 평균 값 (멀티인덱스 출력)\n",
    "df = df.groupby(['city', 'f4'])[['f5']].mean()\n",
    "print(df)\n",
    "\n",
    "# dataframe 전환 후 상위 7개 출력\n",
    "df = df.reset_index().sort_values('f5', ascending=False).head(7)\n",
    "print(df)\n",
    "\n",
    "# f7의 합계 (소수점 둘째자리까지)\n",
    "round(df['f5'].sum(), 2)\n",
    "\n",
    "#결과값 : 643.68"
   ]
  }
 ],
 "metadata": {
  "kaggle": {
   "accelerator": "none",
   "dataSources": [
    {
     "datasetId": 1633303,
     "sourceId": 9936200,
     "sourceType": "datasetVersion"
    }
   ],
   "dockerImageVersionId": 30145,
   "isGpuEnabled": false,
   "isInternetEnabled": false,
   "language": "python",
   "sourceType": "notebook"
  },
  "kernelspec": {
   "display_name": "Python 3",
   "language": "python",
   "name": "python3"
  },
  "language_info": {
   "codemirror_mode": {
    "name": "ipython",
    "version": 3
   },
   "file_extension": ".py",
   "mimetype": "text/x-python",
   "name": "python",
   "nbconvert_exporter": "python",
   "pygments_lexer": "ipython3",
   "version": "3.7.10"
  },
  "papermill": {
   "default_parameters": {},
   "duration": 10.911888,
   "end_time": "2025-05-31T10:01:35.074880",
   "environment_variables": {},
   "exception": null,
   "input_path": "__notebook__.ipynb",
   "output_path": "__notebook__.ipynb",
   "parameters": {},
   "start_time": "2025-05-31T10:01:24.162992",
   "version": "2.3.3"
  }
 },
 "nbformat": 4,
 "nbformat_minor": 5
}
