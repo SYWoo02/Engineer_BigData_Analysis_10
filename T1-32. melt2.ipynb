{
 "cells": [
  {
   "cell_type": "markdown",
   "id": "bd30c84e",
   "metadata": {
    "papermill": {
     "duration": 0.003812,
     "end_time": "2025-06-02T20:06:08.087410",
     "exception": false,
     "start_time": "2025-06-02T20:06:08.083598",
     "status": "completed"
    },
    "tags": []
   },
   "source": [
    "## Q. 수학, 영어 점수 중 사람과 과목에 상관없이 90점 이상인 점수의 평균을 정수로 구하시오 (소수점 버림)\n",
    "- updated 22.12.2"
   ]
  },
  {
   "cell_type": "code",
   "execution_count": 1,
   "id": "e863e99e",
   "metadata": {
    "execution": {
     "iopub.execute_input": "2025-06-02T20:06:08.101735Z",
     "iopub.status.busy": "2025-06-02T20:06:08.101044Z",
     "iopub.status.idle": "2025-06-02T20:06:08.145220Z",
     "shell.execute_reply": "2025-06-02T20:06:08.143954Z"
    },
    "papermill": {
     "duration": 0.057458,
     "end_time": "2025-06-02T20:06:08.148321",
     "exception": false,
     "start_time": "2025-06-02T20:06:08.090863",
     "status": "completed"
    },
    "tags": []
   },
   "outputs": [
    {
     "data": {
      "text/html": [
       "<div>\n",
       "<style scoped>\n",
       "    .dataframe tbody tr th:only-of-type {\n",
       "        vertical-align: middle;\n",
       "    }\n",
       "\n",
       "    .dataframe tbody tr th {\n",
       "        vertical-align: top;\n",
       "    }\n",
       "\n",
       "    .dataframe thead th {\n",
       "        text-align: right;\n",
       "    }\n",
       "</style>\n",
       "<table border=\"1\" class=\"dataframe\">\n",
       "  <thead>\n",
       "    <tr style=\"text-align: right;\">\n",
       "      <th></th>\n",
       "      <th>Name</th>\n",
       "      <th>수학</th>\n",
       "      <th>영어</th>\n",
       "      <th>국어</th>\n",
       "    </tr>\n",
       "  </thead>\n",
       "  <tbody>\n",
       "    <tr>\n",
       "      <th>0</th>\n",
       "      <td>김딴짓</td>\n",
       "      <td>90</td>\n",
       "      <td>92</td>\n",
       "      <td>91</td>\n",
       "    </tr>\n",
       "    <tr>\n",
       "      <th>1</th>\n",
       "      <td>박분기</td>\n",
       "      <td>93</td>\n",
       "      <td>84</td>\n",
       "      <td>94</td>\n",
       "    </tr>\n",
       "    <tr>\n",
       "      <th>2</th>\n",
       "      <td>이퇴근</td>\n",
       "      <td>85</td>\n",
       "      <td>86</td>\n",
       "      <td>83</td>\n",
       "    </tr>\n",
       "  </tbody>\n",
       "</table>\n",
       "</div>"
      ],
      "text/plain": [
       "  Name  수학  영어  국어\n",
       "0  김딴짓  90  92  91\n",
       "1  박분기  93  84  94\n",
       "2  이퇴근  85  86  83"
      ]
     },
     "execution_count": 1,
     "metadata": {},
     "output_type": "execute_result"
    }
   ],
   "source": [
    "import pandas as pd\n",
    "df = pd.DataFrame({'Name': {0: '김딴짓', 1: '박분기', 2: '이퇴근'},\n",
    "                   '수학': {0: 90, 1: 93, 2: 85},\n",
    "                   '영어': {0: 92, 1: 84, 2: 86},\n",
    "                   '국어': {0: 91, 1: 94, 2: 83},})\n",
    "\n",
    "df"
   ]
  },
  {
   "cell_type": "markdown",
   "id": "e6535ce0",
   "metadata": {
    "papermill": {
     "duration": 0.002991,
     "end_time": "2025-06-02T20:06:08.154532",
     "exception": false,
     "start_time": "2025-06-02T20:06:08.151541",
     "status": "completed"
    },
    "tags": []
   },
   "source": [
    "## 나의 코드 "
   ]
  },
  {
   "cell_type": "code",
   "execution_count": 2,
   "id": "e6386ca1",
   "metadata": {
    "execution": {
     "iopub.execute_input": "2025-06-02T20:06:08.162577Z",
     "iopub.status.busy": "2025-06-02T20:06:08.162154Z",
     "iopub.status.idle": "2025-06-02T20:06:08.190210Z",
     "shell.execute_reply": "2025-06-02T20:06:08.188955Z"
    },
    "papermill": {
     "duration": 0.035416,
     "end_time": "2025-06-02T20:06:08.193243",
     "exception": false,
     "start_time": "2025-06-02T20:06:08.157827",
     "status": "completed"
    },
    "tags": []
   },
   "outputs": [
    {
     "data": {
      "text/html": [
       "<div>\n",
       "<style scoped>\n",
       "    .dataframe tbody tr th:only-of-type {\n",
       "        vertical-align: middle;\n",
       "    }\n",
       "\n",
       "    .dataframe tbody tr th {\n",
       "        vertical-align: top;\n",
       "    }\n",
       "\n",
       "    .dataframe thead th {\n",
       "        text-align: right;\n",
       "    }\n",
       "</style>\n",
       "<table border=\"1\" class=\"dataframe\">\n",
       "  <thead>\n",
       "    <tr style=\"text-align: right;\">\n",
       "      <th></th>\n",
       "      <th>Name</th>\n",
       "      <th>국어</th>\n",
       "      <th>variable</th>\n",
       "      <th>value</th>\n",
       "    </tr>\n",
       "  </thead>\n",
       "  <tbody>\n",
       "    <tr>\n",
       "      <th>0</th>\n",
       "      <td>김딴짓</td>\n",
       "      <td>91</td>\n",
       "      <td>수학</td>\n",
       "      <td>90</td>\n",
       "    </tr>\n",
       "    <tr>\n",
       "      <th>1</th>\n",
       "      <td>박분기</td>\n",
       "      <td>94</td>\n",
       "      <td>수학</td>\n",
       "      <td>93</td>\n",
       "    </tr>\n",
       "    <tr>\n",
       "      <th>2</th>\n",
       "      <td>이퇴근</td>\n",
       "      <td>83</td>\n",
       "      <td>수학</td>\n",
       "      <td>85</td>\n",
       "    </tr>\n",
       "    <tr>\n",
       "      <th>3</th>\n",
       "      <td>김딴짓</td>\n",
       "      <td>91</td>\n",
       "      <td>영어</td>\n",
       "      <td>92</td>\n",
       "    </tr>\n",
       "    <tr>\n",
       "      <th>4</th>\n",
       "      <td>박분기</td>\n",
       "      <td>94</td>\n",
       "      <td>영어</td>\n",
       "      <td>84</td>\n",
       "    </tr>\n",
       "    <tr>\n",
       "      <th>5</th>\n",
       "      <td>이퇴근</td>\n",
       "      <td>83</td>\n",
       "      <td>영어</td>\n",
       "      <td>86</td>\n",
       "    </tr>\n",
       "  </tbody>\n",
       "</table>\n",
       "</div>"
      ],
      "text/plain": [
       "  Name  국어 variable  value\n",
       "0  김딴짓  91       수학     90\n",
       "1  박분기  94       수학     93\n",
       "2  이퇴근  83       수학     85\n",
       "3  김딴짓  91       영어     92\n",
       "4  박분기  94       영어     84\n",
       "5  이퇴근  83       영어     86"
      ]
     },
     "execution_count": 2,
     "metadata": {},
     "output_type": "execute_result"
    }
   ],
   "source": [
    "data = pd.melt(df, ['Name','국어'])\n",
    "data"
   ]
  },
  {
   "cell_type": "code",
   "execution_count": 3,
   "id": "0a87a43a",
   "metadata": {
    "execution": {
     "iopub.execute_input": "2025-06-02T20:06:08.201885Z",
     "iopub.status.busy": "2025-06-02T20:06:08.201458Z",
     "iopub.status.idle": "2025-06-02T20:06:08.210597Z",
     "shell.execute_reply": "2025-06-02T20:06:08.209122Z"
    },
    "papermill": {
     "duration": 0.016157,
     "end_time": "2025-06-02T20:06:08.212881",
     "exception": false,
     "start_time": "2025-06-02T20:06:08.196724",
     "status": "completed"
    },
    "tags": []
   },
   "outputs": [
    {
     "name": "stdout",
     "output_type": "stream",
     "text": [
      "91\n"
     ]
    }
   ],
   "source": [
    "# 수학, 영어 중 과목 상관없이 점수가 90점 이상인 점수의 평균 출력하기 (소수점을 버려서 정수로)\n",
    "cond = data['value'] >= 90\n",
    "over90 = data[cond]\n",
    "print(int(over90['value'].mean()))"
   ]
  },
  {
   "cell_type": "code",
   "execution_count": null,
   "id": "eaab0f1d",
   "metadata": {
    "papermill": {
     "duration": 0.003024,
     "end_time": "2025-06-02T20:06:08.219500",
     "exception": false,
     "start_time": "2025-06-02T20:06:08.216476",
     "status": "completed"
    },
    "tags": []
   },
   "outputs": [],
   "source": []
  },
  {
   "cell_type": "code",
   "execution_count": null,
   "id": "78cedce8",
   "metadata": {
    "papermill": {
     "duration": 0.002911,
     "end_time": "2025-06-02T20:06:08.225738",
     "exception": false,
     "start_time": "2025-06-02T20:06:08.222827",
     "status": "completed"
    },
    "tags": []
   },
   "outputs": [],
   "source": []
  },
  {
   "cell_type": "code",
   "execution_count": null,
   "id": "8411fc07",
   "metadata": {
    "papermill": {
     "duration": 0.002998,
     "end_time": "2025-06-02T20:06:08.232437",
     "exception": false,
     "start_time": "2025-06-02T20:06:08.229439",
     "status": "completed"
    },
    "tags": []
   },
   "outputs": [],
   "source": []
  },
  {
   "cell_type": "code",
   "execution_count": null,
   "id": "43823dc1",
   "metadata": {
    "papermill": {
     "duration": 0.002899,
     "end_time": "2025-06-02T20:06:08.238605",
     "exception": false,
     "start_time": "2025-06-02T20:06:08.235706",
     "status": "completed"
    },
    "tags": []
   },
   "outputs": [],
   "source": []
  },
  {
   "cell_type": "markdown",
   "id": "9d6f36fa",
   "metadata": {
    "papermill": {
     "duration": 0.002762,
     "end_time": "2025-06-02T20:06:08.244569",
     "exception": false,
     "start_time": "2025-06-02T20:06:08.241807",
     "status": "completed"
    },
    "tags": []
   },
   "source": [
    "## 풀이 (예시답안)"
   ]
  },
  {
   "cell_type": "code",
   "execution_count": 4,
   "id": "e1810dc9",
   "metadata": {
    "execution": {
     "iopub.execute_input": "2025-06-02T20:06:08.252617Z",
     "iopub.status.busy": "2025-06-02T20:06:08.252187Z",
     "iopub.status.idle": "2025-06-02T20:06:08.267007Z",
     "shell.execute_reply": "2025-06-02T20:06:08.265390Z"
    },
    "papermill": {
     "duration": 0.022458,
     "end_time": "2025-06-02T20:06:08.270194",
     "exception": false,
     "start_time": "2025-06-02T20:06:08.247736",
     "status": "completed"
    },
    "tags": []
   },
   "outputs": [
    {
     "name": "stdout",
     "output_type": "stream",
     "text": [
      "91\n"
     ]
    }
   ],
   "source": [
    "df = pd.melt(df, id_vars=['Name'], value_vars=['수학', '영어'])\n",
    "cond = df['value'] >= 90\n",
    "print(int(df[cond]['value'].mean()))"
   ]
  }
 ],
 "metadata": {
  "kaggle": {
   "accelerator": "none",
   "dataSources": [
    {
     "datasetId": 1633303,
     "sourceId": 9936200,
     "sourceType": "datasetVersion"
    }
   ],
   "dockerImageVersionId": 30301,
   "isGpuEnabled": false,
   "isInternetEnabled": false,
   "language": "python",
   "sourceType": "notebook"
  },
  "kernelspec": {
   "display_name": "Python 3",
   "language": "python",
   "name": "python3"
  },
  "language_info": {
   "codemirror_mode": {
    "name": "ipython",
    "version": 3
   },
   "file_extension": ".py",
   "mimetype": "text/x-python",
   "name": "python",
   "nbconvert_exporter": "python",
   "pygments_lexer": "ipython3",
   "version": "3.7.12"
  },
  "papermill": {
   "default_parameters": {},
   "duration": 12.449063,
   "end_time": "2025-06-02T20:06:08.998350",
   "environment_variables": {},
   "exception": null,
   "input_path": "__notebook__.ipynb",
   "output_path": "__notebook__.ipynb",
   "parameters": {},
   "start_time": "2025-06-02T20:05:56.549287",
   "version": "2.3.4"
  }
 },
 "nbformat": 4,
 "nbformat_minor": 5
}
