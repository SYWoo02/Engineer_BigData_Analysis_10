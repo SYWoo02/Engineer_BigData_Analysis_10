{
 "cells": [
  {
   "cell_type": "markdown",
   "id": "5b271a55",
   "metadata": {
    "papermill": {
     "duration": 0.003095,
     "end_time": "2025-06-02T20:04:54.828315",
     "exception": false,
     "start_time": "2025-06-02T20:04:54.825220",
     "status": "completed"
    },
    "tags": []
   },
   "source": [
    "## Q. 수학, 영어 점수 중 사람과 과목에 상관없이 90점 이상인 점수의 평균을 정수로 구하시오 (소수점 버림)\n",
    "- updated 22.12.2"
   ]
  },
  {
   "cell_type": "code",
   "execution_count": 1,
   "id": "d2819875",
   "metadata": {
    "execution": {
     "iopub.execute_input": "2025-06-02T20:04:54.835715Z",
     "iopub.status.busy": "2025-06-02T20:04:54.835151Z",
     "iopub.status.idle": "2025-06-02T20:04:54.869983Z",
     "shell.execute_reply": "2025-06-02T20:04:54.868576Z"
    },
    "papermill": {
     "duration": 0.041379,
     "end_time": "2025-06-02T20:04:54.872203",
     "exception": false,
     "start_time": "2025-06-02T20:04:54.830824",
     "status": "completed"
    },
    "tags": []
   },
   "outputs": [
    {
     "data": {
      "text/html": [
       "<div>\n",
       "<style scoped>\n",
       "    .dataframe tbody tr th:only-of-type {\n",
       "        vertical-align: middle;\n",
       "    }\n",
       "\n",
       "    .dataframe tbody tr th {\n",
       "        vertical-align: top;\n",
       "    }\n",
       "\n",
       "    .dataframe thead th {\n",
       "        text-align: right;\n",
       "    }\n",
       "</style>\n",
       "<table border=\"1\" class=\"dataframe\">\n",
       "  <thead>\n",
       "    <tr style=\"text-align: right;\">\n",
       "      <th></th>\n",
       "      <th>Name</th>\n",
       "      <th>수학</th>\n",
       "      <th>영어</th>\n",
       "      <th>국어</th>\n",
       "    </tr>\n",
       "  </thead>\n",
       "  <tbody>\n",
       "    <tr>\n",
       "      <th>0</th>\n",
       "      <td>김딴짓</td>\n",
       "      <td>90</td>\n",
       "      <td>92</td>\n",
       "      <td>91</td>\n",
       "    </tr>\n",
       "    <tr>\n",
       "      <th>1</th>\n",
       "      <td>박분기</td>\n",
       "      <td>93</td>\n",
       "      <td>84</td>\n",
       "      <td>94</td>\n",
       "    </tr>\n",
       "    <tr>\n",
       "      <th>2</th>\n",
       "      <td>이퇴근</td>\n",
       "      <td>85</td>\n",
       "      <td>86</td>\n",
       "      <td>83</td>\n",
       "    </tr>\n",
       "  </tbody>\n",
       "</table>\n",
       "</div>"
      ],
      "text/plain": [
       "  Name  수학  영어  국어\n",
       "0  김딴짓  90  92  91\n",
       "1  박분기  93  84  94\n",
       "2  이퇴근  85  86  83"
      ]
     },
     "execution_count": 1,
     "metadata": {},
     "output_type": "execute_result"
    }
   ],
   "source": [
    "import pandas as pd\n",
    "df = pd.DataFrame({'Name': {0: '김딴짓', 1: '박분기', 2: '이퇴근'},\n",
    "                   '수학': {0: 90, 1: 93, 2: 85},\n",
    "                   '영어': {0: 92, 1: 84, 2: 86},\n",
    "                   '국어': {0: 91, 1: 94, 2: 83},})\n",
    "\n",
    "df"
   ]
  },
  {
   "cell_type": "markdown",
   "id": "9688244b",
   "metadata": {
    "papermill": {
     "duration": 0.001876,
     "end_time": "2025-06-02T20:04:54.876483",
     "exception": false,
     "start_time": "2025-06-02T20:04:54.874607",
     "status": "completed"
    },
    "tags": []
   },
   "source": [
    "## 나의 코드 "
   ]
  },
  {
   "cell_type": "code",
   "execution_count": 2,
   "id": "d29c3125",
   "metadata": {
    "execution": {
     "iopub.execute_input": "2025-06-02T20:04:54.882324Z",
     "iopub.status.busy": "2025-06-02T20:04:54.881948Z",
     "iopub.status.idle": "2025-06-02T20:04:54.903663Z",
     "shell.execute_reply": "2025-06-02T20:04:54.902731Z"
    },
    "papermill": {
     "duration": 0.026947,
     "end_time": "2025-06-02T20:04:54.905500",
     "exception": false,
     "start_time": "2025-06-02T20:04:54.878553",
     "status": "completed"
    },
    "tags": []
   },
   "outputs": [
    {
     "data": {
      "text/html": [
       "<div>\n",
       "<style scoped>\n",
       "    .dataframe tbody tr th:only-of-type {\n",
       "        vertical-align: middle;\n",
       "    }\n",
       "\n",
       "    .dataframe tbody tr th {\n",
       "        vertical-align: top;\n",
       "    }\n",
       "\n",
       "    .dataframe thead th {\n",
       "        text-align: right;\n",
       "    }\n",
       "</style>\n",
       "<table border=\"1\" class=\"dataframe\">\n",
       "  <thead>\n",
       "    <tr style=\"text-align: right;\">\n",
       "      <th></th>\n",
       "      <th>Name</th>\n",
       "      <th>국어</th>\n",
       "      <th>variable</th>\n",
       "      <th>value</th>\n",
       "    </tr>\n",
       "  </thead>\n",
       "  <tbody>\n",
       "    <tr>\n",
       "      <th>0</th>\n",
       "      <td>김딴짓</td>\n",
       "      <td>91</td>\n",
       "      <td>수학</td>\n",
       "      <td>90</td>\n",
       "    </tr>\n",
       "    <tr>\n",
       "      <th>1</th>\n",
       "      <td>박분기</td>\n",
       "      <td>94</td>\n",
       "      <td>수학</td>\n",
       "      <td>93</td>\n",
       "    </tr>\n",
       "    <tr>\n",
       "      <th>2</th>\n",
       "      <td>이퇴근</td>\n",
       "      <td>83</td>\n",
       "      <td>수학</td>\n",
       "      <td>85</td>\n",
       "    </tr>\n",
       "    <tr>\n",
       "      <th>3</th>\n",
       "      <td>김딴짓</td>\n",
       "      <td>91</td>\n",
       "      <td>영어</td>\n",
       "      <td>92</td>\n",
       "    </tr>\n",
       "    <tr>\n",
       "      <th>4</th>\n",
       "      <td>박분기</td>\n",
       "      <td>94</td>\n",
       "      <td>영어</td>\n",
       "      <td>84</td>\n",
       "    </tr>\n",
       "    <tr>\n",
       "      <th>5</th>\n",
       "      <td>이퇴근</td>\n",
       "      <td>83</td>\n",
       "      <td>영어</td>\n",
       "      <td>86</td>\n",
       "    </tr>\n",
       "  </tbody>\n",
       "</table>\n",
       "</div>"
      ],
      "text/plain": [
       "  Name  국어 variable  value\n",
       "0  김딴짓  91       수학     90\n",
       "1  박분기  94       수학     93\n",
       "2  이퇴근  83       수학     85\n",
       "3  김딴짓  91       영어     92\n",
       "4  박분기  94       영어     84\n",
       "5  이퇴근  83       영어     86"
      ]
     },
     "execution_count": 2,
     "metadata": {},
     "output_type": "execute_result"
    }
   ],
   "source": [
    "data = pd.melt(df, ['Name','국어'])\n",
    "data"
   ]
  },
  {
   "cell_type": "code",
   "execution_count": 3,
   "id": "5ae99ee8",
   "metadata": {
    "execution": {
     "iopub.execute_input": "2025-06-02T20:04:54.911941Z",
     "iopub.status.busy": "2025-06-02T20:04:54.911526Z",
     "iopub.status.idle": "2025-06-02T20:04:54.920760Z",
     "shell.execute_reply": "2025-06-02T20:04:54.918891Z"
    },
    "papermill": {
     "duration": 0.015289,
     "end_time": "2025-06-02T20:04:54.923281",
     "exception": false,
     "start_time": "2025-06-02T20:04:54.907992",
     "status": "completed"
    },
    "tags": []
   },
   "outputs": [
    {
     "name": "stdout",
     "output_type": "stream",
     "text": [
      "91\n"
     ]
    }
   ],
   "source": [
    "# 수학, 영어 중 과목 상관없이 점수가 90점 이상인 점수의 평균 출력하기 (소수점을 버려서 정수로)\n",
    "cond = data['value'] >= 90\n",
    "over90 = data[cond]\n",
    "print(int(over90['value'].mean()))"
   ]
  },
  {
   "cell_type": "code",
   "execution_count": null,
   "id": "b488d8c1",
   "metadata": {
    "papermill": {
     "duration": 0.002161,
     "end_time": "2025-06-02T20:04:54.928212",
     "exception": false,
     "start_time": "2025-06-02T20:04:54.926051",
     "status": "completed"
    },
    "tags": []
   },
   "outputs": [],
   "source": []
  },
  {
   "cell_type": "code",
   "execution_count": null,
   "id": "ce7a3aa3",
   "metadata": {
    "papermill": {
     "duration": 0.002049,
     "end_time": "2025-06-02T20:04:54.932621",
     "exception": false,
     "start_time": "2025-06-02T20:04:54.930572",
     "status": "completed"
    },
    "tags": []
   },
   "outputs": [],
   "source": []
  },
  {
   "cell_type": "code",
   "execution_count": null,
   "id": "2271af4a",
   "metadata": {
    "papermill": {
     "duration": 0.00204,
     "end_time": "2025-06-02T20:04:54.936924",
     "exception": false,
     "start_time": "2025-06-02T20:04:54.934884",
     "status": "completed"
    },
    "tags": []
   },
   "outputs": [],
   "source": []
  },
  {
   "cell_type": "code",
   "execution_count": null,
   "id": "e8e1f21c",
   "metadata": {
    "papermill": {
     "duration": 0.002084,
     "end_time": "2025-06-02T20:04:54.941229",
     "exception": false,
     "start_time": "2025-06-02T20:04:54.939145",
     "status": "completed"
    },
    "tags": []
   },
   "outputs": [],
   "source": []
  },
  {
   "cell_type": "markdown",
   "id": "289a343e",
   "metadata": {
    "papermill": {
     "duration": 0.001994,
     "end_time": "2025-06-02T20:04:54.945557",
     "exception": false,
     "start_time": "2025-06-02T20:04:54.943563",
     "status": "completed"
    },
    "tags": []
   },
   "source": [
    "## 풀이 (예시답안)"
   ]
  },
  {
   "cell_type": "code",
   "execution_count": 4,
   "id": "87020265",
   "metadata": {
    "execution": {
     "iopub.execute_input": "2025-06-02T20:04:54.952088Z",
     "iopub.status.busy": "2025-06-02T20:04:54.951630Z",
     "iopub.status.idle": "2025-06-02T20:04:54.964456Z",
     "shell.execute_reply": "2025-06-02T20:04:54.963247Z"
    },
    "papermill": {
     "duration": 0.0186,
     "end_time": "2025-06-02T20:04:54.966406",
     "exception": false,
     "start_time": "2025-06-02T20:04:54.947806",
     "status": "completed"
    },
    "tags": []
   },
   "outputs": [
    {
     "name": "stdout",
     "output_type": "stream",
     "text": [
      "91\n"
     ]
    }
   ],
   "source": [
    "df = pd.melt(df, id_vars=['Name'], value_vars=['수학', '영어'])\n",
    "cond = df['value'] >= 90\n",
    "print(int(df[cond]['value'].mean()))"
   ]
  }
 ],
 "metadata": {
  "kaggle": {
   "accelerator": "none",
   "dataSources": [
    {
     "datasetId": 1633303,
     "sourceId": 9936200,
     "sourceType": "datasetVersion"
    }
   ],
   "dockerImageVersionId": 30301,
   "isGpuEnabled": false,
   "isInternetEnabled": false,
   "language": "python",
   "sourceType": "notebook"
  },
  "kernelspec": {
   "display_name": "Python 3",
   "language": "python",
   "name": "python3"
  },
  "language_info": {
   "codemirror_mode": {
    "name": "ipython",
    "version": 3
   },
   "file_extension": ".py",
   "mimetype": "text/x-python",
   "name": "python",
   "nbconvert_exporter": "python",
   "pygments_lexer": "ipython3",
   "version": "3.7.12"
  },
  "papermill": {
   "default_parameters": {},
   "duration": 10.037015,
   "end_time": "2025-06-02T20:04:55.693081",
   "environment_variables": {},
   "exception": null,
   "input_path": "__notebook__.ipynb",
   "output_path": "__notebook__.ipynb",
   "parameters": {},
   "start_time": "2025-06-02T20:04:45.656066",
   "version": "2.3.4"
  }
 },
 "nbformat": 4,
 "nbformat_minor": 5
}
