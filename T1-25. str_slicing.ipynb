{
 "cells": [
  {
   "cell_type": "markdown",
   "id": "e3807cb1",
   "metadata": {
    "papermill": {
     "duration": 0.005219,
     "end_time": "2025-06-02T19:08:13.824803",
     "exception": false,
     "start_time": "2025-06-02T19:08:13.819584",
     "status": "completed"
    },
    "tags": []
   },
   "source": [
    "## basic1 데이터에서 f4가 E로 시작하면서 부산에 살고 20대인 사람은 몇 명일까요?"
   ]
  },
  {
   "cell_type": "code",
   "execution_count": 1,
   "id": "19419e0c",
   "metadata": {
    "execution": {
     "iopub.execute_input": "2025-06-02T19:08:13.834926Z",
     "iopub.status.busy": "2025-06-02T19:08:13.834442Z",
     "iopub.status.idle": "2025-06-02T19:08:13.895309Z",
     "shell.execute_reply": "2025-06-02T19:08:13.893823Z"
    },
    "papermill": {
     "duration": 0.069648,
     "end_time": "2025-06-02T19:08:13.898951",
     "exception": false,
     "start_time": "2025-06-02T19:08:13.829303",
     "status": "completed"
    },
    "tags": []
   },
   "outputs": [
    {
     "data": {
      "text/html": [
       "<div>\n",
       "<style scoped>\n",
       "    .dataframe tbody tr th:only-of-type {\n",
       "        vertical-align: middle;\n",
       "    }\n",
       "\n",
       "    .dataframe tbody tr th {\n",
       "        vertical-align: top;\n",
       "    }\n",
       "\n",
       "    .dataframe thead th {\n",
       "        text-align: right;\n",
       "    }\n",
       "</style>\n",
       "<table border=\"1\" class=\"dataframe\">\n",
       "  <thead>\n",
       "    <tr style=\"text-align: right;\">\n",
       "      <th></th>\n",
       "      <th>id</th>\n",
       "      <th>age</th>\n",
       "      <th>city</th>\n",
       "      <th>f1</th>\n",
       "      <th>f2</th>\n",
       "      <th>f3</th>\n",
       "      <th>f4</th>\n",
       "      <th>f5</th>\n",
       "    </tr>\n",
       "  </thead>\n",
       "  <tbody>\n",
       "    <tr>\n",
       "      <th>0</th>\n",
       "      <td>id01</td>\n",
       "      <td>2.0</td>\n",
       "      <td>서울</td>\n",
       "      <td>NaN</td>\n",
       "      <td>0</td>\n",
       "      <td>NaN</td>\n",
       "      <td>ENFJ</td>\n",
       "      <td>91.297791</td>\n",
       "    </tr>\n",
       "    <tr>\n",
       "      <th>1</th>\n",
       "      <td>id02</td>\n",
       "      <td>9.0</td>\n",
       "      <td>서울</td>\n",
       "      <td>70.0</td>\n",
       "      <td>1</td>\n",
       "      <td>NaN</td>\n",
       "      <td>ENFJ</td>\n",
       "      <td>60.339826</td>\n",
       "    </tr>\n",
       "    <tr>\n",
       "      <th>2</th>\n",
       "      <td>id03</td>\n",
       "      <td>27.0</td>\n",
       "      <td>서울</td>\n",
       "      <td>61.0</td>\n",
       "      <td>1</td>\n",
       "      <td>NaN</td>\n",
       "      <td>ISTJ</td>\n",
       "      <td>17.252986</td>\n",
       "    </tr>\n",
       "    <tr>\n",
       "      <th>3</th>\n",
       "      <td>id04</td>\n",
       "      <td>75.0</td>\n",
       "      <td>서울</td>\n",
       "      <td>NaN</td>\n",
       "      <td>2</td>\n",
       "      <td>NaN</td>\n",
       "      <td>INFP</td>\n",
       "      <td>52.667078</td>\n",
       "    </tr>\n",
       "    <tr>\n",
       "      <th>4</th>\n",
       "      <td>id05</td>\n",
       "      <td>24.0</td>\n",
       "      <td>서울</td>\n",
       "      <td>85.0</td>\n",
       "      <td>2</td>\n",
       "      <td>NaN</td>\n",
       "      <td>ISFJ</td>\n",
       "      <td>29.269869</td>\n",
       "    </tr>\n",
       "    <tr>\n",
       "      <th>...</th>\n",
       "      <td>...</td>\n",
       "      <td>...</td>\n",
       "      <td>...</td>\n",
       "      <td>...</td>\n",
       "      <td>...</td>\n",
       "      <td>...</td>\n",
       "      <td>...</td>\n",
       "      <td>...</td>\n",
       "    </tr>\n",
       "    <tr>\n",
       "      <th>95</th>\n",
       "      <td>id96</td>\n",
       "      <td>92.0</td>\n",
       "      <td>경기</td>\n",
       "      <td>53.0</td>\n",
       "      <td>1</td>\n",
       "      <td>NaN</td>\n",
       "      <td>ENTJ</td>\n",
       "      <td>52.667078</td>\n",
       "    </tr>\n",
       "    <tr>\n",
       "      <th>96</th>\n",
       "      <td>id97</td>\n",
       "      <td>100.0</td>\n",
       "      <td>경기</td>\n",
       "      <td>NaN</td>\n",
       "      <td>0</td>\n",
       "      <td>NaN</td>\n",
       "      <td>INFP</td>\n",
       "      <td>67.886373</td>\n",
       "    </tr>\n",
       "    <tr>\n",
       "      <th>97</th>\n",
       "      <td>id98</td>\n",
       "      <td>39.0</td>\n",
       "      <td>경기</td>\n",
       "      <td>58.0</td>\n",
       "      <td>2</td>\n",
       "      <td>NaN</td>\n",
       "      <td>INFP</td>\n",
       "      <td>98.429899</td>\n",
       "    </tr>\n",
       "    <tr>\n",
       "      <th>98</th>\n",
       "      <td>id99</td>\n",
       "      <td>1.0</td>\n",
       "      <td>경기</td>\n",
       "      <td>47.0</td>\n",
       "      <td>0</td>\n",
       "      <td>NaN</td>\n",
       "      <td>ESFJ</td>\n",
       "      <td>97.381034</td>\n",
       "    </tr>\n",
       "    <tr>\n",
       "      <th>99</th>\n",
       "      <td>id100</td>\n",
       "      <td>47.0</td>\n",
       "      <td>경기</td>\n",
       "      <td>53.0</td>\n",
       "      <td>0</td>\n",
       "      <td>vip</td>\n",
       "      <td>ESFP</td>\n",
       "      <td>33.308999</td>\n",
       "    </tr>\n",
       "  </tbody>\n",
       "</table>\n",
       "<p>100 rows × 8 columns</p>\n",
       "</div>"
      ],
      "text/plain": [
       "       id    age city    f1  f2   f3    f4         f5\n",
       "0    id01    2.0   서울   NaN   0  NaN  ENFJ  91.297791\n",
       "1    id02    9.0   서울  70.0   1  NaN  ENFJ  60.339826\n",
       "2    id03   27.0   서울  61.0   1  NaN  ISTJ  17.252986\n",
       "3    id04   75.0   서울   NaN   2  NaN  INFP  52.667078\n",
       "4    id05   24.0   서울  85.0   2  NaN  ISFJ  29.269869\n",
       "..    ...    ...  ...   ...  ..  ...   ...        ...\n",
       "95   id96   92.0   경기  53.0   1  NaN  ENTJ  52.667078\n",
       "96   id97  100.0   경기   NaN   0  NaN  INFP  67.886373\n",
       "97   id98   39.0   경기  58.0   2  NaN  INFP  98.429899\n",
       "98   id99    1.0   경기  47.0   0  NaN  ESFJ  97.381034\n",
       "99  id100   47.0   경기  53.0   0  vip  ESFP  33.308999\n",
       "\n",
       "[100 rows x 8 columns]"
      ]
     },
     "execution_count": 1,
     "metadata": {},
     "output_type": "execute_result"
    }
   ],
   "source": [
    "import pandas as pd\n",
    "df = pd.read_csv(\"../input/bigdatacertificationkr/basic1.csv\")\n",
    "df"
   ]
  },
  {
   "cell_type": "markdown",
   "id": "0f079773",
   "metadata": {
    "papermill": {
     "duration": 0.003389,
     "end_time": "2025-06-02T19:08:13.906171",
     "exception": false,
     "start_time": "2025-06-02T19:08:13.902782",
     "status": "completed"
    },
    "tags": []
   },
   "source": [
    "## 나의 코드 "
   ]
  },
  {
   "cell_type": "code",
   "execution_count": 2,
   "id": "1f26ba3f",
   "metadata": {
    "execution": {
     "iopub.execute_input": "2025-06-02T19:08:13.915236Z",
     "iopub.status.busy": "2025-06-02T19:08:13.914798Z",
     "iopub.status.idle": "2025-06-02T19:08:13.928749Z",
     "shell.execute_reply": "2025-06-02T19:08:13.927677Z"
    },
    "papermill": {
     "duration": 0.021594,
     "end_time": "2025-06-02T19:08:13.931401",
     "exception": false,
     "start_time": "2025-06-02T19:08:13.909807",
     "status": "completed"
    },
    "tags": []
   },
   "outputs": [
    {
     "data": {
      "text/plain": [
       "0      True\n",
       "1      True\n",
       "2     False\n",
       "3     False\n",
       "4     False\n",
       "      ...  \n",
       "95     True\n",
       "96    False\n",
       "97    False\n",
       "98     True\n",
       "99     True\n",
       "Name: f4, Length: 100, dtype: bool"
      ]
     },
     "execution_count": 2,
     "metadata": {},
     "output_type": "execute_result"
    }
   ],
   "source": [
    "# 조건 1) basic1 데이터에서 f4가 E로 시작\n",
    "cond1 = df['f4'].str[0] == 'E'\n",
    "cond1"
   ]
  },
  {
   "cell_type": "code",
   "execution_count": 3,
   "id": "cd7eeae3",
   "metadata": {
    "execution": {
     "iopub.execute_input": "2025-06-02T19:08:13.940419Z",
     "iopub.status.busy": "2025-06-02T19:08:13.940041Z",
     "iopub.status.idle": "2025-06-02T19:08:13.950428Z",
     "shell.execute_reply": "2025-06-02T19:08:13.949161Z"
    },
    "papermill": {
     "duration": 0.017432,
     "end_time": "2025-06-02T19:08:13.952606",
     "exception": false,
     "start_time": "2025-06-02T19:08:13.935174",
     "status": "completed"
    },
    "tags": []
   },
   "outputs": [
    {
     "data": {
      "text/plain": [
       "0     False\n",
       "1     False\n",
       "2     False\n",
       "3     False\n",
       "4     False\n",
       "      ...  \n",
       "95    False\n",
       "96    False\n",
       "97    False\n",
       "98    False\n",
       "99    False\n",
       "Name: city, Length: 100, dtype: bool"
      ]
     },
     "execution_count": 3,
     "metadata": {},
     "output_type": "execute_result"
    }
   ],
   "source": [
    "# 조건 2) 부산 거주\n",
    "cond2 = df['city'] == '부산'\n",
    "cond2"
   ]
  },
  {
   "cell_type": "code",
   "execution_count": 4,
   "id": "9ebca9a6",
   "metadata": {
    "execution": {
     "iopub.execute_input": "2025-06-02T19:08:13.961409Z",
     "iopub.status.busy": "2025-06-02T19:08:13.960994Z",
     "iopub.status.idle": "2025-06-02T19:08:13.972080Z",
     "shell.execute_reply": "2025-06-02T19:08:13.970718Z"
    },
    "papermill": {
     "duration": 0.017938,
     "end_time": "2025-06-02T19:08:13.974160",
     "exception": false,
     "start_time": "2025-06-02T19:08:13.956222",
     "status": "completed"
    },
    "tags": []
   },
   "outputs": [
    {
     "data": {
      "text/plain": [
       "0     False\n",
       "1     False\n",
       "2      True\n",
       "3     False\n",
       "4      True\n",
       "      ...  \n",
       "95    False\n",
       "96    False\n",
       "97    False\n",
       "98    False\n",
       "99    False\n",
       "Name: age, Length: 100, dtype: bool"
      ]
     },
     "execution_count": 4,
     "metadata": {},
     "output_type": "execute_result"
    }
   ],
   "source": [
    "# 조건 3) 20대\n",
    "cond3 = (df['age'] >= 20) & (df['age'] < 30)\n",
    "cond3"
   ]
  },
  {
   "cell_type": "code",
   "execution_count": 5,
   "id": "39305914",
   "metadata": {
    "execution": {
     "iopub.execute_input": "2025-06-02T19:08:13.984119Z",
     "iopub.status.busy": "2025-06-02T19:08:13.983240Z",
     "iopub.status.idle": "2025-06-02T19:08:13.991722Z",
     "shell.execute_reply": "2025-06-02T19:08:13.990504Z"
    },
    "papermill": {
     "duration": 0.016302,
     "end_time": "2025-06-02T19:08:13.994144",
     "exception": false,
     "start_time": "2025-06-02T19:08:13.977842",
     "status": "completed"
    },
    "tags": []
   },
   "outputs": [
    {
     "name": "stdout",
     "output_type": "stream",
     "text": [
      "0\n"
     ]
    }
   ],
   "source": [
    "print(len(df[cond1 & cond2 & cond3]))"
   ]
  },
  {
   "cell_type": "code",
   "execution_count": null,
   "id": "a0bd71f6",
   "metadata": {
    "papermill": {
     "duration": 0.003984,
     "end_time": "2025-06-02T19:08:14.002589",
     "exception": false,
     "start_time": "2025-06-02T19:08:13.998605",
     "status": "completed"
    },
    "tags": []
   },
   "outputs": [],
   "source": []
  },
  {
   "cell_type": "code",
   "execution_count": null,
   "id": "6bcd99a8",
   "metadata": {
    "papermill": {
     "duration": 0.00365,
     "end_time": "2025-06-02T19:08:14.010438",
     "exception": false,
     "start_time": "2025-06-02T19:08:14.006788",
     "status": "completed"
    },
    "tags": []
   },
   "outputs": [],
   "source": []
  },
  {
   "cell_type": "code",
   "execution_count": null,
   "id": "ca971b55",
   "metadata": {
    "papermill": {
     "duration": 0.003568,
     "end_time": "2025-06-02T19:08:14.017953",
     "exception": false,
     "start_time": "2025-06-02T19:08:14.014385",
     "status": "completed"
    },
    "tags": []
   },
   "outputs": [],
   "source": []
  },
  {
   "cell_type": "code",
   "execution_count": null,
   "id": "4056d9cb",
   "metadata": {
    "papermill": {
     "duration": 0.004098,
     "end_time": "2025-06-02T19:08:14.026006",
     "exception": false,
     "start_time": "2025-06-02T19:08:14.021908",
     "status": "completed"
    },
    "tags": []
   },
   "outputs": [],
   "source": []
  },
  {
   "cell_type": "code",
   "execution_count": null,
   "id": "4e466bcf",
   "metadata": {
    "papermill": {
     "duration": 0.003742,
     "end_time": "2025-06-02T19:08:14.033744",
     "exception": false,
     "start_time": "2025-06-02T19:08:14.030002",
     "status": "completed"
    },
    "tags": []
   },
   "outputs": [],
   "source": []
  },
  {
   "cell_type": "markdown",
   "id": "ba174fbf",
   "metadata": {
    "papermill": {
     "duration": 0.003599,
     "end_time": "2025-06-02T19:08:14.041422",
     "exception": false,
     "start_time": "2025-06-02T19:08:14.037823",
     "status": "completed"
    },
    "tags": []
   },
   "source": [
    "## 풀이 (예시답안) "
   ]
  },
  {
   "cell_type": "code",
   "execution_count": 6,
   "id": "fb6059f3",
   "metadata": {
    "execution": {
     "iopub.execute_input": "2025-06-02T19:08:14.051172Z",
     "iopub.status.busy": "2025-06-02T19:08:14.050727Z",
     "iopub.status.idle": "2025-06-02T19:08:14.067837Z",
     "shell.execute_reply": "2025-06-02T19:08:14.066525Z"
    },
    "papermill": {
     "duration": 0.025535,
     "end_time": "2025-06-02T19:08:14.070883",
     "exception": false,
     "start_time": "2025-06-02T19:08:14.045348",
     "status": "completed"
    },
    "tags": []
   },
   "outputs": [
    {
     "name": "stdout",
     "output_type": "stream",
     "text": [
      "0\n"
     ]
    }
   ],
   "source": [
    "import pandas as pd\n",
    "df = pd.read_csv(\"../input/bigdatacertificationkr/basic1.csv\")\n",
    "df['EI'] = df['f4'].str[:1]\n",
    "cond1 = df['EI'] == \"E\"\n",
    "cond2 = df['city'] == \"부산\"\n",
    "cond3 = (df['age'] >= 20) & (df['age'] < 30)\n",
    "\n",
    "print(len(df[cond1 & cond2 & cond3]))"
   ]
  }
 ],
 "metadata": {
  "kaggle": {
   "accelerator": "none",
   "dataSources": [
    {
     "datasetId": 1633303,
     "sourceId": 9936200,
     "sourceType": "datasetVersion"
    }
   ],
   "dockerImageVersionId": 30301,
   "isGpuEnabled": false,
   "isInternetEnabled": false,
   "language": "python",
   "sourceType": "notebook"
  },
  "kernelspec": {
   "display_name": "Python 3",
   "language": "python",
   "name": "python3"
  },
  "language_info": {
   "codemirror_mode": {
    "name": "ipython",
    "version": 3
   },
   "file_extension": ".py",
   "mimetype": "text/x-python",
   "name": "python",
   "nbconvert_exporter": "python",
   "pygments_lexer": "ipython3",
   "version": "3.7.12"
  },
  "papermill": {
   "default_parameters": {},
   "duration": 11.287248,
   "end_time": "2025-06-02T19:08:14.798844",
   "environment_variables": {},
   "exception": null,
   "input_path": "__notebook__.ipynb",
   "output_path": "__notebook__.ipynb",
   "parameters": {},
   "start_time": "2025-06-02T19:08:03.511596",
   "version": "2.3.4"
  }
 },
 "nbformat": 4,
 "nbformat_minor": 5
}
