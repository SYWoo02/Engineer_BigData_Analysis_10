{
 "cells": [
  {
   "cell_type": "markdown",
   "id": "f9ae2c7e",
   "metadata": {
    "papermill": {
     "duration": 0.003569,
     "end_time": "2025-06-02T19:27:47.865591",
     "exception": false,
     "start_time": "2025-06-02T19:27:47.862022",
     "status": "completed"
    },
    "tags": []
   },
   "source": [
    "## T1-28. 시간(hour)이 13시 이전(13시 포함하지 않음) 데이터 중\n",
    "## 가장 많은 결제가 이루어진 날짜(date)는? (date 컬럼과 동일한 양식으로 출력)"
   ]
  },
  {
   "cell_type": "code",
   "execution_count": 1,
   "id": "9fd39c93",
   "metadata": {
    "execution": {
     "iopub.execute_input": "2025-06-02T19:27:47.873274Z",
     "iopub.status.busy": "2025-06-02T19:27:47.872659Z",
     "iopub.status.idle": "2025-06-02T19:27:47.920919Z",
     "shell.execute_reply": "2025-06-02T19:27:47.919614Z"
    },
    "papermill": {
     "duration": 0.055439,
     "end_time": "2025-06-02T19:27:47.923836",
     "exception": false,
     "start_time": "2025-06-02T19:27:47.868397",
     "status": "completed"
    },
    "tags": []
   },
   "outputs": [
    {
     "data": {
      "text/html": [
       "<div>\n",
       "<style scoped>\n",
       "    .dataframe tbody tr th:only-of-type {\n",
       "        vertical-align: middle;\n",
       "    }\n",
       "\n",
       "    .dataframe tbody tr th {\n",
       "        vertical-align: top;\n",
       "    }\n",
       "\n",
       "    .dataframe thead th {\n",
       "        text-align: right;\n",
       "    }\n",
       "</style>\n",
       "<table border=\"1\" class=\"dataframe\">\n",
       "  <thead>\n",
       "    <tr style=\"text-align: right;\">\n",
       "      <th></th>\n",
       "      <th>date</th>\n",
       "      <th>hour</th>\n",
       "      <th>menu</th>\n",
       "      <th>price</th>\n",
       "    </tr>\n",
       "  </thead>\n",
       "  <tbody>\n",
       "    <tr>\n",
       "      <th>0</th>\n",
       "      <td>20221129</td>\n",
       "      <td>13</td>\n",
       "      <td>딸기라떼</td>\n",
       "      <td>4000</td>\n",
       "    </tr>\n",
       "    <tr>\n",
       "      <th>1</th>\n",
       "      <td>20221130</td>\n",
       "      <td>12</td>\n",
       "      <td>카페라떼</td>\n",
       "      <td>3000</td>\n",
       "    </tr>\n",
       "    <tr>\n",
       "      <th>2</th>\n",
       "      <td>20221201</td>\n",
       "      <td>14</td>\n",
       "      <td>바닐라라떼</td>\n",
       "      <td>3500</td>\n",
       "    </tr>\n",
       "    <tr>\n",
       "      <th>3</th>\n",
       "      <td>20221201</td>\n",
       "      <td>16</td>\n",
       "      <td>초코라떼</td>\n",
       "      <td>3500</td>\n",
       "    </tr>\n",
       "    <tr>\n",
       "      <th>4</th>\n",
       "      <td>20221202</td>\n",
       "      <td>17</td>\n",
       "      <td>모카라떼</td>\n",
       "      <td>3500</td>\n",
       "    </tr>\n",
       "  </tbody>\n",
       "</table>\n",
       "</div>"
      ],
      "text/plain": [
       "       date  hour   menu  price\n",
       "0  20221129    13   딸기라떼   4000\n",
       "1  20221130    12   카페라떼   3000\n",
       "2  20221201    14  바닐라라떼   3500\n",
       "3  20221201    16   초코라떼   3500\n",
       "4  20221202    17   모카라떼   3500"
      ]
     },
     "execution_count": 1,
     "metadata": {},
     "output_type": "execute_result"
    }
   ],
   "source": [
    "import pandas as pd\n",
    "df = pd.read_csv(\"/kaggle/input/bigdatacertificationkr/payment.csv\")\n",
    "df.head(5)"
   ]
  },
  {
   "cell_type": "markdown",
   "id": "218c5c4b",
   "metadata": {
    "papermill": {
     "duration": 0.002528,
     "end_time": "2025-06-02T19:27:47.929475",
     "exception": false,
     "start_time": "2025-06-02T19:27:47.926947",
     "status": "completed"
    },
    "tags": []
   },
   "source": [
    "## 나의 코드 "
   ]
  },
  {
   "cell_type": "code",
   "execution_count": 2,
   "id": "8bf654d6",
   "metadata": {
    "execution": {
     "iopub.execute_input": "2025-06-02T19:27:47.937084Z",
     "iopub.status.busy": "2025-06-02T19:27:47.936675Z",
     "iopub.status.idle": "2025-06-02T19:27:47.955476Z",
     "shell.execute_reply": "2025-06-02T19:27:47.953787Z"
    },
    "papermill": {
     "duration": 0.026818,
     "end_time": "2025-06-02T19:27:47.959264",
     "exception": false,
     "start_time": "2025-06-02T19:27:47.932446",
     "status": "completed"
    },
    "tags": []
   },
   "outputs": [
    {
     "name": "stdout",
     "output_type": "stream",
     "text": [
      "20221203\n"
     ]
    }
   ],
   "source": [
    "# 시간이 13시 이전인 데이터 추출 \n",
    "cond = df['hour'] < 13\n",
    "morning = df[cond]\n",
    "\n",
    "# 추출된 데이터 중 가장 많은 결제가 이뤄진 날짜 ? (date 컬럼과 동일한 양식으로 출력)\n",
    "print(morning['date'].value_counts().idxmax())"
   ]
  },
  {
   "cell_type": "code",
   "execution_count": null,
   "id": "076d1bb5",
   "metadata": {
    "papermill": {
     "duration": 0.003121,
     "end_time": "2025-06-02T19:27:47.968437",
     "exception": false,
     "start_time": "2025-06-02T19:27:47.965316",
     "status": "completed"
    },
    "tags": []
   },
   "outputs": [],
   "source": []
  },
  {
   "cell_type": "code",
   "execution_count": null,
   "id": "7d0ea3a6",
   "metadata": {
    "papermill": {
     "duration": 0.00432,
     "end_time": "2025-06-02T19:27:47.978591",
     "exception": false,
     "start_time": "2025-06-02T19:27:47.974271",
     "status": "completed"
    },
    "tags": []
   },
   "outputs": [],
   "source": []
  },
  {
   "cell_type": "code",
   "execution_count": null,
   "id": "9d53c4eb",
   "metadata": {
    "papermill": {
     "duration": 0.002931,
     "end_time": "2025-06-02T19:27:47.984577",
     "exception": false,
     "start_time": "2025-06-02T19:27:47.981646",
     "status": "completed"
    },
    "tags": []
   },
   "outputs": [],
   "source": []
  },
  {
   "cell_type": "code",
   "execution_count": null,
   "id": "9f29ee09",
   "metadata": {
    "papermill": {
     "duration": 0.00258,
     "end_time": "2025-06-02T19:27:47.990209",
     "exception": false,
     "start_time": "2025-06-02T19:27:47.987629",
     "status": "completed"
    },
    "tags": []
   },
   "outputs": [],
   "source": []
  },
  {
   "cell_type": "markdown",
   "id": "ab772659",
   "metadata": {
    "papermill": {
     "duration": 0.005571,
     "end_time": "2025-06-02T19:27:48.000327",
     "exception": false,
     "start_time": "2025-06-02T19:27:47.994756",
     "status": "completed"
    },
    "tags": []
   },
   "source": [
    "## 풀이 (예시답안)"
   ]
  },
  {
   "cell_type": "code",
   "execution_count": 3,
   "id": "7fcbb103",
   "metadata": {
    "execution": {
     "iopub.execute_input": "2025-06-02T19:27:48.012762Z",
     "iopub.status.busy": "2025-06-02T19:27:48.012167Z",
     "iopub.status.idle": "2025-06-02T19:27:48.021813Z",
     "shell.execute_reply": "2025-06-02T19:27:48.020343Z"
    },
    "papermill": {
     "duration": 0.018135,
     "end_time": "2025-06-02T19:27:48.024368",
     "exception": false,
     "start_time": "2025-06-02T19:27:48.006233",
     "status": "completed"
    },
    "tags": []
   },
   "outputs": [
    {
     "name": "stdout",
     "output_type": "stream",
     "text": [
      "20221203\n"
     ]
    }
   ],
   "source": [
    "print(df[df['hour'] < 13]['date'].value_counts().index[0])"
   ]
  }
 ],
 "metadata": {
  "kaggle": {
   "accelerator": "none",
   "dataSources": [
    {
     "datasetId": 1633303,
     "sourceId": 9936200,
     "sourceType": "datasetVersion"
    }
   ],
   "dockerImageVersionId": 30301,
   "isGpuEnabled": false,
   "isInternetEnabled": false,
   "language": "python",
   "sourceType": "notebook"
  },
  "kernelspec": {
   "display_name": "Python 3",
   "language": "python",
   "name": "python3"
  },
  "language_info": {
   "codemirror_mode": {
    "name": "ipython",
    "version": 3
   },
   "file_extension": ".py",
   "mimetype": "text/x-python",
   "name": "python",
   "nbconvert_exporter": "python",
   "pygments_lexer": "ipython3",
   "version": "3.7.12"
  },
  "papermill": {
   "default_parameters": {},
   "duration": 11.489796,
   "end_time": "2025-06-02T19:27:48.751738",
   "environment_variables": {},
   "exception": null,
   "input_path": "__notebook__.ipynb",
   "output_path": "__notebook__.ipynb",
   "parameters": {},
   "start_time": "2025-06-02T19:27:37.261942",
   "version": "2.3.4"
  }
 },
 "nbformat": 4,
 "nbformat_minor": 5
}
